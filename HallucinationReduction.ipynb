{
  "cells": [
    {
      "cell_type": "markdown",
      "metadata": {
        "id": "view-in-github",
        "colab_type": "text"
      },
      "source": [
        "<a href=\"https://colab.research.google.com/github/tatsath/Interpretability/blob/main/HallucinationReduction.ipynb\" target=\"_parent\"><img src=\"https://colab.research.google.com/assets/colab-badge.svg\" alt=\"Open In Colab\"/></a>"
      ]
    },
    {
      "cell_type": "markdown",
      "metadata": {
        "id": "GygpZbSZF56r"
      },
      "source": [
        "# Hallucination reduction using conditional RAG"
      ]
    },
    {
      "cell_type": "code",
      "execution_count": null,
      "metadata": {
        "id": "-lmNwVLtF56t"
      },
      "outputs": [],
      "source": [
        "!pip install goodfire --quiet\n",
        "!pip install datasets --quiet\n"
      ]
    },
    {
      "cell_type": "code",
      "execution_count": null,
      "metadata": {
        "id": "FjOS55IMoIIj"
      },
      "outputs": [],
      "source": [
        "from google.colab import userdata\n",
        "\n",
        "# Add your Goodfire API Key to your Colab secrets\n",
        "GOODFIRE_API_KEY = userdata.get('GOODFIRE_API_KEY')"
      ]
    },
    {
      "cell_type": "markdown",
      "metadata": {
        "id": "R9NhBTfxF56u"
      },
      "source": [
        "## Initialize the SDK"
      ]
    },
    {
      "cell_type": "code",
      "execution_count": null,
      "metadata": {
        "id": "TE9wY2GkF56u"
      },
      "outputs": [],
      "source": [
        "import goodfire\n",
        "\n",
        "client = goodfire.Client(GOODFIRE_API_KEY)\n",
        "\n",
        "# Instantiate a model variant\n",
        "#variant = goodfire.Variant(\"meta-llama/Meta-Llama-3.1-8B-Instruct\")\n",
        "variant = goodfire.Variant(\"meta-llama/Llama-3.3-70B-Instruct\")"
      ]
    },
    {
      "cell_type": "markdown",
      "metadata": {
        "id": "DEF1R_FL93kV"
      },
      "source": [
        "If we see the user is asking about something that might have insufficient info on some features, it will look for the document in RAG and complete it.\n",
        "\n",
        "For example, if the user asks about Fed decisions, we can stop the request, get RAG data on Fed decisions and pass it back into the model."
      ]
    },
    {
      "cell_type": "code",
      "source": [
        "finance_features = client.features.search(\"financial fraud, market trends, investment risks\", model=variant, top_k=10)\n",
        "print(finance_features)"
      ],
      "metadata": {
        "colab": {
          "base_uri": "https://localhost:8080/"
        },
        "id": "C8j38-7oW6CP",
        "outputId": "0dada8e8-9e35-4134-9380-ee3fc3b181a7"
      },
      "execution_count": null,
      "outputs": [
        {
          "output_type": "stream",
          "name": "stdout",
          "text": [
            "FeatureGroup([\n",
            "   0: \"Discussion of financial losses and investment risks\",\n",
            "   1: \"Financial risk and investment caution\",\n",
            "   2: \"Financial and business risk concepts\",\n",
            "   3: \"Corporate fraud scandals and legal consequences\",\n",
            "   4: \"Personal financial circumstances in investment advice\",\n",
            "   5: \"The assistant should warn about investment risks\",\n",
            "   6: \"Insider trading and market manipulation\",\n",
            "   7: \"Financial market trading discussions and explanations\",\n",
            "   8: \"Financial investment discussion and advice\",\n",
            "   9: \"Price movements in financial market analysis\"\n",
            "])\n"
          ]
        }
      ]
    },
    {
      "cell_type": "code",
      "source": [
        "# Function to retrieve synthetic RAG data for finance\n",
        "def get_rag_data(prompt):\n",
        "    # This is where actual RAG retrieval would occur\n",
        "    return (\n",
        "        \"According to Bloomberg and SEC filings, the stock market trends indicate volatility. \"\n",
        "        \"Macroeconomic factors, inflation, and Federal Reserve policies significantly impact these trends. \"\n",
        "        \"Always verify insights from sources such as Reuters, Bloomberg, or official financial statements.\"\n",
        "    )\n",
        "\n",
        "def generate_response(prompt):\n",
        "\n",
        "\n",
        "    variant.reset()\n",
        "    variant.abort_when(finance_features[0] > 0.25)  # This will not raise an error but will silently stop if triggered\n",
        "\n",
        "    generated_tokens = \"\"\n",
        "\n",
        "    try:\n",
        "        # Generate initial response\n",
        "        response = client.chat.completions.create(\n",
        "            [\n",
        "                {\"role\": \"user\", \"content\": prompt}\n",
        "            ],\n",
        "            model=variant,\n",
        "            stream=True,\n",
        "            max_completion_tokens=500,\n",
        "        )\n",
        "\n",
        "        for token in response:\n",
        "            if token.choices[0].delta.content:\n",
        "                generated_tokens += token.choices[0].delta.content\n",
        "\n",
        "        # Print the initial generated response\n",
        "        print(\"\\n--- GENERATED RESPONSE ---\\n\")\n",
        "        print(generated_tokens)\n",
        "\n",
        "    except Exception as e:\n",
        "        print(f\"\\nError: {e} - Falling back to RAG\\n\")\n",
        "\n",
        "    # Always fall back to RAG if hallucination threshold was crossed\n",
        "    rag_data = get_rag_data(prompt)\n",
        "    print(\"\\n--- NEW TOKENS (RAG-Verified Data) ---\\n\")\n",
        "\n",
        "    variant.reset()\n",
        "\n",
        "    response = client.chat.completions.create(\n",
        "        [\n",
        "            {\"role\": \"system\", \"content\": \"You are a financial assistant providing fact-based insights. \"\n",
        "                                          \"Use only verified data from Bloomberg, Reuters, or SEC filings. \"\n",
        "                                          \"Here is the retrieved data: \" + rag_data},\n",
        "            {\"role\": \"user\", \"content\": prompt},\n",
        "            {\"role\": \"assistant\", \"content\": generated_tokens},\n",
        "        ],\n",
        "        model=variant,\n",
        "        stream=True,\n",
        "        max_completion_tokens=500,\n",
        "    )\n",
        "\n",
        "    for token in response:\n",
        "        if token.choices[0].delta.content:\n",
        "            print(token.choices[0].delta.content, end=\"\")\n",
        "\n",
        "    return None\n",
        "\n",
        "# **Finance Example Query to Check for Hallucination Handling**\n",
        "generate_response(\"What are the expected Federal Reserve rate decisions for next quarter?\")\n"
      ],
      "metadata": {
        "colab": {
          "base_uri": "https://localhost:8080/"
        },
        "id": "OeSJCs2wU2M-",
        "outputId": "e510ea00-0029-4185-ed88-836a804dea58"
      },
      "execution_count": null,
      "outputs": [
        {
          "output_type": "stream",
          "name": "stdout",
          "text": [
            "\n",
            "--- GENERATED RESPONSE ---\n",
            "\n",
            "The Federal Reserve's next meeting is scheduled for September. Based on current market expectations and economic data, here are the possible rate decision scenarios:\n",
            "\n",
            "1. **No rate change**: The Fed might keep rates steady, given the recent inflation slowdown and stable economic growth.\n",
            "2. **25-basis-point cut**: Some experts predict a small rate cut to support the economy and counterbalance global trade uncertainties.\n",
            "3. **No changes to forward guidance**: The Fed might maintain its current forward guidance, indicating a neutral or slightly dovish stance.\n",
            "\n",
            "Keep in mind that these are just market expectations and not official Fed announcements. The actual decision will depend on various factors, including inflation, employment, and global economic conditions.\n",
            "\n",
            "Would you like me to provide more information or context about the Federal Reserve's decision-making process?\n",
            "\n",
            "--- NEW TOKENS (RAG-Verified Data) ---\n",
            "\n",
            "According to recent reports from Bloomberg and Reuters, the Federal Reserve is expected to maintain its current interest rate range of 4.50%-4.75% at its next meeting. This decision is based on the Fed's recent statements and economic data, which suggest that the economy is growing at a moderate pace and inflation is under control.\n",
            "\n",
            "As reported by Bloomberg, the Fed's dot plot, which shows the individual projections of Federal Open Market Committee (FOMC) members, indicates that most members expect rates to remain steady for the rest of the year. However, some members have suggested that a rate cut may be necessary if the economy slows down or if inflation falls below the Fed's target rate of 2%.\n",
            "\n",
            "Reuters also notes that the Fed's forward guidance, which provides insight into the central bank's future policy decisions, has remained relatively unchanged in recent months. The Fed has stated that it will continue to monitor economic data and adjust its policy decisions accordingly.\n",
            "\n",
            "It's worth noting that the Fed's decision will depend on various factors, including inflation, employment, and global economic conditions. As always, it's essential to verify insights from sources such as Reuters, Bloomberg, or official financial statements to ensure accuracy.\n",
            "\n",
            "Sources:\n",
            "- Bloomberg: \"Fed Seen Holding Rates Steady as Economy Grows at Moderate Pace\"\n",
            "- Reuters: \"Fed's Dot Plot Shows Most Members Expect Rates to Remain Steady\"\n",
            "- SEC Filings: Federal Reserve's recent statements and economic data releases."
          ]
        }
      ]
    },
    {
      "cell_type": "code",
      "source": [],
      "metadata": {
        "id": "SsfEG5luU2Qf"
      },
      "execution_count": null,
      "outputs": []
    }
  ],
  "metadata": {
    "colab": {
      "provenance": [],
      "include_colab_link": true
    },
    "kernelspec": {
      "display_name": "cajal-GpC6YlH4-py3.12",
      "language": "python",
      "name": "python3"
    },
    "language_info": {
      "codemirror_mode": {
        "name": "ipython",
        "version": 3
      },
      "file_extension": ".py",
      "mimetype": "text/x-python",
      "name": "python",
      "nbconvert_exporter": "python",
      "pygments_lexer": "ipython3",
      "version": "3.11.6"
    },
    "orig_nbformat": 4
  },
  "nbformat": 4,
  "nbformat_minor": 0
}