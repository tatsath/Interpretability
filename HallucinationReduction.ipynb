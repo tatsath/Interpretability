{
  "cells": [
    {
      "cell_type": "markdown",
      "metadata": {
        "id": "view-in-github",
        "colab_type": "text"
      },
      "source": [
        "<a href=\"https://colab.research.google.com/github/tatsath/Interpretability/blob/main/HallucinationReduction.ipynb\" target=\"_parent\"><img src=\"https://colab.research.google.com/assets/colab-badge.svg\" alt=\"Open In Colab\"/></a>"
      ]
    },
    {
      "cell_type": "markdown",
      "metadata": {
        "id": "GygpZbSZF56r"
      },
      "source": [
        "# Goodfire Cookbook"
      ]
    },
    {
      "cell_type": "markdown",
      "metadata": {
        "id": "n98Mi1fK93kS"
      },
      "source": [
        "This cookbook provides some examples of how to use features and steering in Goodfire in sometimes non-traditional ways.\n",
        "\n",
        "Such as:\n",
        "- Dynamic prompts\n",
        "- Removing Knowledge\n",
        "- Sorting by features\n",
        "- On-demand RAG\n"
      ]
    },
    {
      "cell_type": "code",
      "execution_count": null,
      "metadata": {
        "id": "-lmNwVLtF56t"
      },
      "outputs": [],
      "source": [
        "!pip install goodfire --quiet\n",
        "!pip install datasets --quiet\n"
      ]
    },
    {
      "cell_type": "code",
      "execution_count": null,
      "metadata": {
        "id": "FjOS55IMoIIj"
      },
      "outputs": [],
      "source": [
        "from google.colab import userdata\n",
        "\n",
        "# Add your Goodfire API Key to your Colab secrets\n",
        "GOODFIRE_API_KEY = userdata.get('GOODFIRE_API_KEY')"
      ]
    },
    {
      "cell_type": "markdown",
      "metadata": {
        "id": "R9NhBTfxF56u"
      },
      "source": [
        "## Initialize the SDK"
      ]
    },
    {
      "cell_type": "code",
      "execution_count": null,
      "metadata": {
        "id": "TE9wY2GkF56u"
      },
      "outputs": [],
      "source": [
        "import goodfire\n",
        "\n",
        "client = goodfire.Client(GOODFIRE_API_KEY)\n",
        "\n",
        "# Instantiate a model variant\n",
        "#variant = goodfire.Variant(\"meta-llama/Meta-Llama-3.1-8B-Instruct\")\n",
        "variant = goodfire.Variant(\"meta-llama/Llama-3.3-70B-Instruct\")"
      ]
    },
    {
      "cell_type": "markdown",
      "metadata": {
        "id": "j8xeFnhb93kT"
      },
      "source": [
        "## Removing knowledge\n",
        "\n",
        "Let's say we want a model to not know anything about famous people so that we don't get in trouble if it says bad things about them.\n",
        "\n",
        "We'll use feature search to find features that are relevant to famous people and then play with what happens."
      ]
    },
    {
      "cell_type": "code",
      "execution_count": null,
      "metadata": {
        "id": "QBpAGDMp93kU",
        "outputId": "22ad646a-1d9d-4df7-b5f7-7761c9af5683",
        "colab": {
          "base_uri": "https://localhost:8080/"
        }
      },
      "outputs": [
        {
          "output_type": "stream",
          "name": "stdout",
          "text": [
            "FeatureGroup([\n",
            "   0: \"Celebrity relationship gossip and speculation\",\n",
            "   1: \"Events or people becoming subjects of widespread public attention and media scrutiny\",\n",
            "   2: \"Celebrity participation in triathlons and endurance sports\",\n",
            "   3: \"Biographical descriptions of entertainment industry figures, especially Disney Channel stars\",\n",
            "   4: \"Names of prominent stars and celestial bodies\",\n",
            "   5: \"Fan interactions and parasocial relationships with celebrities/personalities\",\n",
            "   6: \"Commercial entertainment brands and art platforms\",\n",
            "   7: \"Music industry awards and formal accolades\",\n",
            "   8: \"References to established entertainment and music industries/scenes\",\n",
            "   9: \"Words with the root cele- relating to fame or heavenly concepts\"\n",
            "])\n"
          ]
        }
      ],
      "source": [
        "famous_people_features = client.features.search(\"celebrities\", model=variant, top_k=10)\n",
        "print(famous_people_features)"
      ]
    },
    {
      "cell_type": "markdown",
      "metadata": {
        "id": "nNTyhNGL93kU"
      },
      "source": [
        "After some experimentation, we found a set of feature edits that make the model still recognize celebrity names as noteworthy individuals but forgets all personal details about them."
      ]
    },
    {
      "cell_type": "code",
      "execution_count": null,
      "metadata": {
        "id": "7qsFlcI193kU",
        "outputId": "fbb88052-2ae3-4c67-834b-73068f9d2a99",
        "colab": {
          "base_uri": "https://localhost:8080/"
        }
      },
      "outputs": [
        {
          "output_type": "stream",
          "name": "stdout",
          "text": [
            "Brad Pitt is a talented American actor and producer. He's known for his iconic roles in movies like \"Thelma & Louise,\" \"Fight Club,\" \"Ocean's Eleven,\" and \"Once Upon a Time in Hollywood.\" He's also a two-time Academy Award winner! What's your favorite Brad Pitt movie?"
          ]
        }
      ],
      "source": [
        "variant.reset()\n",
        "variant.set(famous_people_features[1], -0.5)\n",
        "variant.set(famous_people_features[9], -0.5)\n",
        "\n",
        "for token in client.chat.completions.create(\n",
        "    [\n",
        "        {\"role\": \"user\", \"content\": \"Who is Brad Pitt?\"}\n",
        "    ],\n",
        "    model=variant,\n",
        "    stream=True,\n",
        "    max_completion_tokens=150,\n",
        "):\n",
        "    print(token.choices[0].delta.content, end=\"\")"
      ]
    },
    {
      "cell_type": "markdown",
      "metadata": {
        "id": "XdmgynVO93kU"
      },
      "source": [
        "## Dynamic Prompts\n",
        "\n",
        "In this example, we'll create a model variant that responds to the user's prompt with a different response depending on whether the user is asking for code or not.\n",
        "\n",
        "This will allow us to give much more specific instructions to the model when it's coding."
      ]
    },
    {
      "cell_type": "markdown",
      "metadata": {
        "id": "9ZJqRmbd93kU"
      },
      "source": [
        "### Find Programming Features\n",
        "\n",
        "We'll first find features that are relevant to programming. One of the most reliable ways to find features is to use contrastive search, which gurantees that the features we find activate on the examples we give it.\n",
        "\n",
        "The nice thing about contrastive search is that it often results in very generalizable features, which means that they'll activate on a wide variety of examples.\n"
      ]
    },
    {
      "cell_type": "code",
      "execution_count": null,
      "metadata": {
        "colab": {
          "base_uri": "https://localhost:8080/"
        },
        "id": "4m3Tu09h93kU",
        "outputId": "a5953773-e956-4395-dc40-95c8f47fea95"
      },
      "outputs": [
        {
          "output_type": "stream",
          "name": "stdout",
          "text": [
            "FeatureGroup([\n",
            "   0: \"Specifying which programming language code should be written in\",\n",
            "   1: \"Syntactical sugar in programming languages\",\n",
            "   2: \"Syntactical sugar in programming languages\",\n",
            "   3: \"The assistant is explaining how to create a new program or feature\",\n",
            "   4: \"The assistant should complete a code snippet\"\n",
            "])\n"
          ]
        }
      ],
      "source": [
        "variant.reset()\n",
        "\n",
        "_, programming_features = client.features.contrast(\n",
        "    dataset_2=[\n",
        "        [\n",
        "            {\n",
        "                \"role\": \"user\",\n",
        "                \"content\": \"Write me a program to sort a list of numbers\"\n",
        "            },\n",
        "            {\n",
        "                \"role\": \"assistant\",\n",
        "                \"content\": \"Sure, here is the code in javascript: ```javascript\\nfunction sortNumbers(arr) {\\n  return arr.sort((a, b) => a - b);\\n}\\n```\"\n",
        "            }\n",
        "        ],\n",
        "        [\n",
        "            {\n",
        "                \"role\": \"user\",\n",
        "                \"content\": \"Write me a program to make a tweet\"\n",
        "            },\n",
        "            {\n",
        "                \"role\": \"assistant\",\n",
        "                \"content\": \"Sure, here is the code in javascript: ```javascript\\nfunction makeTweet(text) {\\n  return text;\\n}\\n```\"\n",
        "            }\n",
        "        ]\n",
        "    ],\n",
        "    dataset_1=[\n",
        "        [\n",
        "            {\n",
        "                \"role\": \"user\",\n",
        "                \"content\": \"Hello how are you?\"\n",
        "            },\n",
        "            {\n",
        "                \"role\": \"assistant\",\n",
        "                \"content\":\n",
        "                  \"I'm doing well!\"\n",
        "            },\n",
        "        ], [\n",
        "            {\n",
        "                \"role\": \"user\",\n",
        "                \"content\": \"What's your favorite food?\"\n",
        "            },\n",
        "            {\n",
        "                \"role\": \"assistant\",\n",
        "                \"content\":\n",
        "                  \"It's pizza!\"\n",
        "            },\n",
        "        ]\n",
        "    ],\n",
        "    model=variant,\n",
        "    top_k=30\n",
        ")\n",
        "\n",
        "programming_features = client.features.rerank(\n",
        "    features=programming_features,\n",
        "    query=\"programming\",\n",
        "    model=variant,\n",
        "    top_k=5\n",
        ")\n",
        "\n",
        "print(programming_features)\n",
        "\n",
        "# Feature # 3 is: \"The user is requesting code to be written or generated\"\n",
        "request_programming_feature = programming_features[2]"
      ]
    },
    {
      "cell_type": "markdown",
      "metadata": {
        "id": "M6zWCpZ093kU"
      },
      "source": [
        "Next we'll use the features.inspect endpoint to check if the model is requesting code. features.inspect returns a context object, which we can use to get the activation of the programming feature.\n",
        "\n",
        "If the feature is activated, we'll use the system prompt to give the model more specific instructions.\n",
        "\n",
        "If the feature is not activated, we'll use the default system prompt.\n",
        "\n",
        "Without the dynamic prompt, llama 8B tends to write less detailed code with more TODOs and fewer useful comments."
      ]
    },
    {
      "cell_type": "code",
      "execution_count": null,
      "metadata": {
        "colab": {
          "base_uri": "https://localhost:8080/"
        },
        "id": "e8PezQ0y93kU",
        "outputId": "bfb70148-4994-42a9-b210-e790cb432a84"
      },
      "outputs": [
        {
          "output_type": "stream",
          "name": "stdout",
          "text": [
            "**Number Sorter Program**\n",
            "=========================\n",
            "\n",
            "Below is an example of a Python program that sorts a list of numbers using the built-in `sorted` function.\n",
            "\n",
            "```python\n",
            "def sort_numbers(num_list):\n",
            "    \"\"\"\n",
            "    Sorts a list of numbers in ascending order.\n",
            "\n",
            "    Args:\n",
            "        num_list (list): A list of numbers.\n",
            "\n",
            "    Returns:\n",
            "        list: A sorted list of numbers.\n",
            "    \"\"\"\n",
            "    return sorted(num_list)\n",
            "\n",
            "def main():\n",
            "    # Example usage\n",
            "    numbers = [64, 34, 25, 12, 22, 11, 90]\n",
            "    print(\"Original list:\", numbers)\n",
            "    print(\"Sorted list:\", sort_numbers(numbers))\n",
            "\n",
            "if __name__ == \"__main__\":\n",
            "    main()\n",
            "```\n",
            "\n",
            "**How it works:**\n",
            "\n",
            "1. The `sort_numbers` function takes a list of numbers as input.\n",
            "2. It uses the `sorted` function to sort the list in ascending order.\n",
            "3. The sorted list is returned.\n",
            "4. In the `main` function, we create an example list of numbers and print the original and sorted lists.\n",
            "\n",
            "**Output:**\n",
            "```\n",
            "Original list: [64, 34, 25, 12, 22, 11, 90]\n",
            "Sorted list: [11, 12, 22, 25, 34, 64, 90]\n",
            "```\n",
            "\n",
            "You can save this code to a file (e.g., `number_sorter.py`) and run it using Python (e.g., `python number_sorter.py`). Replace the example list with your own list of numbers to sort.\n",
            "\n",
            "**Alternative Implementation:**\n",
            "If you want to implement a sorting algorithm from scratch, you can use a simple algorithm like Bubble Sort. Here's an example:\n",
            "\n",
            "```python\n",
            "def bubble_sort(num_list):\n",
            "    \"\"\"\n",
            "    Sorts a list of numbers using Bubble Sort.\n",
            "\n",
            "    Args:\n",
            "        num_list (list): A list of numbers.\n",
            "\n",
            "    Returns:\n",
            "        list: A sorted list of numbers.\n",
            "    \"\"\"\n",
            "    n = len(num_list)\n",
            "    for i in range(n):\n",
            "        for j in range(0, n - i - 1):\n",
            "            if num_list[j] > num_list[j + 1]:\n",
            "                num_list[j], num_list[j + 1] = num_list[j + 1], num_list[j]\n",
            "    return num_list\n",
            "\n",
            "def main():\n",
            "    # Example usage\n",
            "    numbers = [64, 34, 25, 12"
          ]
        }
      ],
      "source": [
        "\n",
        "\n",
        "def check_if_requesting_programming(prompt):\n",
        "    variant.reset()\n",
        "    context = client.features.inspect(\n",
        "        [\n",
        "            {\n",
        "                \"role\": \"user\",\n",
        "                \"content\": prompt\n",
        "            },\n",
        "        ],\n",
        "        model=variant,\n",
        "        features=request_programming_feature,\n",
        "    )\n",
        "    activations = context.top(k=1)\n",
        "    highest_activation = max(activations, key=lambda x: x.activation)\n",
        "    return highest_activation.activation > 0.5 #this threshold is arbitrary, but it's a good starting point\n",
        "\n",
        "\n",
        "def generate_response(prompt):\n",
        "\n",
        "    is_requesting_programming = check_if_requesting_programming(prompt)\n",
        "    system_prompt = \"You are a helpful assistant.\"\n",
        "    if is_requesting_programming:\n",
        "        print(\"Requesting programming\")\n",
        "        system_prompt = \"\"\"\n",
        "        You are a helpful assistant that writes code. When writing code, be as extensive as possible and write fully functional code.\n",
        "        Always include comments and proper formatting.\n",
        "        NEVER leave 'todos' or 'placeholders' in your code.\n",
        "        If the user does not specify a language, write backend code in Python and frontend code in React.\n",
        "        Do not explain what your code does, unless the user asks. Just write it.\n",
        "        \"\"\"\n",
        "\n",
        "    for token in client.chat.completions.create(\n",
        "        [\n",
        "            {\"role\": \"user\", \"content\": prompt}\n",
        "        ],\n",
        "        model=variant,\n",
        "        stream=True,\n",
        "        max_completion_tokens=500,\n",
        "        system_prompt=system_prompt,\n",
        "    ):\n",
        "        print(token.choices[0].delta.content, end=\"\")\n",
        "\n",
        "generate_response(\"Write me a program to sort a list of numbers\")\n"
      ]
    },
    {
      "cell_type": "markdown",
      "metadata": {
        "id": "91a29oN7F56u"
      },
      "source": [
        "## Sort by features\n",
        "\n",
        "You can use feature activations as a way to filter and sort data. In this case let's find some of Elon Musk's tweets that are sarcastic."
      ]
    },
    {
      "cell_type": "code",
      "execution_count": null,
      "metadata": {
        "id": "AlLP6i3q93kU",
        "outputId": "8741e303-14e4-4c78-ab8d-a8091480320b",
        "colab": {
          "base_uri": "https://localhost:8080/"
        }
      },
      "outputs": [
        {
          "output_type": "execute_result",
          "data": {
            "text/plain": [
              "Dataset({\n",
              "    features: ['text'],\n",
              "    num_rows: 100\n",
              "})"
            ]
          },
          "metadata": {},
          "execution_count": 84
        }
      ],
      "source": [
        "from datasets import load_dataset\n",
        "num_train_samples = 100\n",
        "elon_tweets = load_dataset(\"lcama/elon-tweets\", split=\"train[0:100]\")\n",
        "elon_tweets = elon_tweets.select(range(num_train_samples))\n",
        "elon_tweets\n"
      ]
    },
    {
      "cell_type": "code",
      "execution_count": null,
      "metadata": {
        "id": "3IsRZiTr93kU",
        "outputId": "1639efc4-7e20-47c2-a5a2-d502ac7467a1",
        "colab": {
          "base_uri": "https://localhost:8080/"
        }
      },
      "outputs": [
        {
          "output_type": "stream",
          "name": "stdout",
          "text": [
            "FeatureGroup([\n",
            "   0: \"Mentions and discussions of sarcasm\",\n",
            "   1: \"Academic or analytical discussion of sarcasm and irony\",\n",
            "   2: \"Punctuation patterns in sarcastic or playful dialogue\",\n",
            "   3: \"Condescending or patronizing sarcasm, especially in response to perceived basic actions\"\n",
            "])\n"
          ]
        }
      ],
      "source": [
        "sarcasm_features = client.features.search(\"sarcasm in tweets\", model=variant, top_k=4)\n",
        "print(sarcasm_features)\n"
      ]
    },
    {
      "cell_type": "markdown",
      "metadata": {
        "id": "mzIM4bDS93kU"
      },
      "source": [
        "Find all tweets with a sarcasm score > 1"
      ]
    },
    {
      "cell_type": "code",
      "execution_count": null,
      "metadata": {
        "colab": {
          "base_uri": "https://localhost:8080/"
        },
        "id": "M69LoGkLF56v",
        "outputId": "d7aea2f7-ebd7-42c9-f3c0-4f731680cc43"
      },
      "outputs": [
        {
          "output_type": "execute_result",
          "data": {
            "text/plain": [
              "[{'text': '@TechEmails Accurate. He set off my bs detector, which is why I did not think he had $3B.'},\n",
              " {'text': '@WholeMarsBlog It used to be:\\n\\n“Internet guy will fail at rockets/cars!”\\n\\nNow it is:\\n\\n“Rockets/cars guy will fail at Internet!”\\n\\nLiterally from same media outlets 🤣🤣'},\n",
              " {'text': 'Twitter HQ is great (this is a real pic) https://t.co/EiAXAF0CaE https://t.co/qjfOQCr533'},\n",
              " {'text': 'To be more precise, accounts doing parody impersonations. Basically, tricking people is not ok.'},\n",
              " {'text': 'Going forward, accounts engaged in parody must include “parody” in their name, not just in bio'},\n",
              " {'text': 'I love when people complain about Twitter … on Twitter 🤣🤣'},\n",
              " {'text': '@mcuban It’s working for me. That said, we can definitely make the verified mentions tab more usable.'},\n",
              " {'text': '@micsolana When reality is indistinguishable from satire'},\n",
              " {'text': '@monitoringbias It is borderline illegal to support Republicans in San Francisco! \\n\\nEven admitting you know some is pretty bad 🤣'},\n",
              " {'text': '@greg16676935420 @jack Birds haven’t been real since 1986 https://t.co/lR6BZj0nwX'},\n",
              " {'text': '@jack Not everything needs to have “bird” in the name! Too many bird groups fighting each internally other at Twitter. Angry Birds.'},\n",
              " {'text': '@bennyjohnson @kathygriffin Actually, she was suspended for impersonating a comedian'},\n",
              " {'text': 'Going forward, any Twitter handles engaging in impersonation without clearly specifying “parody” will be permanently suspended'},\n",
              " {'text': 'Search within Twitter reminds me of Infoseek in ‘98! That will also get a lot better pronto.'},\n",
              " {'text': '@raaahulpandey Great question. Twitter will suspend the account attempting impersonation and keep the money! \\n\\nSo if scammers want to do this a million times, that’s just a whole bunch of free money. https://t.co/QUrxqb59I0'},\n",
              " {'text': '@IGrabill @scottbelsky @kcoleman @AlexMahadevan That is weirdly tricky due to the way Apple handles “subscriptions”. If you subscribed to the old thing, it’s not super smooth to subscribe to the new thing. We’re working on it.'},\n",
              " {'text': '@MarkRuffalo Hot take: not everything AOC says is 💯 accurate'},\n",
              " {'text': '@waitbutwhy Unsure if confirming or denying that \\nI’m an alien is more convincing that \\nI’m an alien'},\n",
              " {'text': '@bennyjohnson @AOC What can I say? It was a naked abuse of power.'}]"
            ]
          },
          "metadata": {},
          "execution_count": 86
        }
      ],
      "source": [
        "def score_sarcasm_on_tweet(tweet):\n",
        "    context = client.features.inspect(\n",
        "        [\n",
        "            {\"role\": \"user\", \"content\": tweet},\n",
        "        ],\n",
        "        model=variant,\n",
        "        features=sarcasm_features\n",
        "    )\n",
        "    activations = context.top(k=len(sarcasm_features))\n",
        "    total_activation = sum(activation.activation for activation in activations)\n",
        "    return total_activation\n",
        "\n",
        "\n",
        "tweets_list = list(elon_tweets)\n",
        "# get any tweets with sarcasm > 1\n",
        "sarcastic_tweets = [tweet for tweet in tweets_list if score_sarcasm_on_tweet(tweet[\"text\"]) > 1]\n",
        "sarcastic_tweets\n"
      ]
    },
    {
      "cell_type": "markdown",
      "metadata": {
        "id": "2aQ-Oauo93kV"
      },
      "source": [
        "## On-Demand RAG"
      ]
    },
    {
      "cell_type": "markdown",
      "metadata": {
        "id": "DEF1R_FL93kV"
      },
      "source": [
        "If we see the user is asking about something that might need more data, e.g. on potential brand deals, we can stop the request, get more data and pass it back into the model.\n",
        "\n",
        "For example, if the user asks about drinks, and we sponsor Coca Cola, we can stop the request, get RAG data on brand deals and pass it back into the model."
      ]
    },
    {
      "cell_type": "code",
      "execution_count": null,
      "metadata": {
        "id": "y_O2FPYX93kV",
        "outputId": "7cdef1cf-1885-4cda-b98f-3940e756b674",
        "colab": {
          "base_uri": "https://localhost:8080/"
        }
      },
      "outputs": [
        {
          "output_type": "stream",
          "name": "stdout",
          "text": [
            "FeatureGroup([\n",
            "   0: \"Major cola brands and their market competition, especially Coca-Cola\",\n",
            "   1: \"Descriptions and properties of carbonated beverages\",\n",
            "   2: \"Requests for information about cocaine production or effects\",\n",
            "   3: \"Trademarks and brand names of major multinational corporations\",\n",
            "   4: \"Coffee drink names and terminology\",\n",
            "   5: \"food and beverage industry references\",\n",
            "   6: \"Major consumer electronics product line names\",\n",
            "   7: \"Company names containing Co/co, especially in formal business descriptions\",\n",
            "   8: \"Energy drinks and stimulants, particularly discussions of their effects\",\n",
            "   9: \"Corporate language establishing market leadership position\"\n",
            "])\n"
          ]
        }
      ],
      "source": [
        "consumerism_features = client.features.search(\"coca cola\", model=variant, top_k=10)\n",
        "print(consumerism_features)\n"
      ]
    },
    {
      "cell_type": "code",
      "execution_count": null,
      "metadata": {
        "id": "NcRDJBn993kV",
        "outputId": "8d0b7368-97db-4e5d-f7c8-fa2e0e08b1b8",
        "colab": {
          "base_uri": "https://localhost:8080/"
        }
      },
      "outputs": [
        {
          "output_type": "stream",
          "name": "stdout",
          "text": [
            "Aborted inference due to conditional check:\n",
            " Conditional(\n",
            "   FeatureGroup([\n",
            "       0: \"Major cola brands and their market competition, especially Coca-Cola\"\n",
            "    ]) > 0.25\n",
            ")\n",
            "Pizza night! Here are some\n",
            "NEW TOKENS\n",
            "Pizza night! Here are some refreshing drink options that pair well with pizza: \n",
            "\n",
            "1. **Coca Cola**: A classic choice, Coca Cola is a timeless favorite that complements the rich flavors of pizza. The sweetness of the Coke balances out the saltiness of the cheese and sauce.\n",
            "2. **Iced Tea**: A glass of cold-brewed iced tea, sweetened or unsweetened, can help cut the richness of the pizza.\n",
            "3. **Craft Beer**: For a more adult pairing, a hoppy IPA or a malty Amber Ale can enhance the flavors of the pizza.\n",
            "4. **Fresh-Squeezed Lemonade**: A glass of homemade lemonade with a twist of lemon can provide a nice contrast to the savory flavors of the pizza.\n",
            "5. **Sparkling Water with a Twist**: If you're looking for something bubbly without the added sugar, try a sparkling water with a squeeze of lemon or lime.\n",
            "\n",
            "Of course, **Coca Cola** is always a great choice to pair with your favorite pizza! What's your go-to pizza order?"
          ]
        }
      ],
      "source": [
        "def get_rag_data(prompt):\n",
        "    #this is where you would perform actual RAG search\n",
        "    return \"We have a brand deal with Coca Cola. They are a sponsor of our site and we have a deal with them to mention them in our responses.\"\n",
        "\n",
        "def generate_response(prompt):\n",
        "\n",
        "    variant.reset()\n",
        "    variant.abort_when(consumerism_features[0] > 0.25)\n",
        "\n",
        "\n",
        "    generated_tokens = \"\"\n",
        "    try:\n",
        "        for token in client.chat.completions.create(\n",
        "            [\n",
        "                {\"role\": \"user\", \"content\": prompt}\n",
        "            ],\n",
        "            model=variant,\n",
        "            stream=True,\n",
        "            max_completion_tokens=500,\n",
        "        ):\n",
        "            #print(token.choices[0].delta.content, end=\"\")\n",
        "            generated_tokens += token.choices[0].delta.content\n",
        "\n",
        "        # If we never get to the brand deal, we'll just return the generated tokens\n",
        "        print(generated_tokens)\n",
        "\n",
        "    except Exception as e:\n",
        "        print(e)\n",
        "        rag_data = get_rag_data(prompt)\n",
        "        print(generated_tokens)\n",
        "        variant.reset()\n",
        "        print(\"NEW TOKENS\")\n",
        "        for token in client.chat.completions.create(\n",
        "            [\n",
        "                {\"role\": \"system\", \"content\": \"You are a helpful assistant for our meal site. You have access to the following information on brand deals:\" + rag_data},\n",
        "                {\"role\": \"user\", \"content\": prompt},\n",
        "                {\"role\": \"assistant\", \"content\": generated_tokens},\n",
        "            ],\n",
        "            model=variant,\n",
        "            stream=True,\n",
        "            max_completion_tokens=500,\n",
        "        ):\n",
        "\n",
        "            print(token.choices[0].delta.content, end=\"\")\n",
        "\n",
        "    return None\n",
        "\n",
        "generate_response(\"What's are some good drinks to pair with pizza?\")"
      ]
    },
    {
      "cell_type": "code",
      "source": [
        "finance_features = client.features.search(\"financial fraud, market trends, investment risks\", model=variant, top_k=10)\n",
        "print(finance_features)"
      ],
      "metadata": {
        "colab": {
          "base_uri": "https://localhost:8080/"
        },
        "id": "C8j38-7oW6CP",
        "outputId": "0dada8e8-9e35-4134-9380-ee3fc3b181a7"
      },
      "execution_count": null,
      "outputs": [
        {
          "output_type": "stream",
          "name": "stdout",
          "text": [
            "FeatureGroup([\n",
            "   0: \"Discussion of financial losses and investment risks\",\n",
            "   1: \"Financial risk and investment caution\",\n",
            "   2: \"Financial and business risk concepts\",\n",
            "   3: \"Corporate fraud scandals and legal consequences\",\n",
            "   4: \"Personal financial circumstances in investment advice\",\n",
            "   5: \"The assistant should warn about investment risks\",\n",
            "   6: \"Insider trading and market manipulation\",\n",
            "   7: \"Financial market trading discussions and explanations\",\n",
            "   8: \"Financial investment discussion and advice\",\n",
            "   9: \"Price movements in financial market analysis\"\n",
            "])\n"
          ]
        }
      ]
    },
    {
      "cell_type": "code",
      "source": [
        "# Function to retrieve synthetic RAG data for finance\n",
        "def get_rag_data(prompt):\n",
        "    # This is where actual RAG retrieval would occur\n",
        "    return (\n",
        "        \"According to Bloomberg and SEC filings, the stock market trends indicate volatility. \"\n",
        "        \"Macroeconomic factors, inflation, and Federal Reserve policies significantly impact these trends. \"\n",
        "        \"Always verify insights from sources such as Reuters, Bloomberg, or official financial statements.\"\n",
        "    )\n",
        "\n",
        "def generate_response(prompt):\n",
        "\n",
        "\n",
        "    variant.reset()\n",
        "    variant.abort_when(finance_features[0] > 0.25)  # This will not raise an error but will silently stop if triggered\n",
        "\n",
        "    generated_tokens = \"\"\n",
        "\n",
        "    try:\n",
        "        # Generate initial response\n",
        "        response = client.chat.completions.create(\n",
        "            [\n",
        "                {\"role\": \"user\", \"content\": prompt}\n",
        "            ],\n",
        "            model=variant,\n",
        "            stream=True,\n",
        "            max_completion_tokens=500,\n",
        "        )\n",
        "\n",
        "        for token in response:\n",
        "            if token.choices[0].delta.content:\n",
        "                generated_tokens += token.choices[0].delta.content\n",
        "\n",
        "        # Print the initial generated response\n",
        "        print(\"\\n--- GENERATED RESPONSE ---\\n\")\n",
        "        print(generated_tokens)\n",
        "\n",
        "    except Exception as e:\n",
        "        print(f\"\\nError: {e} - Falling back to RAG\\n\")\n",
        "\n",
        "    # Always fall back to RAG if hallucination threshold was crossed\n",
        "    rag_data = get_rag_data(prompt)\n",
        "    print(\"\\n--- NEW TOKENS (RAG-Verified Data) ---\\n\")\n",
        "\n",
        "    variant.reset()\n",
        "\n",
        "    response = client.chat.completions.create(\n",
        "        [\n",
        "            {\"role\": \"system\", \"content\": \"You are a financial assistant providing fact-based insights. \"\n",
        "                                          \"Use only verified data from Bloomberg, Reuters, or SEC filings. \"\n",
        "                                          \"Here is the retrieved data: \" + rag_data},\n",
        "            {\"role\": \"user\", \"content\": prompt},\n",
        "            {\"role\": \"assistant\", \"content\": generated_tokens},\n",
        "        ],\n",
        "        model=variant,\n",
        "        stream=True,\n",
        "        max_completion_tokens=500,\n",
        "    )\n",
        "\n",
        "    for token in response:\n",
        "        if token.choices[0].delta.content:\n",
        "            print(token.choices[0].delta.content, end=\"\")\n",
        "\n",
        "    return None\n",
        "\n",
        "# **Finance Example Query to Check for Hallucination Handling**\n",
        "generate_response(\"What are the expected Federal Reserve rate decisions for next quarter?\")\n"
      ],
      "metadata": {
        "colab": {
          "base_uri": "https://localhost:8080/"
        },
        "id": "OeSJCs2wU2M-",
        "outputId": "e510ea00-0029-4185-ed88-836a804dea58"
      },
      "execution_count": null,
      "outputs": [
        {
          "output_type": "stream",
          "name": "stdout",
          "text": [
            "\n",
            "--- GENERATED RESPONSE ---\n",
            "\n",
            "The Federal Reserve's next meeting is scheduled for September. Based on current market expectations and economic data, here are the possible rate decision scenarios:\n",
            "\n",
            "1. **No rate change**: The Fed might keep rates steady, given the recent inflation slowdown and stable economic growth.\n",
            "2. **25-basis-point cut**: Some experts predict a small rate cut to support the economy and counterbalance global trade uncertainties.\n",
            "3. **No changes to forward guidance**: The Fed might maintain its current forward guidance, indicating a neutral or slightly dovish stance.\n",
            "\n",
            "Keep in mind that these are just market expectations and not official Fed announcements. The actual decision will depend on various factors, including inflation, employment, and global economic conditions.\n",
            "\n",
            "Would you like me to provide more information or context about the Federal Reserve's decision-making process?\n",
            "\n",
            "--- NEW TOKENS (RAG-Verified Data) ---\n",
            "\n",
            "According to recent reports from Bloomberg and Reuters, the Federal Reserve is expected to maintain its current interest rate range of 4.50%-4.75% at its next meeting. This decision is based on the Fed's recent statements and economic data, which suggest that the economy is growing at a moderate pace and inflation is under control.\n",
            "\n",
            "As reported by Bloomberg, the Fed's dot plot, which shows the individual projections of Federal Open Market Committee (FOMC) members, indicates that most members expect rates to remain steady for the rest of the year. However, some members have suggested that a rate cut may be necessary if the economy slows down or if inflation falls below the Fed's target rate of 2%.\n",
            "\n",
            "Reuters also notes that the Fed's forward guidance, which provides insight into the central bank's future policy decisions, has remained relatively unchanged in recent months. The Fed has stated that it will continue to monitor economic data and adjust its policy decisions accordingly.\n",
            "\n",
            "It's worth noting that the Fed's decision will depend on various factors, including inflation, employment, and global economic conditions. As always, it's essential to verify insights from sources such as Reuters, Bloomberg, or official financial statements to ensure accuracy.\n",
            "\n",
            "Sources:\n",
            "- Bloomberg: \"Fed Seen Holding Rates Steady as Economy Grows at Moderate Pace\"\n",
            "- Reuters: \"Fed's Dot Plot Shows Most Members Expect Rates to Remain Steady\"\n",
            "- SEC Filings: Federal Reserve's recent statements and economic data releases."
          ]
        }
      ]
    },
    {
      "cell_type": "code",
      "source": [],
      "metadata": {
        "id": "SsfEG5luU2Qf"
      },
      "execution_count": null,
      "outputs": []
    }
  ],
  "metadata": {
    "colab": {
      "provenance": [],
      "include_colab_link": true
    },
    "kernelspec": {
      "display_name": "cajal-GpC6YlH4-py3.12",
      "language": "python",
      "name": "python3"
    },
    "language_info": {
      "codemirror_mode": {
        "name": "ipython",
        "version": 3
      },
      "file_extension": ".py",
      "mimetype": "text/x-python",
      "name": "python",
      "nbconvert_exporter": "python",
      "pygments_lexer": "ipython3",
      "version": "3.11.6"
    },
    "orig_nbformat": 4
  },
  "nbformat": 4,
  "nbformat_minor": 0
}