{
 "cells": [
  {
   "cell_type": "markdown",
   "metadata": {
    "id": "5O8tQblzOVHu"
   },
   "source": [
    "# Training a basic SAE with SAELens\n",
    "\n",
    "This tutorial demonstrates training a simple, relatively small Sparse Autoencoder, specifically on the tiny-stories-1L-21M model. \n",
    "\n",
    "As the SAELens library is under active development, please open an issue if this tutorial is stale [here](https://github.com/jbloomAus/SAELens)."
   ]
  },
  {
   "cell_type": "markdown",
   "metadata": {
    "id": "shAFb9-lOVHu"
   },
   "source": [
    "## Setup"
   ]
  },
  {
   "cell_type": "code",
   "execution_count": 1,
   "metadata": {
    "id": "LeRi_tw2dhae"
   },
   "outputs": [
    {
     "name": "stdout",
     "output_type": "stream",
     "text": [
      "Requirement already satisfied: sae-lens in c:\\users\\tatsa\\anaconda3\\envs\\interp\\lib\\site-packages (5.2.1)\n",
      "Requirement already satisfied: transformer-lens in c:\\users\\tatsa\\anaconda3\\envs\\interp\\lib\\site-packages (2.4.0)\n",
      "Requirement already satisfied: circuitsvis in c:\\users\\tatsa\\anaconda3\\envs\\interp\\lib\\site-packages (1.43.3)\n",
      "Requirement already satisfied: automated-interpretability<1.0.0,>=0.0.5 in c:\\users\\tatsa\\anaconda3\\envs\\interp\\lib\\site-packages (from sae-lens) (0.0.6)\n",
      "Requirement already satisfied: babe<0.0.8,>=0.0.7 in c:\\users\\tatsa\\anaconda3\\envs\\interp\\lib\\site-packages (from sae-lens) (0.0.7)\n",
      "Requirement already satisfied: datasets<3.0.0,>=2.17.1 in c:\\users\\tatsa\\anaconda3\\envs\\interp\\lib\\site-packages (from sae-lens) (2.21.0)\n",
      "Requirement already satisfied: matplotlib<4.0.0,>=3.8.3 in c:\\users\\tatsa\\anaconda3\\envs\\interp\\lib\\site-packages (from sae-lens) (3.10.0)\n",
      "Requirement already satisfied: matplotlib-inline<0.2.0,>=0.1.6 in c:\\users\\tatsa\\appdata\\roaming\\python\\python312\\site-packages (from sae-lens) (0.1.6)\n",
      "Requirement already satisfied: nltk<4.0.0,>=3.8.1 in c:\\users\\tatsa\\anaconda3\\envs\\interp\\lib\\site-packages (from sae-lens) (3.9.1)\n",
      "Requirement already satisfied: plotly<6.0.0,>=5.19.0 in c:\\users\\tatsa\\anaconda3\\envs\\interp\\lib\\site-packages (from sae-lens) (5.24.1)\n",
      "Requirement already satisfied: plotly-express<0.5.0,>=0.4.1 in c:\\users\\tatsa\\appdata\\roaming\\python\\python312\\site-packages (from sae-lens) (0.4.1)\n",
      "Requirement already satisfied: pytest-profiling<2.0.0,>=1.7.0 in c:\\users\\tatsa\\anaconda3\\envs\\interp\\lib\\site-packages (from sae-lens) (1.8.1)\n",
      "Requirement already satisfied: python-dotenv<2.0.0,>=1.0.1 in c:\\users\\tatsa\\anaconda3\\envs\\interp\\lib\\site-packages (from sae-lens) (1.0.1)\n",
      "Requirement already satisfied: pyyaml<7.0.0,>=6.0.1 in c:\\users\\tatsa\\appdata\\roaming\\python\\python312\\site-packages (from sae-lens) (6.0.2)\n",
      "Requirement already satisfied: pyzmq==26.0.0 in c:\\users\\tatsa\\anaconda3\\envs\\interp\\lib\\site-packages (from sae-lens) (26.0.0)\n",
      "Requirement already satisfied: safetensors<0.5.0,>=0.4.2 in c:\\users\\tatsa\\appdata\\roaming\\python\\python312\\site-packages (from sae-lens) (0.4.5)\n",
      "Requirement already satisfied: simple-parsing<0.2.0,>=0.1.6 in c:\\users\\tatsa\\anaconda3\\envs\\interp\\lib\\site-packages (from sae-lens) (0.1.6)\n",
      "Requirement already satisfied: transformers<5.0.0,>=4.38.1 in c:\\users\\tatsa\\anaconda3\\envs\\interp\\lib\\site-packages (from sae-lens) (4.47.1)\n",
      "Requirement already satisfied: typer<0.13.0,>=0.12.3 in c:\\users\\tatsa\\anaconda3\\envs\\interp\\lib\\site-packages (from sae-lens) (0.12.5)\n",
      "Requirement already satisfied: typing-extensions<5.0.0,>=4.10.0 in c:\\users\\tatsa\\appdata\\roaming\\python\\python312\\site-packages (from sae-lens) (4.12.2)\n",
      "Requirement already satisfied: zstandard<0.23.0,>=0.22.0 in c:\\users\\tatsa\\anaconda3\\envs\\interp\\lib\\site-packages (from sae-lens) (0.22.0)\n",
      "Requirement already satisfied: accelerate>=0.23.0 in c:\\users\\tatsa\\appdata\\roaming\\python\\python312\\site-packages (from transformer-lens) (1.2.1)\n",
      "Requirement already satisfied: beartype<0.15.0,>=0.14.1 in c:\\users\\tatsa\\appdata\\roaming\\python\\python312\\site-packages (from transformer-lens) (0.14.1)\n",
      "Requirement already satisfied: better-abc<0.0.4,>=0.0.3 in c:\\users\\tatsa\\anaconda3\\envs\\interp\\lib\\site-packages (from transformer-lens) (0.0.3)\n",
      "Requirement already satisfied: einops>=0.6.0 in c:\\users\\tatsa\\appdata\\roaming\\python\\python312\\site-packages (from transformer-lens) (0.8.0)\n",
      "Requirement already satisfied: fancy-einsum>=0.0.3 in c:\\users\\tatsa\\appdata\\roaming\\python\\python312\\site-packages (from transformer-lens) (0.0.3)\n",
      "Requirement already satisfied: jaxtyping>=0.2.11 in c:\\users\\tatsa\\appdata\\roaming\\python\\python312\\site-packages (from transformer-lens) (0.2.36)\n",
      "Requirement already satisfied: numpy>=1.26 in c:\\users\\tatsa\\appdata\\roaming\\python\\python312\\site-packages (from transformer-lens) (1.26.4)\n",
      "Requirement already satisfied: pandas>=1.1.5 in c:\\users\\tatsa\\appdata\\roaming\\python\\python312\\site-packages (from transformer-lens) (2.2.3)\n",
      "Requirement already satisfied: rich>=12.6.0 in c:\\users\\tatsa\\appdata\\roaming\\python\\python312\\site-packages (from transformer-lens) (13.9.4)\n",
      "Requirement already satisfied: sentencepiece in c:\\users\\tatsa\\anaconda3\\envs\\interp\\lib\\site-packages (from transformer-lens) (0.2.0)\n",
      "Requirement already satisfied: torch!=2.0,!=2.1.0,>=1.10 in c:\\users\\tatsa\\anaconda3\\envs\\interp\\lib\\site-packages (from transformer-lens) (2.5.1+cu121)\n",
      "Requirement already satisfied: tqdm>=4.64.1 in c:\\users\\tatsa\\appdata\\roaming\\python\\python312\\site-packages (from transformer-lens) (4.67.1)\n",
      "Requirement already satisfied: wandb>=0.13.5 in c:\\users\\tatsa\\appdata\\roaming\\python\\python312\\site-packages (from transformer-lens) (0.19.1)\n",
      "Requirement already satisfied: importlib-metadata>=5.1.0 in c:\\users\\tatsa\\anaconda3\\envs\\interp\\lib\\site-packages (from circuitsvis) (8.5.0)\n",
      "Requirement already satisfied: packaging>=20.0 in c:\\users\\tatsa\\appdata\\roaming\\python\\python312\\site-packages (from accelerate>=0.23.0->transformer-lens) (24.2)\n",
      "Requirement already satisfied: psutil in c:\\users\\tatsa\\appdata\\roaming\\python\\python312\\site-packages (from accelerate>=0.23.0->transformer-lens) (6.1.1)\n",
      "Requirement already satisfied: huggingface-hub>=0.21.0 in c:\\users\\tatsa\\appdata\\roaming\\python\\python312\\site-packages (from accelerate>=0.23.0->transformer-lens) (0.27.0)\n",
      "Requirement already satisfied: blobfile<3.0.0,>=2.1.1 in c:\\users\\tatsa\\anaconda3\\envs\\interp\\lib\\site-packages (from automated-interpretability<1.0.0,>=0.0.5->sae-lens) (2.1.1)\n",
      "Requirement already satisfied: boostedblob<0.16.0,>=0.15.3 in c:\\users\\tatsa\\anaconda3\\envs\\interp\\lib\\site-packages (from automated-interpretability<1.0.0,>=0.0.5->sae-lens) (0.15.5)\n",
      "Requirement already satisfied: httpx<0.28.0,>=0.27.0 in c:\\users\\tatsa\\anaconda3\\envs\\interp\\lib\\site-packages (from automated-interpretability<1.0.0,>=0.0.5->sae-lens) (0.27.2)\n",
      "Requirement already satisfied: orjson<4.0.0,>=3.10.1 in c:\\users\\tatsa\\anaconda3\\envs\\interp\\lib\\site-packages (from automated-interpretability<1.0.0,>=0.0.5->sae-lens) (3.10.12)\n",
      "Requirement already satisfied: scikit-learn<2.0.0,>=1.2.0 in c:\\users\\tatsa\\anaconda3\\envs\\interp\\lib\\site-packages (from automated-interpretability<1.0.0,>=0.0.5->sae-lens) (1.6.0)\n",
      "Requirement already satisfied: tiktoken<0.7.0,>=0.6.0 in c:\\users\\tatsa\\anaconda3\\envs\\interp\\lib\\site-packages (from automated-interpretability<1.0.0,>=0.0.5->sae-lens) (0.6.0)\n",
      "Requirement already satisfied: py2store in c:\\users\\tatsa\\anaconda3\\envs\\interp\\lib\\site-packages (from babe<0.0.8,>=0.0.7->sae-lens) (0.1.20)\n",
      "Requirement already satisfied: graze in c:\\users\\tatsa\\anaconda3\\envs\\interp\\lib\\site-packages (from babe<0.0.8,>=0.0.7->sae-lens) (0.1.27)\n",
      "Requirement already satisfied: filelock in c:\\users\\tatsa\\appdata\\roaming\\python\\python312\\site-packages (from datasets<3.0.0,>=2.17.1->sae-lens) (3.16.1)\n",
      "Requirement already satisfied: pyarrow>=15.0.0 in c:\\users\\tatsa\\appdata\\roaming\\python\\python312\\site-packages (from datasets<3.0.0,>=2.17.1->sae-lens) (18.1.0)\n",
      "Requirement already satisfied: dill<0.3.9,>=0.3.0 in c:\\users\\tatsa\\appdata\\roaming\\python\\python312\\site-packages (from datasets<3.0.0,>=2.17.1->sae-lens) (0.3.8)\n",
      "Requirement already satisfied: requests>=2.32.2 in c:\\users\\tatsa\\appdata\\roaming\\python\\python312\\site-packages (from datasets<3.0.0,>=2.17.1->sae-lens) (2.32.3)\n",
      "Requirement already satisfied: xxhash in c:\\users\\tatsa\\appdata\\roaming\\python\\python312\\site-packages (from datasets<3.0.0,>=2.17.1->sae-lens) (3.5.0)\n",
      "Requirement already satisfied: multiprocess in c:\\users\\tatsa\\appdata\\roaming\\python\\python312\\site-packages (from datasets<3.0.0,>=2.17.1->sae-lens) (0.70.16)\n",
      "Requirement already satisfied: fsspec<=2024.6.1,>=2023.1.0 in c:\\users\\tatsa\\anaconda3\\envs\\interp\\lib\\site-packages (from fsspec[http]<=2024.6.1,>=2023.1.0->datasets<3.0.0,>=2.17.1->sae-lens) (2024.6.1)\n",
      "Requirement already satisfied: aiohttp in c:\\users\\tatsa\\appdata\\roaming\\python\\python312\\site-packages (from datasets<3.0.0,>=2.17.1->sae-lens) (3.11.11)\n",
      "Requirement already satisfied: zipp>=3.20 in c:\\users\\tatsa\\anaconda3\\envs\\interp\\lib\\site-packages (from importlib-metadata>=5.1.0->circuitsvis) (3.21.0)\n",
      "Requirement already satisfied: contourpy>=1.0.1 in c:\\users\\tatsa\\appdata\\roaming\\python\\python312\\site-packages (from matplotlib<4.0.0,>=3.8.3->sae-lens) (1.3.1)\n",
      "Requirement already satisfied: cycler>=0.10 in c:\\users\\tatsa\\appdata\\roaming\\python\\python312\\site-packages (from matplotlib<4.0.0,>=3.8.3->sae-lens) (0.12.1)\n",
      "Requirement already satisfied: fonttools>=4.22.0 in c:\\users\\tatsa\\appdata\\roaming\\python\\python312\\site-packages (from matplotlib<4.0.0,>=3.8.3->sae-lens) (4.55.3)\n",
      "Requirement already satisfied: kiwisolver>=1.3.1 in c:\\users\\tatsa\\appdata\\roaming\\python\\python312\\site-packages (from matplotlib<4.0.0,>=3.8.3->sae-lens) (1.4.7)\n",
      "Requirement already satisfied: pillow>=8 in c:\\users\\tatsa\\appdata\\roaming\\python\\python312\\site-packages (from matplotlib<4.0.0,>=3.8.3->sae-lens) (11.0.0)\n",
      "Requirement already satisfied: pyparsing>=2.3.1 in c:\\users\\tatsa\\appdata\\roaming\\python\\python312\\site-packages (from matplotlib<4.0.0,>=3.8.3->sae-lens) (3.2.0)\n",
      "Requirement already satisfied: python-dateutil>=2.7 in c:\\users\\tatsa\\appdata\\roaming\\python\\python312\\site-packages (from matplotlib<4.0.0,>=3.8.3->sae-lens) (2.9.0.post0)\n",
      "Requirement already satisfied: traitlets in c:\\users\\tatsa\\appdata\\roaming\\python\\python312\\site-packages (from matplotlib-inline<0.2.0,>=0.1.6->sae-lens) (5.14.3)\n",
      "Requirement already satisfied: click in c:\\users\\tatsa\\appdata\\roaming\\python\\python312\\site-packages (from nltk<4.0.0,>=3.8.1->sae-lens) (8.1.8)\n",
      "Requirement already satisfied: joblib in c:\\users\\tatsa\\anaconda3\\envs\\interp\\lib\\site-packages (from nltk<4.0.0,>=3.8.1->sae-lens) (1.4.2)\n",
      "Requirement already satisfied: regex>=2021.8.3 in c:\\users\\tatsa\\appdata\\roaming\\python\\python312\\site-packages (from nltk<4.0.0,>=3.8.1->sae-lens) (2024.11.6)\n",
      "Requirement already satisfied: pytz>=2020.1 in c:\\users\\tatsa\\appdata\\roaming\\python\\python312\\site-packages (from pandas>=1.1.5->transformer-lens) (2024.2)\n",
      "Requirement already satisfied: tzdata>=2022.7 in c:\\users\\tatsa\\appdata\\roaming\\python\\python312\\site-packages (from pandas>=1.1.5->transformer-lens) (2024.2)\n",
      "Requirement already satisfied: tenacity>=6.2.0 in c:\\users\\tatsa\\appdata\\roaming\\python\\python312\\site-packages (from plotly<6.0.0,>=5.19.0->sae-lens) (9.0.0)\n",
      "Requirement already satisfied: statsmodels>=0.9.0 in c:\\users\\tatsa\\appdata\\roaming\\python\\python312\\site-packages (from plotly-express<0.5.0,>=0.4.1->sae-lens) (0.14.4)\n",
      "Requirement already satisfied: scipy>=0.18 in c:\\users\\tatsa\\appdata\\roaming\\python\\python312\\site-packages (from plotly-express<0.5.0,>=0.4.1->sae-lens) (1.14.1)\n",
      "Requirement already satisfied: patsy>=0.5 in c:\\users\\tatsa\\appdata\\roaming\\python\\python312\\site-packages (from plotly-express<0.5.0,>=0.4.1->sae-lens) (1.0.1)\n",
      "Requirement already satisfied: six in c:\\users\\tatsa\\appdata\\roaming\\python\\python312\\site-packages (from pytest-profiling<2.0.0,>=1.7.0->sae-lens) (1.17.0)\n",
      "Requirement already satisfied: pytest in c:\\users\\tatsa\\appdata\\roaming\\python\\python312\\site-packages (from pytest-profiling<2.0.0,>=1.7.0->sae-lens) (7.4.3)\n",
      "Requirement already satisfied: gprof2dot in c:\\users\\tatsa\\anaconda3\\envs\\interp\\lib\\site-packages (from pytest-profiling<2.0.0,>=1.7.0->sae-lens) (2024.6.6)\n",
      "Requirement already satisfied: markdown-it-py>=2.2.0 in c:\\users\\tatsa\\appdata\\roaming\\python\\python312\\site-packages (from rich>=12.6.0->transformer-lens) (3.0.0)\n",
      "Requirement already satisfied: pygments<3.0.0,>=2.13.0 in c:\\users\\tatsa\\appdata\\roaming\\python\\python312\\site-packages (from rich>=12.6.0->transformer-lens) (2.18.0)\n",
      "Requirement already satisfied: docstring-parser<1.0,>=0.15 in c:\\users\\tatsa\\anaconda3\\envs\\interp\\lib\\site-packages (from simple-parsing<0.2.0,>=0.1.6->sae-lens) (0.16)\n",
      "Requirement already satisfied: networkx in c:\\users\\tatsa\\appdata\\roaming\\python\\python312\\site-packages (from torch!=2.0,!=2.1.0,>=1.10->transformer-lens) (3.4.2)\n",
      "Requirement already satisfied: jinja2 in c:\\users\\tatsa\\appdata\\roaming\\python\\python312\\site-packages (from torch!=2.0,!=2.1.0,>=1.10->transformer-lens) (3.1.5)\n",
      "Requirement already satisfied: setuptools in c:\\users\\tatsa\\appdata\\roaming\\python\\python312\\site-packages (from torch!=2.0,!=2.1.0,>=1.10->transformer-lens) (75.6.0)\n",
      "Requirement already satisfied: sympy==1.13.1 in c:\\users\\tatsa\\appdata\\roaming\\python\\python312\\site-packages (from torch!=2.0,!=2.1.0,>=1.10->transformer-lens) (1.13.1)\n",
      "Requirement already satisfied: mpmath<1.4,>=1.1.0 in c:\\users\\tatsa\\appdata\\roaming\\python\\python312\\site-packages (from sympy==1.13.1->torch!=2.0,!=2.1.0,>=1.10->transformer-lens) (1.3.0)\n",
      "Requirement already satisfied: colorama in c:\\users\\tatsa\\appdata\\roaming\\python\\python312\\site-packages (from tqdm>=4.64.1->transformer-lens) (0.4.6)\n",
      "Requirement already satisfied: tokenizers<0.22,>=0.21 in c:\\users\\tatsa\\anaconda3\\envs\\interp\\lib\\site-packages (from transformers<5.0.0,>=4.38.1->sae-lens) (0.21.0)\n",
      "Requirement already satisfied: shellingham>=1.3.0 in c:\\users\\tatsa\\anaconda3\\envs\\interp\\lib\\site-packages (from typer<0.13.0,>=0.12.3->sae-lens) (1.5.4)\n",
      "Requirement already satisfied: docker-pycreds>=0.4.0 in c:\\users\\tatsa\\appdata\\roaming\\python\\python312\\site-packages (from wandb>=0.13.5->transformer-lens) (0.4.0)\n",
      "Requirement already satisfied: gitpython!=3.1.29,>=1.0.0 in c:\\users\\tatsa\\appdata\\roaming\\python\\python312\\site-packages (from wandb>=0.13.5->transformer-lens) (3.1.43)\n",
      "Requirement already satisfied: platformdirs in c:\\users\\tatsa\\appdata\\roaming\\python\\python312\\site-packages (from wandb>=0.13.5->transformer-lens) (4.3.6)\n",
      "Requirement already satisfied: protobuf!=4.21.0,!=5.28.0,<6,>=3.19.0 in c:\\users\\tatsa\\appdata\\roaming\\python\\python312\\site-packages (from wandb>=0.13.5->transformer-lens) (5.29.2)\n",
      "Requirement already satisfied: pydantic<3,>=2.6 in c:\\users\\tatsa\\appdata\\roaming\\python\\python312\\site-packages (from wandb>=0.13.5->transformer-lens) (2.10.4)\n",
      "Requirement already satisfied: sentry-sdk>=2.0.0 in c:\\users\\tatsa\\appdata\\roaming\\python\\python312\\site-packages (from wandb>=0.13.5->transformer-lens) (2.19.2)\n",
      "Requirement already satisfied: setproctitle in c:\\users\\tatsa\\appdata\\roaming\\python\\python312\\site-packages (from wandb>=0.13.5->transformer-lens) (1.3.4)\n",
      "Requirement already satisfied: pycryptodomex~=3.8 in c:\\users\\tatsa\\anaconda3\\envs\\interp\\lib\\site-packages (from blobfile<3.0.0,>=2.1.1->automated-interpretability<1.0.0,>=0.0.5->sae-lens) (3.21.0)\n",
      "Requirement already satisfied: urllib3<3,>=1.25.3 in c:\\users\\tatsa\\appdata\\roaming\\python\\python312\\site-packages (from blobfile<3.0.0,>=2.1.1->automated-interpretability<1.0.0,>=0.0.5->sae-lens) (2.3.0)\n",
      "Requirement already satisfied: lxml~=4.9 in c:\\users\\tatsa\\anaconda3\\envs\\interp\\lib\\site-packages (from blobfile<3.0.0,>=2.1.1->automated-interpretability<1.0.0,>=0.0.5->sae-lens) (4.9.4)\n",
      "Requirement already satisfied: aiohappyeyeballs>=2.3.0 in c:\\users\\tatsa\\appdata\\roaming\\python\\python312\\site-packages (from aiohttp->datasets<3.0.0,>=2.17.1->sae-lens) (2.4.4)\n",
      "Requirement already satisfied: aiosignal>=1.1.2 in c:\\users\\tatsa\\appdata\\roaming\\python\\python312\\site-packages (from aiohttp->datasets<3.0.0,>=2.17.1->sae-lens) (1.3.2)\n",
      "Requirement already satisfied: attrs>=17.3.0 in c:\\users\\tatsa\\appdata\\roaming\\python\\python312\\site-packages (from aiohttp->datasets<3.0.0,>=2.17.1->sae-lens) (24.3.0)\n",
      "Requirement already satisfied: frozenlist>=1.1.1 in c:\\users\\tatsa\\appdata\\roaming\\python\\python312\\site-packages (from aiohttp->datasets<3.0.0,>=2.17.1->sae-lens) (1.5.0)\n",
      "Requirement already satisfied: multidict<7.0,>=4.5 in c:\\users\\tatsa\\appdata\\roaming\\python\\python312\\site-packages (from aiohttp->datasets<3.0.0,>=2.17.1->sae-lens) (6.1.0)\n",
      "Requirement already satisfied: propcache>=0.2.0 in c:\\users\\tatsa\\appdata\\roaming\\python\\python312\\site-packages (from aiohttp->datasets<3.0.0,>=2.17.1->sae-lens) (0.2.1)\n",
      "Requirement already satisfied: yarl<2.0,>=1.17.0 in c:\\users\\tatsa\\appdata\\roaming\\python\\python312\\site-packages (from aiohttp->datasets<3.0.0,>=2.17.1->sae-lens) (1.18.3)\n",
      "Requirement already satisfied: gitdb<5,>=4.0.1 in c:\\users\\tatsa\\appdata\\roaming\\python\\python312\\site-packages (from gitpython!=3.1.29,>=1.0.0->wandb>=0.13.5->transformer-lens) (4.0.11)\n",
      "Requirement already satisfied: anyio in c:\\users\\tatsa\\appdata\\roaming\\python\\python312\\site-packages (from httpx<0.28.0,>=0.27.0->automated-interpretability<1.0.0,>=0.0.5->sae-lens) (4.7.0)\n",
      "Requirement already satisfied: certifi in c:\\users\\tatsa\\appdata\\roaming\\python\\python312\\site-packages (from httpx<0.28.0,>=0.27.0->automated-interpretability<1.0.0,>=0.0.5->sae-lens) (2024.12.14)\n",
      "Requirement already satisfied: httpcore==1.* in c:\\users\\tatsa\\appdata\\roaming\\python\\python312\\site-packages (from httpx<0.28.0,>=0.27.0->automated-interpretability<1.0.0,>=0.0.5->sae-lens) (1.0.7)\n",
      "Requirement already satisfied: idna in c:\\users\\tatsa\\appdata\\roaming\\python\\python312\\site-packages (from httpx<0.28.0,>=0.27.0->automated-interpretability<1.0.0,>=0.0.5->sae-lens) (3.10)\n",
      "Requirement already satisfied: sniffio in c:\\users\\tatsa\\appdata\\roaming\\python\\python312\\site-packages (from httpx<0.28.0,>=0.27.0->automated-interpretability<1.0.0,>=0.0.5->sae-lens) (1.3.1)\n",
      "Requirement already satisfied: h11<0.15,>=0.13 in c:\\users\\tatsa\\appdata\\roaming\\python\\python312\\site-packages (from httpcore==1.*->httpx<0.28.0,>=0.27.0->automated-interpretability<1.0.0,>=0.0.5->sae-lens) (0.14.0)\n",
      "Requirement already satisfied: mdurl~=0.1 in c:\\users\\tatsa\\appdata\\roaming\\python\\python312\\site-packages (from markdown-it-py>=2.2.0->rich>=12.6.0->transformer-lens) (0.1.2)\n",
      "Requirement already satisfied: annotated-types>=0.6.0 in c:\\users\\tatsa\\appdata\\roaming\\python\\python312\\site-packages (from pydantic<3,>=2.6->wandb>=0.13.5->transformer-lens) (0.7.0)\n",
      "Requirement already satisfied: pydantic-core==2.27.2 in c:\\users\\tatsa\\appdata\\roaming\\python\\python312\\site-packages (from pydantic<3,>=2.6->wandb>=0.13.5->transformer-lens) (2.27.2)\n",
      "Requirement already satisfied: charset-normalizer<4,>=2 in c:\\users\\tatsa\\appdata\\roaming\\python\\python312\\site-packages (from requests>=2.32.2->datasets<3.0.0,>=2.17.1->sae-lens) (3.4.0)\n",
      "Requirement already satisfied: threadpoolctl>=3.1.0 in c:\\users\\tatsa\\anaconda3\\envs\\interp\\lib\\site-packages (from scikit-learn<2.0.0,>=1.2.0->automated-interpretability<1.0.0,>=0.0.5->sae-lens) (3.5.0)\n",
      "Requirement already satisfied: dol in c:\\users\\tatsa\\anaconda3\\envs\\interp\\lib\\site-packages (from graze->babe<0.0.8,>=0.0.7->sae-lens) (0.2.94)\n",
      "Requirement already satisfied: MarkupSafe>=2.0 in c:\\users\\tatsa\\appdata\\roaming\\python\\python312\\site-packages (from jinja2->torch!=2.0,!=2.1.0,>=1.10->transformer-lens) (3.0.2)\n",
      "Requirement already satisfied: config2py in c:\\users\\tatsa\\anaconda3\\envs\\interp\\lib\\site-packages (from py2store->babe<0.0.8,>=0.0.7->sae-lens) (0.1.36)\n",
      "Requirement already satisfied: importlib_resources in c:\\users\\tatsa\\anaconda3\\envs\\interp\\lib\\site-packages (from py2store->babe<0.0.8,>=0.0.7->sae-lens) (6.4.5)\n",
      "Requirement already satisfied: iniconfig in c:\\users\\tatsa\\appdata\\roaming\\python\\python312\\site-packages (from pytest->pytest-profiling<2.0.0,>=1.7.0->sae-lens) (2.0.0)\n",
      "Requirement already satisfied: pluggy<2.0,>=0.12 in c:\\users\\tatsa\\appdata\\roaming\\python\\python312\\site-packages (from pytest->pytest-profiling<2.0.0,>=1.7.0->sae-lens) (1.5.0)\n",
      "Requirement already satisfied: smmap<6,>=3.0.1 in c:\\users\\tatsa\\appdata\\roaming\\python\\python312\\site-packages (from gitdb<5,>=4.0.1->gitpython!=3.1.29,>=1.0.0->wandb>=0.13.5->transformer-lens) (5.0.1)\n",
      "Requirement already satisfied: i2 in c:\\users\\tatsa\\anaconda3\\envs\\interp\\lib\\site-packages (from config2py->py2store->babe<0.0.8,>=0.0.7->sae-lens) (0.1.45)\n",
      "Note: you may need to restart the kernel to use updated packages.\n"
     ]
    }
   ],
   "source": [
    "try:\n",
    "    # import google.colab # type: ignore\n",
    "    # from google.colab import output\n",
    "    %pip install sae-lens transformer-lens circuitsvis\n",
    "except:\n",
    "    from IPython import get_ipython  # type: ignore\n",
    "\n",
    "    ipython = get_ipython()\n",
    "    assert ipython is not None\n",
    "    ipython.run_line_magic(\"load_ext\", \"autoreload\")\n",
    "    ipython.run_line_magic(\"autoreload\", \"2\")"
   ]
  },
  {
   "cell_type": "code",
   "execution_count": 2,
   "metadata": {
    "colab": {
     "base_uri": "https://localhost:8080/"
    },
    "id": "uy-b3CcSOVHu",
    "outputId": "58ce28d0-f91f-436d-cf87-76bb26e2ecaf"
   },
   "outputs": [
    {
     "name": "stdout",
     "output_type": "stream",
     "text": [
      "Using device: cuda\n"
     ]
    }
   ],
   "source": [
    "import torch\n",
    "import os\n",
    "\n",
    "from sae_lens import LanguageModelSAERunnerConfig, SAETrainingRunner\n",
    "\n",
    "if torch.cuda.is_available():\n",
    "    device = \"cuda\"\n",
    "elif torch.backends.mps.is_available():\n",
    "    device = \"mps\"\n",
    "else:\n",
    "    device = \"cpu\"\n",
    "\n",
    "print(\"Using device:\", device)\n",
    "os.environ[\"TOKENIZERS_PARALLELISM\"] = \"false\""
   ]
  },
  {
   "cell_type": "markdown",
   "metadata": {
    "id": "oe2nlqf-OVHv"
   },
   "source": [
    "# Model Selection and Evaluation (Feel Free to Skip)\n",
    "\n",
    "We'll use the runner to train an SAE on a TinyStories Model. This is a very small model so we can train an SAE on it quite quickly. Before we get started, let's load in the model with `transformer_lens` and see what it can do.\n",
    "\n",
    "TransformerLens gives us 2 functions that are useful here (and circuits viz provides a third):\n",
    "1. `transformer_lens.utils.test_prompt` will help us see when the model can infer one token.\n",
    "2. `HookedTransformer.generate` will help us see what happens when we sample from the model.\n",
    "3. `circuitsvis.logits.token_log_probs` will help us visualize the log probs of tokens at several positions in a prompt."
   ]
  },
  {
   "cell_type": "code",
   "execution_count": 3,
   "metadata": {
    "id": "hFz6JUMuOVHv"
   },
   "outputs": [
    {
     "name": "stdout",
     "output_type": "stream",
     "text": [
      "Loaded pretrained model tiny-stories-1L-21M into HookedTransformer\n"
     ]
    }
   ],
   "source": [
    "from transformer_lens import HookedTransformer\n",
    "\n",
    "model = HookedTransformer.from_pretrained(\n",
    "    \"tiny-stories-1L-21M\"\n",
    ")  # This will wrap huggingface models and has lots of nice utilities."
   ]
  },
  {
   "cell_type": "markdown",
   "metadata": {
    "id": "aUiXrjdUOVHv"
   },
   "source": [
    "### Getting a vibe for a model using `model.generate`"
   ]
  },
  {
   "cell_type": "markdown",
   "metadata": {
    "id": "ZZfKT5aDOVHv"
   },
   "source": [
    "Let's start by generating some stories using the model."
   ]
  },
  {
   "cell_type": "code",
   "execution_count": 4,
   "metadata": {
    "id": "G4ad4Zz1OVHv"
   },
   "outputs": [
    {
     "data": {
      "text/plain": [
       "'Once upon a time, there were two friends named Tom and Danny. Tom and Jack lived in a stable of their cozy horridfield.\\n\\nOne day, Jake told a joke to Tom. “Why are you so sour?” asked Jake to explain'"
      ]
     },
     "metadata": {},
     "output_type": "display_data"
    },
    {
     "data": {
      "text/plain": [
       "'Once upon a time, there was a colorful masterpiece. His name was Mark, and he was searching for a special app.\\n\\nEvery morning he would pick the orange from his bedroom window to take a photo every day to admire all his new photos. He was so'"
      ]
     },
     "metadata": {},
     "output_type": "display_data"
    },
    {
     "data": {
      "text/plain": [
       "'Once upon a time, there was a little girl named Lizzie. She lived in a big garden with lots of trees and flowers. \\n\\nOne day, Lizzie wanted to play a game. She asked to play a game. She said yes and'"
      ]
     },
     "metadata": {},
     "output_type": "display_data"
    },
    {
     "data": {
      "text/plain": [
       "'Once upon a time, a brave and kind boy. He lived in a land full of power and joy as you can be.\\n\\nOne day, the brave boy decided to travel out to see the sun up in his plane. As soon as he saw a wild'"
      ]
     },
     "metadata": {},
     "output_type": "display_data"
    },
    {
     "data": {
      "text/plain": [
       "'Once upon a time, there was a fast pebble. It liked to speed towards the gates, so it would not get scared. The pebble wanted help, so it could stay safe. \\n\\nOne day, the pebble decided to replace'"
      ]
     },
     "metadata": {},
     "output_type": "display_data"
    }
   ],
   "source": [
    "# here we use generate to get 10 completeions with temperature 1. Feel free to play with the prompt to make it more interesting.\n",
    "for i in range(5):\n",
    "    display(\n",
    "        model.generate(\n",
    "            \"Once upon a time\",\n",
    "            stop_at_eos=False,  # avoids a bug on MPS\n",
    "            temperature=1,\n",
    "            verbose=False,\n",
    "            max_new_tokens=50,\n",
    "        )\n",
    "    )"
   ]
  },
  {
   "cell_type": "markdown",
   "metadata": {
    "id": "RDKr8o1xOVHv"
   },
   "source": [
    "One thing we notice is that the model seems to be able to repeat the name of the main character very consistently. It can output a pronoun intead but in some stories will repeat the protagonists name. This seems like an interesting capability to analyse with SAEs. To better understand the models ability to remember the protagonists name, let's extract a prompt where the next character is determined and use the \"test_prompt\" utility from TransformerLens to check the ranking of the token for that name."
   ]
  },
  {
   "cell_type": "markdown",
   "metadata": {
    "id": "KsfJX-YpOVHv"
   },
   "source": [
    "### Spot checking model abilities with `transformer_lens.utils.test_prompt`"
   ]
  },
  {
   "cell_type": "code",
   "execution_count": 5,
   "metadata": {
    "id": "TpmPoj7uOVHv"
   },
   "outputs": [
    {
     "name": "stdout",
     "output_type": "stream",
     "text": [
      "Tokenized prompt: ['<|endoftext|>', 'Once', ' upon', ' a', ' time', ',', ' there', ' was', ' a', ' little', ' girl', ' named', ' Lily', '.', ' She', ' lived', ' in', ' a', ' big', ',', ' happy', ' little', ' town', '.', ' On', ' her', ' big', ' adventure', ',']\n",
      "Tokenized answer: [' Lily']\n"
     ]
    },
    {
     "data": {
      "text/html": [
       "<pre style=\"white-space:pre;overflow-x:auto;line-height:normal;font-family:Menlo,'DejaVu Sans Mono',consolas,'Courier New',monospace\">Performance on answer token:\n",
       "<span style=\"font-weight: bold\">Rank: </span><span style=\"color: #008080; text-decoration-color: #008080; font-weight: bold\">1</span><span style=\"font-weight: bold\">        Logit: </span><span style=\"color: #008080; text-decoration-color: #008080; font-weight: bold\">18.82</span><span style=\"font-weight: bold\"> Prob:  </span><span style=\"color: #008080; text-decoration-color: #008080; font-weight: bold\">8.62</span><span style=\"font-weight: bold\">% Token: | Lily|</span>\n",
       "</pre>\n"
      ],
      "text/plain": [
       "Performance on answer token:\n",
       "\u001b[1mRank: \u001b[0m\u001b[1;36m1\u001b[0m\u001b[1m        Logit: \u001b[0m\u001b[1;36m18.82\u001b[0m\u001b[1m Prob:  \u001b[0m\u001b[1;36m8.62\u001b[0m\u001b[1m% Token: | Lily|\u001b[0m\n"
      ]
     },
     "metadata": {},
     "output_type": "display_data"
    },
    {
     "name": "stdout",
     "output_type": "stream",
     "text": [
      "Top 0th token. Logit: 21.00 Prob: 76.18% Token: | she|\n",
      "Top 1th token. Logit: 18.82 Prob:  8.62% Token: | Lily|\n",
      "Top 2th token. Logit: 18.16 Prob:  4.45% Token: | there|\n",
      "Top 3th token. Logit: 17.00 Prob:  1.39% Token: | the|\n",
      "Top 4th token. Logit: 16.76 Prob:  1.10% Token: | her|\n",
      "Top 5th token. Logit: 16.61 Prob:  0.94% Token: | all|\n",
      "Top 6th token. Logit: 16.56 Prob:  0.90% Token: | everyone|\n",
      "Top 7th token. Logit: 16.04 Prob:  0.53% Token: | things|\n",
      "Top 8th token. Logit: 16.04 Prob:  0.53% Token: | they|\n",
      "Top 9th token. Logit: 16.03 Prob:  0.53% Token: | people|\n"
     ]
    },
    {
     "data": {
      "text/html": [
       "<pre style=\"white-space:pre;overflow-x:auto;line-height:normal;font-family:Menlo,'DejaVu Sans Mono',consolas,'Courier New',monospace\"><span style=\"font-weight: bold\">Ranks of the answer tokens:</span> <span style=\"font-weight: bold\">[(</span><span style=\"color: #008000; text-decoration-color: #008000\">' Lily'</span>, <span style=\"color: #008080; text-decoration-color: #008080; font-weight: bold\">1</span><span style=\"font-weight: bold\">)]</span>\n",
       "</pre>\n"
      ],
      "text/plain": [
       "\u001b[1mRanks of the answer tokens:\u001b[0m \u001b[1m[\u001b[0m\u001b[1m(\u001b[0m\u001b[32m' Lily'\u001b[0m, \u001b[1;36m1\u001b[0m\u001b[1m)\u001b[0m\u001b[1m]\u001b[0m\n"
      ]
     },
     "metadata": {},
     "output_type": "display_data"
    }
   ],
   "source": [
    "from transformer_lens.utils import test_prompt\n",
    "\n",
    "# Test the model with a prompt\n",
    "test_prompt(\n",
    "    \"Once upon a time, there was a little girl named Lily. She lived in a big, happy little town. On her big adventure,\",\n",
    "    \" Lily\",\n",
    "    model,\n",
    "    prepend_space_to_answer=False,\n",
    ")"
   ]
  },
  {
   "cell_type": "markdown",
   "metadata": {
    "id": "jGzOvReDOVHv"
   },
   "source": [
    "In the output above, we see that the model assigns ~ 70% probability to \"she\" being the next token, and a 13% chance to \" Lily\" being the next token. Other names like Lucy or Anna are not highly ranked."
   ]
  },
  {
   "cell_type": "markdown",
   "metadata": {
    "id": "QH8YOZOzOVHv"
   },
   "source": [
    "### Exploring Model Capabilities with Log Probs"
   ]
  },
  {
   "cell_type": "markdown",
   "metadata": {
    "id": "50mqTBihOVHw"
   },
   "source": [
    "Looking at token ranking for a single prompt is interesting, but a much higher through way to understand models is to look at token log probs for all tokens in text. We can use the `circuits_vis` package to get a nice visualization where we can see tokenization, and hover to get the top5 tokens by log probability. Darker tokens are tokens where the model assigned a higher probability to the actual next token."
   ]
  },
  {
   "cell_type": "code",
   "execution_count": 6,
   "metadata": {
    "id": "Tic0RCUpOVHw"
   },
   "outputs": [
    {
     "data": {
      "text/html": [
       "<div id=\"circuits-vis-1e1fb544-c05e\" style=\"margin: 15px 0;\"/>\n",
       "    <script crossorigin type=\"module\">\n",
       "    import { render, TokenLogProbs } from \"https://unpkg.com/circuitsvis@1.43.3/dist/cdn/esm.js\";\n",
       "    render(\n",
       "      \"circuits-vis-1e1fb544-c05e\",\n",
       "      TokenLogProbs,\n",
       "      {\"prompt\": [\"<|endoftext|>\", \"Hi\", \",\", \" how\", \" are\", \" you\", \" doing\", \" this\", \"?\", \" I\", \"'m\", \" really\", \" enjoying\", \" your\", \" posts\"], \"topKLogProbs\": [[-0.020238211378455162, -6.104499340057373, -7.07031774520874, -7.0734992027282715, -7.178887844085693, -7.389688968658447, -7.5253214836120605, -7.5885844230651855, -7.763057231903076, -8.224310874938965], [-1.1883924007415771, -3.468374013900757, -3.480834722518921, -3.489612340927124, -3.5000312328338623, -3.554372549057007, -4.017881393432617, -4.030546188354492, -4.29817008972168, -4.418172836303711], [-2.9201467037200928, -3.379483938217163, -3.42667555809021, -3.5317628383636475, -3.956163167953491, -4.256056785583496, -4.443937301635742, -4.444847106933594, -4.55998420715332, -4.583312034606934], [-0.9917550086975098, -2.928671360015869, -3.2575249671936035, -3.3179821968078613, -3.474050998687744, -3.6419053077697754, -3.8675084114074707, -3.8686366081237793, -3.891706943511963, -4.005289554595947], [-0.03712337464094162, -4.683348178863525, -4.972263813018799, -5.854275226593018, -5.942129611968994, -6.388041019439697, -6.3940815925598145, -6.498571872711182, -6.593410968780518, -7.869239330291748], [-0.23486089706420898, -2.335435390472412, -2.947488307952881, -5.05280065536499, -5.078576564788818, -5.102746486663818, -5.116326808929443, -5.737273693084717, -5.768457889556885, -5.893768787384033], [-0.4488537907600403, -2.0767014026641846, -3.4335777759552, -3.6450817584991455, -3.703374147415161, -4.04626989364624, -4.09699010848999, -4.209771633148193, -4.518968105316162, -4.961883068084717], [-0.4609423875808716, -2.737759590148926, -3.1589136123657227, -3.686802864074707, -4.416447639465332, -4.4485368728637695, -4.571950912475586, -4.669163703918457, -4.695381164550781, -4.748217582702637], [-0.9866108894348145, -1.834972858428955, -2.4600300788879395, -2.5115818977355957, -3.1156277656555176, -3.4194884300231934, -3.5203728675842285, -3.804985523223877, -4.003084659576416, -4.258266925811768], [-1.309201955795288, -1.6338860988616943, -1.7868096828460693, -2.631620168685913, -3.460284948348999, -3.6158368587493896, -4.020042419433594, -4.093284606933594, -4.177455902099609, -4.309236526489258], [-1.9952359199523926, -2.5565381050109863, -2.6455531120300293, -2.8948330879211426, -3.1104397773742676, -3.3945584297180176, -3.731112003326416, -3.8203377723693848, -3.967897891998291, -4.026362895965576], [-1.0431069135665894, -1.9594658613204956, -3.050786018371582, -3.4214906692504883, -3.480128288269043, -3.4898386001586914, -3.6019983291625977, -4.3325090408325195, -4.492426872253418, -4.517632484436035], [-1.5123939514160156, -2.020273208618164, -2.223285675048828, -2.249319076538086, -3.376523971557617, -3.921701431274414, -3.9798316955566406, -4.199253082275391, -4.265369415283203, -4.661584854125977], [-3.188746213912964, -3.1920535564422607, -3.425220251083374, -3.494191884994507, -3.7325990200042725, -3.7353131771087646, -3.735707998275757, -3.83396315574646, -4.233701705932617, -4.265703201293945]], \"topKTokens\": [[\"\\n\", \",\", \"Words\", \"Summary\", \"\\n\\n\", \"<|endoftext|>\", \" \", \"Features\", \"Random\", \" the\"], [\",\", \" Tim\", \" bird\", \"!\", \" little\", \" Lily\", \" Tom\", \"!\\\"\", \" Max\", \" tree\"], [\" cat\", \" a\", \" bird\", \" little\", \" I\", \"\\n\", \" dog\", \" but\", \" frog\", \" sw\"], [\" are\", \" I\", \" was\", \" do\", \" fast\", \" big\", \" did\", \" to\", \" he\", \" old\"], [\" you\", \" we\", \" they\", \" the\", \" Lily\", \" your\", \" I\", \" Tim\", \" friends\", \" those\"], [\"?\\\"\", \" today\", \"?\", \" and\", \".\", \",\", \" doing\", \" going\", \" up\", \"?\\\".\"], [\"?\\\"\", \" this\", \" today\", \"?\", \" here\", \" a\", \" it\", \" these\", \".\", \" in\"], [\"?\\\"\", \"?\", \" great\", \" so\", \" job\", \" puzzle\", \" task\", \" very\", \".\", \" amazing\"], [\"\\ufffd\", \" You\", \" I\", \" It\", \" We\", \" Can\", \"\\n\", \" This\", \" Do\", \" Are\"], [\"'m\", \" am\", \" want\", \" like\", \" know\", \" have\", \" love\", \" can\", \" just\", \" hope\"], [\" a\", \" so\", \" very\", \" trying\", \" going\", \" an\", \" looking\", \" just\", \" making\", \" playing\"], [\" good\", \" hungry\", \" enjoying\", \" a\", \" tired\", \" proud\", \" happy\", \" excited\", \" busy\", \" glad\"], [\" the\", \" it\", \" this\", \" my\", \" a\", \" your\", \" playing\", \" some\", \" these\", \" myself\"], [\" meal\", \" food\", \" day\", \" ice\", \" sandwich\", \" delicious\", \" new\", \" dance\", \" cake\", \" time\"]], \"correctTokenRank\": [1718, 0, 675, 0, 0, 6, 1, 1, 2, 0, 23, 2, 5, 10036], \"correctTokenLogProb\": [-13.81495189666748, -1.1883924007415771, -8.445568084716797, -0.9917550086975098, -0.03712337464094162, -5.116326808929443, -2.0767014026641846, -2.737759590148926, -2.4600300788879395, -1.309201955795288, -4.8605570793151855, -3.050786018371582, -3.921701431274414, -17.039506912231445]}\n",
       "    )\n",
       "    </script>"
      ],
      "text/plain": [
       "<circuitsvis.utils.render.RenderedHTML at 0x2a7a1a9bda0>"
      ]
     },
     "execution_count": 6,
     "metadata": {},
     "output_type": "execute_result"
    }
   ],
   "source": [
    "import circuitsvis as cv  # optional dep, install with pip install circuitsvis\n",
    "\n",
    "# Let's make a longer prompt and see the log probabilities of the tokens\n",
    "example_prompt = \"\"\"Hi, how are you doing this? I'm really enjoying your posts\"\"\"\n",
    "logits, cache = model.run_with_cache(example_prompt)\n",
    "cv.logits.token_log_probs(\n",
    "    model.to_tokens(example_prompt),\n",
    "    model(example_prompt)[0].log_softmax(dim=-1),\n",
    "    model.to_string,\n",
    ")\n",
    "# hover on the output to see the result."
   ]
  },
  {
   "cell_type": "markdown",
   "metadata": {
    "id": "lhGIl3YbOVHw"
   },
   "source": [
    "Let's combine `model.generate` and the token log probs visualization to see the log probs on text generated by the model. Note that we can play with the temperature and this should sample less likely trajectories according to the model. I've increased the maximum number of tokens in order to get a full story.\n",
    "\n",
    "Some things to explore:\n",
    "- Which tokens does the model assign high probability to? Can you see how the model should know which word comes next?\n",
    "- What happens if you increase / decrease the temperature?\n",
    "- Do the rankings of tokens seem sensible to you? What about where the model doesn't assign a high probability to the token which came next?"
   ]
  },
  {
   "cell_type": "code",
   "execution_count": 7,
   "metadata": {
    "id": "Nikp2ASlOVHw"
   },
   "outputs": [
    {
     "data": {
      "application/vnd.jupyter.widget-view+json": {
       "model_id": "3d78e4756b38417e94175f2ce8828a0d",
       "version_major": 2,
       "version_minor": 0
      },
      "text/plain": [
       "  0%|          | 0/200 [00:00<?, ?it/s]"
      ]
     },
     "metadata": {},
     "output_type": "display_data"
    },
    {
     "data": {
      "text/html": [
       "<div id=\"circuits-vis-641ad8a2-39dc\" style=\"margin: 15px 0;\"/>\n",
       "    <script crossorigin type=\"module\">\n",
       "    import { render, TokenLogProbs } from \"https://unpkg.com/circuitsvis@1.43.3/dist/cdn/esm.js\";\n",
       "    render(\n",
       "      \"circuits-vis-641ad8a2-39dc\",\n",
       "      TokenLogProbs,\n",
       "      {\"prompt\": [\"<|endoftext|>\", \"Once\", \" upon\", \" a\", \" time\", \",\", \" there\", \" was\", \" a\", \" colorful\", \" bird\", \".\", \" It\", \" settled\", \" in\", \" the\", \" garden\", \" and\", \" found\", \" some\", \" herbs\", \" to\", \" count\", \" them\", \"!\", \"\\n\", \"\\n\", \"The\", \" bird\", \" flew\", \" away\", \" with\", \" the\", \" colorful\", \" herbs\", \" and\", \" they\", \" were\", \" so\", \" excited\", \".\", \" They\", \" were\", \" filled\", \" with\", \" surprise\", \"!\", \" The\", \" colorful\", \" bird\", \" family\", \" was\", \" so\", \" excited\", \" and\", \" he\", \" started\", \" counting\", \" around\", \" the\", \" garden\", \" even\", \" more\", \".\", \"\\n\", \"\\n\", \"The\", \" family\", \" soon\", \" realized\", \" that\", \" they\", \" were\", \" happy\", \" they\", \" could\", \" count\", \" how\", \" many\", \" herbs\", \" they\", \" had\", \" found\", \".\", \" The\", \" little\", \" bird\", \" and\", \" the\", \" family\", \" had\", \" a\", \" wonderful\", \" time\", \" together\", \".\", \" \", \"\\n\", \"\\n\", \"They\", \" all\", \" laughed\", \" and\", \" ate\", \" their\", \" y\", \"ummy\", \" herbs\", \" together\", \".\", \" From\", \" then\", \" on\", \",\", \" the\", \" family\", \" was\", \" more\", \" careful\", \" with\", \" the\", \" colorful\", \" herbs\", \" they\", \" found\", \",\", \" because\", \" they\", \" each\", \" take\", \" one\", \" and\", \" become\", \" even\", \" more\", \" beautiful\", \".\", \"\\n\", \"<|endoftext|>\", \" stood\", \" there\", \" in\", \" calm\", \" and\", \" happy\", \" counting\", \" the\", \" herbs\", \" together\", \" the\", \" best\", \" surprises\", \" ever\", \"!\", \"\\n\", \"<|endoftext|>\", \" at\", \" the\", \" end\", \" of\", \" the\", \" garden\", \" for\", \" many\", \" years\", \" and\", \" is\", \" very\", \" happy\", \" to\", \" have\", \" had\", \" a\", \" sister\", \" who\", \" helped\", \" him\", \" make\", \" his\", \" garden\", \" so\", \" big\", \" and\", \" pretty\", \".\", \"\\n\", \"Summary\", \":\", \" A\", \" cute\", \" little\", \" da\", \"isy\", \" in\", \" a\", \" big\", \" garden\", \" with\", \" many\", \" other\", \" colorful\", \" herbs\", \",\", \" and\", \" his\"], \"topKLogProbs\": [[-0.020238211378455162, -6.104502201080322, -7.070323467254639, -7.0734944343566895, -7.178883075714111, -7.389688968658447, -7.5253214836120605, -7.58858060836792, -7.763059139251709, -8.224315643310547], [-0.3724912703037262, -1.827527403831482, -4.306137561798096, -4.838796138763428, -4.989407062530518, -5.111730098724365, -5.187065601348877, -5.2506022453308105, -5.6628546714782715, -5.694153308868408], [-0.005904730875045061, -5.495641231536865, -7.522151470184326, -8.20771598815918, -8.449640274047852, -8.907081604003906, -9.541239738464355, -9.691886901855469, -10.111767768859863, -10.492288589477539], [-0.011737806722521782, -6.031049728393555, -7.209379196166992, -7.243839263916016, -7.747928619384766, -7.977015495300293, -8.321718215942383, -8.357274055480957, -8.502365112304688, -8.701482772827148], [-0.1878165304660797, -1.8141745328903198, -5.624237060546875, -6.579652786254883, -7.822256088256836, -8.386685371398926, -8.499088287353516, -8.578033447265625, -8.823795318603516, -8.960563659667969], [-0.10250519216060638, -3.4027390480041504, -3.946472644805908, -5.159368991851807, -5.4111714363098145, -6.113497257232666, -6.131933689117432, -6.200318813323975, -6.424910068511963, -7.0071702003479], [-0.13827235996723175, -2.54433536529541, -3.0505971908569336, -7.775611877441406, -8.049689292907715, -8.07580852508545, -8.107087135314941, -8.18303394317627, -8.8681640625, -8.878019332885742], [-0.032130155712366104, -3.629389762878418, -7.695372581481934, -7.812202453613281, -7.890793800354004, -8.08806324005127, -8.264246940612793, -9.077343940734863, -9.536678314208984, -9.68325138092041], [-1.8430439233779907, -2.4128165245056152, -2.9644932746887207, -3.615964412689209, -4.06174898147583, -4.09079122543335, -4.206701755523682, -4.358073711395264, -4.626359462738037, -4.680700778961182], [-2.2928905487060547, -3.632566452026367, -4.102714538574219, -4.259426116943359, -4.280424118041992, -4.350740432739258, -4.442034721374512, -4.49854850769043, -4.659679412841797, -4.675882339477539], [-0.3384549915790558, -2.4829862117767334, -2.670715093612671, -3.2844274044036865, -3.8614232540130615, -3.926959753036499, -4.305164337158203, -4.597230911254883, -4.807710647583008, -5.142360687255859], [-0.7783105373382568, -1.7679708003997803, -1.895932912826538, -2.371326208114624, -3.1945416927337646, -3.8717153072357178, -3.9873273372650146, -5.024182319641113, -5.360071182250977, -5.567462921142578], [-1.041090488433838, -1.910597324371338, -2.0743298530578613, -2.453617572784424, -2.5190701484680176, -2.8950142860412598, -3.158936023712158, -4.274973392486572, -5.007225513458252, -5.102314472198486], [-0.9009910225868225, -1.1439204216003418, -2.3062758445739746, -3.0251078605651855, -4.008235454559326, -4.61836576461792, -4.734349727630615, -4.898749828338623, -4.913560390472412, -4.985143184661865], [-1.0154414176940918, -1.3085684776306152, -2.055245876312256, -3.005897045135498, -3.523738384246826, -3.96345853805542, -4.033936977386475, -4.636417865753174, -4.751784801483154, -5.002959728240967], [-2.073446750640869, -2.409956455230713, -2.4611992835998535, -2.5817627906799316, -3.0459389686584473, -3.2520012855529785, -3.3082337379455566, -3.3565621376037598, -3.5490822792053223, -3.686068058013916], [-1.1798216104507446, -1.1932798624038696, -2.1807808876037598, -3.1894402503967285, -3.2277207374572754, -3.262390613555908, -3.3068432807922363, -4.678051471710205, -4.694097995758057, -4.906599521636963], [-1.7799341678619385, -2.0184900760650635, -2.548647165298462, -2.8128855228424072, -3.29543137550354, -3.349741220474243, -3.511831521987915, -3.5772345066070557, -3.6809580326080322, -3.689880609512329], [-0.6521657705307007, -2.733119487762451, -2.8052191734313965, -2.8905768394470215, -3.2880473136901855, -3.9932990074157715, -4.074904918670654, -4.175599575042725, -4.196317195892334, -4.2988715171813965], [-2.3867483139038086, -2.435317039489746, -2.56729793548584, -2.8819475173950195, -2.916293144226074, -3.051386833190918, -3.28757381439209, -3.330082893371582, -3.943722724914551, -4.062254905700684], [-0.4520992040634155, -1.987676978111267, -2.8495965003967285, -3.1776719093322754, -3.1777291297912598, -3.7134594917297363, -4.426781177520752, -4.498434543609619, -5.492025852203369, -5.8557515144348145], [-0.4442921578884125, -2.0232162475585938, -3.239767074584961, -4.048528671264648, -4.157995223999023, -4.511770248413086, -4.55377197265625, -4.757106781005859, -4.759784698486328, -5.054689407348633], [-0.3941684365272522, -2.2258410453796387, -3.3043360710144043, -3.729684352874756, -3.835214138031006, -3.9758505821228027, -4.150804042816162, -4.179357051849365, -4.214635372161865, -4.528100490570068], [-0.08651933073997498, -4.332828521728516, -4.52958869934082, -4.66008186340332, -4.91868782043457, -4.961320877075195, -5.502202987670898, -5.621286392211914, -5.807703018188477, -6.10224723815918], [-1.5476138591766357, -1.6168315410614014, -1.7374885082244873, -2.596003293991089, -2.916428327560425, -3.0103728771209717, -3.369786024093628, -3.559494733810425, -4.401978492736816, -4.4057159423828125], [-0.1598348468542099, -2.664401054382324, -4.282500267028809, -4.331782341003418, -4.663620948791504, -4.781133651733398, -5.062294960021973, -5.226911544799805, -6.503109931945801, -6.638242721557617], [-0.4154694974422455, -1.9534696340560913, -3.440446138381958, -4.140452861785889, -4.4721550941467285, -4.746194362640381, -4.783959865570068, -4.785325527191162, -4.883389949798584, -4.916961193084717], [-0.42870500683784485, -3.158822774887085, -3.556354284286499, -3.7466866970062256, -4.122751235961914, -4.2360687255859375, -4.479852676391602, -4.495946884155273, -4.514287948608398, -4.591892242431641], [-0.7228471636772156, -2.9894258975982666, -3.184114694595337, -3.734384775161743, -3.840557336807251, -3.9041788578033447, -3.962219476699829, -4.079132080078125, -4.117870330810547, -4.361419677734375], [-1.5615614652633667, -1.7429026365280151, -2.1781692504882812, -2.319272994995117, -2.3632164001464844, -2.425161361694336, -2.856199264526367, -3.8390674591064453, -4.045248031616211, -4.520072937011719], [-0.7755047678947449, -1.599384069442749, -2.642066717147827, -2.9088151454925537, -3.2289083003997803, -3.521596670150757, -3.648528814315796, -3.888129949569702, -4.736112117767334, -4.7668375968933105], [-0.27598097920417786, -2.1062746047973633, -3.8461217880249023, -4.1686811447143555, -4.436657905578613, -4.676295280456543, -4.704463005065918, -5.426026344299316, -5.650219917297363, -5.699197769165039], [-0.39531058073043823, -2.6953461170196533, -4.715636253356934, -4.717665672302246, -4.789043426513672, -4.950056076049805, -4.972853660583496, -5.083934783935547, -5.1232194900512695, -5.287436485290527], [-0.6758885979652405, -2.671520709991455, -2.6944947242736816, -3.210585117340088, -3.793257236480713, -4.042276859283447, -4.495569705963135, -4.578477382659912, -4.741049289703369, -4.832783222198486], [-1.0024867057800293, -1.2670645713806152, -1.5390315055847168, -2.7423110008239746, -4.618087291717529, -4.811950206756592, -4.971673488616943, -5.293752193450928, -5.357675075531006, -5.759894847869873], [-1.8553905487060547, -2.428741455078125, -2.6576194763183594, -2.979245185852051, -3.378298759460449, -3.6623306274414062, -3.6992311477661133, -4.0669355392456055, -4.1473541259765625, -4.1601667404174805], [-1.6050331592559814, -2.087102174758911, -3.1741268634796143, -3.182114839553833, -3.3118984699249268, -3.432997941970825, -3.545987367630005, -3.6092827320098877, -3.6464970111846924, -3.7702476978302], [-1.0247074365615845, -1.5798717737197876, -2.368264675140381, -2.8584837913513184, -3.9251227378845215, -4.279369831085205, -4.316770076751709, -4.507849216461182, -4.50907564163208, -4.6157307624816895], [-0.6738287806510925, -1.9414279460906982, -2.5493972301483154, -3.060803174972534, -3.1589572429656982, -4.122162342071533, -4.2841572761535645, -4.442894458770752, -4.606396198272705, -4.677078723907471], [-0.7031168341636658, -1.3603243827819824, -1.698310375213623, -3.9796805381774902, -4.0122504234313965, -4.9598708152771, -5.072537899017334, -5.181334972381592, -5.968024730682373, -6.46008825302124], [-0.5960964560508728, -1.9119210243225098, -2.637726306915283, -3.2555012702941895, -3.7198967933654785, -4.370077610015869, -4.639524936676025, -4.707090854644775, -4.774290561676025, -4.784936428070068], [-2.3861780166625977, -2.552659034729004, -3.10825252532959, -3.110610008239746, -3.2633790969848633, -3.379063606262207, -3.433884620666504, -3.681790351867676, -3.6991586685180664, -3.718388557434082], [-0.9659863710403442, -2.3946399688720703, -2.8660411834716797, -2.974252700805664, -3.6735668182373047, -3.757077217102051, -4.03834342956543, -4.083725929260254, -4.102521896362305, -4.119442939758301], [-0.04346547648310661, -3.7811172008514404, -4.82589054107666, -5.448948860168457, -6.456757545471191, -7.385678291320801, -7.5534868240356445, -7.721335411071777, -7.8529558181762695, -7.921719551086426], [-0.7733333110809326, -2.537773847579956, -2.8648593425750732, -2.8665759563446045, -3.2522075176239014, -3.2898356914520264, -3.655726194381714, -4.114188194274902, -4.217486381530762, -4.482588768005371], [-1.041022539138794, -1.2174274921417236, -1.987544298171997, -2.611598253250122, -3.529078722000122, -4.463870048522949, -4.600640296936035, -4.785475730895996, -4.8995256423950195, -5.051802635192871], [-0.8257247805595398, -1.571681261062622, -2.547053575515747, -3.1424849033355713, -3.888611078262329, -4.219600677490234, -4.631618499755859, -4.7535905838012695, -4.791299819946289, -4.799650192260742], [-1.0167267322540283, -1.4913628101348877, -2.4648563861846924, -2.561927080154419, -3.5178864002227783, -4.331179618835449, -4.335385322570801, -4.368769645690918, -4.503556251525879, -4.552833557128906], [-0.25959354639053345, -1.7374491691589355, -4.394576549530029, -4.753463268280029, -5.053025722503662, -6.175744533538818, -6.422088146209717, -6.6356940269470215, -6.796403408050537, -7.000285625457764], [-1.4399354457855225, -1.6230580806732178, -2.5178239345550537, -2.805579900741577, -3.5446507930755615, -3.64005446434021, -4.033477783203125, -4.087009429931641, -4.153842926025391, -4.510082244873047], [-1.6356362104415894, -1.8183659315109253, -1.8848446607589722, -2.687239646911621, -3.619448661804199, -3.6249094009399414, -4.060198783874512, -4.168854713439941, -4.209254264831543, -4.285983085632324], [-0.7634258270263672, -2.556886672973633, -2.6003265380859375, -3.2159366607666016, -3.2989368438720703, -3.4440956115722656, -3.5571632385253906, -3.8124256134033203, -4.210260391235352, -4.599729537963867], [-0.18276992440223694, -2.6172964572906494, -3.6864664554595947, -4.1459503173828125, -4.641445159912109, -4.674018859863281, -5.0465087890625, -5.363048553466797, -5.579273223876953, -6.415712356567383], [-1.4436023235321045, -1.5336787700653076, -1.562565565109253, -2.107598066329956, -2.3177154064178467, -3.0155742168426514, -4.152737617492676, -4.2481279373168945, -4.6575212478637695, -5.446478843688965], [-1.536163091659546, -2.078864812850952, -2.4355695247650146, -2.7623307704925537, -2.9423043727874756, -3.063506841659546, -3.4321095943450928, -3.7231290340423584, -3.7737233638763428, -3.969878911972046], [-2.054224729537964, -2.290877103805542, -2.3660647869110107, -2.9384982585906982, -3.088078260421753, -3.1380488872528076, -3.6796786785125732, -3.7850711345672607, -4.0179643630981445, -4.097104072570801], [-0.7763640284538269, -1.041884183883667, -3.2204463481903076, -3.7695605754852295, -4.4619622230529785, -4.663527011871338, -4.755131244659424, -4.789434909820557, -4.920668125152588, -5.599201679229736], [-0.8179128766059875, -2.168037176132202, -2.288360357284546, -2.5588338375091553, -2.833534002304077, -3.866952657699585, -3.9099652767181396, -4.13001823425293, -4.326175689697266, -4.360010147094727], [-0.35790854692459106, -2.284019708633423, -2.5303385257720947, -3.6794607639312744, -3.6873953342437744, -4.21470308303833, -4.8393120765686035, -5.017195224761963, -5.253660678863525, -5.51024866104126], [-0.9580238461494446, -0.9657657742500305, -3.1896045207977295, -3.301039457321167, -3.4735267162323, -3.853253126144409, -4.659372329711914, -5.280478477478027, -5.434513092041016, -5.596776008605957], [-0.2846352159976959, -2.6098363399505615, -2.862966299057007, -3.628894567489624, -3.687347173690796, -4.330712795257568, -4.507888317108154, -5.511312007904053, -5.639007091522217, -5.82825231552124], [-0.06097876653075218, -3.503697156906128, -5.354277610778809, -5.525551795959473, -6.118622779846191, -6.2289228439331055, -6.508271217346191, -6.539559364318848, -6.554434776306152, -6.626521110534668], [-0.13397683203220367, -2.7706689834594727, -4.556626319885254, -4.8474225997924805, -5.039340019226074, -5.158394813537598, -5.595778465270996, -5.815484046936035, -5.849610328674316, -5.972685813903809], [-0.4567020535469055, -2.0226733684539795, -2.6013267040252686, -2.837670087814331, -3.8045966625213623, -4.1447649002075195, -5.020108222961426, -5.164860725402832, -5.23911190032959, -5.3329057693481445], [-0.028690367937088013, -4.86018180847168, -5.562953948974609, -5.62116813659668, -5.777824401855469, -6.6720733642578125, -7.12814998626709, -7.1552581787109375, -7.322024345397949, -7.351846694946289], [-0.9111358523368835, -2.1381313800811768, -2.3727619647979736, -2.955134630203247, -3.1488144397735596, -3.17546010017395, -3.270106554031372, -3.858966112136841, -4.022835731506348, -4.184815406799316], [-0.6746280789375305, -1.8561198711395264, -3.20520281791687, -3.343897581100464, -3.372795820236206, -3.8684775829315186, -4.055994987487793, -4.34481143951416, -4.374045372009277, -4.381869316101074], [-1.828404188156128, -2.213696241378784, -2.835007429122925, -2.8831756114959717, -3.063929319381714, -3.1784865856170654, -3.198031187057495, -3.470688581466675, -3.4778850078582764, -3.9154860973358154], [-1.736850380897522, -1.738355278968811, -2.0873522758483887, -2.192737102508545, -2.95314359664917, -3.1876559257507324, -3.458495616912842, -3.717467784881592, -3.82466459274292, -3.910987377166748], [-0.29462960362434387, -3.0087027549743652, -3.0670218467712402, -3.102487087249756, -3.232919216156006, -3.641902446746826, -5.238236904144287, -5.300870418548584, -5.420802593231201, -5.5135722160339355], [-0.6409587264060974, -2.2612247467041016, -2.5830726623535156, -3.059915542602539, -3.4463272094726562, -3.8477420806884766, -4.097377777099609, -4.190036773681641, -4.244115829467773, -4.636167526245117], [-0.9470147490501404, -1.1033506393432617, -2.5059900283813477, -3.020928382873535, -3.531601905822754, -4.036919593811035, -4.107661247253418, -4.4178056716918945, -4.878666877746582, -4.966568946838379], [-1.4756817817687988, -2.937504291534424, -3.201653003692627, -3.20591402053833, -3.4434399604797363, -3.630619525909424, -3.7602715492248535, -3.8218750953674316, -3.888153553009033, -3.942781925201416], [-1.1970263719558716, -1.6038352251052856, -2.380000114440918, -3.1573972702026367, -3.295893669128418, -3.4584341049194336, -3.4910993576049805, -3.510939598083496, -3.818099021911621, -3.9474782943725586], [-0.6203460693359375, -2.0047874450683594, -2.276325225830078, -2.8080062866210938, -4.030784606933594, -4.123600006103516, -4.452596664428711, -4.62067985534668, -5.322882652282715, -5.323878288269043], [-1.6237926483154297, -1.947042465209961, -2.2141361236572266, -2.6095046997070312, -2.721637725830078, -3.3092708587646484, -3.5152759552001953, -3.974527359008789, -4.077146530151367, -4.088066101074219], [-1.5762308835983276, -1.8733900785446167, -2.5183868408203125, -2.6112022399902344, -2.7069854736328125, -2.714590072631836, -3.2403488159179688, -3.472780227661133, -3.6905765533447266, -3.7537307739257812], [-0.017096756026148796, -4.4561052322387695, -7.599799156188965, -7.683941841125488, -7.83908748626709, -7.918583869934082, -7.9891462326049805, -8.398856163024902, -8.69461727142334, -8.731919288635254], [-0.9527020454406738, -2.6096749305725098, -2.616569995880127, -2.9274258613586426, -3.055361270904541, -3.4463438987731934, -3.7792506217956543, -3.8220391273498535, -4.0923895835876465, -4.301235675811768], [-0.46685805916786194, -1.9322682619094849, -2.8599493503570557, -3.760633707046509, -4.061731338500977, -4.438192367553711, -4.447660446166992, -4.66535758972168, -4.856134414672852, -5.210199356079102], [-0.5668800473213196, -1.6348998546600342, -2.96247935295105, -3.0769965648651123, -3.299301862716675, -4.493912696838379, -5.182032585144043, -5.469109535217285, -5.501416206359863, -5.635664939880371], [-2.025087833404541, -2.189884662628174, -2.2940945625305176, -2.628859043121338, -3.0038418769836426, -3.020294666290283, -3.0499539375305176, -3.2297310829162598, -3.4065518379211426, -3.5861477851867676], [-0.2185751497745514, -2.6078383922576904, -3.3597915172576904, -3.6167800426483154, -3.8645389080047607, -5.1448750495910645, -5.3078789710998535, -5.377161502838135, -5.966101169586182, -6.019480228424072], [-1.1462340354919434, -1.772998332977295, -2.1751513481140137, -2.322169780731201, -3.1240057945251465, -3.6027770042419434, -3.653632640838623, -3.9319281578063965, -4.011306285858154, -4.03963041305542], [-1.6811206340789795, -2.0533244609832764, -2.1510512828826904, -2.17121958732605, -2.2934978008270264, -2.6552894115448, -4.341078758239746, -4.374795913696289, -4.421947479248047, -4.69376277923584], [-0.8252954483032227, -1.0625848770141602, -2.2700891494750977, -4.421578407287598, -4.659329414367676, -4.729464530944824, -5.177430152893066, -5.4382123947143555, -5.466696739196777, -5.510001182556152], [-0.9996122121810913, -3.0611777305603027, -3.10176420211792, -3.1902194023132324, -3.475757122039795, -3.6168665885925293, -3.6401562690734863, -3.643838405609131, -4.0375285148620605, -4.242866039276123], [-0.6705948114395142, -2.1528754234313965, -2.8240561485290527, -3.484915256500244, -3.519321918487549, -3.6986050605773926, -3.913815975189209, -4.040451526641846, -4.353188991546631, -4.671459674835205], [-0.3977455198764801, -2.7817444801330566, -3.563826084136963, -3.834415912628174, -3.893881320953369, -4.1864705085754395, -4.305375576019287, -4.47567892074585, -4.8312458992004395, -4.874197483062744], [-2.049208879470825, -2.0498669147491455, -2.155593156814575, -3.2320244312286377, -3.245328187942505, -3.313308000564575, -3.3139069080352783, -3.6314499378204346, -3.662116289138794, -3.7797977924346924], [-0.5636860728263855, -2.2831456661224365, -2.321693181991577, -4.035163402557373, -4.136958599090576, -4.254825115203857, -4.4606852531433105, -4.605956554412842, -4.607686519622803, -4.644265651702881], [-1.0487000942230225, -1.498227834701538, -2.289754629135132, -2.5926568508148193, -3.4581544399261475, -3.686361074447632, -3.8665177822113037, -3.939260244369507, -4.153430938720703, -4.388044357299805], [-0.28721797466278076, -2.0613880157470703, -3.4233932495117188, -4.065011978149414, -4.446146011352539, -4.643871307373047, -4.968168258666992, -5.488864898681641, -5.591604232788086, -5.604316711425781], [-1.3749194145202637, -1.5040526390075684, -2.7041468620300293, -2.813899517059326, -2.86964750289917, -2.9138598442077637, -3.402797222137451, -3.547654628753662, -3.8656420707702637, -3.888131618499756], [-0.6635022163391113, -2.002394199371338, -2.1074395179748535, -2.405022144317627, -2.910444736480713, -3.6997437477111816, -4.824121952056885, -5.067102909088135, -5.550428867340088, -5.5945305824279785], [-0.7514634132385254, -1.697481632232666, -2.4090752601623535, -2.6816601753234863, -2.746046543121338, -3.6666131019592285, -3.9922757148742676, -4.668543338775635, -4.9117112159729, -5.051811695098877], [-0.010336438193917274, -5.737337589263916, -6.415621280670166, -6.451784610748291, -6.672932147979736, -7.7790398597717285, -7.886587619781494, -8.534276008605957, -8.616677284240723, -8.77328872680664], [-0.09374506026506424, -3.089611768722534, -3.786097288131714, -5.5031232833862305, -5.713526725769043, -6.314303398132324, -6.318791389465332, -6.337969779968262, -6.359774589538574, -6.815566062927246], [-0.3759502172470093, -2.031548023223877, -3.239840030670166, -3.5757927894592285, -3.7191262245178223, -3.947563648223877, -4.417944431304932, -4.760647296905518, -5.153496265411377, -5.33579683303833], [-1.7291795015335083, -2.433073043823242, -3.0112991333007812, -3.0134353637695312, -3.1131668090820312, -3.2238101959228516, -3.247770309448242, -3.4530982971191406, -3.5573501586914062, -3.7452259063720703], [-2.091231346130371, -2.304274559020996, -2.39974308013916, -2.633885383605957, -2.959671974182129, -2.965121269226074, -2.9758214950561523, -3.2565736770629883, -3.3687963485717773, -3.370133399963379], [-0.17659710347652435, -2.530900478363037, -3.890632152557373, -4.149423122406006, -4.573939800262451, -4.986192226409912, -5.046773433685303, -5.1865668296813965, -5.839046001434326, -5.8775553703308105], [-1.9346712827682495, -2.0914306640625, -2.454336166381836, -2.572572708129883, -2.7094058990478516, -2.743541717529297, -3.382610321044922, -3.3931713104248047, -3.5123767852783203, -3.6392650604248047], [-0.5938692092895508, -2.2430810928344727, -2.496230125427246, -3.276890754699707, -3.675753593444824, -3.8004159927368164, -3.910222053527832, -4.048224449157715, -4.085955619812012, -4.22286319732666], [-1.9537959098815918, -1.959418773651123, -2.1214518547058105, -2.3557276725769043, -2.625026226043701, -2.7725367546081543, -3.9063029289245605, -3.9659066200256348, -4.128468036651611, -4.15216588973999], [-0.0037618363276124, -6.253969669342041, -7.479813098907471, -7.807398319244385, -9.870821952819824, -10.136557579040527, -10.439688682556152, -10.976255416870117, -10.994406700134277, -11.075149536132812], [-0.4271562099456787, -2.622192144393921, -2.8479039669036865, -3.4548299312591553, -4.170290946960449, -4.2433624267578125, -4.576048851013184, -4.693357467651367, -5.175043106079102, -5.366950988769531], [-0.46514952182769775, -2.5100789070129395, -2.809845447540283, -3.2714924812316895, -3.3718457221984863, -3.4975953102111816, -3.7558388710021973, -4.185638904571533, -4.443760395050049, -4.763657093048096], [-0.23160508275032043, -2.57899808883667, -2.918921947479248, -4.02485990524292, -4.404662609100342, -4.554969310760498, -4.825942516326904, -5.384530544281006, -5.480363368988037, -6.140740871429443], [-1.2140567302703857, -1.308943510055542, -2.19732928276062, -2.9844272136688232, -3.1654937267303467, -3.432081937789917, -3.916088819503784, -3.9198386669158936, -3.9956214427948, -4.016676902770996], [-0.631994366645813, -0.7869054079055786, -5.066387176513672, -6.199962615966797, -6.741016387939453, -7.338413238525391, -7.405178070068359, -8.700360298156738, -9.12856388092041, -9.238663673400879], [-0.006691784597933292, -5.402218818664551, -7.969428062438965, -8.145880699157715, -8.250502586364746, -8.774924278259277, -9.024504661560059, -9.439403533935547, -9.46618366241455, -9.70048713684082], [-0.18662482500076294, -2.117841958999634, -3.150688409805298, -7.160111904144287, -7.441389560699463, -7.611688137054443, -7.732104778289795, -8.054306983947754, -8.154167175292969, -8.340065002441406], [-0.48881012201309204, -1.200798511505127, -3.3047471046447754, -4.018356800079346, -4.958567142486572, -5.642216205596924, -5.8645501136779785, -6.400949001312256, -6.6046462059021, -7.179020404815674], [-0.2826002836227417, -1.8171614408493042, -3.3882484436035156, -4.413492202758789, -4.923059463500977, -5.784303665161133, -6.282016754150391, -6.388576507568359, -6.448581695556641, -6.555307388305664], [-1.3335018157958984, -2.1602649688720703, -2.6925182342529297, -2.7149486541748047, -2.797147750854492, -3.0052223205566406, -3.213766098022461, -3.652191162109375, -3.81298828125, -3.9378318786621094], [-1.5977333784103394, -1.8377388715744019, -2.4860734939575195, -2.5319833755493164, -2.6822328567504883, -2.711026191711426, -2.7500200271606445, -3.3146848678588867, -3.599930763244629, -3.64127254486084], [-0.6131547689437866, -2.4878554344177246, -3.17122220993042, -3.8200182914733887, -3.8668665885925293, -3.988002300262451, -4.043729305267334, -4.316585063934326, -4.432549953460693, -4.654910564422607], [-1.2236034870147705, -1.522620439529419, -1.955765962600708, -2.148953676223755, -2.5628578662872314, -3.2144806385040283, -3.7450459003448486, -3.9290859699249268, -4.717190742492676, -5.087204933166504], [-0.5317966341972351, -2.5323898792266846, -2.700537919998169, -3.160557985305786, -3.2352020740509033, -3.289191484451294, -3.555964708328247, -4.560639381408691, -4.710634231567383, -4.831376075744629], [-0.8898067474365234, -1.4006328582763672, -2.2222251892089844, -3.5576629638671875, -4.111903190612793, -4.338953018188477, -4.455434799194336, -4.5668792724609375, -4.979506492614746, -5.024806976318359], [-0.314567506313324, -1.687631607055664, -3.7827415466308594, -4.265504837036133, -5.213708877563477, -5.530740737915039, -5.633596420288086, -5.637388229370117, -5.859386444091797, -6.0383148193359375], [-1.3189456462860107, -1.3766391277313232, -1.4825732707977295, -2.547764539718628, -2.913922071456909, -3.0491549968719482, -4.283286094665527, -4.459342002868652, -4.762358665466309, -5.450636863708496], [-0.44905686378479004, -2.8839704990386963, -2.9025728702545166, -3.425812005996704, -3.8883402347564697, -3.9628660678863525, -4.224155426025391, -4.514154434204102, -4.681852340698242, -4.68931770324707], [-0.7425170540809631, -1.4386076927185059, -2.2404532432556152, -3.0193839073181152, -3.4862914085388184, -3.6262660026550293, -4.427985668182373, -5.0667948722839355, -5.158421993255615, -5.251330852508545], [-0.335096538066864, -2.8753721714019775, -3.3379862308502197, -3.3518335819244385, -3.624094247817993, -4.68913459777832, -4.779886245727539, -4.791547775268555, -4.8558149337768555, -4.940066337585449], [-0.31590747833251953, -2.711174964904785, -2.986321449279785, -3.795098304748535, -3.920395851135254, -4.6720685958862305, -4.695599555969238, -5.074141502380371, -5.284841537475586, -5.438607215881348], [-1.6680595874786377, -1.9336121082305908, -2.1949360370635986, -2.4142086505889893, -3.0474445819854736, -3.115494966506958, -3.555739641189575, -3.816788911819458, -3.860865831375122, -3.904670000076294], [-1.3591471910476685, -2.4529218673706055, -2.690993309020996, -3.102017402648926, -3.148167610168457, -3.449671745300293, -3.477658271789551, -3.47817325592041, -3.513718605041504, -3.93770694732666], [-1.1755094528198242, -1.7500619888305664, -2.091799736022949, -2.578579902648926, -3.2586679458618164, -3.8049917221069336, -3.876215934753418, -4.116757392883301, -4.182248115539551, -4.205071449279785], [-1.2064279317855835, -2.276547908782959, -2.827645778656006, -3.2561793327331543, -3.2754626274108887, -3.3118205070495605, -3.407815456390381, -3.507688045501709, -3.614999294281006, -3.9344191551208496], [-2.2108399868011475, -2.2597157955169678, -2.604818105697632, -2.71579909324646, -2.7437894344329834, -3.272437810897827, -3.438035726547241, -3.5211408138275146, -3.5282323360443115, -3.765394926071167], [-1.0677309036254883, -1.573948860168457, -3.134182929992676, -3.479008674621582, -3.517200469970703, -3.5196332931518555, -3.5716466903686523, -3.5853919982910156, -3.6299448013305664, -3.8089704513549805], [-0.9462403059005737, -0.9569538831710815, -2.009810447692871, -2.8488969802856445, -4.610709190368652, -5.609286308288574, -5.725037574768066, -6.36173152923584, -6.427167892456055, -6.609458923339844], [-0.5259398221969604, -1.6572760343551636, -3.507244110107422, -3.9679489135742188, -4.172119140625, -4.542337417602539, -4.71142578125, -4.840587615966797, -4.94270133972168, -5.20960807800293], [-0.3287966549396515, -2.258314371109009, -3.0182363986968994, -3.0953867435455322, -4.1148552894592285, -4.368061542510986, -4.681553363800049, -5.459774494171143, -5.5621113777160645, -5.602224826812744], [-0.2401336431503296, -2.3710732460021973, -2.4335179328918457, -3.9262547492980957, -5.22428560256958, -6.405214786529541, -6.8654351234436035, -7.795533657073975, -7.867082118988037, -7.9612860679626465], [-0.6187976002693176, -0.9746173024177551, -2.562999963760376, -5.691685199737549, -5.831831455230713, -9.514007568359375, -9.690399169921875, -9.69228744506836, -9.889452934265137, -9.915657997131348], [-7.152555099310121e-07, -15.087677955627441, -15.92602252960205, -16.8939266204834, -17.41680335998535, -17.712932586669922, -17.877403259277344, -17.894845962524414, -18.017704010009766, -18.224803924560547], [-1.335995078086853, -1.4774898290634155, -1.9902385473251343, -2.847740650177002, -2.929670810699463, -3.437584400177002, -3.5688633918762207, -3.776184558868408, -3.863609790802002, -4.305243968963623], [-1.223427176475525, -1.3866122961044312, -1.949907660484314, -3.2972989082336426, -3.451633930206299, -4.0147624015808105, -4.291281223297119, -4.417855739593506, -4.49120569229126, -4.660900592803955], [-1.3265278339385986, -1.7089016437530518, -1.7577431201934814, -2.052783250808716, -2.7740719318389893, -3.3186981678009033, -4.029383659362793, -4.108170509338379, -4.403395652770996, -4.711806297302246], [-0.620307445526123, -1.661426067352295, -2.4800448417663574, -3.8025832176208496, -4.932389736175537, -4.970729351043701, -5.1422553062438965, -5.406074047088623, -5.554002285003662, -5.5594868659973145], [-1.6404051780700684, -2.7212653160095215, -2.981170177459717, -3.5853772163391113, -3.7050232887268066, -3.9821486473083496, -4.148016452789307, -4.189490795135498, -4.260451793670654, -4.262732982635498], [-1.9590396881103516, -2.303377151489258, -2.9462480545043945, -3.6183509826660156, -3.996725082397461, -4.138079643249512, -4.185114860534668, -4.250790596008301, -4.451302528381348, -4.452692031860352], [-1.521354079246521, -1.8800634145736694, -1.9210962057113647, -2.4555258750915527, -2.8567042350769043, -3.4928736686706543, -3.56965970993042, -3.7378039360046387, -4.0730977058410645, -4.160817623138428], [-2.717752456665039, -2.9427871704101562, -2.944573402404785, -3.416187286376953, -3.4537172317504883, -3.855921745300293, -3.8717803955078125, -3.9433422088623047, -3.943666458129883, -3.9454565048217773], [-0.5607908964157104, -2.2871952056884766, -3.102252960205078, -3.691091537475586, -3.7154178619384766, -3.7654247283935547, -3.9400157928466797, -4.148643493652344, -4.231498718261719, -4.3878326416015625], [-0.14890244603157043, -3.7995963096618652, -3.8913798332214355, -3.9471755027770996, -4.414973735809326, -4.484078884124756, -4.6423163414001465, -5.5078654289245605, -5.681682109832764, -5.923600673675537], [-0.14369358122348785, -3.887425184249878, -4.052232265472412, -4.183406352996826, -4.857982158660889, -5.330586910247803, -5.663814067840576, -5.755551815032959, -5.941269397735596, -5.943441867828369], [-1.827175498008728, -1.964535117149353, -2.1849026679992676, -2.7204461097717285, -3.087740421295166, -3.440788745880127, -3.5314879417419434, -3.897247791290283, -3.933109760284424, -4.097729206085205], [-0.7999645471572876, -1.1706081628799438, -3.192056179046631, -3.2802023887634277, -3.595578670501709, -3.601050853729248, -4.363112926483154, -4.910055637359619, -4.910802364349365, -4.935937404632568], [-0.36932578682899475, -1.2653084993362427, -4.939435958862305, -5.632316589355469, -5.708669662475586, -6.338613510131836, -6.387123107910156, -6.803035736083984, -6.947835922241211, -7.279716491699219], [-0.006506923120468855, -6.132706642150879, -6.4236249923706055, -7.022435188293457, -8.743062973022461, -8.803086280822754, -8.946782112121582, -8.99488353729248, -9.12428092956543, -9.389970779418945], [-0.14175228774547577, -2.3791885375976562, -4.035762786865234, -4.636571884155273, -4.6379241943359375, -6.349193572998047, -7.545318603515625, -9.79614543914795, -10.088720321655273, -10.8980712890625], [-1.0728830375228426e-06, -14.936959266662598, -15.834813117980957, -16.58644676208496, -17.0526065826416, -17.209630966186523, -17.461233139038086, -17.81484603881836, -17.858016967773438, -17.884891510009766], [-0.24827690422534943, -3.334866762161255, -3.6484692096710205, -3.665339708328247, -3.827430009841919, -4.664158821105957, -4.879261016845703, -5.068955421447754, -5.287670135498047, -5.375576019287109], [-0.11546589434146881, -3.922825574874878, -4.915057182312012, -5.1480913162231445, -5.4941558837890625, -5.583353042602539, -5.737452507019043, -5.852625846862793, -5.868514060974121, -5.959181785583496], [-0.07368840277194977, -3.6611270904541016, -4.165273666381836, -5.187359809875488, -5.637943267822266, -6.422365188598633, -6.712480545043945, -6.819869041442871, -7.014725685119629, -7.323122024536133], [-0.1013282760977745, -3.810854434967041, -4.003332614898682, -4.537115573883057, -4.601053714752197, -4.639339923858643, -5.087460041046143, -6.18114709854126, -6.303097248077393, -6.410272121429443], [-0.16429872810840607, -3.095384359359741, -4.012139797210693, -4.490785121917725, -5.313406467437744, -5.514950275421143, -5.574741840362549, -5.666713237762451, -5.744760036468506, -5.935037136077881], [-1.627954125404358, -1.974256157875061, -2.015529155731201, -2.885098934173584, -3.114356517791748, -3.276414394378662, -3.356595516204834, -4.066386699676514, -4.292056560516357, -4.401780605316162], [-1.4180412292480469, -1.7118701934814453, -2.0369529724121094, -2.974224090576172, -3.0385570526123047, -3.3677921295166016, -3.6856536865234375, -3.992884635925293, -4.007081031799316, -4.336184501647949], [-0.6196223497390747, -1.3459750413894653, -3.5853357315063477, -3.715449333190918, -4.03200626373291, -4.18045711517334, -4.426987648010254, -4.612950325012207, -5.171148300170898, -5.236414909362793], [-0.9138549566268921, -1.4654868841171265, -1.7970565557479858, -2.1900620460510254, -3.734224796295166, -4.493645191192627, -4.639891147613525, -5.0720696449279785, -5.2517170906066895, -5.419374942779541], [-1.7391273975372314, -3.2227776050567627, -3.2510035037994385, -3.4401323795318604, -3.5557186603546143, -3.5576469898223877, -3.776822328567505, -3.837968111038208, -3.923663377761841, -4.037907600402832], [-1.456531286239624, -1.6352193355560303, -2.0465333461761475, -2.3957231044769287, -3.5217740535736084, -3.7322041988372803, -3.919929265975952, -4.111204147338867, -4.2112627029418945, -4.4633026123046875], [-0.380415678024292, -2.1491076946258545, -3.343609571456909, -3.7184951305389404, -4.372443199157715, -4.5541486740112305, -4.663481712341309, -4.784897804260254, -5.113175392150879, -5.148959159851074], [-0.27983301877975464, -2.264953851699829, -3.239868402481079, -3.8722784519195557, -4.253074645996094, -4.400918960571289, -4.621006011962891, -5.367853164672852, -5.414585113525391, -5.483438491821289], [-0.7832710146903992, -2.5380337238311768, -2.6243221759796143, -3.5161068439483643, -3.724766969680786, -3.7449066638946533, -4.091809272766113, -4.255496025085449, -4.2586469650268555, -4.319519996643066], [-1.9326162338256836, -2.554966926574707, -2.7251806259155273, -2.900702476501465, -3.0984935760498047, -3.1702442169189453, -3.1958913803100586, -3.226102828979492, -3.3995609283447266, -3.701540946960449], [-0.9073754549026489, -1.1158620119094849, -2.4624881744384766, -2.954275131225586, -4.169849395751953, -4.284418106079102, -4.416023254394531, -4.941387176513672, -4.968910217285156, -5.134468078613281], [-1.956008791923523, -2.34088134765625, -2.3777008056640625, -2.6249542236328125, -2.9310245513916016, -3.018045425415039, -3.1484241485595703, -3.2353906631469727, -3.3505420684814453, -4.031643867492676], [-0.9502048492431641, -1.4541034698486328, -1.6333026885986328, -2.825044631958008, -3.697511672973633, -3.868824005126953, -4.978231430053711, -4.99036979675293, -5.170278549194336, -5.460178375244141], [-1.8017258644104004, -1.986238956451416, -2.017887592315674, -2.3338189125061035, -2.8968148231506348, -3.3358349800109863, -3.425449848175049, -3.4460549354553223, -3.7139687538146973, -3.7897801399230957], [-0.4868921637535095, -2.363889217376709, -2.8365797996520996, -3.0154147148132324, -3.3335013389587402, -3.873412609100342, -4.14010763168335, -4.403565883636475, -4.451463222503662, -4.608409404754639], [-0.4446708858013153, -2.93487286567688, -3.0003159046173096, -4.048514366149902, -4.161454200744629, -4.289864540100098, -4.362563133239746, -4.476761817932129, -4.505326271057129, -4.7733612060546875], [-1.6197203397750854, -2.0083770751953125, -2.1227264404296875, -2.4043731689453125, -2.486743927001953, -2.7106781005859375, -3.4131507873535156, -3.477489471435547, -3.5495758056640625, -3.768972396850586], [-1.1501374244689941, -2.4809155464172363, -3.0598225593566895, -3.254333972930908, -3.3337483406066895, -3.501009464263916, -3.564039707183838, -3.8479161262512207, -3.8941426277160645, -3.907515048980713], [-0.9692177772521973, -2.31834077835083, -2.6844048500061035, -3.0315842628479004, -3.2061028480529785, -3.3189358711242676, -3.500061511993408, -3.5638413429260254, -3.9824986457824707, -4.001099109649658], [-1.855072021484375, -2.725229263305664, -2.7814369201660156, -2.845478057861328, -2.8501548767089844, -3.1670284271240234, -3.1753273010253906, -3.199199676513672, -3.231332778930664, -3.276243209838867], [-0.6354901790618896, -1.3944547176361084, -2.4637162685394287, -3.0748021602630615, -3.6491239070892334, -3.9823110103607178, -5.162380218505859, -5.211814880371094, -5.448942184448242, -6.108240127563477], [-1.9625341892242432, -2.104837656021118, -3.1543161869049072, -3.313391923904419, -3.337608575820923, -3.598053216934204, -3.7671854496002197, -3.9563353061676025, -4.080387115478516, -4.1442718505859375], [-0.1087496280670166, -3.666282892227173, -4.02056884765625, -4.610612869262695, -4.72337532043457, -5.300191879272461, -5.528036117553711, -5.948637008666992, -5.966926574707031, -6.15117073059082], [-0.042059555649757385, -4.4665608406066895, -4.852118015289307, -5.099705219268799, -5.346449375152588, -5.397278308868408, -7.238352298736572, -7.576022624969482, -7.689381122589111, -7.935532093048096], [-0.1872163563966751, -1.964678406715393, -4.027073383331299, -5.03311014175415, -5.152122974395752, -8.97772216796875, -9.56300163269043, -10.0237455368042, -11.045940399169922, -12.449463844299316], [-2.7894584491150454e-05, -12.310843467712402, -12.8873929977417, -13.076020240783691, -13.280261993408203, -13.373394966125488, -13.632157325744629, -13.69528865814209, -13.931330680847168, -13.947078704833984], [-0.38072046637535095, -2.572715997695923, -4.188268184661865, -4.301503658294678, -4.370090961456299, -4.682070255279541, -4.790261745452881, -4.805373668670654, -5.051731586456299, -5.246448993682861], [-1.2414648532867432, -3.3047640323638916, -3.6232759952545166, -3.7106497287750244, -3.782750368118286, -3.872734308242798, -3.972547769546509, -4.038824081420898, -4.158698081970215, -4.252582550048828], [-1.0377196073532104, -2.482847213745117, -2.6118431091308594, -2.8212547302246094, -3.1855010986328125, -3.5916404724121094, -3.9457874298095703, -4.170907974243164, -4.301025390625, -4.397312164306641], [-2.3170673847198486, -2.4342453479766846, -2.533971071243286, -2.668566942214966, -2.8299877643585205, -3.2069389820098877, -3.252082109451294, -3.3332207202911377, -3.3459599018096924, -3.642512559890747], [-0.06417328119277954, -2.81669282913208, -7.598083972930908, -8.155558586120605, -8.450831413269043, -9.181614875793457, -9.257166862487793, -9.360086441040039, -9.686328887939453, -9.748936653137207], [-0.9251592755317688, -2.2893807888031006, -2.734670400619507, -3.0191762447357178, -3.4316766262054443, -3.9315106868743896, -4.126886367797852, -4.204309463500977, -4.327509880065918, -4.329276084899902], [-0.07414067536592484, -3.0157358646392822, -4.159065246582031, -6.521793365478516, -6.6209259033203125, -7.999021530151367, -8.05691146850586, -8.77464771270752, -9.004676818847656, -9.010889053344727], [-1.1378511190414429, -1.308432936668396, -1.98111093044281, -2.1827330589294434, -3.9323630332946777, -4.539248943328857, -4.8204665184021, -4.91768217086792, -5.293790340423584, -5.380700588226318], [-0.7238485813140869, -0.9395754337310791, -3.4168360233306885, -3.7767584323883057, -4.164745330810547, -4.750125885009766, -5.481229782104492, -5.890298843383789, -6.041276931762695, -6.057323455810547], [-1.460499882698059, -2.400120735168457, -3.130459785461426, -3.1563310623168945, -3.1952123641967773, -3.488875389099121, -3.6057424545288086, -3.6386613845825195, -3.811699867248535, -3.990176200866699], [-1.0741194486618042, -1.2423838376998901, -2.180032730102539, -2.768524169921875, -2.9966564178466797, -4.051872253417969, -4.071226119995117, -4.260076522827148, -4.635284423828125, -5.182949066162109], [-0.8445270657539368, -2.0980441570281982, -2.53412127494812, -2.8658206462860107, -3.7341392040252686, -3.8025691509246826, -3.95869517326355, -4.133999824523926, -4.290543556213379, -4.3201093673706055], [-0.1777295619249344, -3.0717344284057617, -3.4755029678344727, -4.240782737731934, -4.554625511169434, -4.690054893493652, -5.1048688888549805, -5.385140419006348, -5.823019981384277, -5.830916404724121], [-0.327706515789032, -1.9812195301055908, -3.4853546619415283, -4.418810844421387, -4.421769142150879, -4.509589195251465, -4.551987648010254, -4.995888710021973, -5.0074968338012695, -5.602021217346191], [-1.0660476684570312, -1.641012191772461, -1.7635116577148438, -2.782318115234375, -3.372325897216797, -3.8234596252441406, -4.230478286743164, -4.483661651611328, -4.809806823730469, -4.942775726318359], [-1.6019991636276245, -1.9422377347946167, -2.2847728729248047, -2.405658721923828, -3.1076431274414062, -3.3745555877685547, -3.495197296142578, -4.016395568847656, -4.328580856323242, -4.40202522277832], [-1.1916224956512451, -1.577263593673706, -2.893488645553589, -3.0629680156707764, -3.3233745098114014, -3.3908183574676514, -3.8183162212371826, -3.9360854625701904, -4.542165756225586, -4.5948991775512695]], \"topKTokens\": [[\"\\n\", \",\", \"Words\", \"Summary\", \"\\n\\n\", \"<|endoftext|>\", \" \", \"Features\", \"Random\", \" the\"], [\" upon\", \" there\", \",\", \" the\", \" she\", \" on\", \" he\", \" day\", \" in\", \" night\"], [\" a\", \" an\", \" the\", \" one\", \" time\", \" some\", \" upon\", \" it\", \" two\", \" something\"], [\" time\", \" day\", \" night\", \" morning\", \" week\", \" Sunday\", \" long\", \" Wednesday\", \" dark\", \" little\"], [\",\", \" there\", \" in\", \" a\", \" was\", \" upon\", \".\", \" on\", \" the\", \" lived\"], [\" there\", \" a\", \" in\", \" two\", \" the\", \" she\", \" it\", \" Jack\", \" he\", \" Sam\"], [\" was\", \" were\", \" lived\", \" are\", \" is\", \"'s\", \",\", \" a\", \" wasn\", \" had\"], [\" a\", \" an\", \" two\", \" one\", \" something\", \" some\", \" the\", \" three\", \" his\", \" Jack\"], [\" little\", \" girl\", \" boy\", \" big\", \" brave\", \" small\", \" man\", \" young\", \" kind\", \" happy\"], [\" bird\", \" girl\", \" little\", \" house\", \" box\", \" fish\", \" butterfly\", \" and\", \" car\", \",\"], [\".\", \" who\", \" named\", \" called\", \" that\", \" and\", \"c\", \",\", \" in\", \" with\"], [\" He\", \" The\", \" It\", \" She\", \" Every\", \" This\", \" His\", \" One\", \" Her\", \" Its\"], [\" was\", \" had\", \" liked\", \" lived\", \" loved\", \" wanted\", \" flew\", \" could\", \" fl\", \" sang\"], [\" in\", \" on\", \" down\", \" into\", \" its\", \" near\", \" itself\", \" under\", \" for\", \" and\"], [\" a\", \" the\", \" its\", \" for\", \" and\", \" to\", \" an\", \",\", \" her\", \" every\"], [\" tree\", \" nest\", \" sun\", \" sky\", \" middle\", \" garden\", \" sunshine\", \" shade\", \" forest\", \" grass\"], [\",\", \" and\", \".\", \" with\", \" to\", \" every\", \" for\", \" near\", \" where\", \" by\"], [\" sang\", \" enjoyed\", \" was\", \" watched\", \" it\", \" made\", \" started\", \" looked\", \" began\", \" had\"], [\" a\", \" lots\", \" the\", \" some\", \" many\", \" an\", \" something\", \" it\", \" food\", \" all\"], [\" tasty\", \" delicious\", \" y\", \" food\", \" seeds\", \" tw\", \" juicy\", \" pretty\", \" colorful\", \" sweet\"], [\".\", \" to\", \" growing\", \" that\", \",\", \" and\", \" in\", \"!\", \" for\", \" on\"], [\" eat\", \" make\", \" take\", \" enjoy\", \" help\", \" cook\", \" create\", \" use\", \" feed\", \" match\"], [\".\", \" them\", \" to\", \" with\", \" on\", \" and\", \"!\", \" the\", \" in\", \" together\"], [\".\", \" every\", \" all\", \" in\", \",\", \"!\", \" with\", \" to\", \" together\", \" for\"], [\" The\", \"\\n\", \" One\", \" Every\", \" They\", \" It\", \" \", \" There\", \" Each\", \" But\"], [\"\\n\", \"The\", \"Story\", \"One\", \"Summary\", \"Every\", \"<|endoftext|>\", \"Words\", \"He\", \"It\"], [\"The\", \"One\", \"Every\", \"Suddenly\", \"But\", \"\\\"\", \"He\", \"It\", \"M\", \"First\"], [\" bird\", \" little\", \" herbs\", \" birds\", \" bunny\", \" herb\", \" animals\", \" garden\", \" other\", \" friends\"], [\" was\", \" said\", \" flew\", \" started\", \" had\", \" asked\", \" loved\", \" and\", \" wanted\", \" looked\"], [\" around\", \" away\", \" back\", \" to\", \" down\", \" up\", \" over\", \" out\", \" high\", \" into\"], [\",\", \" and\", \" to\", \" with\", \" in\", \".\", \" happily\", \" quickly\", \" from\", \" but\"], [\" the\", \" a\", \" its\", \" it\", \" some\", \" all\", \" them\", \" her\", \" an\", \" one\"], [\" herbs\", \" herb\", \" red\", \" tomato\", \" special\", \" colorful\", \" wind\", \" food\", \" spicy\", \" flowers\"], [\" herbs\", \" herb\", \" flowers\", \" feathers\", \" leaves\", \" ch\", \" fruits\", \" tw\", \" bird\", \" pieces\"], [\".\", \" and\", \",\", \" in\", \" that\", \" for\", \" until\", \" to\", \" every\", \" from\"], [\" the\", \" was\", \" soon\", \" started\", \" began\", \" enjoyed\", \" flowers\", \" made\", \" said\", \" sang\"], [\" all\", \" were\", \" made\", \" started\", \" both\", \" smelled\", \" became\", \" began\", \" looked\", \" counted\"], [\" very\", \" so\", \" all\", \" happy\", \" both\", \" able\", \" happily\", \" everywhere\", \" soon\", \" the\"], [\" happy\", \" excited\", \" pretty\", \" beautiful\", \" sweet\", \" tasty\", \" colorful\", \" bright\", \" y\", \" colourful\"], [\".\", \"!\", \" to\", \" that\", \" about\", \" they\", \",\", \" and\", \" by\", \" for\"], [\" They\", \" The\", \" But\", \"\\n\", \" It\", \" Every\", \" She\", \" \\\"\", \" As\", \" Then\"], [\" flew\", \" started\", \" decided\", \" picked\", \" counted\", \" wanted\", \" ran\", \" ate\", \" gathered\", \" all\"], [\" so\", \" very\", \" happy\", \" all\", \" now\", \" the\", \" ready\", \" able\", \" also\", \" sure\"], [\" with\", \" up\", \" in\", \" to\", \" and\", \" out\", \",\", \" by\", \" the\", \"!\"], [\" joy\", \" the\", \" so\", \" wonder\", \" happiness\", \" all\", \" beautiful\", \" different\", \" lots\", \" fun\"], [\" and\", \"!\", \".\", \",\", \" when\", \" that\", \" -\", \" as\", \" so\", \" like\"], [\"\\n\", \" They\", \" The\", \" \", \" But\", \" Every\", \" There\", \" Together\", \" After\", \" Then\"], [\" bird\", \" herbs\", \" colorful\", \" little\", \" garden\", \" flowers\", \" birds\", \" herb\", \" surprise\", \" family\"], [\" bird\", \" herbs\", \" birds\", \" herb\", \" flowers\", \" garden\", \" things\", \" fruits\", \" feathers\", \" butterfly\"], [\" was\", \" had\", \" and\", \" flew\", \" said\", \" thanked\", \" then\", \" sang\", \" fl\", \" made\"], [\" had\", \" and\", \" was\", \" flew\", \" sang\", \" thanked\", \",\", \" showed\", \" were\", \" watched\"], [\" so\", \" very\", \" happy\", \" delighted\", \" over\", \" amazed\", \" even\", \" able\", \" thrilled\", \" ready\"], [\" happy\", \" proud\", \" excited\", \" surprised\", \" pleased\", \" delighted\", \" glad\", \" amazed\", \" grateful\", \" thrilled\"], [\" to\", \" that\", \" and\", \".\", \",\", \"!\", \" they\", \" about\", \" -\", \" she\"], [\" they\", \" started\", \" happy\", \" thanked\", \" said\", \" couldn\", \" began\", \" wanted\", \" flew\", \" quickly\"], [\" couldn\", \" wanted\", \" started\", \" flew\", \" said\", \" quickly\", \" thanked\", \" decided\", \" asked\", \" kept\"], [\" to\", \" counting\", \" jumping\", \" singing\", \" picking\", \" hopping\", \" looking\", \" flying\", \" running\", \" eating\"], [\" the\", \" them\", \".\", \" all\", \" with\", \" how\", \" again\", \" everything\", \" to\", \" together\"], [\" the\", \".\", \" them\", \" to\", \" and\", \" with\", \" each\", \",\", \" it\", \" in\"], [\" herbs\", \" garden\", \" house\", \" colorful\", \" herb\", \" bird\", \" new\", \" flowers\", \" tree\", \" sky\"], [\".\", \" with\", \",\", \" to\", \" again\", \"!\", \" and\", \" together\", \" every\", \" in\"], [\" more\", \" faster\", \" better\", \" further\", \" brighter\", \" louder\", \" higher\", \" to\", \" deeper\", \" quicker\"], [\".\", \"!\", \",\", \" than\", \" and\", \" to\", \" carefully\", \" with\", \" so\", \" quickly\"], [\"\\n\", \" He\", \" They\", \" \", \" The\", \" His\", \" It\", \" Every\", \" Everyone\", \" Soon\"], [\"\\n\", \"The\", \" \", \"He\", \"They\", \"Soon\", \"But\", \"<|endoftext|>\", \"It\", \"When\"], [\"The\", \"He\", \"They\", \"Soon\", \"Suddenly\", \"But\", \"When\", \"After\", \"It\", \"\\\"\"], [\" family\", \" bird\", \" little\", \" garden\", \" herbs\", \" next\", \" colorful\", \" dad\", \" mom\", \" two\"], [\" was\", \" had\", \" spent\", \" kept\", \" watched\", \" and\", \" laughed\", \" soon\", \" enjoyed\", \" all\"], [\" realized\", \" realised\", \" found\", \" came\", \" became\", \" forgot\", \" discovered\", \" noticed\", \" arrived\", \" saw\"], [\" that\", \" how\", \" the\", \" they\", \" it\", \" what\", \" there\", \" something\", \" why\", \" this\"], [\" the\", \" they\", \" it\", \" this\", \" there\", \" their\", \" counting\", \" even\", \" he\", \" by\"], [\" had\", \" were\", \" could\", \" needed\", \" didn\", \" should\", \" couldn\", \" would\", \" all\", \" forgot\"], [\" all\", \" getting\", \" the\", \" having\", \" in\", \" so\", \" very\", \" not\", \" happier\", \" counting\"], [\" to\", \" and\", \" with\", \".\", \" together\", \" too\", \" was\", \" they\", \" in\", \" for\"], [\" had\", \" were\", \" could\", \" didn\", \" hadn\", \" found\", \" did\", \" liked\", \"'d\", \" made\"], [\" count\", \" still\", \" help\", \" make\", \" share\", \" be\", \" use\", \" do\", \" now\", \" enjoy\"], [\" the\", \" on\", \" so\", \" together\", \" and\", \" all\", \" to\", \" something\", \" even\", \".\"], [\" many\", \" much\", \" fun\", \" the\", \" colorful\", \" lots\", \" happy\", \" well\", \" to\", \" big\"], [\" herbs\", \" times\", \" the\", \" colorful\", \" things\", \" more\", \" different\", \" of\", \" new\", \" days\"], [\" they\", \" were\", \" there\", \" the\", \" had\", \" in\", \" it\", \" that\", \" are\", \" together\"], [\" had\", \" could\", \" needed\", \" found\", \" were\", \" wanted\", \" tasted\", \" grew\", \" counted\", \" should\"], [\" found\", \" and\", \".\", \" picked\", \" brought\", \" counted\", \" in\", \" been\", \" gathered\", \" left\"], [\".\", \" in\", \" and\", \"!\", \",\", \" together\", \" before\", \" so\", \" on\", \" the\"], [\" They\", \" The\", \"\\n\", \" From\", \" So\", \" Every\", \" It\", \" Everyone\", \" Now\", \" And\"], [\" little\", \" family\", \" garden\", \" herbs\", \" bird\", \" colorful\", \" mom\", \" end\", \" herb\", \" dad\"], [\" bird\", \" girl\", \" boy\", \" red\", \" ones\", \" one\", \" rabbit\", \" brother\", \" yellow\", \" family\"], [\" was\", \" and\", \" counted\", \" had\", \" learned\", \" flew\", \" taught\", \" thanked\", \"'s\", \" felt\"], [\" the\", \" its\", \" his\", \" her\", \" they\", \" all\", \" everyone\", \" their\", \" family\", \" it\"], [\" family\", \" herbs\", \" little\", \" garden\", \" colorful\", \" dad\", \" mom\", \" parents\", \" brother\", \" Dad\"], [\" were\", \" was\", \" had\", \" all\", \" counted\", \" became\", \" enjoyed\", \" thanked\", \" spent\", \" celebrated\"], [\" a\", \" so\", \" lots\", \" to\", \" the\", \" plenty\", \" made\", \" been\", \" fun\", \" such\"], [\" wonderful\", \" great\", \" lot\", \" lovely\", \" fun\", \" very\", \" special\", \" nice\", \" big\", \" really\"], [\" time\", \" day\", \" surprise\", \" dinner\", \" adventure\", \" picnic\", \" afternoon\", \" family\", \" meal\", \" and\"], [\" together\", \" counting\", \" playing\", \" in\", \".\", \" and\", \" exploring\", \" with\", \",\", \" eating\"], [\".\", \",\", \" and\", \" in\", \"!\", \" with\", \" that\", \" to\", \" -\", \" exploring\"], [\"\\n\", \" They\", \" The\", \" From\", \" \", \" It\", \" And\", \" In\", \" Every\", \" Everyone\"], [\"\\n\", \" They\", \" The\", \"\\n\\n\", \" \", \" It\", \" From\", \" And\", \"The\", \" Everyone\"], [\"\\n\", \"The\", \"They\", \"<|endoftext|>\", \"From\", \"Summary\", \"And\", \"At\", \" \", \"When\"], [\"The\", \"They\", \"From\", \"And\", \"At\", \"When\", \"So\", \"After\", \"Every\", \"In\"], [\" all\", \" were\", \" thanked\", \" decided\", \" stayed\", \" flew\", \" spent\", \" had\", \" hugged\", \" laughed\"], [\" agreed\", \" settled\", \" hugged\", \" laughed\", \" lived\", \" enjoyed\", \" had\", \" shared\", \" celebrated\", \" smiled\"], [\" and\", \",\", \" as\", \" when\", \" together\", \" with\", \" until\", \" at\", \" in\", \" out\"], [\" hugged\", \" smiled\", \" enjoyed\", \" played\", \" the\", \" sang\", \" shared\", \" talked\", \" had\", \" said\"], [\" the\", \" some\", \" lots\", \" together\", \" their\", \" delicious\", \" all\", \" herbs\", \" until\", \" dinner\"], [\" delicious\", \" herbs\", \" colorful\", \" dinner\", \" special\", \" y\", \" tasty\", \" herb\", \" food\", \" new\"], [\"ummy\", \"um\", \"ummies\", \"ucky\", \"our\", \"anking\", \"ach\", \"asting\", \"ested\", \"ank\"], [\" herbs\", \" herb\", \" food\", \" dinner\", \" snacks\", \" treats\", \" meal\", \" surprise\", \" green\", \" meals\"], [\".\", \",\", \" together\", \" until\", \" and\", \" with\", \"!\", \" that\", \" for\", \" while\"], [\".\", \",\", \" and\", \" every\", \" in\", \" until\", \"!\", \" for\", \" with\", \" again\"], [\" They\", \" The\", \" It\", \" From\", \"\\n\", \" \", \" What\", \" Then\", \" And\", \" After\"], [\" then\", \" that\", \" the\", \" now\", \" this\", \" so\", \" time\", \" their\", \" one\", \" all\"], [\" on\", \" onwards\", \",\", \" the\", \" they\", \" onward\", \" that\", \" forward\", \" in\", \" down\"], [\",\", \" they\", \" the\", \" whenever\", \" every\", \" it\", \" all\", \" their\", \" everyone\", \" that\"], [\" the\", \" they\", \" every\", \" whenever\", \" their\", \" everyone\", \" it\", \" each\", \" no\", \" herbs\"], [\" family\", \" little\", \" bird\", \" garden\", \" colorful\", \" three\", \" birds\", \" herbs\", \" two\", \" dad\"], [\" was\", \" always\", \" made\", \" and\", \" would\", \" knew\", \" kept\", \" never\", \" had\", \" enjoyed\"], [\" always\", \" never\", \" very\", \" even\", \" so\", \" more\", \" no\", \" the\", \" sure\", \" happy\"], [\" careful\", \" fun\", \" colorful\", \" special\", \" excited\", \" happy\", \" than\", \" popular\", \" gentle\", \" organized\"], [\" when\", \" with\", \" about\", \" and\", \" to\", \" whenever\", \" around\", \" in\", \" every\", \" not\"], [\" the\", \" herbs\", \" their\", \" each\", \" colorful\", \" all\", \" what\", \" them\", \" new\", \" things\"], [\" colorful\", \" herbs\", \" little\", \" bird\", \" special\", \" garden\", \" different\", \" things\", \" flowers\", \" long\"], [\" herbs\", \" bird\", \" garden\", \" herb\", \" things\", \" flowers\", \" ones\", \" and\", \" birds\", \",\"], [\" and\", \".\", \" they\", \" in\", \"!\", \",\", \" whenever\", \" that\", \" from\", \" around\"], [\" found\", \" had\", \" counted\", \" picked\", \" added\", \" grew\", \" collected\", \" were\", \" kept\", \" ate\"], [\".\", \" in\", \" and\", \",\", \" outside\", \"!\", \" on\", \" together\", \" for\", \" so\"], [\" and\", \" so\", \" but\", \" they\", \" because\", \" making\", \" each\", \" to\", \" the\", \" even\"], [\" they\", \" it\", \" the\", \" now\", \" each\", \" everyone\", \" that\", \" of\", \" there\", \" one\"], [\" knew\", \" all\", \" were\", \" never\", \" loved\", \" had\", \" always\", \" could\", \" shared\", \" enjoyed\"], [\" had\", \" enjoyed\", \" picked\", \" made\", \" got\", \" grew\", \" found\", \" took\", \" were\", \" ate\"], [\" a\", \" care\", \" one\", \" time\", \" some\", \" turns\", \" home\", \" special\", \" them\", \" good\"], [\" and\", \".\", \" home\", \" more\", \" without\", \" another\", \" out\", \" with\", \" for\", \" to\"], [\" have\", \" share\", \" enjoy\", \" count\", \" make\", \" they\", \" eat\", \" their\", \" the\", \" it\"], [\" even\", \" the\", \" best\", \" good\", \" great\", \" more\", \" a\", \" very\", \" better\", \" so\"], [\" better\", \" more\", \" closer\", \" happier\", \" smarter\", \" brighter\", \" wealthier\", \" stronger\", \" richer\", \" wiser\"], [\" colorful\", \" beautiful\", \" special\", \" fun\", \" colourful\", \" delicious\", \" wonderful\", \".\", \" vibrant\", \" careful\"], [\".\", \"!\", \" than\", \" with\", \" and\", \" in\", \" when\", \" herbs\", \",\", \" together\"], [\"\\n\", \" \", \" The\", \" They\", \" And\", \" It\", \" Everyone\", \" What\", \" Every\", \" From\"], [\"Summary\", \"<|endoftext|>\", \"\\n\", \" \", \"The\", \" The\", \"Story\", \"THE\", \"Sum\", \"They\"], [\"\\n\", \",\", \"\\n\\n\", \".\", \" \\\"\", \" the\", \",\\\"\", \".\\\"\", \" The\", \" \"], [\" there\", \" up\", \" in\", \" on\", \" back\", \" by\", \" together\", \" out\", \" outside\", \" tall\"], [\" in\", \" for\", \",\", \" and\", \" with\", \" together\", \" by\", \" happily\", \" as\", \" a\"], [\" awe\", \" amaz\", \" the\", \" a\", \" front\", \" shock\", \" excitement\", \" silence\", \" joy\", \" surprise\"], [\" and\", \",\", \".\", \" waters\", \"\\n\", \" at\", \"ness\", \" silence\", \" the\", \" when\"], [\" happy\", \" enjoyed\", \" watched\", \" relaxed\", \" still\", \" smiled\", \" content\", \" the\", \" looked\", \" started\"], [\".\", \",\", \" things\", \" voices\", \" with\", \" music\", \" places\", \" in\", \" clothes\", \" spirits\"], [\" the\", \" everything\", \".\", \" all\", \",\", \" things\", \" with\", \" together\", \" his\", \" her\"], [\" colors\", \" pieces\", \" stars\", \" things\", \" days\", \" numbers\", \" people\", \" animals\", \" shapes\", \" pet\"], [\".\", \" with\", \" in\", \" and\", \" every\", \",\", \" together\", \" she\", \" they\", \" that\"], [\".\", \",\", \" every\", \" in\", \" with\", \" and\", \" again\", \" until\", \" whenever\", \" to\"], [\" next\", \" whole\", \" day\", \" time\", \" way\", \" best\", \" little\", \" most\", \" end\", \" night\"], [\".\", \" of\", \" they\", \" in\", \" way\", \" ever\", \" and\", \" night\", \" day\", \" time\"], [\" ever\", \".\", \" in\", \" they\", \" of\", \"!\", \" the\", \" and\", \" to\", \" possible\"], [\".\", \"!\", \" after\", \" when\", \" since\", \" and\", \" for\", \" in\", \",\", \" with\"], [\"\\n\", \" The\", \" They\", \" \", \" She\", \" It\", \"\\ufffd\", \" Everyone\", \" He\", \" From\"], [\"Summary\", \"Story\", \"Words\", \"Random\", \"Features\", \"\\n\", \"<|endoftext|>\", \"The\", \" \", \"Sum\"], [\"\\n\", \",\", \"\\n\\n\", \".\", \" the\", \" The\", \" \\\"\", \".\\\"\", \",\\\"\", \" Lily\"], [\" the\", \" night\", \" school\", \" last\", \" a\", \" this\", \" her\", \" home\", \" bed\", \" that\"], [\" end\", \" park\", \" party\", \" same\", \" top\", \" bottom\", \" store\", \" market\", \" hospital\", \" beach\"], [\" of\", \".\", \",\", \" and\", \"!\", \" was\", \" went\", \"\\n\", \" for\", \" that\"], [\" the\", \" a\", \" their\", \" time\", \" his\", \" it\", \" her\", \" each\", \" every\", \" them\"], [\" day\", \" night\", \" story\", \" week\", \" evening\", \" rainbow\", \" year\", \" party\", \" game\", \" summer\"], [\".\", \" and\", \",\", \" was\", \" with\", \" is\", \" looking\", \" for\", \"'s\", \" to\"], [\" the\", \" a\", \" everyone\", \" many\", \" all\", \" more\", \" their\", \" her\", \" them\", \" dinner\"], [\" more\", \" years\", \" days\", \" happy\", \" other\", \" delicious\", \" wonderful\", \" times\", \" months\", \" weeks\"], [\".\", \" and\", \",\", \" to\", \" after\", \" afterwards\", \"!\", \" until\", \" before\", \" of\"], [\" the\", \" is\", \" they\", \" it\", \" loves\", \" never\", \" every\", \" still\", \" enjoys\", \" always\"], [\" very\", \" happy\", \" always\", \" never\", \" no\", \" excited\", \" proud\", \" so\", \" grateful\", \" a\"], [\" happy\", \" proud\", \" excited\", \" grateful\", \" glad\", \" full\", \" thankful\", \" brave\", \" successful\", \" special\"], [\".\", \" with\", \" and\", \" to\", \" that\", \"!\", \",\", \" when\", \" because\", \" in\"], [\" have\", \" be\", \" see\", \" do\", \" learn\", \" take\", \" go\", \" play\", \" make\", \" find\"], [\" a\", \" made\", \" found\", \" it\", \" such\", \" the\", \" so\", \" had\", \" been\", \" helped\"], [\" a\", \" such\", \" the\", \" so\", \" lots\", \" fun\", \" many\", \" an\", \" been\", \" enough\"], [\" great\", \" fun\", \" wonderful\", \" good\", \" big\", \" new\", \" friend\", \" special\", \" lot\", \" nice\"], [\".\", \" to\", \" who\", \" like\", \" too\", \" and\", \" as\", \" in\", \" that\", \" with\"], [\" loves\", \" loved\", \" cared\", \" was\", \" would\", \" liked\", \" always\", \" could\", \" cares\", \" she\"], [\" her\", \" it\", \" him\", \" them\", \" the\", \" with\", \" make\", \" to\", \" keep\", \".\"], [\".\", \" with\", \" when\", \" learn\", \" feel\", \" and\", \" to\", \" find\", \" out\", \" in\"], [\" something\", \" the\", \" it\", \" her\", \" a\", \" his\", \" their\", \" things\", \" them\", \" dinner\"], [\" day\", \" garden\", \" favorite\", \" dream\", \" room\", \" bed\", \" own\", \" dreams\", \" home\", \" life\"], [\" even\", \".\", \" look\", \" so\", \" a\", \" better\", \" beautiful\", \" the\", \" bigger\", \" more\"], [\" he\", \" clean\", \" happy\", \" she\", \" nice\", \" tidy\", \" beautiful\", \" special\", \" it\", \" they\"], [\".\", \" and\", \"!\", \" that\", \",\", \" again\", \" together\", \" could\", \" to\", \" for\"], [\" strong\", \" beautiful\", \" happy\", \" bright\", \" to\", \" they\", \" com\", \" full\", \" pretty\", \" the\"], [\".\", \"!\", \" again\", \" with\", \",\", \" too\", \" together\", \" that\", \".\\\"\", \" to\"], [\"\\n\", \" They\", \" The\", \" He\", \" She\", \" \", \" From\", \" Together\", \" It\", \" And\"], [\"Summary\", \"Story\", \"Words\", \"Features\", \"\\n\", \"Random\", \"The\", \" \", \"Sum\", \" The\"], [\":\", \" that\", \" the\", \" one\", \" like\", \" going\", \" -\", \" at\", \" in\", \" upon\"], [\" A\", \" Two\", \" John\", \" An\", \" Jack\", \" Lily\", \" Tim\", \" Lucy\", \" Three\", \" Tom\"], [\" little\", \" small\", \" big\", \" pretty\", \" flower\", \" three\", \" curious\", \" happy\", \" bird\", \" family\"], [\" little\", \" and\", \" puppy\", \" bunny\", \" hedge\", \" baby\", \" dog\", \" rabbit\", \" poppy\", \" bird\"], [\" hedge\", \" boy\", \" dog\", \" puppy\", \" bunny\", \" bird\", \" rabbit\", \" girl\", \" bear\", \" flower\"], [\"isy\", \"is\", \"in\", \"y\", \"ace\", \"a\", \"ery\", \"erous\", \"rot\", \"er\"], [\" in\", \" is\", \" grows\", \" wants\", \" and\", \" with\", \" feels\", \" living\", \",\", \" becomes\"], [\" a\", \" the\", \" an\", \" two\", \" his\", \" front\", \" her\", \" love\", \" many\", \" spring\"], [\" field\", \" garden\", \" big\", \" me\", \" green\", \" park\", \" wild\", \" peaceful\", \" yellow\", \" special\"], [\" field\", \" garden\", \" green\", \" me\", \" yellow\", \",\", \" white\", \" brown\", \" park\", \" and\"], [\" is\", \" becomes\", \" wants\", \" grows\", \" makes\", \" was\", \" feels\", \" helps\", \" wanted\", \" gets\"], [\" lots\", \" many\", \" other\", \" a\", \" the\", \" pretty\", \" flowers\", \" her\", \" his\", \" colorful\"], [\" other\", \" flowers\", \" friends\", \" different\", \" happy\", \" beautiful\", \" pet\", \" pretty\", \" herbs\", \" colorful\"], [\" flowers\", \" plants\", \" herbs\", \" pretty\", \" beautiful\", \" picks\", \" da\", \" roses\", \" l\", \" leaves\"], [\" flowers\", \" herbs\", \" things\", \" da\", \" plants\", \" roses\", \" leaves\", \" and\", \" friends\", \" blo\"], [\",\", \".\", \" and\", \" in\", \" to\", \" that\", \" was\", \" is\", \" growing\", \" around\"], [\" but\", \" and\", \" which\", \" making\", \" takes\", \" picks\", \" plants\", \" including\", \" who\", \" tries\"], [\" the\", \" they\", \" a\", \" when\", \" it\", \" after\", \" is\", \" with\", \" her\", \" everyone\"]], \"correctTokenRank\": [294, 0, 0, 0, 0, 0, 0, 0, 152, 0, 0, 2, 146, 0, 1, 5, 1, 17, 3, 20, 1, 60, 1, 5, 1, 0, 0, 0, 2, 1, 3, 0, 5, 0, 1, 17, 1, 1, 1, 0, 0, 20, 17, 0, 110, 1, 2, 2, 0, 41, 2, 0, 2, 2, 27, 2, 1, 31, 0, 1, 20, 0, 0, 0, 0, 0, 0, 7, 0, 0, 1, 1, 17, 7, 2, 0, 11, 0, 0, 0, 0, 0, 0, 1, 0, 0, 1, 0, 0, 2, 0, 0, 0, 0, 0, 4, 0, 0, 1, 0, 3, 0, 11, 4, 5, 0, 0, 2, 0, 3, 0, 0, 0, 0, 0, 0, 5, 0, 1, 0, 0, 0, 2, 0, 3, 4, 0, 13, 15, 2, 0, 63, 0, 1, 1, 0, 0, 1, 5816, 0, 0, 288, 0, 0, 732, 0, 45, 6, 46, 5, 48, 0, 1, 0, 6, 61, 0, 0, 0, 0, 23, 7, 3, 1, 1, 1, 0, 0, 3, 0, 7, 0, 276, 2, 10, 2, 10, 5, 1, 3, 18, 1, 8, 0, 0, 0, 0, 0, 92, 0, 24, 0, 0, 0, 2, 1, 11, 1, 0, 10, 1, 0, 1, 18], \"correctTokenLogProb\": [-11.625463485717773, -0.3724912703037262, -0.005904730875045061, -0.011737806722521782, -0.1878165304660797, -0.10250519216060638, -0.13827235996723175, -0.032130155712366104, -6.726294040679932, -2.2928905487060547, -0.3384549915790558, -1.895932912826538, -9.462385177612305, -0.9009910225868225, -1.3085684776306152, -3.2520012855529785, -1.1932798624038696, -4.6959943771362305, -2.8905768394470215, -4.8938798904418945, -1.987676978111267, -7.681980133056641, -2.2258410453796387, -4.961320877075195, -1.6168315410614014, -0.1598348468542099, -0.4154694974422455, -0.42870500683784485, -3.184114694595337, -1.7429026365280151, -2.9088151454925537, -0.27598097920417786, -4.950056076049805, -0.6758885979652405, -1.2670645713806152, -4.612707138061523, -2.087102174758911, -1.5798717737197876, -1.9414279460906982, -0.7031168341636658, -0.5960964560508728, -4.295231819152832, -5.06550407409668, -0.04346547648310661, -8.082697868347168, -1.2174274921417236, -2.547053575515747, -2.4648563861846924, -0.25959354639053345, -5.925421714782715, -1.8848446607589722, -0.7634258270263672, -3.6864664554595947, -1.562565565109253, -5.3784894943237305, -2.3660647869110107, -1.041884183883667, -6.404172897338867, -0.35790854692459106, -0.9657657742500305, -7.132786273956299, -0.06097876653075218, -0.13397683203220367, -0.4567020535469055, -0.028690367937088013, -0.9111358523368835, -0.6746280789375305, -3.470688581466675, -1.736850380897522, -0.29462960362434387, -2.2612247467041016, -1.1033506393432617, -4.540899753570557, -3.510939598083496, -2.276325225830078, -1.6237926483154297, -4.0398101806640625, -0.017096756026148796, -0.9527020454406738, -0.46685805916786194, -0.5668800473213196, -2.025087833404541, -0.2185751497745514, -1.772998332977295, -1.6811206340789795, -0.8252954483032227, -3.0611777305603027, -0.6705948114395142, -0.3977455198764801, -2.155593156814575, -0.5636860728263855, -1.0487000942230225, -0.28721797466278076, -1.3749194145202637, -0.6635022163391113, -2.746046543121338, -0.010336438193917274, -0.09374506026506424, -2.031548023223877, -1.7291795015335083, -2.633885383605957, -0.17659710347652435, -4.012845993041992, -3.675753593444824, -2.7725367546081543, -0.0037618363276124, -0.4271562099456787, -2.809845447540283, -0.23160508275032043, -2.9844272136688232, -0.631994366645813, -0.006691784597933292, -0.18662482500076294, -0.48881012201309204, -0.2826002836227417, -1.3335018157958984, -2.711026191711426, -0.6131547689437866, -1.522620439529419, -0.5317966341972351, -0.8898067474365234, -0.314567506313324, -1.4825732707977295, -0.44905686378479004, -3.0193839073181152, -3.624094247817993, -0.31590747833251953, -4.345965385437012, -4.569544792175293, -2.091799736022949, -1.2064279317855835, -6.244302749633789, -1.0677309036254883, -0.9569538831710815, -1.6572760343551636, -0.3287966549396515, -0.2401336431503296, -0.9746173024177551, -28.99213981628418, -1.335995078086853, -1.223427176475525, -11.297026634216309, -0.620307445526123, -1.6404051780700684, -9.32293701171875, -1.521354079246521, -5.772249221801758, -3.9400157928466797, -9.079802513122559, -5.330586910247803, -6.280992031097412, -0.7999645471572876, -1.2653084993362427, -0.006506923120468855, -7.545318603515625, -20.84735870361328, -0.24827690422534943, -0.11546589434146881, -0.07368840277194977, -0.1013282760977745, -7.121293544769287, -4.066386699676514, -2.974224090576172, -1.3459750413894653, -1.4654868841171265, -3.2227776050567627, -1.456531286239624, -0.380415678024292, -3.8722784519195557, -0.7832710146903992, -3.226102828979492, -0.9073754549026489, -8.770417213439941, -1.6333026885986328, -3.873018741607666, -2.8365797996520996, -4.899728775024414, -2.7106781005859375, -2.4809155464172363, -3.0315842628479004, -4.320898056030273, -1.3944547176361084, -4.080387115478516, -0.1087496280670166, -0.042059555649757385, -0.1872163563966751, -2.7894584491150454e-05, -0.38072046637535095, -6.540860176086426, -1.0377196073532104, -4.814766883850098, -0.06417328119277954, -0.9251592755317688, -0.07414067536592484, -1.98111093044281, -0.9395754337310791, -4.0317182540893555, -1.2423838376998901, -0.8445270657539368, -5.972289085388184, -1.9812195301055908, -1.0660476684570312, -1.9422377347946167, -5.177855491638184]}\n",
       "    )\n",
       "    </script>"
      ],
      "text/plain": [
       "<circuitsvis.utils.render.RenderedHTML at 0x2a7a1792b70>"
      ]
     },
     "execution_count": 7,
     "metadata": {},
     "output_type": "execute_result"
    }
   ],
   "source": [
    "example_prompt = model.generate(\n",
    "    \"Once upon a time\",\n",
    "    stop_at_eos=False,  # avoids a bug on MPS\n",
    "    temperature=1,\n",
    "    verbose=True,\n",
    "    max_new_tokens=200,\n",
    ")\n",
    "logits, cache = model.run_with_cache(example_prompt)\n",
    "cv.logits.token_log_probs(\n",
    "    model.to_tokens(example_prompt),\n",
    "    model(example_prompt)[0].log_softmax(dim=-1),\n",
    "    model.to_string,\n",
    ")"
   ]
  },
  {
   "cell_type": "markdown",
   "metadata": {
    "id": "er3H1TDoOVHw"
   },
   "source": [
    "# Training an SAE\n",
    "\n",
    "Now we're ready to train out SAE. We'll make a runner config, instantiate the runner and the rest is taken care of for us!\n",
    "\n",
    "During training, you use weights and biases to check key metrics which indicate how well we are able to optimize the variables we care about.\n",
    "\n",
    "To get a better sense of which variables to look at, you can read my (Joseph's) post [here](https://www.lesswrong.com/posts/f9EgfLSurAiqRJySD/open-source-sparse-autoencoders-for-all-residual-stream) and especially look at my weights and biases report [here](https://links-cdn.wandb.ai/wandb-public-images/links/jbloom/uue9i416.html).\n",
    "\n",
    "A few tips:\n",
    "- Feel free to reorganize your wandb dashboard to put L0, CE_Loss_score, explained variance and other key metrics in one section at the top.\n",
    "- Make a [run comparer](https://docs.wandb.ai/guides/app/features/panels/run-comparer) when tuning hyperparameters.\n",
    "- You can download the resulting sparse autoencoder / sparsity estimate from wandb and upload them to huggingface if you want to share your SAE with other.\n",
    "    - cfg.json (training config)\n",
    "    - sae_weight.safetensors (model weights)\n",
    "    - sparsity.safetensors (sparsity estimate)"
   ]
  },
  {
   "cell_type": "markdown",
   "metadata": {
    "id": "jCHtPycOOVHw"
   },
   "source": [
    "## MLP Out\n",
    "\n",
    "I've tuned the hyperparameters below for a decent SAE which achieves 86% CE Loss recovered and an L0 of ~85, and runs in about 2 hours on an M3 Max. You can get an SAE that looks better faster if you only consider L0 and CE loss but it will likely have more dense features and more dead features. Here's a link to my output with two runs with two different L1's: https://wandb.ai/jbloom/sae_lens_tutorial ."
   ]
  },
  {
   "cell_type": "code",
   "execution_count": null,
   "metadata": {
    "id": "oAsZCAdJOVHw"
   },
   "outputs": [
    {
     "name": "stdout",
     "output_type": "stream",
     "text": [
      "Loaded pretrained model tiny-stories-1L-21M into HookedTransformer\n"
     ]
    },
    {
     "name": "stderr",
     "output_type": "stream",
     "text": [
      "wandb: Using wandb-core as the SDK backend.  Please refer to https://wandb.me/wandb-core for more information.\n",
      "wandb: Currently logged in as: tatsatx (tatsatx-university-of-california-berkeley). Use `wandb login --relogin` to force relogin\n"
     ]
    },
    {
     "data": {
      "text/html": [
       "Tracking run with wandb version 0.19.1"
      ],
      "text/plain": [
       "<IPython.core.display.HTML object>"
      ]
     },
     "metadata": {},
     "output_type": "display_data"
    },
    {
     "data": {
      "text/html": [
       "Run data is saved locally in <code>D:\\Python\\Interpretability\\SAELens-main\\tutorials\\wandb\\run-20241224_193115-nn0x223h</code>"
      ],
      "text/plain": [
       "<IPython.core.display.HTML object>"
      ]
     },
     "metadata": {},
     "output_type": "display_data"
    },
    {
     "data": {
      "text/html": [
       "Syncing run <strong><a href='https://wandb.ai/tatsatx-university-of-california-berkeley/sae_lens_tutorial/runs/nn0x223h' target=\"_blank\">16384-L1-5-LR-5e-05-Tokens-1.229e+06</a></strong> to <a href='https://wandb.ai/tatsatx-university-of-california-berkeley/sae_lens_tutorial' target=\"_blank\">Weights & Biases</a> (<a href='https://wandb.me/developer-guide' target=\"_blank\">docs</a>)<br>"
      ],
      "text/plain": [
       "<IPython.core.display.HTML object>"
      ]
     },
     "metadata": {},
     "output_type": "display_data"
    },
    {
     "data": {
      "text/html": [
       " View project at <a href='https://wandb.ai/tatsatx-university-of-california-berkeley/sae_lens_tutorial' target=\"_blank\">https://wandb.ai/tatsatx-university-of-california-berkeley/sae_lens_tutorial</a>"
      ],
      "text/plain": [
       "<IPython.core.display.HTML object>"
      ]
     },
     "metadata": {},
     "output_type": "display_data"
    },
    {
     "data": {
      "text/html": [
       " View run at <a href='https://wandb.ai/tatsatx-university-of-california-berkeley/sae_lens_tutorial/runs/nn0x223h' target=\"_blank\">https://wandb.ai/tatsatx-university-of-california-berkeley/sae_lens_tutorial/runs/nn0x223h</a>"
      ],
      "text/plain": [
       "<IPython.core.display.HTML object>"
      ]
     },
     "metadata": {},
     "output_type": "display_data"
    },
    {
     "name": "stderr",
     "output_type": "stream",
     "text": [
      "Training SAE:   0%|                                                                                          | 0/1228800 [00:00<?, ?it/s]\n",
      "Estimating norm scaling factor:   0%|                                                                           | 0/1000 [00:00<?, ?it/s]\n",
      "\n",
      "Refilling buffer:   0%|                                                                                           | 0/32 [00:00<?, ?it/s]\n",
      "\n",
      "Refilling buffer:   3%|██▌                                                                                | 1/32 [00:03<01:33,  3.02s/it]\n",
      "\n",
      "Refilling buffer:   6%|█████▏                                                                             | 2/32 [00:04<01:11,  2.39s/it]\n",
      "\n",
      "Refilling buffer:   9%|███████▊                                                                           | 3/32 [00:06<01:02,  2.16s/it]\n",
      "\n",
      "Refilling buffer:  12%|██████████▍                                                                        | 4/32 [00:08<00:57,  2.05s/it]\n",
      "\n",
      "Refilling buffer:  16%|████████████▉                                                                      | 5/32 [00:10<00:53,  2.00s/it]\n",
      "\n",
      "Refilling buffer:  19%|███████████████▌                                                                   | 6/32 [00:12<00:51,  1.98s/it]\n",
      "\n",
      "Refilling buffer:  22%|██████████████████▏                                                                | 7/32 [00:14<00:49,  1.96s/it]\n",
      "\n",
      "Refilling buffer:  25%|████████████████████▊                                                              | 8/32 [00:16<00:46,  1.95s/it]"
     ]
    }
   ],
   "source": [
    "# total_training_steps = 30_000  # probably we should do more\n",
    "total_training_steps = 300\n",
    "batch_size = 4096\n",
    "total_training_tokens = total_training_steps * batch_size\n",
    "\n",
    "lr_warm_up_steps = 0\n",
    "lr_decay_steps = total_training_steps // 5  # 20% of training\n",
    "l1_warm_up_steps = total_training_steps // 20  # 5% of training\n",
    "\n",
    "cfg = LanguageModelSAERunnerConfig(\n",
    "    # Data Generating Function (Model + Training Distibuion)\n",
    "    model_name=\"tiny-stories-1L-21M\",  # our model (more options here: https://neelnanda-io.github.io/TransformerLens/generated/model_properties_table.html)\n",
    "    hook_name=\"blocks.0.hook_mlp_out\",  # A valid hook point (see more details here: https://neelnanda-io.github.io/TransformerLens/generated/demos/Main_Demo.html#Hook-Points)\n",
    "    hook_layer=0,  # Only one layer in the model.\n",
    "    d_in=1024,  # the width of the mlp output.\n",
    "    dataset_path=\"apollo-research/roneneldan-TinyStories-tokenizer-gpt2\",  # this is a tokenized language dataset on Huggingface for the Tiny Stories corpus.\n",
    "    is_dataset_tokenized=True,\n",
    "    streaming=True,  # we could pre-download the token dataset if it was small.\n",
    "    # SAE Parameters\n",
    "    mse_loss_normalization=None,  # We won't normalize the mse loss,\n",
    "    expansion_factor=16,  # the width of the SAE. Larger will result in better stats but slower training.\n",
    "    b_dec_init_method=\"zeros\",  # The geometric median can be used to initialize the decoder weights.\n",
    "    apply_b_dec_to_input=False,  # We won't apply the decoder weights to the input.\n",
    "    normalize_sae_decoder=False,\n",
    "    scale_sparsity_penalty_by_decoder_norm=True,\n",
    "    decoder_heuristic_init=True,\n",
    "    init_encoder_as_decoder_transpose=True,\n",
    "    normalize_activations=\"expected_average_only_in\",\n",
    "    # Training Parameters\n",
    "    lr=5e-5,  # lower the better, we'll go fairly high to speed up the tutorial.\n",
    "    adam_beta1=0.9,  # adam params (default, but once upon a time we experimented with these.)\n",
    "    adam_beta2=0.999,\n",
    "    lr_scheduler_name=\"constant\",  # constant learning rate with warmup. Could be better schedules out there.\n",
    "    lr_warm_up_steps=lr_warm_up_steps,  # this can help avoid too many dead features initially.\n",
    "    lr_decay_steps=lr_decay_steps,  # this will help us avoid overfitting.\n",
    "    l1_coefficient=5,  # will control how sparse the feature activations are\n",
    "    l1_warm_up_steps=l1_warm_up_steps,  # this can help avoid too many dead features initially.\n",
    "    lp_norm=1.0,  # the L1 penalty (and not a Lp for p < 1)\n",
    "    train_batch_size_tokens=batch_size,\n",
    "    context_size=512,  # will control the lenght of the prompts we feed to the model. Larger is better but slower. so for the tutorial we'll use a short one.\n",
    "    # Activation Store Parameters\n",
    "    n_batches_in_buffer=64,  # controls how many activations we store / shuffle.\n",
    "    training_tokens=total_training_tokens,  # 100 million tokens is quite a few, but we want to see good stats. Get a coffee, come back.\n",
    "    store_batch_size_prompts=16,\n",
    "    # Resampling protocol\n",
    "    use_ghost_grads=False,  # we don't use ghost grads anymore.\n",
    "    feature_sampling_window=1000,  # this controls our reporting of feature sparsity stats\n",
    "    dead_feature_window=1000,  # would effect resampling or ghost grads if we were using it.\n",
    "    dead_feature_threshold=1e-4,  # would effect resampling or ghost grads if we were using it.\n",
    "    # WANDB\n",
    "    log_to_wandb=True,  # always use wandb unless you are just testing code.\n",
    "    wandb_project=\"sae_lens_tutorial\",\n",
    "    wandb_log_frequency=30,\n",
    "    eval_every_n_wandb_logs=20,\n",
    "    # Misc\n",
    "    device=device,\n",
    "    seed=42,\n",
    "    n_checkpoints=0,\n",
    "    checkpoint_path=\"checkpoints\",\n",
    "    dtype=\"float32\",\n",
    ")\n",
    "# look at the next cell to see some instruction for what to do while this is running.\n",
    "sparse_autoencoder = SAETrainingRunner(cfg).run()"
   ]
  },
  {
   "cell_type": "markdown",
   "metadata": {
    "id": "khR_QkAJOVHw"
   },
   "source": [
    "# TO DO: Understanding TinyStories-1L with our SAE\n",
    "\n",
    "I haven't had time yet to complete this section, but I'd love to see a PR where someones uses an SAE they trained in this tutorial to understand this model better."
   ]
  },
  {
   "cell_type": "code",
   "execution_count": null,
   "metadata": {
    "id": "b4sUumxZOVHw"
   },
   "outputs": [],
   "source": [
    "import pandas as pd\n",
    "\n",
    "# Let's start by getting the top 10 logits for each feature\n",
    "projection_onto_unembed = sparse_autoencoder.W_dec @ model.W_U\n",
    "\n",
    "\n",
    "# get the top 10 logits.\n",
    "vals, inds = torch.topk(projection_onto_unembed, 10, dim=1)\n",
    "\n",
    "# get 10 random features\n",
    "random_indices = torch.randint(0, projection_onto_unembed.shape[0], (10,))\n",
    "\n",
    "# Show the top 10 logits promoted by those features\n",
    "top_10_logits_df = pd.DataFrame(\n",
    "    [model.to_str_tokens(i) for i in inds[random_indices]],\n",
    "    index=random_indices.tolist(),\n",
    ").T\n",
    "top_10_logits_df"
   ]
  }
 ],
 "metadata": {
  "accelerator": "GPU",
  "colab": {
   "gpuType": "T4",
   "provenance": []
  },
  "kernelspec": {
   "display_name": "Python 3 (ipykernel)",
   "language": "python",
   "name": "python3"
  },
  "language_info": {
   "codemirror_mode": {
    "name": "ipython",
    "version": 3
   },
   "file_extension": ".py",
   "mimetype": "text/x-python",
   "name": "python",
   "nbconvert_exporter": "python",
   "pygments_lexer": "ipython3",
   "version": "3.12.8"
  }
 },
 "nbformat": 4,
 "nbformat_minor": 4
}
