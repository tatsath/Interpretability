{
  "cells": [
    {
      "cell_type": "markdown",
      "metadata": {
        "colab_type": "text",
        "id": "view-in-github"
      },
      "source": [
        "<a href=\"https://colab.research.google.com/github/tatsath/Interpretability/blob/main/Trading.ipynb\" target=\"_parent\"><img src=\"https://colab.research.google.com/assets/colab-badge.svg\" alt=\"Open In Colab\"/></a>"
      ]
    },
    {
      "cell_type": "markdown",
      "metadata": {
        "id": "J4KAfN2CwWid"
      },
      "source": [
        "# To be done : Change dataset to have price goin up or down based on news article and change the feature for contrastive search."
      ]
    },
    {
      "cell_type": "markdown",
      "metadata": {
        "id": "2Oenjala1j1Z"
      },
      "source": [
        "This notebook demonstrates how to build a simple, interpretable classifier using SAE feature activations for sentiment analysis of financial news. The model classifies articles into positive, neutral, and negative sentiment categories.\n",
        "\n",
        "Preliminary results indicate that these activation-based classifiers may provide advantages in both speed and cost when compared to few-shot prompting and fine-tuning approaches. They also show potential for better cross-dataset generalization than their fine-tuned counterparts."
      ]
    },
    {
      "cell_type": "code",
      "execution_count": null,
      "metadata": {
        "colab": {
          "base_uri": "https://localhost:8080/"
        },
        "collapsed": true,
        "id": "GGSwpnA_HRcQ",
        "outputId": "86b28ded-9333-49ed-d0db-6905498d3b94"
      },
      "outputs": [
        {
          "name": "stdout",
          "output_type": "stream",
          "text": [
            "Collecting goodfire==0.3.0.dev.9\n",
            "  Downloading goodfire-0.3.0.dev9-py3-none-any.whl.metadata (1.4 kB)\n",
            "Collecting httpx<0.28.0,>=0.27.2 (from goodfire==0.3.0.dev.9)\n",
            "  Downloading httpx-0.27.2-py3-none-any.whl.metadata (7.1 kB)\n",
            "Collecting ipywidgets<9.0.0,>=8.1.5 (from goodfire==0.3.0.dev.9)\n",
            "  Downloading ipywidgets-8.1.5-py3-none-any.whl.metadata (2.3 kB)\n",
            "Requirement already satisfied: numpy<2.0.0,>=1.26.4 in /usr/local/lib/python3.10/dist-packages (from goodfire==0.3.0.dev.9) (1.26.4)\n",
            "Requirement already satisfied: pydantic<3.0.0,>=2.9.2 in /usr/local/lib/python3.10/dist-packages (from goodfire==0.3.0.dev.9) (2.10.3)\n",
            "Requirement already satisfied: scikit-learn<2.0.0,>=1.6.0 in /usr/local/lib/python3.10/dist-packages (from goodfire==0.3.0.dev.9) (1.6.0)\n",
            "Collecting scipy<2.0.0,>=1.14.1 (from goodfire==0.3.0.dev.9)\n",
            "  Downloading scipy-1.14.1-cp310-cp310-manylinux_2_17_x86_64.manylinux2014_x86_64.whl.metadata (60 kB)\n",
            "\u001b[2K     \u001b[90m━━━━━━━━━━━━━━━━━━━━━━━━━━━━━━━━━━━━━━━━\u001b[0m \u001b[32m60.8/60.8 kB\u001b[0m \u001b[31m3.2 MB/s\u001b[0m eta \u001b[36m0:00:00\u001b[0m\n",
            "\u001b[?25hRequirement already satisfied: anyio in /usr/local/lib/python3.10/dist-packages (from httpx<0.28.0,>=0.27.2->goodfire==0.3.0.dev.9) (3.7.1)\n",
            "Requirement already satisfied: certifi in /usr/local/lib/python3.10/dist-packages (from httpx<0.28.0,>=0.27.2->goodfire==0.3.0.dev.9) (2024.12.14)\n",
            "Requirement already satisfied: httpcore==1.* in /usr/local/lib/python3.10/dist-packages (from httpx<0.28.0,>=0.27.2->goodfire==0.3.0.dev.9) (1.0.7)\n",
            "Requirement already satisfied: idna in /usr/local/lib/python3.10/dist-packages (from httpx<0.28.0,>=0.27.2->goodfire==0.3.0.dev.9) (3.10)\n",
            "Requirement already satisfied: sniffio in /usr/local/lib/python3.10/dist-packages (from httpx<0.28.0,>=0.27.2->goodfire==0.3.0.dev.9) (1.3.1)\n",
            "Requirement already satisfied: h11<0.15,>=0.13 in /usr/local/lib/python3.10/dist-packages (from httpcore==1.*->httpx<0.28.0,>=0.27.2->goodfire==0.3.0.dev.9) (0.14.0)\n",
            "Collecting comm>=0.1.3 (from ipywidgets<9.0.0,>=8.1.5->goodfire==0.3.0.dev.9)\n",
            "  Downloading comm-0.2.2-py3-none-any.whl.metadata (3.7 kB)\n",
            "Requirement already satisfied: ipython>=6.1.0 in /usr/local/lib/python3.10/dist-packages (from ipywidgets<9.0.0,>=8.1.5->goodfire==0.3.0.dev.9) (7.34.0)\n",
            "Requirement already satisfied: traitlets>=4.3.1 in /usr/local/lib/python3.10/dist-packages (from ipywidgets<9.0.0,>=8.1.5->goodfire==0.3.0.dev.9) (5.7.1)\n",
            "Collecting widgetsnbextension~=4.0.12 (from ipywidgets<9.0.0,>=8.1.5->goodfire==0.3.0.dev.9)\n",
            "  Downloading widgetsnbextension-4.0.13-py3-none-any.whl.metadata (1.6 kB)\n",
            "Requirement already satisfied: jupyterlab-widgets~=3.0.12 in /usr/local/lib/python3.10/dist-packages (from ipywidgets<9.0.0,>=8.1.5->goodfire==0.3.0.dev.9) (3.0.13)\n",
            "Requirement already satisfied: annotated-types>=0.6.0 in /usr/local/lib/python3.10/dist-packages (from pydantic<3.0.0,>=2.9.2->goodfire==0.3.0.dev.9) (0.7.0)\n",
            "Requirement already satisfied: pydantic-core==2.27.1 in /usr/local/lib/python3.10/dist-packages (from pydantic<3.0.0,>=2.9.2->goodfire==0.3.0.dev.9) (2.27.1)\n",
            "Requirement already satisfied: typing-extensions>=4.12.2 in /usr/local/lib/python3.10/dist-packages (from pydantic<3.0.0,>=2.9.2->goodfire==0.3.0.dev.9) (4.12.2)\n",
            "Requirement already satisfied: joblib>=1.2.0 in /usr/local/lib/python3.10/dist-packages (from scikit-learn<2.0.0,>=1.6.0->goodfire==0.3.0.dev.9) (1.4.2)\n",
            "Requirement already satisfied: threadpoolctl>=3.1.0 in /usr/local/lib/python3.10/dist-packages (from scikit-learn<2.0.0,>=1.6.0->goodfire==0.3.0.dev.9) (3.5.0)\n",
            "Requirement already satisfied: setuptools>=18.5 in /usr/local/lib/python3.10/dist-packages (from ipython>=6.1.0->ipywidgets<9.0.0,>=8.1.5->goodfire==0.3.0.dev.9) (75.1.0)\n",
            "Collecting jedi>=0.16 (from ipython>=6.1.0->ipywidgets<9.0.0,>=8.1.5->goodfire==0.3.0.dev.9)\n",
            "  Downloading jedi-0.19.2-py2.py3-none-any.whl.metadata (22 kB)\n",
            "Requirement already satisfied: decorator in /usr/local/lib/python3.10/dist-packages (from ipython>=6.1.0->ipywidgets<9.0.0,>=8.1.5->goodfire==0.3.0.dev.9) (4.4.2)\n",
            "Requirement already satisfied: pickleshare in /usr/local/lib/python3.10/dist-packages (from ipython>=6.1.0->ipywidgets<9.0.0,>=8.1.5->goodfire==0.3.0.dev.9) (0.7.5)\n",
            "Requirement already satisfied: prompt-toolkit!=3.0.0,!=3.0.1,<3.1.0,>=2.0.0 in /usr/local/lib/python3.10/dist-packages (from ipython>=6.1.0->ipywidgets<9.0.0,>=8.1.5->goodfire==0.3.0.dev.9) (3.0.48)\n",
            "Requirement already satisfied: pygments in /usr/local/lib/python3.10/dist-packages (from ipython>=6.1.0->ipywidgets<9.0.0,>=8.1.5->goodfire==0.3.0.dev.9) (2.18.0)\n",
            "Requirement already satisfied: backcall in /usr/local/lib/python3.10/dist-packages (from ipython>=6.1.0->ipywidgets<9.0.0,>=8.1.5->goodfire==0.3.0.dev.9) (0.2.0)\n",
            "Requirement already satisfied: matplotlib-inline in /usr/local/lib/python3.10/dist-packages (from ipython>=6.1.0->ipywidgets<9.0.0,>=8.1.5->goodfire==0.3.0.dev.9) (0.1.7)\n",
            "Requirement already satisfied: pexpect>4.3 in /usr/local/lib/python3.10/dist-packages (from ipython>=6.1.0->ipywidgets<9.0.0,>=8.1.5->goodfire==0.3.0.dev.9) (4.9.0)\n",
            "Requirement already satisfied: exceptiongroup in /usr/local/lib/python3.10/dist-packages (from anyio->httpx<0.28.0,>=0.27.2->goodfire==0.3.0.dev.9) (1.2.2)\n",
            "Requirement already satisfied: parso<0.9.0,>=0.8.4 in /usr/local/lib/python3.10/dist-packages (from jedi>=0.16->ipython>=6.1.0->ipywidgets<9.0.0,>=8.1.5->goodfire==0.3.0.dev.9) (0.8.4)\n",
            "Requirement already satisfied: ptyprocess>=0.5 in /usr/local/lib/python3.10/dist-packages (from pexpect>4.3->ipython>=6.1.0->ipywidgets<9.0.0,>=8.1.5->goodfire==0.3.0.dev.9) (0.7.0)\n",
            "Requirement already satisfied: wcwidth in /usr/local/lib/python3.10/dist-packages (from prompt-toolkit!=3.0.0,!=3.0.1,<3.1.0,>=2.0.0->ipython>=6.1.0->ipywidgets<9.0.0,>=8.1.5->goodfire==0.3.0.dev.9) (0.2.13)\n",
            "Downloading goodfire-0.3.0.dev9-py3-none-any.whl (29 kB)\n",
            "Downloading httpx-0.27.2-py3-none-any.whl (76 kB)\n",
            "\u001b[2K   \u001b[90m━━━━━━━━━━━━━━━━━━━━━━━━━━━━━━━━━━━━━━━━\u001b[0m \u001b[32m76.4/76.4 kB\u001b[0m \u001b[31m5.2 MB/s\u001b[0m eta \u001b[36m0:00:00\u001b[0m\n",
            "\u001b[?25hDownloading ipywidgets-8.1.5-py3-none-any.whl (139 kB)\n",
            "\u001b[2K   \u001b[90m━━━━━━━━━━━━━━━━━━━━━━━━━━━━━━━━━━━━━━━━\u001b[0m \u001b[32m139.8/139.8 kB\u001b[0m \u001b[31m9.8 MB/s\u001b[0m eta \u001b[36m0:00:00\u001b[0m\n",
            "\u001b[?25hDownloading scipy-1.14.1-cp310-cp310-manylinux_2_17_x86_64.manylinux2014_x86_64.whl (41.2 MB)\n",
            "\u001b[2K   \u001b[90m━━━━━━━━━━━━━━━━━━━━━━━━━━━━━━━━━━━━━━━━\u001b[0m \u001b[32m41.2/41.2 MB\u001b[0m \u001b[31m12.9 MB/s\u001b[0m eta \u001b[36m0:00:00\u001b[0m\n",
            "\u001b[?25hDownloading comm-0.2.2-py3-none-any.whl (7.2 kB)\n",
            "Downloading widgetsnbextension-4.0.13-py3-none-any.whl (2.3 MB)\n",
            "\u001b[2K   \u001b[90m━━━━━━━━━━━━━━━━━━━━━━━━━━━━━━━━━━━━━━━━\u001b[0m \u001b[32m2.3/2.3 MB\u001b[0m \u001b[31m55.2 MB/s\u001b[0m eta \u001b[36m0:00:00\u001b[0m\n",
            "\u001b[?25hDownloading jedi-0.19.2-py2.py3-none-any.whl (1.6 MB)\n",
            "\u001b[2K   \u001b[90m━━━━━━━━━━━━━━━━━━━━━━━━━━━━━━━━━━━━━━━━\u001b[0m \u001b[32m1.6/1.6 MB\u001b[0m \u001b[31m47.9 MB/s\u001b[0m eta \u001b[36m0:00:00\u001b[0m\n",
            "\u001b[?25hInstalling collected packages: widgetsnbextension, scipy, jedi, comm, httpx, ipywidgets, goodfire\n",
            "  Attempting uninstall: widgetsnbextension\n",
            "    Found existing installation: widgetsnbextension 3.6.10\n",
            "    Uninstalling widgetsnbextension-3.6.10:\n",
            "      Successfully uninstalled widgetsnbextension-3.6.10\n",
            "  Attempting uninstall: scipy\n",
            "    Found existing installation: scipy 1.13.1\n",
            "    Uninstalling scipy-1.13.1:\n",
            "      Successfully uninstalled scipy-1.13.1\n",
            "  Attempting uninstall: httpx\n",
            "    Found existing installation: httpx 0.28.1\n",
            "    Uninstalling httpx-0.28.1:\n",
            "      Successfully uninstalled httpx-0.28.1\n",
            "  Attempting uninstall: ipywidgets\n",
            "    Found existing installation: ipywidgets 7.7.1\n",
            "    Uninstalling ipywidgets-7.7.1:\n",
            "      Successfully uninstalled ipywidgets-7.7.1\n",
            "\u001b[31mERROR: pip's dependency resolver does not currently take into account all the packages that are installed. This behaviour is the source of the following dependency conflicts.\n",
            "gensim 4.3.3 requires scipy<1.14.0,>=1.7.0, but you have scipy 1.14.1 which is incompatible.\u001b[0m\u001b[31m\n",
            "\u001b[0mSuccessfully installed comm-0.2.2 goodfire-0.3.0.dev9 httpx-0.27.2 ipywidgets-8.1.5 jedi-0.19.2 scipy-1.14.1 widgetsnbextension-4.0.13\n"
          ]
        }
      ],
      "source": [
        "!pip install goodfire"
      ]
    },
    {
      "cell_type": "code",
      "execution_count": null,
      "metadata": {
        "id": "Hh-LUvIfHcRA"
      },
      "outputs": [],
      "source": [
        "from google.colab import userdata\n",
        "\n",
        "# Add your Goodfire API Key to your Colab secrets\n",
        "GOODFIRE_API_KEY = userdata.get(\"GOODFIRE_API_KEY\")"
      ]
    },
    {
      "cell_type": "markdown",
      "metadata": {
        "id": "D8-GTWBhHRcS"
      },
      "source": [
        "## Setup"
      ]
    },
    {
      "cell_type": "markdown",
      "metadata": {
        "id": "C88S7yrHHRcT"
      },
      "source": [
        "### Initialize the SDK"
      ]
    },
    {
      "cell_type": "code",
      "execution_count": null,
      "metadata": {
        "id": "lVbdGTcmHRcT"
      },
      "outputs": [],
      "source": [
        "import goodfire\n",
        "\n",
        "client = goodfire.Client(api_key=GOODFIRE_API_KEY)"
      ]
    },
    {
      "cell_type": "markdown",
      "metadata": {
        "id": "B7mndrKsIljd"
      },
      "source": [
        "### Import the classification data"
      ]
    },
    {
      "cell_type": "markdown",
      "metadata": {
        "id": "BKhId8Ag3d8X"
      },
      "source": [
        "In this example, we use the [ChanceFocus/flare-finqa](https://huggingface.co/datasets/ChanceFocus/flare-finqa) dataset."
      ]
    },
    {
      "cell_type": "code",
      "execution_count": null,
      "metadata": {
        "colab": {
          "base_uri": "https://localhost:8080/"
        },
        "id": "iyDn9F0SROTt",
        "outputId": "5b4bffea-a83c-46b5-c3a9-f5fd8e0c5d43"
      },
      "outputs": [
        {
          "name": "stderr",
          "output_type": "stream",
          "text": [
            "/usr/local/lib/python3.10/dist-packages/huggingface_hub/utils/_auth.py:94: UserWarning: \n",
            "The secret `HF_TOKEN` does not exist in your Colab secrets.\n",
            "To authenticate with the Hugging Face Hub, create a token in your settings tab (https://huggingface.co/settings/tokens), set it as secret in your Google Colab and restart your session.\n",
            "You will be able to reuse this secret in all of your notebooks.\n",
            "Please note that authentication is recommended but still optional to access public models or datasets.\n",
            "  warnings.warn(\n"
          ]
        }
      ],
      "source": [
        "import pandas as pd\n",
        "\n",
        "splits = {\n",
        "    \"train\": \"data/train-00000-of-00001-ab9a3b4799b09589.parquet\",\n",
        "    \"test\": \"data/test-00000-of-00001-8bd1e21c671fb670.parquet\",\n",
        "    \"valid\": \"data/valid-00000-of-00001-303e4ba2afe838d4.parquet\",\n",
        "}\n",
        "df = pd.read_parquet(\"hf://datasets/ChanceFocus/en-fpb/\" + splits[\"train\"])"
      ]
    },
    {
      "cell_type": "code",
      "execution_count": null,
      "metadata": {
        "colab": {
          "base_uri": "https://localhost:8080/",
          "height": 597
        },
        "collapsed": true,
        "id": "5j3rHmSXI0sW",
        "outputId": "7e4ae3d5-8861-42f4-f29c-2021542bbe1d"
      },
      "outputs": [
        {
          "data": {
            "application/vnd.google.colaboratory.intrinsic+json": {
              "summary": "{\n  \"name\": \"df\",\n  \"rows\": 3100,\n  \"fields\": [\n    {\n      \"column\": \"id\",\n      \"properties\": {\n        \"dtype\": \"string\",\n        \"num_unique_values\": 3100,\n        \"samples\": [\n          \"fpb718\",\n          \"fpb2953\",\n          \"fpb1805\"\n        ],\n        \"semantic_type\": \"\",\n        \"description\": \"\"\n      }\n    },\n    {\n      \"column\": \"query\",\n      \"properties\": {\n        \"dtype\": \"string\",\n        \"num_unique_values\": 3097,\n        \"samples\": [\n          \"Analyze the sentiment of this statement extracted from a financial news article. Provide your answer as either negative, positive, or neutral.\\nText: The bank also expects additional costs , related to the Dash 8 - Q400 jets , which the group shelved in October 2007 .\\nAnswer:\",\n          \"Analyze the sentiment of this statement extracted from a financial news article. Provide your answer as either negative, positive, or neutral.\\nText: Talvik says the relocation of application programs on servers will continue , while HP servers were approved because of HP supplying a tailor-made solution to Elisa .\\nAnswer:\",\n          \"Analyze the sentiment of this statement extracted from a financial news article. Provide your answer as either negative, positive, or neutral.\\nText: Tekla will organize an information meeting for analysts and media at WTC Helsinki Marski meeting room , Aleksanterinkatu 17 , the same day at 12:30 - 1:30 p.m. Light lunch will be served .\\nAnswer:\"\n        ],\n        \"semantic_type\": \"\",\n        \"description\": \"\"\n      }\n    },\n    {\n      \"column\": \"answer\",\n      \"properties\": {\n        \"dtype\": \"category\",\n        \"num_unique_values\": 3,\n        \"samples\": [\n          \"neutral\",\n          \"positive\",\n          \"negative\"\n        ],\n        \"semantic_type\": \"\",\n        \"description\": \"\"\n      }\n    },\n    {\n      \"column\": \"text\",\n      \"properties\": {\n        \"dtype\": \"string\",\n        \"num_unique_values\": 3097,\n        \"samples\": [\n          \"The bank also expects additional costs , related to the Dash 8 - Q400 jets , which the group shelved in October 2007 .\",\n          \"Talvik says the relocation of application programs on servers will continue , while HP servers were approved because of HP supplying a tailor-made solution to Elisa .\",\n          \"Tekla will organize an information meeting for analysts and media at WTC Helsinki Marski meeting room , Aleksanterinkatu 17 , the same day at 12:30 - 1:30 p.m. Light lunch will be served .\"\n        ],\n        \"semantic_type\": \"\",\n        \"description\": \"\"\n      }\n    },\n    {\n      \"column\": \"choices\",\n      \"properties\": {\n        \"dtype\": \"object\",\n        \"semantic_type\": \"\",\n        \"description\": \"\"\n      }\n    },\n    {\n      \"column\": \"gold\",\n      \"properties\": {\n        \"dtype\": \"number\",\n        \"std\": 0,\n        \"min\": 0,\n        \"max\": 2,\n        \"num_unique_values\": 3,\n        \"samples\": [\n          1,\n          0,\n          2\n        ],\n        \"semantic_type\": \"\",\n        \"description\": \"\"\n      }\n    }\n  ]\n}",
              "type": "dataframe",
              "variable_name": "df"
            },
            "text/html": [
              "\n",
              "  <div id=\"df-66fae052-9813-46f7-84e2-5f0679c3b868\" class=\"colab-df-container\">\n",
              "    <div>\n",
              "<style scoped>\n",
              "    .dataframe tbody tr th:only-of-type {\n",
              "        vertical-align: middle;\n",
              "    }\n",
              "\n",
              "    .dataframe tbody tr th {\n",
              "        vertical-align: top;\n",
              "    }\n",
              "\n",
              "    .dataframe thead th {\n",
              "        text-align: right;\n",
              "    }\n",
              "</style>\n",
              "<table border=\"1\" class=\"dataframe\">\n",
              "  <thead>\n",
              "    <tr style=\"text-align: right;\">\n",
              "      <th></th>\n",
              "      <th>id</th>\n",
              "      <th>query</th>\n",
              "      <th>answer</th>\n",
              "      <th>text</th>\n",
              "      <th>choices</th>\n",
              "      <th>gold</th>\n",
              "    </tr>\n",
              "  </thead>\n",
              "  <tbody>\n",
              "    <tr>\n",
              "      <th>0</th>\n",
              "      <td>fpb0</td>\n",
              "      <td>Analyze the sentiment of this statement extrac...</td>\n",
              "      <td>neutral</td>\n",
              "      <td>The five-storey , eco-efficient building will ...</td>\n",
              "      <td>[positive, neutral, negative]</td>\n",
              "      <td>1</td>\n",
              "    </tr>\n",
              "    <tr>\n",
              "      <th>1</th>\n",
              "      <td>fpb1</td>\n",
              "      <td>Analyze the sentiment of this statement extrac...</td>\n",
              "      <td>positive</td>\n",
              "      <td>According to Sepp+ñnen , the new technology UM...</td>\n",
              "      <td>[positive, neutral, negative]</td>\n",
              "      <td>0</td>\n",
              "    </tr>\n",
              "    <tr>\n",
              "      <th>2</th>\n",
              "      <td>fpb2</td>\n",
              "      <td>Analyze the sentiment of this statement extrac...</td>\n",
              "      <td>negative</td>\n",
              "      <td>The currency effect had a 3.0 pct , or 20 mln ...</td>\n",
              "      <td>[positive, neutral, negative]</td>\n",
              "      <td>2</td>\n",
              "    </tr>\n",
              "    <tr>\n",
              "      <th>3</th>\n",
              "      <td>fpb3</td>\n",
              "      <td>Analyze the sentiment of this statement extrac...</td>\n",
              "      <td>positive</td>\n",
              "      <td>`` We have analyzed Kaupthing Bank Sweden and ...</td>\n",
              "      <td>[positive, neutral, negative]</td>\n",
              "      <td>0</td>\n",
              "    </tr>\n",
              "    <tr>\n",
              "      <th>4</th>\n",
              "      <td>fpb4</td>\n",
              "      <td>Analyze the sentiment of this statement extrac...</td>\n",
              "      <td>neutral</td>\n",
              "      <td>For the purposes of the possible acquisition ,...</td>\n",
              "      <td>[positive, neutral, negative]</td>\n",
              "      <td>1</td>\n",
              "    </tr>\n",
              "    <tr>\n",
              "      <th>...</th>\n",
              "      <td>...</td>\n",
              "      <td>...</td>\n",
              "      <td>...</td>\n",
              "      <td>...</td>\n",
              "      <td>...</td>\n",
              "      <td>...</td>\n",
              "    </tr>\n",
              "    <tr>\n",
              "      <th>3095</th>\n",
              "      <td>fpb3095</td>\n",
              "      <td>Analyze the sentiment of this statement extrac...</td>\n",
              "      <td>negative</td>\n",
              "      <td>The announcement comes two weeks before a key ...</td>\n",
              "      <td>[positive, neutral, negative]</td>\n",
              "      <td>2</td>\n",
              "    </tr>\n",
              "    <tr>\n",
              "      <th>3096</th>\n",
              "      <td>fpb3096</td>\n",
              "      <td>Analyze the sentiment of this statement extrac...</td>\n",
              "      <td>negative</td>\n",
              "      <td>Operating profit fell to EUR 6.2 mn from EUR 8...</td>\n",
              "      <td>[positive, neutral, negative]</td>\n",
              "      <td>2</td>\n",
              "    </tr>\n",
              "    <tr>\n",
              "      <th>3097</th>\n",
              "      <td>fpb3097</td>\n",
              "      <td>Analyze the sentiment of this statement extrac...</td>\n",
              "      <td>positive</td>\n",
              "      <td>Cargo volume grew by 7 % .</td>\n",
              "      <td>[positive, neutral, negative]</td>\n",
              "      <td>0</td>\n",
              "    </tr>\n",
              "    <tr>\n",
              "      <th>3098</th>\n",
              "      <td>fpb3098</td>\n",
              "      <td>Analyze the sentiment of this statement extrac...</td>\n",
              "      <td>neutral</td>\n",
              "      <td>Nokia said the outcome was a `` fair and respo...</td>\n",
              "      <td>[positive, neutral, negative]</td>\n",
              "      <td>1</td>\n",
              "    </tr>\n",
              "    <tr>\n",
              "      <th>3099</th>\n",
              "      <td>fpb3099</td>\n",
              "      <td>Analyze the sentiment of this statement extrac...</td>\n",
              "      <td>neutral</td>\n",
              "      <td>M+ñkel+ñ is demanding a new Board for the comp...</td>\n",
              "      <td>[positive, neutral, negative]</td>\n",
              "      <td>1</td>\n",
              "    </tr>\n",
              "  </tbody>\n",
              "</table>\n",
              "<p>3100 rows × 6 columns</p>\n",
              "</div>\n",
              "    <div class=\"colab-df-buttons\">\n",
              "\n",
              "  <div class=\"colab-df-container\">\n",
              "    <button class=\"colab-df-convert\" onclick=\"convertToInteractive('df-66fae052-9813-46f7-84e2-5f0679c3b868')\"\n",
              "            title=\"Convert this dataframe to an interactive table.\"\n",
              "            style=\"display:none;\">\n",
              "\n",
              "  <svg xmlns=\"http://www.w3.org/2000/svg\" height=\"24px\" viewBox=\"0 -960 960 960\">\n",
              "    <path d=\"M120-120v-720h720v720H120Zm60-500h600v-160H180v160Zm220 220h160v-160H400v160Zm0 220h160v-160H400v160ZM180-400h160v-160H180v160Zm440 0h160v-160H620v160ZM180-180h160v-160H180v160Zm440 0h160v-160H620v160Z\"/>\n",
              "  </svg>\n",
              "    </button>\n",
              "\n",
              "  <style>\n",
              "    .colab-df-container {\n",
              "      display:flex;\n",
              "      gap: 12px;\n",
              "    }\n",
              "\n",
              "    .colab-df-convert {\n",
              "      background-color: #E8F0FE;\n",
              "      border: none;\n",
              "      border-radius: 50%;\n",
              "      cursor: pointer;\n",
              "      display: none;\n",
              "      fill: #1967D2;\n",
              "      height: 32px;\n",
              "      padding: 0 0 0 0;\n",
              "      width: 32px;\n",
              "    }\n",
              "\n",
              "    .colab-df-convert:hover {\n",
              "      background-color: #E2EBFA;\n",
              "      box-shadow: 0px 1px 2px rgba(60, 64, 67, 0.3), 0px 1px 3px 1px rgba(60, 64, 67, 0.15);\n",
              "      fill: #174EA6;\n",
              "    }\n",
              "\n",
              "    .colab-df-buttons div {\n",
              "      margin-bottom: 4px;\n",
              "    }\n",
              "\n",
              "    [theme=dark] .colab-df-convert {\n",
              "      background-color: #3B4455;\n",
              "      fill: #D2E3FC;\n",
              "    }\n",
              "\n",
              "    [theme=dark] .colab-df-convert:hover {\n",
              "      background-color: #434B5C;\n",
              "      box-shadow: 0px 1px 3px 1px rgba(0, 0, 0, 0.15);\n",
              "      filter: drop-shadow(0px 1px 2px rgba(0, 0, 0, 0.3));\n",
              "      fill: #FFFFFF;\n",
              "    }\n",
              "  </style>\n",
              "\n",
              "    <script>\n",
              "      const buttonEl =\n",
              "        document.querySelector('#df-66fae052-9813-46f7-84e2-5f0679c3b868 button.colab-df-convert');\n",
              "      buttonEl.style.display =\n",
              "        google.colab.kernel.accessAllowed ? 'block' : 'none';\n",
              "\n",
              "      async function convertToInteractive(key) {\n",
              "        const element = document.querySelector('#df-66fae052-9813-46f7-84e2-5f0679c3b868');\n",
              "        const dataTable =\n",
              "          await google.colab.kernel.invokeFunction('convertToInteractive',\n",
              "                                                    [key], {});\n",
              "        if (!dataTable) return;\n",
              "\n",
              "        const docLinkHtml = 'Like what you see? Visit the ' +\n",
              "          '<a target=\"_blank\" href=https://colab.research.google.com/notebooks/data_table.ipynb>data table notebook</a>'\n",
              "          + ' to learn more about interactive tables.';\n",
              "        element.innerHTML = '';\n",
              "        dataTable['output_type'] = 'display_data';\n",
              "        await google.colab.output.renderOutput(dataTable, element);\n",
              "        const docLink = document.createElement('div');\n",
              "        docLink.innerHTML = docLinkHtml;\n",
              "        element.appendChild(docLink);\n",
              "      }\n",
              "    </script>\n",
              "  </div>\n",
              "\n",
              "\n",
              "<div id=\"df-430c87a8-878b-4a67-9ad3-5d09e49e0150\">\n",
              "  <button class=\"colab-df-quickchart\" onclick=\"quickchart('df-430c87a8-878b-4a67-9ad3-5d09e49e0150')\"\n",
              "            title=\"Suggest charts\"\n",
              "            style=\"display:none;\">\n",
              "\n",
              "<svg xmlns=\"http://www.w3.org/2000/svg\" height=\"24px\"viewBox=\"0 0 24 24\"\n",
              "     width=\"24px\">\n",
              "    <g>\n",
              "        <path d=\"M19 3H5c-1.1 0-2 .9-2 2v14c0 1.1.9 2 2 2h14c1.1 0 2-.9 2-2V5c0-1.1-.9-2-2-2zM9 17H7v-7h2v7zm4 0h-2V7h2v10zm4 0h-2v-4h2v4z\"/>\n",
              "    </g>\n",
              "</svg>\n",
              "  </button>\n",
              "\n",
              "<style>\n",
              "  .colab-df-quickchart {\n",
              "      --bg-color: #E8F0FE;\n",
              "      --fill-color: #1967D2;\n",
              "      --hover-bg-color: #E2EBFA;\n",
              "      --hover-fill-color: #174EA6;\n",
              "      --disabled-fill-color: #AAA;\n",
              "      --disabled-bg-color: #DDD;\n",
              "  }\n",
              "\n",
              "  [theme=dark] .colab-df-quickchart {\n",
              "      --bg-color: #3B4455;\n",
              "      --fill-color: #D2E3FC;\n",
              "      --hover-bg-color: #434B5C;\n",
              "      --hover-fill-color: #FFFFFF;\n",
              "      --disabled-bg-color: #3B4455;\n",
              "      --disabled-fill-color: #666;\n",
              "  }\n",
              "\n",
              "  .colab-df-quickchart {\n",
              "    background-color: var(--bg-color);\n",
              "    border: none;\n",
              "    border-radius: 50%;\n",
              "    cursor: pointer;\n",
              "    display: none;\n",
              "    fill: var(--fill-color);\n",
              "    height: 32px;\n",
              "    padding: 0;\n",
              "    width: 32px;\n",
              "  }\n",
              "\n",
              "  .colab-df-quickchart:hover {\n",
              "    background-color: var(--hover-bg-color);\n",
              "    box-shadow: 0 1px 2px rgba(60, 64, 67, 0.3), 0 1px 3px 1px rgba(60, 64, 67, 0.15);\n",
              "    fill: var(--button-hover-fill-color);\n",
              "  }\n",
              "\n",
              "  .colab-df-quickchart-complete:disabled,\n",
              "  .colab-df-quickchart-complete:disabled:hover {\n",
              "    background-color: var(--disabled-bg-color);\n",
              "    fill: var(--disabled-fill-color);\n",
              "    box-shadow: none;\n",
              "  }\n",
              "\n",
              "  .colab-df-spinner {\n",
              "    border: 2px solid var(--fill-color);\n",
              "    border-color: transparent;\n",
              "    border-bottom-color: var(--fill-color);\n",
              "    animation:\n",
              "      spin 1s steps(1) infinite;\n",
              "  }\n",
              "\n",
              "  @keyframes spin {\n",
              "    0% {\n",
              "      border-color: transparent;\n",
              "      border-bottom-color: var(--fill-color);\n",
              "      border-left-color: var(--fill-color);\n",
              "    }\n",
              "    20% {\n",
              "      border-color: transparent;\n",
              "      border-left-color: var(--fill-color);\n",
              "      border-top-color: var(--fill-color);\n",
              "    }\n",
              "    30% {\n",
              "      border-color: transparent;\n",
              "      border-left-color: var(--fill-color);\n",
              "      border-top-color: var(--fill-color);\n",
              "      border-right-color: var(--fill-color);\n",
              "    }\n",
              "    40% {\n",
              "      border-color: transparent;\n",
              "      border-right-color: var(--fill-color);\n",
              "      border-top-color: var(--fill-color);\n",
              "    }\n",
              "    60% {\n",
              "      border-color: transparent;\n",
              "      border-right-color: var(--fill-color);\n",
              "    }\n",
              "    80% {\n",
              "      border-color: transparent;\n",
              "      border-right-color: var(--fill-color);\n",
              "      border-bottom-color: var(--fill-color);\n",
              "    }\n",
              "    90% {\n",
              "      border-color: transparent;\n",
              "      border-bottom-color: var(--fill-color);\n",
              "    }\n",
              "  }\n",
              "</style>\n",
              "\n",
              "  <script>\n",
              "    async function quickchart(key) {\n",
              "      const quickchartButtonEl =\n",
              "        document.querySelector('#' + key + ' button');\n",
              "      quickchartButtonEl.disabled = true;  // To prevent multiple clicks.\n",
              "      quickchartButtonEl.classList.add('colab-df-spinner');\n",
              "      try {\n",
              "        const charts = await google.colab.kernel.invokeFunction(\n",
              "            'suggestCharts', [key], {});\n",
              "      } catch (error) {\n",
              "        console.error('Error during call to suggestCharts:', error);\n",
              "      }\n",
              "      quickchartButtonEl.classList.remove('colab-df-spinner');\n",
              "      quickchartButtonEl.classList.add('colab-df-quickchart-complete');\n",
              "    }\n",
              "    (() => {\n",
              "      let quickchartButtonEl =\n",
              "        document.querySelector('#df-430c87a8-878b-4a67-9ad3-5d09e49e0150 button');\n",
              "      quickchartButtonEl.style.display =\n",
              "        google.colab.kernel.accessAllowed ? 'block' : 'none';\n",
              "    })();\n",
              "  </script>\n",
              "</div>\n",
              "\n",
              "  <div id=\"id_56970fe8-992f-484f-a997-fb5c8d761146\">\n",
              "    <style>\n",
              "      .colab-df-generate {\n",
              "        background-color: #E8F0FE;\n",
              "        border: none;\n",
              "        border-radius: 50%;\n",
              "        cursor: pointer;\n",
              "        display: none;\n",
              "        fill: #1967D2;\n",
              "        height: 32px;\n",
              "        padding: 0 0 0 0;\n",
              "        width: 32px;\n",
              "      }\n",
              "\n",
              "      .colab-df-generate:hover {\n",
              "        background-color: #E2EBFA;\n",
              "        box-shadow: 0px 1px 2px rgba(60, 64, 67, 0.3), 0px 1px 3px 1px rgba(60, 64, 67, 0.15);\n",
              "        fill: #174EA6;\n",
              "      }\n",
              "\n",
              "      [theme=dark] .colab-df-generate {\n",
              "        background-color: #3B4455;\n",
              "        fill: #D2E3FC;\n",
              "      }\n",
              "\n",
              "      [theme=dark] .colab-df-generate:hover {\n",
              "        background-color: #434B5C;\n",
              "        box-shadow: 0px 1px 3px 1px rgba(0, 0, 0, 0.15);\n",
              "        filter: drop-shadow(0px 1px 2px rgba(0, 0, 0, 0.3));\n",
              "        fill: #FFFFFF;\n",
              "      }\n",
              "    </style>\n",
              "    <button class=\"colab-df-generate\" onclick=\"generateWithVariable('df')\"\n",
              "            title=\"Generate code using this dataframe.\"\n",
              "            style=\"display:none;\">\n",
              "\n",
              "  <svg xmlns=\"http://www.w3.org/2000/svg\" height=\"24px\"viewBox=\"0 0 24 24\"\n",
              "       width=\"24px\">\n",
              "    <path d=\"M7,19H8.4L18.45,9,17,7.55,7,17.6ZM5,21V16.75L18.45,3.32a2,2,0,0,1,2.83,0l1.4,1.43a1.91,1.91,0,0,1,.58,1.4,1.91,1.91,0,0,1-.58,1.4L9.25,21ZM18.45,9,17,7.55Zm-12,3A5.31,5.31,0,0,0,4.9,8.1,5.31,5.31,0,0,0,1,6.5,5.31,5.31,0,0,0,4.9,4.9,5.31,5.31,0,0,0,6.5,1,5.31,5.31,0,0,0,8.1,4.9,5.31,5.31,0,0,0,12,6.5,5.46,5.46,0,0,0,6.5,12Z\"/>\n",
              "  </svg>\n",
              "    </button>\n",
              "    <script>\n",
              "      (() => {\n",
              "      const buttonEl =\n",
              "        document.querySelector('#id_56970fe8-992f-484f-a997-fb5c8d761146 button.colab-df-generate');\n",
              "      buttonEl.style.display =\n",
              "        google.colab.kernel.accessAllowed ? 'block' : 'none';\n",
              "\n",
              "      buttonEl.onclick = () => {\n",
              "        google.colab.notebook.generateWithVariable('df');\n",
              "      }\n",
              "      })();\n",
              "    </script>\n",
              "  </div>\n",
              "\n",
              "    </div>\n",
              "  </div>\n"
            ],
            "text/plain": [
              "           id                                              query    answer  \\\n",
              "0        fpb0  Analyze the sentiment of this statement extrac...   neutral   \n",
              "1        fpb1  Analyze the sentiment of this statement extrac...  positive   \n",
              "2        fpb2  Analyze the sentiment of this statement extrac...  negative   \n",
              "3        fpb3  Analyze the sentiment of this statement extrac...  positive   \n",
              "4        fpb4  Analyze the sentiment of this statement extrac...   neutral   \n",
              "...       ...                                                ...       ...   \n",
              "3095  fpb3095  Analyze the sentiment of this statement extrac...  negative   \n",
              "3096  fpb3096  Analyze the sentiment of this statement extrac...  negative   \n",
              "3097  fpb3097  Analyze the sentiment of this statement extrac...  positive   \n",
              "3098  fpb3098  Analyze the sentiment of this statement extrac...   neutral   \n",
              "3099  fpb3099  Analyze the sentiment of this statement extrac...   neutral   \n",
              "\n",
              "                                                   text  \\\n",
              "0     The five-storey , eco-efficient building will ...   \n",
              "1     According to Sepp+ñnen , the new technology UM...   \n",
              "2     The currency effect had a 3.0 pct , or 20 mln ...   \n",
              "3     `` We have analyzed Kaupthing Bank Sweden and ...   \n",
              "4     For the purposes of the possible acquisition ,...   \n",
              "...                                                 ...   \n",
              "3095  The announcement comes two weeks before a key ...   \n",
              "3096  Operating profit fell to EUR 6.2 mn from EUR 8...   \n",
              "3097                         Cargo volume grew by 7 % .   \n",
              "3098  Nokia said the outcome was a `` fair and respo...   \n",
              "3099  M+ñkel+ñ is demanding a new Board for the comp...   \n",
              "\n",
              "                            choices  gold  \n",
              "0     [positive, neutral, negative]     1  \n",
              "1     [positive, neutral, negative]     0  \n",
              "2     [positive, neutral, negative]     2  \n",
              "3     [positive, neutral, negative]     0  \n",
              "4     [positive, neutral, negative]     1  \n",
              "...                             ...   ...  \n",
              "3095  [positive, neutral, negative]     2  \n",
              "3096  [positive, neutral, negative]     2  \n",
              "3097  [positive, neutral, negative]     0  \n",
              "3098  [positive, neutral, negative]     1  \n",
              "3099  [positive, neutral, negative]     1  \n",
              "\n",
              "[3100 rows x 6 columns]"
            ]
          },
          "execution_count": 5,
          "metadata": {},
          "output_type": "execute_result"
        }
      ],
      "source": [
        "df"
      ]
    },
    {
      "cell_type": "markdown",
      "metadata": {
        "id": "sk_7yCzeIUjT"
      },
      "source": [
        "## Get relevant feature activations for the classification task"
      ]
    },
    {
      "cell_type": "markdown",
      "metadata": {
        "id": "p0yTXEz6HRcU"
      },
      "source": [
        "### Extract features for each input class"
      ]
    },
    {
      "cell_type": "code",
      "execution_count": null,
      "metadata": {
        "id": "bmYhXMwMKs3R"
      },
      "outputs": [],
      "source": [
        "# Instantiate a Goodfire variant model using \"meta-llama/Meta-Llama-3.1-8B-Instruct\"\n",
        "variant = goodfire.Variant(\"meta-llama/Meta-Llama-3.1-8B-Instruct\")"
      ]
    },
    {
      "cell_type": "code",
      "execution_count": null,
      "metadata": {
        "id": "N0UODaYOtkza"
      },
      "outputs": [],
      "source": [
        "shuffled_df = df.sample(frac=1, random_state=42)\n",
        "positive_examples = shuffled_df[shuffled_df[\"answer\"] == \"positive\"]\n",
        "negative_examples = shuffled_df[shuffled_df[\"answer\"] == \"negative\"]\n",
        "neutral_examples = shuffled_df[shuffled_df[\"answer\"] == \"neutral\"]\n",
        "\n",
        "FEATURE_COMPUTE_SIZE = 60\n",
        "CLASSIFIER_FULL_SET_SIZE = 150"
      ]
    },
    {
      "cell_type": "markdown",
      "metadata": {
        "id": "ctwG-KW039Z_"
      },
      "source": [
        "Using the [`contrast`](https://docs.goodfire.ai/sdk-reference/features#contrast) and [`rerank`](https://docs.goodfire.ai/sdk-reference/features#rerank) endpoint, we surface SAE features that are most relevant to positive and negative class labels."
      ]
    },
    {
      "cell_type": "code",
      "execution_count": null,
      "metadata": {
        "colab": {
          "base_uri": "https://localhost:8080/"
        },
        "id": "pp_mMjKAHaoX",
        "outputId": "2ce62074-acb0-4df9-8d61-1b6c53ca97f9"
      },
      "outputs": [
        {
          "data": {
            "text/plain": [
              "FeatureGroup([\n",
              "   0: \"Stock market ticker syntax and exchange listings\",\n",
              "   1: \"Market demand and economic growth terminology\",\n",
              "   2: \"Business and market growth potential in investment contexts\",\n",
              "   3: \"Stock exchanges and securities market infrastructure\",\n",
              "   4: \"Stock ticker symbols and financial notation\",\n",
              "   5: \"News sentiment classification, especially for financial impacts\",\n",
              "   6: \"Business growth and market competitiveness\",\n",
              "   7: \"Business expansion into emerging markets\",\n",
              "   8: \"Corporate equity ownership and share-based transactions\",\n",
              "   ...\n",
              "   70: \"Start of new conversation segment requiring ethical consistency\"\n",
              "])"
            ]
          },
          "execution_count": 10,
          "metadata": {},
          "output_type": "execute_result"
        }
      ],
      "source": [
        "positive_news_features, negative_news_features = client.features.contrast(\n",
        "    dataset_1=[\n",
        "        [\n",
        "            {\n",
        "                \"role\": \"user\",\n",
        "                \"content\": f\"Is the following good or bad news for investors? {text}\",\n",
        "            },\n",
        "            {\"role\": \"assistant\", \"content\": \"good\"},\n",
        "        ]\n",
        "        for text in positive_examples[0:FEATURE_COMPUTE_SIZE][\"text\"].tolist()\n",
        "    ],\n",
        "    dataset_2=[\n",
        "        [\n",
        "            {\n",
        "                \"role\": \"user\",\n",
        "                \"content\": f\"Is the following good or bad news for investors? {text}\",\n",
        "            },\n",
        "            {\"role\": \"assistant\", \"content\": \"bad\"},\n",
        "        ]\n",
        "        for text in negative_examples[0:FEATURE_COMPUTE_SIZE][\"text\"].tolist()\n",
        "    ],\n",
        "    model=variant,\n",
        "    top_k=100,\n",
        ")\n",
        "\n",
        "# Rerank the contrastive features for relevance to financial market sentiment\n",
        "positive_news_features = client.features.rerank(\n",
        "    features=positive_news_features,\n",
        "    query=\"bull market\",\n",
        "    model=variant,\n",
        "    top_k=50\n",
        ")\n",
        "negative_news_features = client.features.rerank(\n",
        "    features=negative_news_features,\n",
        "    query=\"bear market\",\n",
        "    model=variant,\n",
        "    top_k=50\n",
        ")\n",
        "features_to_look_at = positive_news_features | negative_news_features\n",
        "features_to_look_at"
      ]
    },
    {
      "cell_type": "code",
      "execution_count": null,
      "metadata": {
        "id": "DSDEmddqDYD_"
      },
      "outputs": [],
      "source": [
        "from itertools import combinations\n",
        "\n",
        "\n",
        "class FeatureSearch:\n",
        "    \"\"\"A class for systematically searching through combinations of features to evaluate their predictive power.\"\"\"\n",
        "\n",
        "    def __init__(self, feature_group):\n",
        "        self.feature_group = feature_group\n",
        "\n",
        "    def grid(self, k_features_per_combo: int = 2):\n",
        "        \"\"\"Perform a grid search over all possible combinations of features.\n",
        "\n",
        "        Args:\n",
        "            k_features_per_combo (int): The number of features to include in each combination.\n",
        "\n",
        "        Returns:\n",
        "            list: All possible k-sized combinations of features from the feature group.\n",
        "        \"\"\"\n",
        "\n",
        "        # Get all possible combinations of features\n",
        "        return list(combinations(self.feature_group, k_features_per_combo))"
      ]
    },
    {
      "cell_type": "markdown",
      "metadata": {
        "id": "FJbwZGV4IOoa"
      },
      "source": [
        "### Retrieve feature activations"
      ]
    },
    {
      "cell_type": "markdown",
      "metadata": {
        "id": "E7OaKtIW5CBL"
      },
      "source": [
        "Using the [`inspect`](https://docs.goodfire.ai/sdk-reference/features#inspect) endpoint, we retrieve feature activations from the `features_to_look_at` FeatureGroup (defined in the previous step) for each class label."
      ]
    },
    {
      "cell_type": "code",
      "execution_count": null,
      "metadata": {
        "id": "VHOwyRnfKRbl"
      },
      "outputs": [],
      "source": [
        "async_client = goodfire.AsyncClient(api_key=GOODFIRE_API_KEY)"
      ]
    },
    {
      "cell_type": "code",
      "execution_count": null,
      "metadata": {
        "colab": {
          "base_uri": "https://localhost:8080/"
        },
        "collapsed": true,
        "id": "ZA9W_HRRJCMt",
        "outputId": "10d80d22-4033-48f9-c2ae-664ef92da6a4"
      },
      "outputs": [
        {
          "name": "stdout",
          "output_type": "stream",
          "text": [
            "Computing positive news features...\n"
          ]
        },
        {
          "name": "stderr",
          "output_type": "stream",
          "text": [
            "100%|██████████| 10/10 [00:04<00:00,  2.33it/s]\n",
            "100%|██████████| 10/10 [00:03<00:00,  2.52it/s]\n",
            "100%|██████████| 10/10 [00:04<00:00,  2.42it/s]\n",
            "100%|██████████| 10/10 [00:03<00:00,  2.63it/s]\n",
            "100%|██████████| 10/10 [00:05<00:00,  1.91it/s]\n",
            "100%|██████████| 10/10 [00:05<00:00,  1.99it/s]\n",
            "100%|██████████| 10/10 [00:04<00:00,  2.39it/s]\n",
            "100%|██████████| 10/10 [00:04<00:00,  2.28it/s]\n",
            "100%|██████████| 10/10 [00:04<00:00,  2.36it/s]\n",
            "100%|██████████| 10/10 [00:03<00:00,  2.59it/s]\n",
            "100%|██████████| 10/10 [00:03<00:00,  2.70it/s]\n",
            "100%|██████████| 10/10 [00:07<00:00,  1.32it/s]\n",
            "100%|██████████| 10/10 [00:04<00:00,  2.29it/s]\n",
            "100%|██████████| 10/10 [00:03<00:00,  2.67it/s]\n",
            "100%|██████████| 10/10 [00:06<00:00,  1.44it/s]\n"
          ]
        },
        {
          "name": "stdout",
          "output_type": "stream",
          "text": [
            "Computing negative news features...\n"
          ]
        },
        {
          "name": "stderr",
          "output_type": "stream",
          "text": [
            "100%|██████████| 10/10 [00:04<00:00,  2.41it/s]\n",
            "100%|██████████| 10/10 [00:04<00:00,  2.44it/s]\n",
            "100%|██████████| 10/10 [00:04<00:00,  2.18it/s]\n",
            "100%|██████████| 10/10 [00:04<00:00,  2.46it/s]\n",
            "100%|██████████| 10/10 [00:03<00:00,  2.52it/s]\n",
            "100%|██████████| 10/10 [00:05<00:00,  1.71it/s]\n",
            "100%|██████████| 10/10 [00:04<00:00,  2.06it/s]\n",
            "100%|██████████| 10/10 [00:03<00:00,  2.54it/s]\n",
            "100%|██████████| 10/10 [00:04<00:00,  2.38it/s]\n",
            "100%|██████████| 10/10 [00:04<00:00,  2.03it/s]\n",
            "100%|██████████| 10/10 [00:06<00:00,  1.65it/s]\n",
            "100%|██████████| 10/10 [00:07<00:00,  1.36it/s]\n",
            "100%|██████████| 10/10 [00:04<00:00,  2.11it/s]\n",
            "100%|██████████| 10/10 [00:04<00:00,  2.17it/s]\n",
            "100%|██████████| 10/10 [00:04<00:00,  2.31it/s]\n"
          ]
        },
        {
          "name": "stdout",
          "output_type": "stream",
          "text": [
            "Computing neutral news features...\n"
          ]
        },
        {
          "name": "stderr",
          "output_type": "stream",
          "text": [
            "100%|██████████| 10/10 [00:04<00:00,  2.06it/s]\n",
            "100%|██████████| 10/10 [00:04<00:00,  2.05it/s]\n",
            "100%|██████████| 10/10 [00:04<00:00,  2.05it/s]\n",
            "100%|██████████| 10/10 [00:04<00:00,  2.28it/s]\n",
            "100%|██████████| 10/10 [00:05<00:00,  1.74it/s]\n",
            "100%|██████████| 10/10 [00:07<00:00,  1.32it/s]\n",
            "100%|██████████| 10/10 [00:04<00:00,  2.47it/s]\n",
            "100%|██████████| 10/10 [00:03<00:00,  2.62it/s]\n",
            "100%|██████████| 10/10 [00:06<00:00,  1.49it/s]\n",
            "100%|██████████| 10/10 [00:03<00:00,  2.52it/s]\n",
            "100%|██████████| 10/10 [00:04<00:00,  2.32it/s]\n",
            "100%|██████████| 10/10 [00:06<00:00,  1.63it/s]\n",
            "100%|██████████| 10/10 [00:04<00:00,  2.33it/s]\n",
            "100%|██████████| 10/10 [00:03<00:00,  2.75it/s]\n",
            "100%|██████████| 10/10 [00:04<00:00,  2.35it/s]\n"
          ]
        }
      ],
      "source": [
        "import pandas as pd\n",
        "import asyncio\n",
        "from tqdm.asyncio import tqdm_asyncio\n",
        "\n",
        "MIN_SAMPLES_PER_CLASS = min(\n",
        "    len(negative_examples),\n",
        "    len(positive_examples),\n",
        "    len(neutral_examples),\n",
        "    CLASSIFIER_FULL_SET_SIZE,\n",
        ")\n",
        "\n",
        "async def _get_feature_acts_for_sample_class(\n",
        "    sample_class: pd.DataFrame,\n",
        "    features_to_use_for_classification: goodfire.FeatureGroup,\n",
        "    k=100,\n",
        "    batch_size=10\n",
        "):\n",
        "    if k < len(features_to_use_for_classification):\n",
        "        raise ValueError(\n",
        "            \"k must be greater than the number of features to use for classification\"\n",
        "        )\n",
        "\n",
        "    samples = []\n",
        "    all_samples = sample_class[0:MIN_SAMPLES_PER_CLASS]\n",
        "\n",
        "    # Process in batches\n",
        "    for i in range(0, len(all_samples), batch_size):\n",
        "        batch = all_samples[i:i + batch_size]\n",
        "        tasks = []\n",
        "\n",
        "        for idx, row in batch.iterrows():\n",
        "            text = row[\"text\"]\n",
        "            tasks.append(\n",
        "                async_client.features.inspect(\n",
        "                    [\n",
        "                        {\n",
        "                            \"role\": \"user\",\n",
        "                            \"content\": f\"is the following good or bad for investors? {text}\",\n",
        "                        }\n",
        "                    ],\n",
        "                    model=variant,\n",
        "                    features=features_to_use_for_classification,\n",
        "                )\n",
        "            )\n",
        "\n",
        "        # Process this batch\n",
        "        batch_results = await tqdm_asyncio.gather(*tasks)\n",
        "        for context in batch_results:\n",
        "            features = context.top(k=k)\n",
        "            samples.append(features)\n",
        "\n",
        "    return samples\n",
        "\n",
        "async def process_all_classes():\n",
        "    print(\"Computing positive news features...\")\n",
        "    positive_class_features = await _get_feature_acts_for_sample_class(\n",
        "        positive_examples, features_to_look_at, k=100\n",
        "    )\n",
        "\n",
        "    print(\"Computing negative news features...\")\n",
        "    negative_class_features = await _get_feature_acts_for_sample_class(\n",
        "        negative_examples, features_to_look_at, k=100\n",
        "    )\n",
        "\n",
        "    print(\"Computing neutral news features...\")\n",
        "    neutral_class_features = await _get_feature_acts_for_sample_class(\n",
        "        neutral_examples, features_to_look_at, k=100\n",
        "    )\n",
        "\n",
        "    return positive_class_features, negative_class_features, neutral_class_features\n",
        "\n",
        "# Run in Colab\n",
        "positive_class_features, negative_class_features, neutral_class_features = await process_all_classes()"
      ]
    },
    {
      "cell_type": "markdown",
      "metadata": {
        "id": "74aPj6HVfn0a"
      },
      "source": [
        "## Train decision tree"
      ]
    },
    {
      "cell_type": "markdown",
      "metadata": {
        "id": "ltFn53hc6aaH"
      },
      "source": [
        "This code performs an exhaustive search to find the best combination of SAE features for sentiment classification using decision trees. We evaluate different feature sets systematically, training a regularized decision tree classifier on each combination and tracking the best-performing set based on F1 score."
      ]
    },
    {
      "cell_type": "code",
      "execution_count": null,
      "metadata": {
        "colab": {
          "base_uri": "https://localhost:8080/"
        },
        "id": "Us61bBCvFbCF",
        "outputId": "4665296f-609f-4393-e8ab-5d2243420067"
      },
      "outputs": [
        {
          "name": "stderr",
          "output_type": "stream",
          "text": [
            "100%|██████████| 71/71 [00:01<00:00, 60.14it/s]\n"
          ]
        },
        {
          "name": "stdout",
          "output_type": "stream",
          "text": [
            "1 (Feature(\"Market demand and economic growth terminology\"),) 0.6486486486486487 DecisionTreeClassifier(max_depth=1, min_samples_leaf=15, random_state=42)\n"
          ]
        },
        {
          "name": "stderr",
          "output_type": "stream",
          "text": [
            "100%|██████████| 2485/2485 [01:08<00:00, 36.44it/s]\n"
          ]
        },
        {
          "name": "stdout",
          "output_type": "stream",
          "text": [
            "2 (Feature(\"Corporate press release writing style and announcement phrases\"), Feature(\"Gradual improvement or progress over time\")) 0.75 DecisionTreeClassifier(max_depth=2, min_samples_leaf=15, random_state=42)\n"
          ]
        },
        {
          "name": "stderr",
          "output_type": "stream",
          "text": [
            "100%|██████████| 57155/57155 [25:49<00:00, 36.89it/s]"
          ]
        },
        {
          "name": "stdout",
          "output_type": "stream",
          "text": [
            "3 (Feature(\"Business expansion into emerging markets\"), Feature(\"Partial ownership stakes and proportional interests\"), Feature(\"Gradual improvement or progress over time\")) 0.723404255319149 DecisionTreeClassifier(max_depth=3, min_samples_leaf=15, random_state=42)\n"
          ]
        },
        {
          "name": "stderr",
          "output_type": "stream",
          "text": [
            "\n"
          ]
        }
      ],
      "source": [
        "from sklearn import tree\n",
        "from sklearn import svm\n",
        "from sklearn.model_selection import train_test_split\n",
        "from sklearn.metrics import balanced_accuracy_score, accuracy_score, f1_score\n",
        "import numpy as np\n",
        "import tqdm\n",
        "\n",
        "\n",
        "def train_tree(x, y, depth):\n",
        "    train_x, test_x, train_y, test_y = train_test_split(\n",
        "        x, y, train_size=0.5, random_state=42\n",
        "    )\n",
        "\n",
        "    # Create a nice regularized tree\n",
        "    model = tree.DecisionTreeClassifier(\n",
        "        max_depth=depth, min_samples_leaf=len(train_x) // 10, random_state=42\n",
        "    )\n",
        "\n",
        "    model.fit(train_x, train_y)\n",
        "\n",
        "    pred = model.predict(test_x)\n",
        "\n",
        "    # Calculate the f1 score of the model\n",
        "    score = f1_score(test_y, pred)\n",
        "\n",
        "    return model, pred, score\n",
        "\n",
        "\n",
        "def find_best_combo(features, k_features_per_combo=2):\n",
        "    combos = FeatureSearch(features).grid(k_features_per_combo=k_features_per_combo)\n",
        "    best_combo = None\n",
        "    best_model = None\n",
        "    mean_act_negative = 0\n",
        "    mean_act_positive = 0\n",
        "    support_vector_distances = 0\n",
        "    best_score = 0\n",
        "\n",
        "    for combo in tqdm.tqdm(combos):\n",
        "        # Create a linear regression model\n",
        "        def _select_feature_acts(combo, row):\n",
        "            output = []\n",
        "            for index, feature in enumerate(combo):\n",
        "                for feature_act in row:\n",
        "                    if feature_act.feature.uuid == feature.uuid:\n",
        "                        output.append(feature_act.activation)\n",
        "                        break\n",
        "\n",
        "            return output\n",
        "\n",
        "        x_negative = [\n",
        "            _select_feature_acts(combo, row) for row in negative_class_features\n",
        "        ]\n",
        "        # x_neutral = [_select_feature_acts(combo, row) for row in neutral_class_features]\n",
        "        x_positive = [\n",
        "            _select_feature_acts(combo, row) for row in positive_class_features\n",
        "        ]\n",
        "\n",
        "        y_negative = [-1] * len(x_negative)\n",
        "        # y_neutral = [0] * len(x_neutral)\n",
        "        y_positive = [1] * len(x_positive)\n",
        "\n",
        "        x = x_negative + x_positive\n",
        "        y = y_negative + y_positive\n",
        "\n",
        "        model, pred, score = train_tree(x, y, depth=len(combo))\n",
        "\n",
        "        if score > best_score:\n",
        "            best_score = score\n",
        "            best_combo = combo\n",
        "            best_model = model\n",
        "\n",
        "    return best_combo, best_score, best_model\n",
        "\n",
        "\n",
        "best_combo_at_k = {}\n",
        "for i in range(3):\n",
        "    best_combo, best_score, best_model = find_best_combo(\n",
        "        features_to_look_at, k_features_per_combo=i + 1\n",
        "    )\n",
        "    print(i + 1, best_combo, best_score, best_model)\n",
        "    best_combo_at_k[i + 1] = (best_combo, best_score, best_model)"
      ]
    },
    {
      "cell_type": "markdown",
      "metadata": {
        "id": "vQTMjdW7hmue"
      },
      "source": [
        "### Inspect results"
      ]
    },
    {
      "cell_type": "code",
      "execution_count": null,
      "metadata": {
        "colab": {
          "base_uri": "https://localhost:8080/"
        },
        "id": "xdA6HVjhjZT-",
        "outputId": "af8708da-4a2e-4217-ed3b-674077cdf319"
      },
      "outputs": [
        {
          "name": "stdout",
          "output_type": "stream",
          "text": [
            "k=1 features: score=0.6486486486486487\n",
            "k=2 features: score=0.75\n",
            "k=3 features: score=0.723404255319149\n"
          ]
        }
      ],
      "source": [
        "for k in [1, 2, 3]:\n",
        "    combo, score, model = best_combo_at_k[k]\n",
        "    print(f\"k={k} features: score={score}\")"
      ]
    },
    {
      "cell_type": "code",
      "execution_count": null,
      "metadata": {
        "colab": {
          "base_uri": "https://localhost:8080/"
        },
        "id": "p46VJ4_GRXlj",
        "outputId": "ceeda826-d3d9-4d14-9038-79c436a81d63"
      },
      "outputs": [
        {
          "data": {
            "text/plain": [
              "FeatureGroup([\n",
              "   0: \"Phased implementation and expansion plans\",\n",
              "   1: \"Punctuation marks that separate distinct concepts in explanatory text\",\n",
              "   2: \"Technical feature enumeration and combination markers\",\n",
              "   3: \"Formal institutional commitments and policy intentions\",\n",
              "   4: \"Infrastructure and construction project implementation details\",\n",
              "   5: \"Business software platform feature descriptions\",\n",
              "   6: \"Announcing or describing new developments and future changes\",\n",
              "   7: \"Grammatical connectors and list formatting across languages\",\n",
              "   8: \"Formal business writing discussing achievements and progress\",\n",
              "   9: \"Grammatical connective tissue in formal English prose\"\n",
              "])"
            ]
          },
          "execution_count": 17,
          "metadata": {},
          "output_type": "execute_result"
        }
      ],
      "source": [
        "# Inspect features of the best performing model\n",
        "\n",
        "best_individual_feature = best_combo_at_k[2][0][0]\n",
        "\n",
        "client.features.neighbors(best_individual_feature,model=\"meta-llama/Meta-Llama-3.1-8B-Instruct\" )"
      ]
    },
    {
      "cell_type": "code",
      "execution_count": null,
      "metadata": {
        "id": "1hxdizgi_MoU"
      },
      "outputs": [],
      "source": [
        "# Let's look at the max depth tree\n",
        "\n",
        "BEST_TREE_INDEX = 3\n",
        "best_features = best_combo_at_k[BEST_TREE_INDEX][0]\n",
        "best_tree = best_combo_at_k[BEST_TREE_INDEX][2]"
      ]
    },
    {
      "cell_type": "code",
      "execution_count": null,
      "metadata": {
        "colab": {
          "base_uri": "https://localhost:8080/",
          "height": 598
        },
        "id": "crVSzG2JIONB",
        "outputId": "a1b1b43d-657a-431c-a1cc-accee6c50179"
      },
      "outputs": [
        {
          "data": {
            "image/svg+xml": "<?xml version=\"1.0\" encoding=\"UTF-8\" standalone=\"no\"?>\n<!DOCTYPE svg PUBLIC \"-//W3C//DTD SVG 1.1//EN\"\n \"http://www.w3.org/Graphics/SVG/1.1/DTD/svg11.dtd\">\n<!-- Generated by graphviz version 2.43.0 (0)\n -->\n<!-- Title: Tree Pages: 1 -->\n<svg width=\"650pt\" height=\"433pt\"\n viewBox=\"0.00 0.00 649.50 433.00\" xmlns=\"http://www.w3.org/2000/svg\" xmlns:xlink=\"http://www.w3.org/1999/xlink\">\n<g id=\"graph0\" class=\"graph\" transform=\"scale(1 1) rotate(0) translate(4 429)\">\n<title>Tree</title>\n<polygon fill=\"white\" stroke=\"transparent\" points=\"-4,4 -4,-429 645.5,-429 645.5,4 -4,4\"/>\n<!-- 0 -->\n<g id=\"node1\" class=\"node\">\n<title>0</title>\n<path fill=\"#f0f7fd\" stroke=\"black\" d=\"M599,-425C599,-425 270,-425 270,-425 264,-425 258,-419 258,-413 258,-413 258,-354 258,-354 258,-348 264,-342 270,-342 270,-342 599,-342 599,-342 605,-342 611,-348 611,-354 611,-354 611,-413 611,-413 611,-419 605,-425 599,-425\"/>\n<text text-anchor=\"start\" x=\"266\" y=\"-409.8\" font-family=\"Helvetica,sans-Serif\" font-size=\"14.00\">Partial ownership stakes and proportional interests ≤ 0.5</text>\n<text text-anchor=\"start\" x=\"399\" y=\"-394.8\" font-family=\"Helvetica,sans-Serif\" font-size=\"14.00\">gini = 0.499</text>\n<text text-anchor=\"start\" x=\"389.5\" y=\"-379.8\" font-family=\"Helvetica,sans-Serif\" font-size=\"14.00\">samples = 150</text>\n<text text-anchor=\"start\" x=\"387.5\" y=\"-364.8\" font-family=\"Helvetica,sans-Serif\" font-size=\"14.00\">value = [72, 78]</text>\n<text text-anchor=\"start\" x=\"388\" y=\"-349.8\" font-family=\"Helvetica,sans-Serif\" font-size=\"14.00\">class = positive</text>\n</g>\n<!-- 1 -->\n<g id=\"node2\" class=\"node\">\n<title>1</title>\n<path fill=\"#f9e4d5\" stroke=\"black\" d=\"M464.5,-306C464.5,-306 174.5,-306 174.5,-306 168.5,-306 162.5,-300 162.5,-294 162.5,-294 162.5,-235 162.5,-235 162.5,-229 168.5,-223 174.5,-223 174.5,-223 464.5,-223 464.5,-223 470.5,-223 476.5,-229 476.5,-235 476.5,-235 476.5,-294 476.5,-294 476.5,-300 470.5,-306 464.5,-306\"/>\n<text text-anchor=\"start\" x=\"170.5\" y=\"-290.8\" font-family=\"Helvetica,sans-Serif\" font-size=\"14.00\">Gradual improvement or progress over time ≤ 0.5</text>\n<text text-anchor=\"start\" x=\"284\" y=\"-275.8\" font-family=\"Helvetica,sans-Serif\" font-size=\"14.00\">gini = 0.493</text>\n<text text-anchor=\"start\" x=\"274.5\" y=\"-260.8\" font-family=\"Helvetica,sans-Serif\" font-size=\"14.00\">samples = 125</text>\n<text text-anchor=\"start\" x=\"272.5\" y=\"-245.8\" font-family=\"Helvetica,sans-Serif\" font-size=\"14.00\">value = [70, 55]</text>\n<text text-anchor=\"start\" x=\"270.5\" y=\"-230.8\" font-family=\"Helvetica,sans-Serif\" font-size=\"14.00\">class = negative</text>\n</g>\n<!-- 0&#45;&gt;1 -->\n<g id=\"edge1\" class=\"edge\">\n<title>0&#45;&gt;1</title>\n<path fill=\"none\" stroke=\"black\" d=\"M394.6,-341.91C385.5,-332.65 375.75,-322.73 366.39,-313.21\"/>\n<polygon fill=\"black\" stroke=\"black\" points=\"368.83,-310.7 359.33,-306.02 363.84,-315.61 368.83,-310.7\"/>\n<text text-anchor=\"middle\" x=\"359.11\" y=\"-327.32\" font-family=\"Helvetica,sans-Serif\" font-size=\"14.00\">True</text>\n</g>\n<!-- 8 -->\n<g id=\"node9\" class=\"node\">\n<title>8</title>\n<path fill=\"#4aa6e7\" stroke=\"black\" d=\"M592,-298.5C592,-298.5 507,-298.5 507,-298.5 501,-298.5 495,-292.5 495,-286.5 495,-286.5 495,-242.5 495,-242.5 495,-236.5 501,-230.5 507,-230.5 507,-230.5 592,-230.5 592,-230.5 598,-230.5 604,-236.5 604,-242.5 604,-242.5 604,-286.5 604,-286.5 604,-292.5 598,-298.5 592,-298.5\"/>\n<text text-anchor=\"start\" x=\"514\" y=\"-283.3\" font-family=\"Helvetica,sans-Serif\" font-size=\"14.00\">gini = 0.147</text>\n<text text-anchor=\"start\" x=\"508.5\" y=\"-268.3\" font-family=\"Helvetica,sans-Serif\" font-size=\"14.00\">samples = 25</text>\n<text text-anchor=\"start\" x=\"506.5\" y=\"-253.3\" font-family=\"Helvetica,sans-Serif\" font-size=\"14.00\">value = [2, 23]</text>\n<text text-anchor=\"start\" x=\"503\" y=\"-238.3\" font-family=\"Helvetica,sans-Serif\" font-size=\"14.00\">class = positive</text>\n</g>\n<!-- 0&#45;&gt;8 -->\n<g id=\"edge8\" class=\"edge\">\n<title>0&#45;&gt;8</title>\n<path fill=\"none\" stroke=\"black\" d=\"M474.4,-341.91C485.79,-330.32 498.19,-317.7 509.58,-306.11\"/>\n<polygon fill=\"black\" stroke=\"black\" points=\"512.39,-308.25 516.9,-298.67 507.39,-303.35 512.39,-308.25\"/>\n<text text-anchor=\"middle\" x=\"517.12\" y=\"-319.97\" font-family=\"Helvetica,sans-Serif\" font-size=\"14.00\">False</text>\n</g>\n<!-- 2 -->\n<g id=\"node3\" class=\"node\">\n<title>2</title>\n<path fill=\"#f2c2a0\" stroke=\"black\" d=\"M297,-187C297,-187 12,-187 12,-187 6,-187 0,-181 0,-175 0,-175 0,-116 0,-116 0,-110 6,-104 12,-104 12,-104 297,-104 297,-104 303,-104 309,-110 309,-116 309,-116 309,-175 309,-175 309,-181 303,-187 297,-187\"/>\n<text text-anchor=\"start\" x=\"8\" y=\"-171.8\" font-family=\"Helvetica,sans-Serif\" font-size=\"14.00\">Business expansion into emerging markets ≤ 1.5</text>\n<text text-anchor=\"start\" x=\"122.5\" y=\"-156.8\" font-family=\"Helvetica,sans-Serif\" font-size=\"14.00\">gini = 0.45</text>\n<text text-anchor=\"start\" x=\"113.5\" y=\"-141.8\" font-family=\"Helvetica,sans-Serif\" font-size=\"14.00\">samples = 85</text>\n<text text-anchor=\"start\" x=\"107.5\" y=\"-126.8\" font-family=\"Helvetica,sans-Serif\" font-size=\"14.00\">value = [56, 29]</text>\n<text text-anchor=\"start\" x=\"105.5\" y=\"-111.8\" font-family=\"Helvetica,sans-Serif\" font-size=\"14.00\">class = negative</text>\n</g>\n<!-- 1&#45;&gt;2 -->\n<g id=\"edge2\" class=\"edge\">\n<title>1&#45;&gt;2</title>\n<path fill=\"none\" stroke=\"black\" d=\"M262.25,-222.91C248.56,-213.2 233.84,-202.76 219.81,-192.81\"/>\n<polygon fill=\"black\" stroke=\"black\" points=\"221.83,-189.95 211.64,-187.02 217.78,-195.66 221.83,-189.95\"/>\n</g>\n<!-- 5 -->\n<g id=\"node6\" class=\"node\">\n<title>5</title>\n<path fill=\"#a4d2f3\" stroke=\"black\" d=\"M629.5,-187C629.5,-187 339.5,-187 339.5,-187 333.5,-187 327.5,-181 327.5,-175 327.5,-175 327.5,-116 327.5,-116 327.5,-110 333.5,-104 339.5,-104 339.5,-104 629.5,-104 629.5,-104 635.5,-104 641.5,-110 641.5,-116 641.5,-116 641.5,-175 641.5,-175 641.5,-181 635.5,-187 629.5,-187\"/>\n<text text-anchor=\"start\" x=\"335.5\" y=\"-171.8\" font-family=\"Helvetica,sans-Serif\" font-size=\"14.00\">Gradual improvement or progress over time ≤ 1.5</text>\n<text text-anchor=\"start\" x=\"449\" y=\"-156.8\" font-family=\"Helvetica,sans-Serif\" font-size=\"14.00\">gini = 0.455</text>\n<text text-anchor=\"start\" x=\"443.5\" y=\"-141.8\" font-family=\"Helvetica,sans-Serif\" font-size=\"14.00\">samples = 40</text>\n<text text-anchor=\"start\" x=\"437.5\" y=\"-126.8\" font-family=\"Helvetica,sans-Serif\" font-size=\"14.00\">value = [14, 26]</text>\n<text text-anchor=\"start\" x=\"438\" y=\"-111.8\" font-family=\"Helvetica,sans-Serif\" font-size=\"14.00\">class = positive</text>\n</g>\n<!-- 1&#45;&gt;5 -->\n<g id=\"edge5\" class=\"edge\">\n<title>1&#45;&gt;5</title>\n<path fill=\"none\" stroke=\"black\" d=\"M376.75,-222.91C390.44,-213.2 405.16,-202.76 419.19,-192.81\"/>\n<polygon fill=\"black\" stroke=\"black\" points=\"421.22,-195.66 427.36,-187.02 417.17,-189.95 421.22,-195.66\"/>\n</g>\n<!-- 3 -->\n<g id=\"node4\" class=\"node\">\n<title>3</title>\n<path fill=\"#efb083\" stroke=\"black\" d=\"M160.5,-68C160.5,-68 70.5,-68 70.5,-68 64.5,-68 58.5,-62 58.5,-56 58.5,-56 58.5,-12 58.5,-12 58.5,-6 64.5,0 70.5,0 70.5,0 160.5,0 160.5,0 166.5,0 172.5,-6 172.5,-12 172.5,-12 172.5,-56 172.5,-56 172.5,-62 166.5,-68 160.5,-68\"/>\n<text text-anchor=\"start\" x=\"80\" y=\"-52.8\" font-family=\"Helvetica,sans-Serif\" font-size=\"14.00\">gini = 0.396</text>\n<text text-anchor=\"start\" x=\"74.5\" y=\"-37.8\" font-family=\"Helvetica,sans-Serif\" font-size=\"14.00\">samples = 70</text>\n<text text-anchor=\"start\" x=\"68.5\" y=\"-22.8\" font-family=\"Helvetica,sans-Serif\" font-size=\"14.00\">value = [51, 19]</text>\n<text text-anchor=\"start\" x=\"66.5\" y=\"-7.8\" font-family=\"Helvetica,sans-Serif\" font-size=\"14.00\">class = negative</text>\n</g>\n<!-- 2&#45;&gt;3 -->\n<g id=\"edge3\" class=\"edge\">\n<title>2&#45;&gt;3</title>\n<path fill=\"none\" stroke=\"black\" d=\"M139.98,-103.73C136.96,-95.24 133.76,-86.28 130.72,-77.73\"/>\n<polygon fill=\"black\" stroke=\"black\" points=\"134.01,-76.55 127.36,-68.3 127.42,-78.89 134.01,-76.55\"/>\n</g>\n<!-- 4 -->\n<g id=\"node5\" class=\"node\">\n<title>4</title>\n<path fill=\"#9ccef2\" stroke=\"black\" d=\"M288,-68C288,-68 203,-68 203,-68 197,-68 191,-62 191,-56 191,-56 191,-12 191,-12 191,-6 197,0 203,0 203,0 288,0 288,0 294,0 300,-6 300,-12 300,-12 300,-56 300,-56 300,-62 294,-68 288,-68\"/>\n<text text-anchor=\"start\" x=\"210\" y=\"-52.8\" font-family=\"Helvetica,sans-Serif\" font-size=\"14.00\">gini = 0.444</text>\n<text text-anchor=\"start\" x=\"204.5\" y=\"-37.8\" font-family=\"Helvetica,sans-Serif\" font-size=\"14.00\">samples = 15</text>\n<text text-anchor=\"start\" x=\"202.5\" y=\"-22.8\" font-family=\"Helvetica,sans-Serif\" font-size=\"14.00\">value = [5, 10]</text>\n<text text-anchor=\"start\" x=\"199\" y=\"-7.8\" font-family=\"Helvetica,sans-Serif\" font-size=\"14.00\">class = positive</text>\n</g>\n<!-- 2&#45;&gt;4 -->\n<g id=\"edge4\" class=\"edge\">\n<title>2&#45;&gt;4</title>\n<path fill=\"none\" stroke=\"black\" d=\"M188.39,-103.73C195.89,-94.7 203.84,-85.12 211.36,-76.08\"/>\n<polygon fill=\"black\" stroke=\"black\" points=\"214.13,-78.23 217.83,-68.3 208.74,-73.75 214.13,-78.23\"/>\n</g>\n<!-- 6 -->\n<g id=\"node7\" class=\"node\">\n<title>6</title>\n<path fill=\"#d1e8f9\" stroke=\"black\" d=\"M488.5,-68C488.5,-68 380.5,-68 380.5,-68 374.5,-68 368.5,-62 368.5,-56 368.5,-56 368.5,-12 368.5,-12 368.5,-6 374.5,0 380.5,0 380.5,0 488.5,0 488.5,0 494.5,0 500.5,-6 500.5,-12 500.5,-12 500.5,-56 500.5,-56 500.5,-62 494.5,-68 488.5,-68\"/>\n<text text-anchor=\"start\" x=\"399\" y=\"-52.8\" font-family=\"Helvetica,sans-Serif\" font-size=\"14.00\">gini = 0.491</text>\n<text text-anchor=\"start\" x=\"393.5\" y=\"-37.8\" font-family=\"Helvetica,sans-Serif\" font-size=\"14.00\">samples = 23</text>\n<text text-anchor=\"start\" x=\"376.5\" y=\"-22.8\" font-family=\"Helvetica,sans-Serif\" font-size=\"14.00\">value = [10.0, 13.0]</text>\n<text text-anchor=\"start\" x=\"388\" y=\"-7.8\" font-family=\"Helvetica,sans-Serif\" font-size=\"14.00\">class = positive</text>\n</g>\n<!-- 5&#45;&gt;6 -->\n<g id=\"edge6\" class=\"edge\">\n<title>5&#45;&gt;6</title>\n<path fill=\"none\" stroke=\"black\" d=\"M465.88,-103.73C461.97,-95.15 457.83,-86.09 453.89,-77.46\"/>\n<polygon fill=\"black\" stroke=\"black\" points=\"457.04,-75.94 449.71,-68.3 450.68,-78.85 457.04,-75.94\"/>\n</g>\n<!-- 7 -->\n<g id=\"node8\" class=\"node\">\n<title>7</title>\n<path fill=\"#76bbed\" stroke=\"black\" d=\"M616,-68C616,-68 531,-68 531,-68 525,-68 519,-62 519,-56 519,-56 519,-12 519,-12 519,-6 525,0 531,0 531,0 616,0 616,0 622,0 628,-6 628,-12 628,-12 628,-56 628,-56 628,-62 622,-68 616,-68\"/>\n<text text-anchor=\"start\" x=\"541.5\" y=\"-52.8\" font-family=\"Helvetica,sans-Serif\" font-size=\"14.00\">gini = 0.36</text>\n<text text-anchor=\"start\" x=\"532.5\" y=\"-37.8\" font-family=\"Helvetica,sans-Serif\" font-size=\"14.00\">samples = 17</text>\n<text text-anchor=\"start\" x=\"530.5\" y=\"-22.8\" font-family=\"Helvetica,sans-Serif\" font-size=\"14.00\">value = [4, 13]</text>\n<text text-anchor=\"start\" x=\"527\" y=\"-7.8\" font-family=\"Helvetica,sans-Serif\" font-size=\"14.00\">class = positive</text>\n</g>\n<!-- 5&#45;&gt;7 -->\n<g id=\"edge7\" class=\"edge\">\n<title>5&#45;&gt;7</title>\n<path fill=\"none\" stroke=\"black\" d=\"M517.64,-103.73C524.98,-94.7 532.76,-85.12 540.11,-76.08\"/>\n<polygon fill=\"black\" stroke=\"black\" points=\"542.84,-78.27 546.43,-68.3 537.41,-73.85 542.84,-78.27\"/>\n</g>\n</g>\n</svg>\n",
            "text/plain": [
              "<graphviz.sources.Source at 0x7bb788dd3580>"
            ]
          },
          "execution_count": 19,
          "metadata": {},
          "output_type": "execute_result"
        }
      ],
      "source": [
        "# Let's visualize the tree\n",
        "\n",
        "import graphviz\n",
        "\n",
        "\n",
        "dot_data = tree.export_graphviz(\n",
        "    best_tree,\n",
        "    out_file=None,\n",
        "    feature_names=[feature.label for feature in best_features],\n",
        "    class_names=[\"negative\", \"positive\"],\n",
        "    filled=True,\n",
        "    rounded=True,\n",
        "    special_characters=True,\n",
        ")\n",
        "graph = graphviz.Source(dot_data)\n",
        "graph"
      ]
    },
    {
      "cell_type": "markdown",
      "metadata": {
        "id": "4dMeBMGa6mmg"
      },
      "source": [
        "Now we have an easy-to-train, interpretable, simple classifier using features! Further work can be done to more intelligently identify important features to use for a given classification task, and improve overall classifier performance."
      ]
    }
  ],
  "metadata": {
    "accelerator": "GPU",
    "colab": {
      "gpuType": "T4",
      "include_colab_link": true,
      "machine_shape": "hm",
      "provenance": [],
      "toc_visible": true
    },
    "kernelspec": {
      "display_name": "Python 3.9.12 ('base')",
      "language": "python",
      "name": "python3"
    },
    "language_info": {
      "codemirror_mode": {
        "name": "ipython",
        "version": 3
      },
      "file_extension": ".py",
      "mimetype": "text/x-python",
      "name": "python",
      "nbconvert_exporter": "python",
      "pygments_lexer": "ipython3",
      "version": "3.9.12"
    },
    "orig_nbformat": 4,
    "vscode": {
      "interpreter": {
        "hash": "9704210eed1ca24cd2f085f9e4210fc50908199b88d7eec1964ef766a717df17"
      }
    }
  },
  "nbformat": 4,
  "nbformat_minor": 0
}
