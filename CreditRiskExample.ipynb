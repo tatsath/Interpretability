{
  "cells": [
    {
      "cell_type": "markdown",
      "metadata": {
        "id": "view-in-github",
        "colab_type": "text"
      },
      "source": [
        "<a href=\"https://colab.research.google.com/github/tatsath/Interpretability/blob/main/CreditRiskExample.ipynb\" target=\"_parent\"><img src=\"https://colab.research.google.com/assets/colab-badge.svg\" alt=\"Open In Colab\"/></a>"
      ]
    },
    {
      "cell_type": "markdown",
      "source": [
        "# Credit Risk based sentiment"
      ],
      "metadata": {
        "id": "R6z0DxwGJemM"
      }
    },
    {
      "cell_type": "code",
      "execution_count": 10,
      "metadata": {
        "id": "-lmNwVLtF56t"
      },
      "outputs": [],
      "source": [
        "!pip install goodfire --quiet\n",
        "!pip install datasets --quiet\n"
      ]
    },
    {
      "cell_type": "code",
      "execution_count": 11,
      "metadata": {
        "id": "FjOS55IMoIIj"
      },
      "outputs": [],
      "source": [
        "from google.colab import userdata\n",
        "\n",
        "# Add your Goodfire API Key to your Colab secrets\n",
        "GOODFIRE_API_KEY = userdata.get('GOODFIRE_API_KEY')"
      ]
    },
    {
      "cell_type": "markdown",
      "metadata": {
        "id": "R9NhBTfxF56u"
      },
      "source": [
        "## Initialize the SDK"
      ]
    },
    {
      "cell_type": "code",
      "execution_count": 12,
      "metadata": {
        "id": "TE9wY2GkF56u"
      },
      "outputs": [],
      "source": [
        "import goodfire\n",
        "\n",
        "client = goodfire.Client(GOODFIRE_API_KEY)\n",
        "\n",
        "# Instantiate a model variant\n",
        "#variant = goodfire.Variant(\"meta-llama/Meta-Llama-3.1-8B-Instruct\")\n",
        "variant = goodfire.Variant(\"meta-llama/Llama-3.3-70B-Instruct\")"
      ]
    },
    {
      "cell_type": "markdown",
      "metadata": {
        "id": "j8xeFnhb93kT"
      },
      "source": [
        "## Finding Feature\n",
        "\n",
        "We'll use feature search to find features that are relevant to credit risk"
      ]
    },
    {
      "cell_type": "code",
      "execution_count": 13,
      "metadata": {
        "id": "QBpAGDMp93kU",
        "outputId": "815c2e00-e690-492c-dd79-f5e4c074241c",
        "colab": {
          "base_uri": "https://localhost:8080/"
        }
      },
      "outputs": [
        {
          "output_type": "stream",
          "name": "stdout",
          "text": [
            "FeatureGroup([\n",
            "   0: \"Concerns or uncertainty about credit scores and creditworthiness\",\n",
            "   1: \"Financial credit concepts and terminology\",\n",
            "   2: \"Technical discussions of credit risk assessment and evaluation\",\n",
            "   3: \"Financial risk and investment caution\",\n",
            "   4: \"Credit rating agency designations and terminology\",\n",
            "   5: \"Discussions of credit card fraud, theft, or security risks\",\n",
            "   6: \"Financial and business risk concepts\",\n",
            "   7: \"The assistant is providing structured financial advice about credit scores\",\n",
            "   8: \"Bank-related content requiring safety/security considerations\",\n",
            "   9: \"Risk assessment and management methodology descriptions\"\n",
            "])\n"
          ]
        }
      ],
      "source": [
        "credit_features = client.features.search(\"credit risk awareness\", model=variant, top_k=10)\n",
        "print(credit_features)"
      ]
    },
    {
      "cell_type": "code",
      "source": [
        "# edits = client.features.AutoSteer(\n",
        "#     specification=\"be credit risk aware\",  # or your desired behavior\n",
        "#     model=variant,\n",
        "# )"
      ],
      "metadata": {
        "id": "XC1hYbZAKf6Q"
      },
      "execution_count": 14,
      "outputs": []
    },
    {
      "cell_type": "code",
      "source": [
        "# variant.set(edits)\n",
        "# print(edits)"
      ],
      "metadata": {
        "id": "6BIbl_FjKjue"
      },
      "execution_count": 15,
      "outputs": []
    },
    {
      "cell_type": "markdown",
      "metadata": {
        "id": "nNTyhNGL93kU"
      },
      "source": [
        "#Before Steering"
      ]
    },
    {
      "cell_type": "code",
      "source": [
        "variant.reset()\n",
        "variant.set(credit_features[0], 0)\n",
        "\n",
        "for token in client.chat.completions.create(\n",
        "    [\n",
        "        {\"role\": \"user\", \"content\": \"What is the rating of this sentence on a scale of -10 to 10 :The company reported a significant drop in quarterly revenue but has successfully secured long-term financing and reduced outstanding debt.\"}\n",
        "    ],\n",
        "    model=variant,\n",
        "    stream=True,\n",
        "    max_completion_tokens=150,\n",
        "):\n",
        "    print(token.choices[0].delta.content, end=\"\")"
      ],
      "metadata": {
        "id": "CBl9EvOhQhnM",
        "outputId": "81aed544-2027-49ab-b3b7-2f61f518162a",
        "colab": {
          "base_uri": "https://localhost:8080/"
        }
      },
      "execution_count": 16,
      "outputs": [
        {
          "output_type": "stream",
          "name": "stdout",
          "text": [
            "I'd rate this sentence a 5. It's neutral, as it reports both a negative (drop in revenue) and a positive (securing financing and reducing debt)."
          ]
        }
      ]
    },
    {
      "cell_type": "markdown",
      "source": [
        "# After Steering"
      ],
      "metadata": {
        "id": "SgJIDgM1KMKw"
      }
    },
    {
      "cell_type": "code",
      "source": [
        "variant.reset()\n",
        "variant.set(credit_features[0], .5)\n",
        "\n",
        "\n",
        "for token in client.chat.completions.create(\n",
        "    [\n",
        "        {\"role\": \"user\", \"content\": \"What is the rating of this sentence on a scale of -10 to 10 :The company reported a significant drop in quarterly revenue but has successfully secured long-term financing and reduced outstanding debt.\"}\n",
        "    ],\n",
        "    model=variant,\n",
        "    stream=True,\n",
        "    max_completion_tokens=150,\n",
        "):\n",
        "    print(token.choices[0].delta.content, end=\"\")"
      ],
      "metadata": {
        "id": "Gd-SvGvHFCAW",
        "outputId": "ee49d67c-9285-45cc-bc1b-a640e147034f",
        "colab": {
          "base_uri": "https://localhost:8080/"
        }
      },
      "execution_count": 17,
      "outputs": [
        {
          "output_type": "stream",
          "name": "stdout",
          "text": [
            "I'd rate this sentence a 6. It's a mix of both positive and negative information, but the fact that the company has secured long-term financing and reduced debt suggests a sense of stability and responsibility, which slightly outweighs the initial negative news of a drop in revenue."
          ]
        }
      ]
    },
    {
      "cell_type": "code",
      "source": [],
      "metadata": {
        "id": "Ez7ocKL2R0h7"
      },
      "execution_count": 17,
      "outputs": []
    }
  ],
  "metadata": {
    "colab": {
      "provenance": [],
      "include_colab_link": true
    },
    "kernelspec": {
      "display_name": "cajal-GpC6YlH4-py3.12",
      "language": "python",
      "name": "python3"
    },
    "language_info": {
      "codemirror_mode": {
        "name": "ipython",
        "version": 3
      },
      "file_extension": ".py",
      "mimetype": "text/x-python",
      "name": "python",
      "nbconvert_exporter": "python",
      "pygments_lexer": "ipython3",
      "version": "3.11.6"
    },
    "orig_nbformat": 4
  },
  "nbformat": 4,
  "nbformat_minor": 0
}