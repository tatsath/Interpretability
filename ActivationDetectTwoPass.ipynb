{
  "cells": [
    {
      "cell_type": "markdown",
      "source": [
        "<a target=\"_blank\" href=\"https://colab.research.google.com/github/ashater/sae/blob/master/ActivationDetectTwoPass.ipynb\">\n",
        "  <img src=\"https://colab.research.google.com/assets/colab-badge.svg\" alt=\"Open In Colab\"/>\n",
        "</a>"
      ],
      "metadata": {
        "id": "gjDksMYRljgm"
      },
      "id": "gjDksMYRljgm"
    },
    {
      "cell_type": "code",
      "source": [
        "!pip install nnsight==0.4.0 sae-lens"
      ],
      "metadata": {
        "colab": {
          "base_uri": "https://localhost:8080/"
        },
        "id": "wsHsQ_Mw_UiG",
        "outputId": "4aecfa7c-11a4-4e7d-ce22-1a1835f85e80"
      },
      "id": "wsHsQ_Mw_UiG",
      "execution_count": null,
      "outputs": [
        {
          "output_type": "stream",
          "name": "stdout",
          "text": [
            "Requirement already satisfied: nnsight==0.4.0 in /usr/local/lib/python3.11/dist-packages (0.4.0)\n",
            "Requirement already satisfied: sae-lens in /usr/local/lib/python3.11/dist-packages (5.6.1)\n",
            "Requirement already satisfied: transformers in /usr/local/lib/python3.11/dist-packages (from nnsight==0.4.0) (4.48.3)\n",
            "Requirement already satisfied: protobuf in /usr/local/lib/python3.11/dist-packages (from nnsight==0.4.0) (4.25.6)\n",
            "Requirement already satisfied: python-socketio[client] in /usr/local/lib/python3.11/dist-packages (from nnsight==0.4.0) (5.12.1)\n",
            "Requirement already satisfied: tokenizers>=0.13.0 in /usr/local/lib/python3.11/dist-packages (from nnsight==0.4.0) (0.21.1)\n",
            "Requirement already satisfied: pydantic>=2.9.0 in /usr/local/lib/python3.11/dist-packages (from nnsight==0.4.0) (2.10.6)\n",
            "Requirement already satisfied: torch>=2.4.0 in /usr/local/lib/python3.11/dist-packages (from nnsight==0.4.0) (2.6.0+cu124)\n",
            "Requirement already satisfied: sentencepiece in /usr/local/lib/python3.11/dist-packages (from nnsight==0.4.0) (0.2.0)\n",
            "Requirement already satisfied: torchvision in /usr/local/lib/python3.11/dist-packages (from nnsight==0.4.0) (0.21.0+cu124)\n",
            "Requirement already satisfied: accelerate in /usr/local/lib/python3.11/dist-packages (from nnsight==0.4.0) (1.3.0)\n",
            "Requirement already satisfied: diffusers in /usr/local/lib/python3.11/dist-packages (from nnsight==0.4.0) (0.32.2)\n",
            "Requirement already satisfied: einops in /usr/local/lib/python3.11/dist-packages (from nnsight==0.4.0) (0.8.1)\n",
            "Requirement already satisfied: msgspec in /usr/local/lib/python3.11/dist-packages (from nnsight==0.4.0) (0.19.0)\n",
            "Requirement already satisfied: toml in /usr/local/lib/python3.11/dist-packages (from nnsight==0.4.0) (0.10.2)\n",
            "Requirement already satisfied: ipython in /usr/local/lib/python3.11/dist-packages (from nnsight==0.4.0) (7.34.0)\n",
            "Requirement already satisfied: automated-interpretability<1.0.0,>=0.0.5 in /usr/local/lib/python3.11/dist-packages (from sae-lens) (0.0.8)\n",
            "Requirement already satisfied: babe<0.0.8,>=0.0.7 in /usr/local/lib/python3.11/dist-packages (from sae-lens) (0.0.7)\n",
            "Requirement already satisfied: datasets<3.0.0,>=2.17.1 in /usr/local/lib/python3.11/dist-packages (from sae-lens) (2.21.0)\n",
            "Requirement already satisfied: matplotlib<4.0.0,>=3.8.3 in /usr/local/lib/python3.11/dist-packages (from sae-lens) (3.10.0)\n",
            "Requirement already satisfied: matplotlib-inline<0.2.0,>=0.1.6 in /usr/local/lib/python3.11/dist-packages (from sae-lens) (0.1.7)\n",
            "Requirement already satisfied: nltk<4.0.0,>=3.8.1 in /usr/local/lib/python3.11/dist-packages (from sae-lens) (3.9.1)\n",
            "Requirement already satisfied: plotly<6.0.0,>=5.19.0 in /usr/local/lib/python3.11/dist-packages (from sae-lens) (5.24.1)\n",
            "Requirement already satisfied: plotly-express<0.5.0,>=0.4.1 in /usr/local/lib/python3.11/dist-packages (from sae-lens) (0.4.1)\n",
            "Requirement already satisfied: pytest-profiling<2.0.0,>=1.7.0 in /usr/local/lib/python3.11/dist-packages (from sae-lens) (1.8.1)\n",
            "Requirement already satisfied: python-dotenv<2.0.0,>=1.0.1 in /usr/local/lib/python3.11/dist-packages (from sae-lens) (1.0.1)\n",
            "Requirement already satisfied: pyyaml<7.0.0,>=6.0.1 in /usr/local/lib/python3.11/dist-packages (from sae-lens) (6.0.2)\n",
            "Requirement already satisfied: pyzmq==26.0.0 in /usr/local/lib/python3.11/dist-packages (from sae-lens) (26.0.0)\n",
            "Requirement already satisfied: safetensors<0.5.0,>=0.4.2 in /usr/local/lib/python3.11/dist-packages (from sae-lens) (0.4.5)\n",
            "Requirement already satisfied: simple-parsing<0.2.0,>=0.1.6 in /usr/local/lib/python3.11/dist-packages (from sae-lens) (0.1.7)\n",
            "Requirement already satisfied: transformer-lens<3.0.0,>=2.0.0 in /usr/local/lib/python3.11/dist-packages (from sae-lens) (2.15.0)\n",
            "Requirement already satisfied: typer<0.13.0,>=0.12.3 in /usr/local/lib/python3.11/dist-packages (from sae-lens) (0.12.5)\n",
            "Requirement already satisfied: typing-extensions<5.0.0,>=4.10.0 in /usr/local/lib/python3.11/dist-packages (from sae-lens) (4.12.2)\n",
            "Requirement already satisfied: zstandard<0.23.0,>=0.22.0 in /usr/local/lib/python3.11/dist-packages (from sae-lens) (0.22.0)\n",
            "Requirement already satisfied: blobfile<3.0.0,>=2.1.1 in /usr/local/lib/python3.11/dist-packages (from automated-interpretability<1.0.0,>=0.0.5->sae-lens) (2.1.1)\n",
            "Requirement already satisfied: boostedblob<0.16.0,>=0.15.3 in /usr/local/lib/python3.11/dist-packages (from automated-interpretability<1.0.0,>=0.0.5->sae-lens) (0.15.6)\n",
            "Requirement already satisfied: httpx<0.28.0,>=0.27.0 in /usr/local/lib/python3.11/dist-packages (from automated-interpretability<1.0.0,>=0.0.5->sae-lens) (0.27.2)\n",
            "Requirement already satisfied: numpy<2.0.0,>=1.24.0 in /usr/local/lib/python3.11/dist-packages (from automated-interpretability<1.0.0,>=0.0.5->sae-lens) (1.26.4)\n",
            "Requirement already satisfied: orjson<4.0.0,>=3.10.1 in /usr/local/lib/python3.11/dist-packages (from automated-interpretability<1.0.0,>=0.0.5->sae-lens) (3.10.15)\n",
            "Requirement already satisfied: scikit-learn<2.0.0,>=1.2.0 in /usr/local/lib/python3.11/dist-packages (from automated-interpretability<1.0.0,>=0.0.5->sae-lens) (1.6.1)\n",
            "Requirement already satisfied: tiktoken>=0.6.0 in /usr/local/lib/python3.11/dist-packages (from automated-interpretability<1.0.0,>=0.0.5->sae-lens) (0.9.0)\n",
            "Requirement already satisfied: pandas in /usr/local/lib/python3.11/dist-packages (from babe<0.0.8,>=0.0.7->sae-lens) (2.2.2)\n",
            "Requirement already satisfied: py2store in /usr/local/lib/python3.11/dist-packages (from babe<0.0.8,>=0.0.7->sae-lens) (0.1.20)\n",
            "Requirement already satisfied: graze in /usr/local/lib/python3.11/dist-packages (from babe<0.0.8,>=0.0.7->sae-lens) (0.1.29)\n",
            "Requirement already satisfied: filelock in /usr/local/lib/python3.11/dist-packages (from datasets<3.0.0,>=2.17.1->sae-lens) (3.17.0)\n",
            "Requirement already satisfied: pyarrow>=15.0.0 in /usr/local/lib/python3.11/dist-packages (from datasets<3.0.0,>=2.17.1->sae-lens) (18.1.0)\n",
            "Requirement already satisfied: dill<0.3.9,>=0.3.0 in /usr/local/lib/python3.11/dist-packages (from datasets<3.0.0,>=2.17.1->sae-lens) (0.3.8)\n",
            "Requirement already satisfied: requests>=2.32.2 in /usr/local/lib/python3.11/dist-packages (from datasets<3.0.0,>=2.17.1->sae-lens) (2.32.3)\n",
            "Requirement already satisfied: tqdm>=4.66.3 in /usr/local/lib/python3.11/dist-packages (from datasets<3.0.0,>=2.17.1->sae-lens) (4.67.1)\n",
            "Requirement already satisfied: xxhash in /usr/local/lib/python3.11/dist-packages (from datasets<3.0.0,>=2.17.1->sae-lens) (3.5.0)\n",
            "Requirement already satisfied: multiprocess in /usr/local/lib/python3.11/dist-packages (from datasets<3.0.0,>=2.17.1->sae-lens) (0.70.16)\n",
            "Requirement already satisfied: fsspec<=2024.6.1,>=2023.1.0 in /usr/local/lib/python3.11/dist-packages (from fsspec[http]<=2024.6.1,>=2023.1.0->datasets<3.0.0,>=2.17.1->sae-lens) (2024.6.1)\n",
            "Requirement already satisfied: aiohttp in /usr/local/lib/python3.11/dist-packages (from datasets<3.0.0,>=2.17.1->sae-lens) (3.11.13)\n",
            "Requirement already satisfied: huggingface-hub>=0.21.2 in /usr/local/lib/python3.11/dist-packages (from datasets<3.0.0,>=2.17.1->sae-lens) (0.28.1)\n",
            "Requirement already satisfied: packaging in /usr/local/lib/python3.11/dist-packages (from datasets<3.0.0,>=2.17.1->sae-lens) (24.2)\n",
            "Requirement already satisfied: contourpy>=1.0.1 in /usr/local/lib/python3.11/dist-packages (from matplotlib<4.0.0,>=3.8.3->sae-lens) (1.3.1)\n",
            "Requirement already satisfied: cycler>=0.10 in /usr/local/lib/python3.11/dist-packages (from matplotlib<4.0.0,>=3.8.3->sae-lens) (0.12.1)\n",
            "Requirement already satisfied: fonttools>=4.22.0 in /usr/local/lib/python3.11/dist-packages (from matplotlib<4.0.0,>=3.8.3->sae-lens) (4.56.0)\n",
            "Requirement already satisfied: kiwisolver>=1.3.1 in /usr/local/lib/python3.11/dist-packages (from matplotlib<4.0.0,>=3.8.3->sae-lens) (1.4.8)\n",
            "Requirement already satisfied: pillow>=8 in /usr/local/lib/python3.11/dist-packages (from matplotlib<4.0.0,>=3.8.3->sae-lens) (11.1.0)\n",
            "Requirement already satisfied: pyparsing>=2.3.1 in /usr/local/lib/python3.11/dist-packages (from matplotlib<4.0.0,>=3.8.3->sae-lens) (3.2.1)\n",
            "Requirement already satisfied: python-dateutil>=2.7 in /usr/local/lib/python3.11/dist-packages (from matplotlib<4.0.0,>=3.8.3->sae-lens) (2.8.2)\n",
            "Requirement already satisfied: traitlets in /usr/local/lib/python3.11/dist-packages (from matplotlib-inline<0.2.0,>=0.1.6->sae-lens) (5.7.1)\n",
            "Requirement already satisfied: click in /usr/local/lib/python3.11/dist-packages (from nltk<4.0.0,>=3.8.1->sae-lens) (8.1.8)\n",
            "Requirement already satisfied: joblib in /usr/local/lib/python3.11/dist-packages (from nltk<4.0.0,>=3.8.1->sae-lens) (1.4.2)\n",
            "Requirement already satisfied: regex>=2021.8.3 in /usr/local/lib/python3.11/dist-packages (from nltk<4.0.0,>=3.8.1->sae-lens) (2024.11.6)\n",
            "Requirement already satisfied: tenacity>=6.2.0 in /usr/local/lib/python3.11/dist-packages (from plotly<6.0.0,>=5.19.0->sae-lens) (9.0.0)\n",
            "Requirement already satisfied: statsmodels>=0.9.0 in /usr/local/lib/python3.11/dist-packages (from plotly-express<0.5.0,>=0.4.1->sae-lens) (0.14.4)\n",
            "Requirement already satisfied: scipy>=0.18 in /usr/local/lib/python3.11/dist-packages (from plotly-express<0.5.0,>=0.4.1->sae-lens) (1.14.1)\n",
            "Requirement already satisfied: patsy>=0.5 in /usr/local/lib/python3.11/dist-packages (from plotly-express<0.5.0,>=0.4.1->sae-lens) (1.0.1)\n",
            "Requirement already satisfied: annotated-types>=0.6.0 in /usr/local/lib/python3.11/dist-packages (from pydantic>=2.9.0->nnsight==0.4.0) (0.7.0)\n",
            "Requirement already satisfied: pydantic-core==2.27.2 in /usr/local/lib/python3.11/dist-packages (from pydantic>=2.9.0->nnsight==0.4.0) (2.27.2)\n",
            "Requirement already satisfied: six in /usr/local/lib/python3.11/dist-packages (from pytest-profiling<2.0.0,>=1.7.0->sae-lens) (1.17.0)\n",
            "Requirement already satisfied: pytest in /usr/local/lib/python3.11/dist-packages (from pytest-profiling<2.0.0,>=1.7.0->sae-lens) (8.3.5)\n",
            "Requirement already satisfied: gprof2dot in /usr/local/lib/python3.11/dist-packages (from pytest-profiling<2.0.0,>=1.7.0->sae-lens) (2024.6.6)\n",
            "Requirement already satisfied: docstring-parser<1.0,>=0.15 in /usr/local/lib/python3.11/dist-packages (from simple-parsing<0.2.0,>=0.1.6->sae-lens) (0.16)\n",
            "Requirement already satisfied: networkx in /usr/local/lib/python3.11/dist-packages (from torch>=2.4.0->nnsight==0.4.0) (3.4.2)\n",
            "Requirement already satisfied: jinja2 in /usr/local/lib/python3.11/dist-packages (from torch>=2.4.0->nnsight==0.4.0) (3.1.6)\n",
            "Requirement already satisfied: nvidia-cuda-nvrtc-cu12==12.4.127 in /usr/local/lib/python3.11/dist-packages (from torch>=2.4.0->nnsight==0.4.0) (12.4.127)\n",
            "Requirement already satisfied: nvidia-cuda-runtime-cu12==12.4.127 in /usr/local/lib/python3.11/dist-packages (from torch>=2.4.0->nnsight==0.4.0) (12.4.127)\n",
            "Requirement already satisfied: nvidia-cuda-cupti-cu12==12.4.127 in /usr/local/lib/python3.11/dist-packages (from torch>=2.4.0->nnsight==0.4.0) (12.4.127)\n",
            "Requirement already satisfied: nvidia-cudnn-cu12==9.1.0.70 in /usr/local/lib/python3.11/dist-packages (from torch>=2.4.0->nnsight==0.4.0) (9.1.0.70)\n",
            "Requirement already satisfied: nvidia-cublas-cu12==12.4.5.8 in /usr/local/lib/python3.11/dist-packages (from torch>=2.4.0->nnsight==0.4.0) (12.4.5.8)\n",
            "Requirement already satisfied: nvidia-cufft-cu12==11.2.1.3 in /usr/local/lib/python3.11/dist-packages (from torch>=2.4.0->nnsight==0.4.0) (11.2.1.3)\n",
            "Requirement already satisfied: nvidia-curand-cu12==10.3.5.147 in /usr/local/lib/python3.11/dist-packages (from torch>=2.4.0->nnsight==0.4.0) (10.3.5.147)\n",
            "Requirement already satisfied: nvidia-cusolver-cu12==11.6.1.9 in /usr/local/lib/python3.11/dist-packages (from torch>=2.4.0->nnsight==0.4.0) (11.6.1.9)\n",
            "Requirement already satisfied: nvidia-cusparse-cu12==12.3.1.170 in /usr/local/lib/python3.11/dist-packages (from torch>=2.4.0->nnsight==0.4.0) (12.3.1.170)\n",
            "Requirement already satisfied: nvidia-cusparselt-cu12==0.6.2 in /usr/local/lib/python3.11/dist-packages (from torch>=2.4.0->nnsight==0.4.0) (0.6.2)\n",
            "Requirement already satisfied: nvidia-nccl-cu12==2.21.5 in /usr/local/lib/python3.11/dist-packages (from torch>=2.4.0->nnsight==0.4.0) (2.21.5)\n",
            "Requirement already satisfied: nvidia-nvtx-cu12==12.4.127 in /usr/local/lib/python3.11/dist-packages (from torch>=2.4.0->nnsight==0.4.0) (12.4.127)\n",
            "Requirement already satisfied: nvidia-nvjitlink-cu12==12.4.127 in /usr/local/lib/python3.11/dist-packages (from torch>=2.4.0->nnsight==0.4.0) (12.4.127)\n",
            "Requirement already satisfied: triton==3.2.0 in /usr/local/lib/python3.11/dist-packages (from torch>=2.4.0->nnsight==0.4.0) (3.2.0)\n",
            "Requirement already satisfied: sympy==1.13.1 in /usr/local/lib/python3.11/dist-packages (from torch>=2.4.0->nnsight==0.4.0) (1.13.1)\n",
            "Requirement already satisfied: mpmath<1.4,>=1.1.0 in /usr/local/lib/python3.11/dist-packages (from sympy==1.13.1->torch>=2.4.0->nnsight==0.4.0) (1.3.0)\n",
            "Requirement already satisfied: beartype<0.15.0,>=0.14.1 in /usr/local/lib/python3.11/dist-packages (from transformer-lens<3.0.0,>=2.0.0->sae-lens) (0.14.1)\n",
            "Requirement already satisfied: better-abc<0.0.4,>=0.0.3 in /usr/local/lib/python3.11/dist-packages (from transformer-lens<3.0.0,>=2.0.0->sae-lens) (0.0.3)\n",
            "Requirement already satisfied: fancy-einsum>=0.0.3 in /usr/local/lib/python3.11/dist-packages (from transformer-lens<3.0.0,>=2.0.0->sae-lens) (0.0.3)\n",
            "Requirement already satisfied: jaxtyping>=0.2.11 in /usr/local/lib/python3.11/dist-packages (from transformer-lens<3.0.0,>=2.0.0->sae-lens) (0.3.0)\n",
            "Requirement already satisfied: rich>=12.6.0 in /usr/local/lib/python3.11/dist-packages (from transformer-lens<3.0.0,>=2.0.0->sae-lens) (13.9.4)\n",
            "Requirement already satisfied: transformers-stream-generator<0.0.6,>=0.0.5 in /usr/local/lib/python3.11/dist-packages (from transformer-lens<3.0.0,>=2.0.0->sae-lens) (0.0.5)\n",
            "Requirement already satisfied: typeguard<5.0,>=4.2 in /usr/local/lib/python3.11/dist-packages (from transformer-lens<3.0.0,>=2.0.0->sae-lens) (4.4.2)\n",
            "Requirement already satisfied: wandb>=0.13.5 in /usr/local/lib/python3.11/dist-packages (from transformer-lens<3.0.0,>=2.0.0->sae-lens) (0.19.8)\n",
            "Requirement already satisfied: psutil in /usr/local/lib/python3.11/dist-packages (from accelerate->nnsight==0.4.0) (5.9.5)\n",
            "Requirement already satisfied: shellingham>=1.3.0 in /usr/local/lib/python3.11/dist-packages (from typer<0.13.0,>=0.12.3->sae-lens) (1.5.4)\n",
            "Requirement already satisfied: importlib-metadata in /usr/local/lib/python3.11/dist-packages (from diffusers->nnsight==0.4.0) (8.6.1)\n",
            "Requirement already satisfied: setuptools>=18.5 in /usr/local/lib/python3.11/dist-packages (from ipython->nnsight==0.4.0) (75.1.0)\n",
            "Requirement already satisfied: jedi>=0.16 in /usr/local/lib/python3.11/dist-packages (from ipython->nnsight==0.4.0) (0.19.2)\n",
            "Requirement already satisfied: decorator in /usr/local/lib/python3.11/dist-packages (from ipython->nnsight==0.4.0) (4.4.2)\n",
            "Requirement already satisfied: pickleshare in /usr/local/lib/python3.11/dist-packages (from ipython->nnsight==0.4.0) (0.7.5)\n",
            "Requirement already satisfied: prompt-toolkit!=3.0.0,!=3.0.1,<3.1.0,>=2.0.0 in /usr/local/lib/python3.11/dist-packages (from ipython->nnsight==0.4.0) (3.0.50)\n",
            "Requirement already satisfied: pygments in /usr/local/lib/python3.11/dist-packages (from ipython->nnsight==0.4.0) (2.18.0)\n",
            "Requirement already satisfied: backcall in /usr/local/lib/python3.11/dist-packages (from ipython->nnsight==0.4.0) (0.2.0)\n",
            "Requirement already satisfied: pexpect>4.3 in /usr/local/lib/python3.11/dist-packages (from ipython->nnsight==0.4.0) (4.9.0)\n",
            "Requirement already satisfied: bidict>=0.21.0 in /usr/local/lib/python3.11/dist-packages (from python-socketio[client]->nnsight==0.4.0) (0.23.1)\n",
            "Requirement already satisfied: python-engineio>=4.11.0 in /usr/local/lib/python3.11/dist-packages (from python-socketio[client]->nnsight==0.4.0) (4.11.2)\n",
            "Requirement already satisfied: websocket-client>=0.54.0 in /usr/local/lib/python3.11/dist-packages (from python-socketio[client]->nnsight==0.4.0) (1.8.0)\n",
            "Requirement already satisfied: pycryptodomex~=3.8 in /usr/local/lib/python3.11/dist-packages (from blobfile<3.0.0,>=2.1.1->automated-interpretability<1.0.0,>=0.0.5->sae-lens) (3.22.0)\n",
            "Requirement already satisfied: urllib3<3,>=1.25.3 in /usr/local/lib/python3.11/dist-packages (from blobfile<3.0.0,>=2.1.1->automated-interpretability<1.0.0,>=0.0.5->sae-lens) (2.3.0)\n",
            "Requirement already satisfied: lxml~=4.9 in /usr/local/lib/python3.11/dist-packages (from blobfile<3.0.0,>=2.1.1->automated-interpretability<1.0.0,>=0.0.5->sae-lens) (4.9.4)\n",
            "Requirement already satisfied: uvloop>=0.16.0 in /usr/local/lib/python3.11/dist-packages (from boostedblob<0.16.0,>=0.15.3->automated-interpretability<1.0.0,>=0.0.5->sae-lens) (0.21.0)\n",
            "Requirement already satisfied: aiohappyeyeballs>=2.3.0 in /usr/local/lib/python3.11/dist-packages (from aiohttp->datasets<3.0.0,>=2.17.1->sae-lens) (2.6.1)\n",
            "Requirement already satisfied: aiosignal>=1.1.2 in /usr/local/lib/python3.11/dist-packages (from aiohttp->datasets<3.0.0,>=2.17.1->sae-lens) (1.3.2)\n",
            "Requirement already satisfied: attrs>=17.3.0 in /usr/local/lib/python3.11/dist-packages (from aiohttp->datasets<3.0.0,>=2.17.1->sae-lens) (25.3.0)\n",
            "Requirement already satisfied: frozenlist>=1.1.1 in /usr/local/lib/python3.11/dist-packages (from aiohttp->datasets<3.0.0,>=2.17.1->sae-lens) (1.5.0)\n",
            "Requirement already satisfied: multidict<7.0,>=4.5 in /usr/local/lib/python3.11/dist-packages (from aiohttp->datasets<3.0.0,>=2.17.1->sae-lens) (6.1.0)\n",
            "Requirement already satisfied: propcache>=0.2.0 in /usr/local/lib/python3.11/dist-packages (from aiohttp->datasets<3.0.0,>=2.17.1->sae-lens) (0.3.0)\n",
            "Requirement already satisfied: yarl<2.0,>=1.17.0 in /usr/local/lib/python3.11/dist-packages (from aiohttp->datasets<3.0.0,>=2.17.1->sae-lens) (1.18.3)\n",
            "Requirement already satisfied: anyio in /usr/local/lib/python3.11/dist-packages (from httpx<0.28.0,>=0.27.0->automated-interpretability<1.0.0,>=0.0.5->sae-lens) (3.7.1)\n",
            "Requirement already satisfied: certifi in /usr/local/lib/python3.11/dist-packages (from httpx<0.28.0,>=0.27.0->automated-interpretability<1.0.0,>=0.0.5->sae-lens) (2025.1.31)\n",
            "Requirement already satisfied: httpcore==1.* in /usr/local/lib/python3.11/dist-packages (from httpx<0.28.0,>=0.27.0->automated-interpretability<1.0.0,>=0.0.5->sae-lens) (1.0.7)\n",
            "Requirement already satisfied: idna in /usr/local/lib/python3.11/dist-packages (from httpx<0.28.0,>=0.27.0->automated-interpretability<1.0.0,>=0.0.5->sae-lens) (3.10)\n",
            "Requirement already satisfied: sniffio in /usr/local/lib/python3.11/dist-packages (from httpx<0.28.0,>=0.27.0->automated-interpretability<1.0.0,>=0.0.5->sae-lens) (1.3.1)\n",
            "Requirement already satisfied: h11<0.15,>=0.13 in /usr/local/lib/python3.11/dist-packages (from httpcore==1.*->httpx<0.28.0,>=0.27.0->automated-interpretability<1.0.0,>=0.0.5->sae-lens) (0.14.0)\n",
            "Requirement already satisfied: wadler-lindig>=0.1.3 in /usr/local/lib/python3.11/dist-packages (from jaxtyping>=0.2.11->transformer-lens<3.0.0,>=2.0.0->sae-lens) (0.1.4)\n",
            "Requirement already satisfied: parso<0.9.0,>=0.8.4 in /usr/local/lib/python3.11/dist-packages (from jedi>=0.16->ipython->nnsight==0.4.0) (0.8.4)\n",
            "Requirement already satisfied: pytz>=2020.1 in /usr/local/lib/python3.11/dist-packages (from pandas->babe<0.0.8,>=0.0.7->sae-lens) (2025.1)\n",
            "Requirement already satisfied: tzdata>=2022.7 in /usr/local/lib/python3.11/dist-packages (from pandas->babe<0.0.8,>=0.0.7->sae-lens) (2025.1)\n",
            "Requirement already satisfied: ptyprocess>=0.5 in /usr/local/lib/python3.11/dist-packages (from pexpect>4.3->ipython->nnsight==0.4.0) (0.7.0)\n",
            "Requirement already satisfied: wcwidth in /usr/local/lib/python3.11/dist-packages (from prompt-toolkit!=3.0.0,!=3.0.1,<3.1.0,>=2.0.0->ipython->nnsight==0.4.0) (0.2.13)\n",
            "Requirement already satisfied: simple-websocket>=0.10.0 in /usr/local/lib/python3.11/dist-packages (from python-engineio>=4.11.0->python-socketio[client]->nnsight==0.4.0) (1.1.0)\n",
            "Requirement already satisfied: charset-normalizer<4,>=2 in /usr/local/lib/python3.11/dist-packages (from requests>=2.32.2->datasets<3.0.0,>=2.17.1->sae-lens) (3.4.1)\n",
            "Requirement already satisfied: markdown-it-py>=2.2.0 in /usr/local/lib/python3.11/dist-packages (from rich>=12.6.0->transformer-lens<3.0.0,>=2.0.0->sae-lens) (3.0.0)\n",
            "Requirement already satisfied: threadpoolctl>=3.1.0 in /usr/local/lib/python3.11/dist-packages (from scikit-learn<2.0.0,>=1.2.0->automated-interpretability<1.0.0,>=0.0.5->sae-lens) (3.6.0)\n",
            "Requirement already satisfied: docker-pycreds>=0.4.0 in /usr/local/lib/python3.11/dist-packages (from wandb>=0.13.5->transformer-lens<3.0.0,>=2.0.0->sae-lens) (0.4.0)\n",
            "Requirement already satisfied: gitpython!=3.1.29,>=1.0.0 in /usr/local/lib/python3.11/dist-packages (from wandb>=0.13.5->transformer-lens<3.0.0,>=2.0.0->sae-lens) (3.1.44)\n",
            "Requirement already satisfied: platformdirs in /usr/local/lib/python3.11/dist-packages (from wandb>=0.13.5->transformer-lens<3.0.0,>=2.0.0->sae-lens) (4.3.6)\n",
            "Requirement already satisfied: sentry-sdk>=2.0.0 in /usr/local/lib/python3.11/dist-packages (from wandb>=0.13.5->transformer-lens<3.0.0,>=2.0.0->sae-lens) (2.22.0)\n",
            "Requirement already satisfied: setproctitle in /usr/local/lib/python3.11/dist-packages (from wandb>=0.13.5->transformer-lens<3.0.0,>=2.0.0->sae-lens) (1.3.5)\n",
            "Requirement already satisfied: dol in /usr/local/lib/python3.11/dist-packages (from graze->babe<0.0.8,>=0.0.7->sae-lens) (0.3.13)\n",
            "Requirement already satisfied: zipp>=3.20 in /usr/local/lib/python3.11/dist-packages (from importlib-metadata->diffusers->nnsight==0.4.0) (3.21.0)\n",
            "Requirement already satisfied: MarkupSafe>=2.0 in /usr/local/lib/python3.11/dist-packages (from jinja2->torch>=2.4.0->nnsight==0.4.0) (3.0.2)\n",
            "Requirement already satisfied: config2py in /usr/local/lib/python3.11/dist-packages (from py2store->babe<0.0.8,>=0.0.7->sae-lens) (0.1.36)\n",
            "Requirement already satisfied: importlib-resources in /usr/local/lib/python3.11/dist-packages (from py2store->babe<0.0.8,>=0.0.7->sae-lens) (6.5.2)\n",
            "Requirement already satisfied: iniconfig in /usr/local/lib/python3.11/dist-packages (from pytest->pytest-profiling<2.0.0,>=1.7.0->sae-lens) (2.0.0)\n",
            "Requirement already satisfied: pluggy<2,>=1.5 in /usr/local/lib/python3.11/dist-packages (from pytest->pytest-profiling<2.0.0,>=1.7.0->sae-lens) (1.5.0)\n",
            "Requirement already satisfied: gitdb<5,>=4.0.1 in /usr/local/lib/python3.11/dist-packages (from gitpython!=3.1.29,>=1.0.0->wandb>=0.13.5->transformer-lens<3.0.0,>=2.0.0->sae-lens) (4.0.12)\n",
            "Requirement already satisfied: mdurl~=0.1 in /usr/local/lib/python3.11/dist-packages (from markdown-it-py>=2.2.0->rich>=12.6.0->transformer-lens<3.0.0,>=2.0.0->sae-lens) (0.1.2)\n",
            "Requirement already satisfied: wsproto in /usr/local/lib/python3.11/dist-packages (from simple-websocket>=0.10.0->python-engineio>=4.11.0->python-socketio[client]->nnsight==0.4.0) (1.2.0)\n",
            "Requirement already satisfied: i2 in /usr/local/lib/python3.11/dist-packages (from config2py->py2store->babe<0.0.8,>=0.0.7->sae-lens) (0.1.46)\n",
            "Requirement already satisfied: smmap<6,>=3.0.1 in /usr/local/lib/python3.11/dist-packages (from gitdb<5,>=4.0.1->gitpython!=3.1.29,>=1.0.0->wandb>=0.13.5->transformer-lens<3.0.0,>=2.0.0->sae-lens) (5.0.2)\n"
          ]
        }
      ]
    },
    {
      "cell_type": "code",
      "source": [
        "!pip install --upgrade --force-reinstall numpy scipy scikit-learn"
      ],
      "metadata": {
        "colab": {
          "base_uri": "https://localhost:8080/",
          "height": 894
        },
        "id": "MyagPNFg_XvF",
        "outputId": "94b9f550-42ed-40be-dad3-132777818b08"
      },
      "id": "MyagPNFg_XvF",
      "execution_count": null,
      "outputs": [
        {
          "output_type": "stream",
          "name": "stdout",
          "text": [
            "Collecting numpy\n",
            "  Using cached numpy-2.2.4-cp311-cp311-manylinux_2_17_x86_64.manylinux2014_x86_64.whl.metadata (62 kB)\n",
            "Collecting scipy\n",
            "  Downloading scipy-1.15.2-cp311-cp311-manylinux_2_17_x86_64.manylinux2014_x86_64.whl.metadata (61 kB)\n",
            "\u001b[2K     \u001b[90m━━━━━━━━━━━━━━━━━━━━━━━━━━━━━━━━━━━━━━━━\u001b[0m \u001b[32m62.0/62.0 kB\u001b[0m \u001b[31m2.3 MB/s\u001b[0m eta \u001b[36m0:00:00\u001b[0m\n",
            "\u001b[?25hCollecting scikit-learn\n",
            "  Downloading scikit_learn-1.6.1-cp311-cp311-manylinux_2_17_x86_64.manylinux2014_x86_64.whl.metadata (18 kB)\n",
            "Collecting joblib>=1.2.0 (from scikit-learn)\n",
            "  Downloading joblib-1.4.2-py3-none-any.whl.metadata (5.4 kB)\n",
            "Collecting threadpoolctl>=3.1.0 (from scikit-learn)\n",
            "  Downloading threadpoolctl-3.6.0-py3-none-any.whl.metadata (13 kB)\n",
            "Using cached numpy-2.2.4-cp311-cp311-manylinux_2_17_x86_64.manylinux2014_x86_64.whl (16.4 MB)\n",
            "Downloading scipy-1.15.2-cp311-cp311-manylinux_2_17_x86_64.manylinux2014_x86_64.whl (37.6 MB)\n",
            "\u001b[2K   \u001b[90m━━━━━━━━━━━━━━━━━━━━━━━━━━━━━━━━━━━━━━━━\u001b[0m \u001b[32m37.6/37.6 MB\u001b[0m \u001b[31m61.6 MB/s\u001b[0m eta \u001b[36m0:00:00\u001b[0m\n",
            "\u001b[?25hDownloading scikit_learn-1.6.1-cp311-cp311-manylinux_2_17_x86_64.manylinux2014_x86_64.whl (13.5 MB)\n",
            "\u001b[2K   \u001b[90m━━━━━━━━━━━━━━━━━━━━━━━━━━━━━━━━━━━━━━━━\u001b[0m \u001b[32m13.5/13.5 MB\u001b[0m \u001b[31m109.3 MB/s\u001b[0m eta \u001b[36m0:00:00\u001b[0m\n",
            "\u001b[?25hDownloading joblib-1.4.2-py3-none-any.whl (301 kB)\n",
            "\u001b[2K   \u001b[90m━━━━━━━━━━━━━━━━━━━━━━━━━━━━━━━━━━━━━━━━\u001b[0m \u001b[32m301.8/301.8 kB\u001b[0m \u001b[31m27.3 MB/s\u001b[0m eta \u001b[36m0:00:00\u001b[0m\n",
            "\u001b[?25hDownloading threadpoolctl-3.6.0-py3-none-any.whl (18 kB)\n",
            "Installing collected packages: threadpoolctl, numpy, joblib, scipy, scikit-learn\n",
            "  Attempting uninstall: threadpoolctl\n",
            "    Found existing installation: threadpoolctl 3.6.0\n",
            "    Uninstalling threadpoolctl-3.6.0:\n",
            "      Successfully uninstalled threadpoolctl-3.6.0\n",
            "  Attempting uninstall: numpy\n",
            "    Found existing installation: numpy 2.2.4\n",
            "    Uninstalling numpy-2.2.4:\n",
            "      Successfully uninstalled numpy-2.2.4\n",
            "  Attempting uninstall: joblib\n",
            "    Found existing installation: joblib 1.4.2\n",
            "    Uninstalling joblib-1.4.2:\n",
            "      Successfully uninstalled joblib-1.4.2\n",
            "  Attempting uninstall: scipy\n",
            "    Found existing installation: scipy 1.14.1\n",
            "    Uninstalling scipy-1.14.1:\n",
            "      Successfully uninstalled scipy-1.14.1\n",
            "  Attempting uninstall: scikit-learn\n",
            "    Found existing installation: scikit-learn 1.6.1\n",
            "    Uninstalling scikit-learn-1.6.1:\n",
            "      Successfully uninstalled scikit-learn-1.6.1\n",
            "\u001b[31mERROR: pip's dependency resolver does not currently take into account all the packages that are installed. This behaviour is the source of the following dependency conflicts.\n",
            "automated-interpretability 0.0.8 requires numpy<2.0.0,>=1.24.0, but you have numpy 2.2.4 which is incompatible.\n",
            "numba 0.60.0 requires numpy<2.1,>=1.22, but you have numpy 2.2.4 which is incompatible.\n",
            "tensorflow 2.18.0 requires numpy<2.1.0,>=1.26.0, but you have numpy 2.2.4 which is incompatible.\u001b[0m\u001b[31m\n",
            "\u001b[0mSuccessfully installed joblib-1.4.2 numpy-2.2.4 scikit-learn-1.6.1 scipy-1.15.2 threadpoolctl-3.6.0\n"
          ]
        },
        {
          "output_type": "display_data",
          "data": {
            "application/vnd.colab-display-data+json": {
              "pip_warning": {
                "packages": [
                  "joblib"
                ]
              },
              "id": "1f0978fbb51d44aa91408763d3a2e4fa"
            }
          },
          "metadata": {}
        }
      ]
    },
    {
      "cell_type": "code",
      "source": [
        "#!pip install --upgrade --force-reinstall numpy"
      ],
      "metadata": {
        "id": "a9GoLDnCEcwB"
      },
      "id": "a9GoLDnCEcwB",
      "execution_count": null,
      "outputs": []
    },
    {
      "cell_type": "code",
      "execution_count": null,
      "id": "1a4856ac-0155-43aa-bdee-bab3dd7ec4a7",
      "metadata": {
        "id": "1a4856ac-0155-43aa-bdee-bab3dd7ec4a7"
      },
      "outputs": [],
      "source": [
        "# Import necessary libraries\n",
        "from nnsight import LanguageModel\n",
        "import torch\n",
        "import pandas as pd\n",
        "\n",
        "import huggingface_hub\n",
        "\n",
        "\n",
        "# Initialize the language model with specific parameters\n",
        "model = LanguageModel(\"google/gemma-2b-it\", trust_remote_code=True, device_map=\"cuda:0\", low_cpu_mem_usage=True, torch_dtype=torch.float16)\n",
        "model.requires_grad_(False)\n",
        "\n",
        "\n",
        "\n",
        "from sae_lens import SAE\n",
        "layer = 6\n",
        "\n",
        "# get the SAE for this layer\n",
        "sae, cfg_dict, _ = SAE.from_pretrained(\n",
        "    release = \"gemma-2b-res-jb\",\n",
        "    sae_id = f\"blocks.{layer}.hook_resid_post\",\n",
        "    device = 'cuda:0'\n",
        ")\n",
        "# Load the SAE weights using safetensors\n",
        "# from safetensors import safe_open\n",
        "# with safe_open(\"/home/ashater/work/sae.safetensors\", framework=\"pt\") as st:\n",
        "#     w_dec = st.get_tensor(\"W_dec\").to('cuda:1')\n",
        "\n",
        "\n",
        "\n"
      ]
    },
    {
      "cell_type": "code",
      "source": [
        "\n",
        "from huggingface_hub import hf_hub_download\n",
        "\n",
        "# Define the repository ID and filename\n",
        "repo_id = \"jbloom/Gemma-2b-Residual-Stream-SAEs\"\n",
        "filename = \"sae_weights.safetensors\"\n",
        "\n",
        "# Download the file\n",
        "\n",
        "\n",
        "# filepath = hf_hub_download(repo_id=repo_id, filename=filename, subfolder=\"gemma_2b_blocks.6.hook_resid_post_16384\")\n",
        "\n",
        "#Layer 12\n",
        "#filepath = hf_hub_download(repo_id=repo_id, filename=filename, subfolder=\"gemma_2b_blocks.12.hook_resid_post_16384\")\n",
        "\n",
        "# Layer 6\n",
        "filepath = hf_hub_download(repo_id=repo_id, filename=filename, subfolder=\"gemma_2b_blocks.6.hook_resid_post_16384_anthropic_fast_lr\")\n",
        "\n",
        "# Print the downloaded file path\n",
        "print(filepath)\n",
        "\n",
        "# Print the downloaded file path\n",
        "print(filepath)"
      ],
      "metadata": {
        "colab": {
          "base_uri": "https://localhost:8080/"
        },
        "id": "rBFqe6KJV4zC",
        "outputId": "019ca896-3dd1-45bb-89f7-e4c335bb525c"
      },
      "id": "rBFqe6KJV4zC",
      "execution_count": null,
      "outputs": [
        {
          "output_type": "stream",
          "name": "stdout",
          "text": [
            "/root/.cache/huggingface/hub/models--jbloom--Gemma-2b-Residual-Stream-SAEs/snapshots/2e64e9127f413318e0500a6ba3981483f251bcee/gemma_2b_blocks.6.hook_resid_post_16384_anthropic_fast_lr/sae_weights.safetensors\n",
            "/root/.cache/huggingface/hub/models--jbloom--Gemma-2b-Residual-Stream-SAEs/snapshots/2e64e9127f413318e0500a6ba3981483f251bcee/gemma_2b_blocks.6.hook_resid_post_16384_anthropic_fast_lr/sae_weights.safetensors\n"
          ]
        }
      ]
    },
    {
      "cell_type": "code",
      "source": [
        "# Load the SAE weights using safetensors\n",
        "from safetensors import safe_open\n",
        "with safe_open(filepath, framework=\"pt\") as st:\n",
        "    w_dec = st.get_tensor(\"W_dec\").to('cuda:0')"
      ],
      "metadata": {
        "id": "j8b_064UWBRt"
      },
      "id": "j8b_064UWBRt",
      "execution_count": null,
      "outputs": []
    },
    {
      "cell_type": "code",
      "execution_count": null,
      "id": "4b8c1793-102b-40fa-ac95-1bed54ade0a5",
      "metadata": {
        "colab": {
          "base_uri": "https://localhost:8080/"
        },
        "id": "4b8c1793-102b-40fa-ac95-1bed54ade0a5",
        "outputId": "e504456a-09f9-47e2-8b29-feade99e2405"
      },
      "outputs": [
        {
          "output_type": "execute_result",
          "data": {
            "text/plain": [
              "0"
            ]
          },
          "metadata": {},
          "execution_count": 84
        }
      ],
      "source": [
        "import torch\n",
        "#torch.cuda.is_available()\n",
        "\n",
        "#torch.cuda.device_count()\n",
        "#len(docs)\n",
        "torch.cuda.set_device(0)\n",
        "torch.cuda.current_device()\n"
      ]
    },
    {
      "cell_type": "code",
      "execution_count": null,
      "id": "76b70c13-046f-4a20-b9a0-1cf02d0c55a4",
      "metadata": {
        "colab": {
          "base_uri": "https://localhost:8080/"
        },
        "id": "76b70c13-046f-4a20-b9a0-1cf02d0c55a4",
        "outputId": "974b7868-2204-476b-c9a5-186900f69a4d"
      },
      "outputs": [
        {
          "output_type": "execute_result",
          "data": {
            "text/plain": [
              "tensor([  471,  4579, 11129, 11728,  6446,  6510, 14611,  7687,  5411,   891,\n",
              "        15780,  7372,   675, 13371,   713, 15976,  1076,  5419,   976, 13837,\n",
              "        10036,  2817,  6495,   154,  2287, 15131, 16291,  3466,  2111, 14557,\n",
              "         9715,  8481,  8099,  8567, 15023, 11584,  3869,  7062, 15369,  3864,\n",
              "        14291,  5239,  7807,  4189,  4815, 13685, 10031,  2126,  5936, 14224,\n",
              "        15698, 14444, 10105, 10185,  5407,  6545,  8586,  8753,  6027, 13939,\n",
              "        11269,  9963,  8461, 15760,  2312,   544,  9188, 11808,  8498,   354,\n",
              "         4989,  7682, 11355,  4828, 14022,  3586,  8306,   954, 12170,   167,\n",
              "        11255,  9691,  6426, 11718, 14749,  7608, 14153,  3971, 14416, 13584,\n",
              "         3900, 13970,  8222, 14874,  8523,  9004, 12520, 15384,  1805,   575],\n",
              "       device='cuda:0')"
            ]
          },
          "metadata": {},
          "execution_count": 85
        }
      ],
      "source": [
        "#sae.W_dec == w_dec\n",
        "\n",
        "cos = torch.nn.CosineSimilarity(dim=1, eps=1e-6)\n",
        "cos(w_dec[471,:], sae.W_dec).topk(100).indices"
      ]
    },
    {
      "cell_type": "markdown",
      "id": "5e041f35-f593-43db-b018-5a1f7a0849e8",
      "metadata": {
        "id": "5e041f35-f593-43db-b018-5a1f7a0849e8"
      },
      "source": [
        "Parameters"
      ]
    },
    {
      "cell_type": "code",
      "execution_count": null,
      "id": "8f5b3826-4114-49b1-b353-f8c927c1a9a9",
      "metadata": {
        "id": "8f5b3826-4114-49b1-b353-f8c927c1a9a9"
      },
      "outputs": [],
      "source": [
        "#@title Self-explanation in 18 lines\n",
        "feature = 471  #@param {type: \"integer\"}\n",
        "#feature = 5892  #@param {type: \"integer\"}\n",
        "# feature = 9415\n",
        "# feature = 3629\n",
        "scale = 1 #@param {type: \"number\"}\n",
        "se_demo = True  #@param {type: \"boolean\"}\n",
        "max_new_tokens = 200  #@param {type: \"integer\"}\n",
        "n_generate = 1  #@param {type: \"integer\"}\n",
        "# vals = ['positive', 'neutral', 'negative']\n",
        "# samples = pd.read_excel('/home/ashater/work/sae/sentence_sentiment_gpt4o.xlsx')"
      ]
    },
    {
      "cell_type": "markdown",
      "id": "cd931463-c743-4604-9c09-58d19613c67a",
      "metadata": {
        "id": "cd931463-c743-4604-9c09-58d19613c67a"
      },
      "source": [
        "## Main code prompt\n"
      ]
    },
    {
      "cell_type": "code",
      "execution_count": null,
      "id": "7fe05b2d-753a-4144-9bde-a698208668ad",
      "metadata": {
        "colab": {
          "base_uri": "https://localhost:8080/"
        },
        "id": "7fe05b2d-753a-4144-9bde-a698208668ad",
        "outputId": "40e5795b-eb81-4205-c3bf-b3d84235738a"
      },
      "outputs": [
        {
          "output_type": "stream",
          "name": "stdout",
          "text": [
            "tensor([[ 2.6437, 19.0839,  0.0000,  ...,  0.0000, 11.5041,  0.0000]],\n",
            "       device='cuda:0', grad_fn=<SumBackward1>)\n",
            "torch.return_types.topk(\n",
            "values=tensor([[[51.1168, 48.4640, 45.8361,  ..., 18.9716, 18.9661, 18.9428],\n",
            "         [13.9263,  3.4869,  2.9293,  ...,  0.0000,  0.0000,  0.0000],\n",
            "         [12.2713,  5.2073,  2.2165,  ...,  0.0000,  0.0000,  0.0000]]],\n",
            "       device='cuda:0', grad_fn=<TopkBackward0>),\n",
            "indices=tensor([[[ 3390, 15881,  5347,  ...,  8207,    15,  3380],\n",
            "         [ 5419, 10035,   471,  ...,   769,   770,   771],\n",
            "         [10870,   471, 12704,  ...,   899,   900,   901]]], device='cuda:0'))\n"
          ]
        }
      ],
      "source": [
        "full_res = []\n",
        "#v = range(0,10)\n",
        "#for ismpl in v:\n",
        "\n",
        "\n",
        "    # prompt = \"\"\"<start_of_turn>user\\nCan you rate  the following sentnece as a financial credit sentiment, very positive,\n",
        "    # somewhat positive, neutral, somewhat negative,\n",
        "    # very negative? \"\"\" + ismpl + '<end_of_turn>\\n<start_of_turn>model\\nThe sentiment of the setence is \"X\"'\n",
        "\n",
        "\n",
        "prompt = \"Credit Risk\"\n",
        "# prompt = \"\"\"Credit Risk Related\"\"\"\n",
        "\n",
        "\n",
        "\n",
        "#prompt = '<start_of_turn>user\\nWhat is the meaning of the word \"X\"?<end_of_turn>\\n<start_of_turn>model\\nThe meaning of the word \"X\" is \"'\n",
        "\n",
        "# prompt = '<start_of_turn>user\\n' + ismpl +  '<end_of_turn>\\n<start_of_turn>model X'\n",
        "# positions = [i for i, a in enumerate(model.tokenizer.encode(prompt)) if model.tokenizer.decode([a]) == \"X\"]\n",
        "# print(positions)\n",
        "#with model.generate(prompt, max_new_tokens=max_new_tokens, num_return_sequences=n_generate, do_sample=False, scan=False, validate=False, temperature=0.0) as gen:\n",
        "with model.generate(prompt, max_new_tokens=max_new_tokens, num_return_sequences=n_generate, do_sample=True, scan=False, validate=False) as gen:\n",
        "    # vector steering section\n",
        "    # for feature_i in topics:\n",
        "    # vector = sae.W_dec[[feature]]\n",
        "    # vector = vector / vector.norm()\n",
        "    # vector = vector * scale\n",
        "    # setting vector into layer 2\n",
        "    # for position in positions:\n",
        "    #   model.model.layers[2].output[0][:, position] = vector\n",
        "\n",
        "    # get final output saved\n",
        "    out = model.generator.output.save()\n",
        "    # capture at layer 6 or 12\n",
        "    resid = model.model.layers[6].output.save()\n",
        "\n",
        "features = sae.encode(resid[0])\n",
        "\n",
        "summed_activations = features.abs().sum(dim=1) # Sort by max activations\n",
        "\n",
        "print(summed_activations)\n",
        "summed_activations = features\n",
        "top_activations_indices = summed_activations.topk(1000) # Get indices of top 20\n",
        "print(top_activations_indices)\n",
        "#top_activations_indices = summed_activations.indices # Get indices of top 20\n",
        "\n",
        "\n",
        "for i, l in enumerate(model.tokenizer.batch_decode(out)):\n",
        "    #print(model.tokenizer.batch_decode(out))\n",
        "    s = repr(l.partition(prompt)[2].partition(\"<eos>\")[0])\n",
        "    #print(prompt + \"|\"+ s + \"|\" + str(top_activations_indices))\n",
        "    #print(prompt + \"|\"+ l +\"\\n\" + \"|\" + str(top_activations_indices))\n",
        "    #print(str(top_activations_indices))\n"
      ]
    },
    {
      "cell_type": "markdown",
      "id": "563adb23-1bad-420f-962b-2e5fb101700d",
      "metadata": {
        "id": "563adb23-1bad-420f-962b-2e5fb101700d"
      },
      "source": [
        "## summed activations across tokens, finance features"
      ]
    },
    {
      "cell_type": "code",
      "source": [
        "s"
      ],
      "metadata": {
        "colab": {
          "base_uri": "https://localhost:8080/",
          "height": 143
        },
        "id": "IgIQemkyKz8i",
        "outputId": "51763927-3166-45de-b6dd-02df1be1d341"
      },
      "id": "IgIQemkyKz8i",
      "execution_count": null,
      "outputs": [
        {
          "output_type": "execute_result",
          "data": {
            "text/plain": [
              "'\" Assessment:\\\\n\\\\nSure, here\\'s an overview of the credit risk assessment process and a step-by-step guide on how to conduct a credit risk assessment:\\\\n\\\\n**The credit risk assessment process outlines the following steps:**\\\\n\\\\n- Gathering and analyzing relevant financial and non-financial data on the borrower or debtor.\\\\n- Estimating the probability that the borrower will not repay the debt.\\\\n- Calculating the potential loss amount if the borrower defaults on the debt.\\\\n- Using the estimated loss amount to determine the credit risk score.\\\\n\\\\n**Step 1: Identifying relevant data sources**\\\\n\\\\n- Financial statements: Balance sheets, income statements, tax returns\\\\n- Credit reports: Moody\\'s, S&P, Fitchratings\\\\n- Third-party data: Marketing trends, economic indicators, industry reports\\\\n\\\\n**Step 2: Gathering and analyzing financial data**\\\\n\\\\n- Calculate the borrower\\'s credit score by summing the assets and liabilities and dividing by two.\\\\n- Analyze the borrower\\'s financial\"'"
            ],
            "application/vnd.google.colaboratory.intrinsic+json": {
              "type": "string"
            }
          },
          "metadata": {},
          "execution_count": 51
        }
      ]
    },
    {
      "cell_type": "code",
      "source": [
        " #model.tokenizer.decode(model.tokenizer.encode(prompt)[2])\n",
        "summed_activations[0][0]\n"
      ],
      "metadata": {
        "colab": {
          "base_uri": "https://localhost:8080/"
        },
        "id": "4mlmQdVj1wrb",
        "outputId": "3322f0f6-965f-4e62-b0b6-ea34e1e6056e"
      },
      "id": "4mlmQdVj1wrb",
      "execution_count": null,
      "outputs": [
        {
          "output_type": "execute_result",
          "data": {
            "text/plain": [
              "tensor([ 2.6437, 19.0839,  0.0000,  ...,  0.0000, 11.5041,  0.0000],\n",
              "       device='cuda:0', grad_fn=<SelectBackward0>)"
            ]
          },
          "metadata": {},
          "execution_count": 45
        }
      ]
    },
    {
      "cell_type": "code",
      "source": [],
      "metadata": {
        "colab": {
          "base_uri": "https://localhost:8080/"
        },
        "id": "iB8Rxj9tGWa4",
        "outputId": "a5975bf2-f41e-48ed-a619-687336a81524"
      },
      "id": "iB8Rxj9tGWa4",
      "execution_count": null,
      "outputs": [
        {
          "output_type": "execute_result",
          "data": {
            "text/plain": [
              "3"
            ]
          },
          "metadata": {},
          "execution_count": 28
        }
      ]
    },
    {
      "cell_type": "code",
      "execution_count": null,
      "id": "185d1d1a-ca6f-46f6-8b3f-317d91738580",
      "metadata": {
        "colab": {
          "base_uri": "https://localhost:8080/"
        },
        "id": "185d1d1a-ca6f-46f6-8b3f-317d91738580",
        "outputId": "7b0952af-d03d-492a-c2d3-02c325adc7a1"
      },
      "outputs": [
        {
          "output_type": "execute_result",
          "data": {
            "text/plain": [
              "[True, False, False, False, False, False, False, False, False, False, False]"
            ]
          },
          "metadata": {},
          "execution_count": 42
        }
      ],
      "source": [
        "#summed_activations[summed_activations > 10].shape\n",
        "idc = summed_activations.topk(1000).indices\n",
        "[g in idc for g in [354, 2105, 4218, 5239, 6545, 7529, 8461, 11614, 11916, 14291, 15399]]"
      ]
    },
    {
      "cell_type": "code",
      "source": [
        "#summed_activations[summed_activations > 10].shape\n",
        "idc = summed_activations.topk(1139).indices\n",
        "[g in idc for g in [10870]]"
      ],
      "metadata": {
        "colab": {
          "base_uri": "https://localhost:8080/"
        },
        "id": "QniJ3M_LHEnR",
        "outputId": "37c204f0-815c-4f32-9426-f6af76fc45ae"
      },
      "id": "QniJ3M_LHEnR",
      "execution_count": null,
      "outputs": [
        {
          "output_type": "execute_result",
          "data": {
            "text/plain": [
              "[True]"
            ]
          },
          "metadata": {},
          "execution_count": 166
        }
      ]
    },
    {
      "cell_type": "markdown",
      "id": "062e7340-b8d7-4972-96c3-c09df308a69e",
      "metadata": {
        "id": "062e7340-b8d7-4972-96c3-c09df308a69e"
      },
      "source": [
        "## Get features for each token"
      ]
    },
    {
      "cell_type": "code",
      "execution_count": null,
      "id": "d4f51d09-59c6-4838-b25e-442a4295dffc",
      "metadata": {
        "colab": {
          "base_uri": "https://localhost:8080/"
        },
        "id": "d4f51d09-59c6-4838-b25e-442a4295dffc",
        "outputId": "700b1de0-a5db-428f-af61-39fc6d2fd04b"
      },
      "outputs": [
        {
          "output_type": "execute_result",
          "data": {
            "text/plain": [
              "[False, True, False, False, False, False, False, True, False, False, False]"
            ]
          },
          "metadata": {},
          "execution_count": 43
        }
      ],
      "source": [
        "idc = summed_activations.mean(dim=1).topk(5000).indices\n",
        "[g in idc for g in [354, 2105, 4218, 5239, 6545, 7529, 8461, 11614, 11916, 14291, 15399]]"
      ]
    },
    {
      "cell_type": "code",
      "source": [
        "prompt = \"Credit Risk\"\n",
        "# prompt = \"\"\"Credit Risk Related\"\"\"\n",
        "\n",
        "\n",
        "\n",
        "#prompt = '<start_of_turn>user\\nWhat is the meaning of the word \"X\"?<end_of_turn>\\n<start_of_turn>model\\nThe meaning of the word \"X\" is \"'\n",
        "\n",
        "# prompt = '<start_of_turn>user\\n' + ismpl +  '<end_of_turn>\\n<start_of_turn>model X'\n",
        "# positions = [i for i, a in enumerate(model.tokenizer.encode(prompt)) if model.tokenizer.decode([a]) == \"X\"]\n",
        "# print(positions)\n",
        "#with model.generate(prompt, max_new_tokens=max_new_tokens, num_return_sequences=n_generate, do_sample=False, scan=False, validate=False, temperature=0.0) as gen:\n",
        "with model.generate(s, max_new_tokens=max_new_tokens, num_return_sequences=n_generate, do_sample=True, scan=False, validate=False) as gen:\n",
        "    # vector steering section\n",
        "    # for feature_i in topics:\n",
        "    # vector = sae.W_dec[[feature]]\n",
        "    # vector = vector / vector.norm()\n",
        "    # vector = vector * scale\n",
        "    # setting vector into layer 2\n",
        "    # for position in positions:\n",
        "    #   model.model.layers[2].output[0][:, position] = vector\n",
        "\n",
        "    # get final output saved\n",
        "    out = model.generator.output.save()\n",
        "    # capture at layer 6 or 12\n",
        "    resid = model.model.layers[6].output.save()\n",
        "\n",
        "features = sae.encode(resid[0])\n",
        "\n",
        "summed_activations = features.abs().sum(dim=1) # Sort by max activations\n",
        "\n",
        "print(summed_activations)\n",
        "summed_activations = features\n",
        "top_activations_indices = summed_activations.topk(1000) # Get indices of top 20\n",
        "print(top_activations_indices)\n",
        "#top_activations_indices = summed_activations.indices # Get indices of top 20\n",
        "\n",
        "\n",
        "for i, l in enumerate(model.tokenizer.batch_decode(out)):\n",
        "    #print(model.tokenizer.batch_decode(out))\n",
        "    s = repr(l.partition(prompt)[2].partition(\"<eos>\")[0])\n",
        "    #print(prompt + \"|\"+ s + \"|\" + str(top_activations_indices))\n",
        "    #print(prompt + \"|\"+ l +\"\\n\" + \"|\" + str(top_activations_indices))\n",
        "    #print(str(top_activations_indices))"
      ],
      "metadata": {
        "colab": {
          "base_uri": "https://localhost:8080/"
        },
        "id": "Y_N_F9vJK8AR",
        "outputId": "399779ba-d7a6-43e2-cc1f-743ccedc3cd0"
      },
      "id": "Y_N_F9vJK8AR",
      "execution_count": null,
      "outputs": [
        {
          "output_type": "stream",
          "name": "stdout",
          "text": [
            "tensor([[2.9072e+00, 1.9084e+01, 1.4612e-02,  ..., 0.0000e+00, 1.1504e+01,\n",
            "         4.7678e-03]], device='cuda:0', grad_fn=<SumBackward1>)\n",
            "torch.return_types.topk(\n",
            "values=tensor([[[51.1153, 48.4625, 45.8345,  ..., 18.9746, 18.9655, 18.9496],\n",
            "         [ 5.7439,  3.7488,  2.1953,  ...,  0.0000,  0.0000,  0.0000],\n",
            "         [15.0482,  3.9331,  3.1006,  ...,  0.0000,  0.0000,  0.0000],\n",
            "         ...,\n",
            "         [ 5.0740,  2.7632,  1.9795,  ...,  0.0000,  0.0000,  0.0000],\n",
            "         [12.1458,  1.8587,  1.7906,  ...,  0.0000,  0.0000,  0.0000],\n",
            "         [ 4.9684,  3.5519,  3.1325,  ...,  0.0000,  0.0000,  0.0000]]],\n",
            "       device='cuda:0', grad_fn=<TopkBackward0>),\n",
            "indices=tensor([[[ 3390, 15881,  5347,  ...,  8207,    15,  3380],\n",
            "         [ 2307,  2745,  3586,  ...,   943,   944,   945],\n",
            "         [ 9481, 15202, 11912,  ...,   497,   498,   499],\n",
            "         ...,\n",
            "         [12931, 10438, 10392,  ...,   962,   963,   964],\n",
            "         [15857,  3464, 11795,  ...,   964,   965,   966],\n",
            "         [ 5145,   357,  2745,  ...,   943,   944,   945]]], device='cuda:0'))\n"
          ]
        }
      ]
    },
    {
      "cell_type": "code",
      "source": [
        "summed_activations.mean(dim=1).topk(100)"
      ],
      "metadata": {
        "id": "RZbpAWNcMSJ-",
        "outputId": "5e58f3ac-6b93-4ca3-88c2-4d8aa4996f2f",
        "colab": {
          "base_uri": "https://localhost:8080/"
        }
      },
      "id": "RZbpAWNcMSJ-",
      "execution_count": null,
      "outputs": [
        {
          "output_type": "execute_result",
          "data": {
            "text/plain": [
              "torch.return_types.topk(\n",
              "values=tensor([[1.0333, 0.9966, 0.4354, 0.3795, 0.3715, 0.3587, 0.3500, 0.3427, 0.3153,\n",
              "         0.3145, 0.2898, 0.2779, 0.2607, 0.2578, 0.2493, 0.2329, 0.2325, 0.2324,\n",
              "         0.2226, 0.2218, 0.2217, 0.2182, 0.2171, 0.2158, 0.2156, 0.2107, 0.2093,\n",
              "         0.2093, 0.2060, 0.2054, 0.2053, 0.2030, 0.2021, 0.2001, 0.1996, 0.1992,\n",
              "         0.1972, 0.1947, 0.1907, 0.1905, 0.1866, 0.1863, 0.1860, 0.1855, 0.1846,\n",
              "         0.1842, 0.1841, 0.1840, 0.1837, 0.1816, 0.1813, 0.1793, 0.1780, 0.1778,\n",
              "         0.1771, 0.1751, 0.1748, 0.1742, 0.1742, 0.1739, 0.1728, 0.1722, 0.1721,\n",
              "         0.1716, 0.1694, 0.1692, 0.1691, 0.1675, 0.1661, 0.1656, 0.1653, 0.1650,\n",
              "         0.1645, 0.1633, 0.1632, 0.1630, 0.1630, 0.1628, 0.1620, 0.1619, 0.1618,\n",
              "         0.1611, 0.1611, 0.1609, 0.1605, 0.1605, 0.1603, 0.1596, 0.1596, 0.1594,\n",
              "         0.1592, 0.1590, 0.1580, 0.1578, 0.1578, 0.1578, 0.1577, 0.1575, 0.1573,\n",
              "         0.1571]], device='cuda:0', grad_fn=<TopkBackward0>),\n",
              "indices=tensor([[  471,  3553,  2065,  5419, 15857,  9415, 15023,  4675, 11227, 15499,\n",
              "         10870,  8134,  9927,  9481, 11774, 13829,   833,  3390, 16198,  6962,\n",
              "         15881,  3464, 14299,  1470, 10185,  1483,  5347,  4768, 16334,   556,\n",
              "          1630,  5490,  8499, 16261, 11785,  1587,  8063, 10054,  8880,  8498,\n",
              "         15202,  1491, 12388,  7608,  5396,  5206, 13743,  5624,  8350,  3754,\n",
              "         14183,  4884, 15595, 12827,  2745, 11740, 12704, 13816,  6540,  5577,\n",
              "         12873, 10493,  6877,  2241,  8861,  5978, 11571, 10098, 12615, 11407,\n",
              "          3109, 11808,  8066,  7012, 15559,  4974,  2754, 13700, 15110, 11160,\n",
              "          7563,  7778,  2901,  7190, 10328,   692,  5712,  6274,  7372,  7892,\n",
              "         14277, 14262,  8442,  7984,  6039,  2955,  5591, 11057,  1225,  7335]],\n",
              "       device='cuda:0'))"
            ]
          },
          "metadata": {},
          "execution_count": 55
        }
      ]
    },
    {
      "cell_type": "code",
      "source": [
        "summed_activations.sum(dim=1).topk(100)"
      ],
      "metadata": {
        "colab": {
          "base_uri": "https://localhost:8080/"
        },
        "id": "JbZCzhVRLHHA",
        "outputId": "40e20e65-3469-41f8-b54f-3d21260cf2a3"
      },
      "id": "JbZCzhVRLHHA",
      "execution_count": null,
      "outputs": [
        {
          "output_type": "execute_result",
          "data": {
            "text/plain": [
              "torch.return_types.topk(\n",
              "values=tensor([[230.4269, 222.2342,  97.0888,  84.6276,  82.8532,  79.9836,  78.0472,\n",
              "          76.4186,  70.3228,  70.1429,  64.6290,  61.9629,  58.1381,  57.4967,\n",
              "          55.5992,  51.9326,  51.8386,  51.8215,  49.6356,  49.4656,  49.4347,\n",
              "          48.6507,  48.4054,  48.1268,  48.0759,  46.9772,  46.6774,  46.6709,\n",
              "          45.9280,  45.8145,  45.7785,  45.2706,  45.0675,  44.6199,  44.5068,\n",
              "          44.4271,  43.9781,  43.4156,  42.5208,  42.4807,  41.6044,  41.5437,\n",
              "          41.4669,  41.3699,  41.1685,  41.0796,  41.0643,  41.0246,  40.9684,\n",
              "          40.4949,  40.4266,  39.9741,  39.6888,  39.6510,  39.4916,  39.0397,\n",
              "          38.9847,  38.8553,  38.8369,  38.7890,  38.5328,  38.3942,  38.3734,\n",
              "          38.2650,  37.7752,  37.7361,  37.7148,  37.3561,  37.0442,  36.9237,\n",
              "          36.8554,  36.7973,  36.6816,  36.4095,  36.3920,  36.3465,  36.3430,\n",
              "          36.3024,  36.1365,  36.1113,  36.0835,  35.9357,  35.9259,  35.8790,\n",
              "          35.7891,  35.7816,  35.7395,  35.5993,  35.5826,  35.5558,  35.4971,\n",
              "          35.4611,  35.2384,  35.1888,  35.1885,  35.1820,  35.1652,  35.1166,\n",
              "          35.0705,  35.0332]], device='cuda:0', grad_fn=<TopkBackward0>),\n",
              "indices=tensor([[  471,  3553,  2065,  5419, 15857,  9415, 15023,  4675, 11227, 15499,\n",
              "         10870,  8134,  9927,  9481, 11774, 13829,   833,  3390, 16198,  6962,\n",
              "         15881,  3464, 14299,  1470, 10185,  1483,  5347,  4768, 16334,   556,\n",
              "          1630,  5490,  8499, 16261, 11785,  1587,  8063, 10054,  8880,  8498,\n",
              "         15202,  1491, 12388,  7608,  5396,  5206, 13743,  5624,  8350,  3754,\n",
              "         14183,  4884, 15595, 12827,  2745, 11740, 12704, 13816,  6540,  5577,\n",
              "         12873, 10493,  6877,  2241,  8861,  5978, 11571, 10098, 12615, 11407,\n",
              "          3109, 11808,  8066,  7012, 15559,  4974,  2754, 13700, 15110, 11160,\n",
              "          7563,  7778,  2901,  7190, 10328,   692,  5712,  6274,  7372,  7892,\n",
              "         14277, 14262,  8442,  7984,  6039,  2955,  5591, 11057,  1225,  7335]],\n",
              "       device='cuda:0'))"
            ]
          },
          "metadata": {},
          "execution_count": 53
        }
      ]
    }
  ],
  "metadata": {
    "kernelspec": {
      "display_name": "Python 3",
      "name": "python3"
    },
    "language_info": {
      "codemirror_mode": {
        "name": "ipython",
        "version": 3
      },
      "file_extension": ".py",
      "mimetype": "text/x-python",
      "name": "python",
      "nbconvert_exporter": "python",
      "pygments_lexer": "ipython3",
      "version": "3.11.11"
    },
    "colab": {
      "provenance": [],
      "machine_shape": "hm",
      "gpuType": "T4"
    },
    "accelerator": "GPU"
  },
  "nbformat": 4,
  "nbformat_minor": 5
}