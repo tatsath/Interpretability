{
  "cells": [
    {
      "cell_type": "markdown",
      "metadata": {
        "id": "view-in-github",
        "colab_type": "text"
      },
      "source": [
        "<a href=\"https://colab.research.google.com/github/tatsath/Interpretability/blob/main/sentiment_steering.ipynb\" target=\"_parent\"><img src=\"https://colab.research.google.com/assets/colab-badge.svg\" alt=\"Open In Colab\"/></a>"
      ]
    },
    {
      "cell_type": "code",
      "execution_count": 55,
      "metadata": {
        "id": "PplMHwZohQTB"
      },
      "outputs": [],
      "source": [
        "import goodfire\n",
        "\n",
        "GOODFIRE_API_KEY = \"sk-goodfire-dmKRWrIVThY26TCbxycGJjAO3q2gvxL2S3LBXuQk7ROn_qiJsk2CNA\"\n",
        "client = goodfire.Client(api_key=GOODFIRE_API_KEY)"
      ]
    },
    {
      "cell_type": "code",
      "execution_count": 56,
      "metadata": {
        "id": "S847r4tAhQTD"
      },
      "outputs": [],
      "source": [
        "variant = goodfire.Variant(\"meta-llama/Meta-Llama-3.1-8B-Instruct\")"
      ]
    },
    {
      "cell_type": "code",
      "execution_count": 57,
      "metadata": {
        "id": "inixnTgRhQTD"
      },
      "outputs": [],
      "source": [
        "# import pandas as pd\n",
        "\n",
        "# df = pd.read_excel(\"sentence_sentiment_gpt4o.xlsx\")\n",
        "# df.head()"
      ]
    },
    {
      "cell_type": "code",
      "source": [
        "df = pd.read_excel('https://raw.githubusercontent.com/ashater/sae/master/sentence_sentiment_gpt4o.xlsx')"
      ],
      "metadata": {
        "id": "Mcx6vZQszcM5"
      },
      "execution_count": 58,
      "outputs": []
    },
    {
      "cell_type": "code",
      "source": [
        "df.head()"
      ],
      "metadata": {
        "colab": {
          "base_uri": "https://localhost:8080/",
          "height": 206
        },
        "id": "NIfnduN00nPR",
        "outputId": "fd1e368d-a119-402b-c7f5-f079e77bf6d0"
      },
      "execution_count": 72,
      "outputs": [
        {
          "output_type": "execute_result",
          "data": {
            "text/plain": [
              "  Version            Category      Sentiment  \\\n",
              "0      v1      Revenue Growth  Very Positive   \n",
              "1      v1      Revenue Growth  Very Positive   \n",
              "2      v1     Debt Management  Very Positive   \n",
              "3      v1     Debt Management  Very Positive   \n",
              "4      v1  Market Performance  Very Positive   \n",
              "\n",
              "                                            Sentence  \n",
              "0  The company reported record-breaking revenue g...  \n",
              "1  Due to its innovative approach, the firm has s...  \n",
              "2  The early repayment of $2 billion in outstandi...  \n",
              "3  The firm’s bonds have been upgraded to AAA sta...  \n",
              "4  Investors are thrilled as the company’s stock ...  "
            ],
            "text/html": [
              "\n",
              "  <div id=\"df-f4288d67-f7cf-4d82-a146-54610d0415ae\" class=\"colab-df-container\">\n",
              "    <div>\n",
              "<style scoped>\n",
              "    .dataframe tbody tr th:only-of-type {\n",
              "        vertical-align: middle;\n",
              "    }\n",
              "\n",
              "    .dataframe tbody tr th {\n",
              "        vertical-align: top;\n",
              "    }\n",
              "\n",
              "    .dataframe thead th {\n",
              "        text-align: right;\n",
              "    }\n",
              "</style>\n",
              "<table border=\"1\" class=\"dataframe\">\n",
              "  <thead>\n",
              "    <tr style=\"text-align: right;\">\n",
              "      <th></th>\n",
              "      <th>Version</th>\n",
              "      <th>Category</th>\n",
              "      <th>Sentiment</th>\n",
              "      <th>Sentence</th>\n",
              "    </tr>\n",
              "  </thead>\n",
              "  <tbody>\n",
              "    <tr>\n",
              "      <th>0</th>\n",
              "      <td>v1</td>\n",
              "      <td>Revenue Growth</td>\n",
              "      <td>Very Positive</td>\n",
              "      <td>The company reported record-breaking revenue g...</td>\n",
              "    </tr>\n",
              "    <tr>\n",
              "      <th>1</th>\n",
              "      <td>v1</td>\n",
              "      <td>Revenue Growth</td>\n",
              "      <td>Very Positive</td>\n",
              "      <td>Due to its innovative approach, the firm has s...</td>\n",
              "    </tr>\n",
              "    <tr>\n",
              "      <th>2</th>\n",
              "      <td>v1</td>\n",
              "      <td>Debt Management</td>\n",
              "      <td>Very Positive</td>\n",
              "      <td>The early repayment of $2 billion in outstandi...</td>\n",
              "    </tr>\n",
              "    <tr>\n",
              "      <th>3</th>\n",
              "      <td>v1</td>\n",
              "      <td>Debt Management</td>\n",
              "      <td>Very Positive</td>\n",
              "      <td>The firm’s bonds have been upgraded to AAA sta...</td>\n",
              "    </tr>\n",
              "    <tr>\n",
              "      <th>4</th>\n",
              "      <td>v1</td>\n",
              "      <td>Market Performance</td>\n",
              "      <td>Very Positive</td>\n",
              "      <td>Investors are thrilled as the company’s stock ...</td>\n",
              "    </tr>\n",
              "  </tbody>\n",
              "</table>\n",
              "</div>\n",
              "    <div class=\"colab-df-buttons\">\n",
              "\n",
              "  <div class=\"colab-df-container\">\n",
              "    <button class=\"colab-df-convert\" onclick=\"convertToInteractive('df-f4288d67-f7cf-4d82-a146-54610d0415ae')\"\n",
              "            title=\"Convert this dataframe to an interactive table.\"\n",
              "            style=\"display:none;\">\n",
              "\n",
              "  <svg xmlns=\"http://www.w3.org/2000/svg\" height=\"24px\" viewBox=\"0 -960 960 960\">\n",
              "    <path d=\"M120-120v-720h720v720H120Zm60-500h600v-160H180v160Zm220 220h160v-160H400v160Zm0 220h160v-160H400v160ZM180-400h160v-160H180v160Zm440 0h160v-160H620v160ZM180-180h160v-160H180v160Zm440 0h160v-160H620v160Z\"/>\n",
              "  </svg>\n",
              "    </button>\n",
              "\n",
              "  <style>\n",
              "    .colab-df-container {\n",
              "      display:flex;\n",
              "      gap: 12px;\n",
              "    }\n",
              "\n",
              "    .colab-df-convert {\n",
              "      background-color: #E8F0FE;\n",
              "      border: none;\n",
              "      border-radius: 50%;\n",
              "      cursor: pointer;\n",
              "      display: none;\n",
              "      fill: #1967D2;\n",
              "      height: 32px;\n",
              "      padding: 0 0 0 0;\n",
              "      width: 32px;\n",
              "    }\n",
              "\n",
              "    .colab-df-convert:hover {\n",
              "      background-color: #E2EBFA;\n",
              "      box-shadow: 0px 1px 2px rgba(60, 64, 67, 0.3), 0px 1px 3px 1px rgba(60, 64, 67, 0.15);\n",
              "      fill: #174EA6;\n",
              "    }\n",
              "\n",
              "    .colab-df-buttons div {\n",
              "      margin-bottom: 4px;\n",
              "    }\n",
              "\n",
              "    [theme=dark] .colab-df-convert {\n",
              "      background-color: #3B4455;\n",
              "      fill: #D2E3FC;\n",
              "    }\n",
              "\n",
              "    [theme=dark] .colab-df-convert:hover {\n",
              "      background-color: #434B5C;\n",
              "      box-shadow: 0px 1px 3px 1px rgba(0, 0, 0, 0.15);\n",
              "      filter: drop-shadow(0px 1px 2px rgba(0, 0, 0, 0.3));\n",
              "      fill: #FFFFFF;\n",
              "    }\n",
              "  </style>\n",
              "\n",
              "    <script>\n",
              "      const buttonEl =\n",
              "        document.querySelector('#df-f4288d67-f7cf-4d82-a146-54610d0415ae button.colab-df-convert');\n",
              "      buttonEl.style.display =\n",
              "        google.colab.kernel.accessAllowed ? 'block' : 'none';\n",
              "\n",
              "      async function convertToInteractive(key) {\n",
              "        const element = document.querySelector('#df-f4288d67-f7cf-4d82-a146-54610d0415ae');\n",
              "        const dataTable =\n",
              "          await google.colab.kernel.invokeFunction('convertToInteractive',\n",
              "                                                    [key], {});\n",
              "        if (!dataTable) return;\n",
              "\n",
              "        const docLinkHtml = 'Like what you see? Visit the ' +\n",
              "          '<a target=\"_blank\" href=https://colab.research.google.com/notebooks/data_table.ipynb>data table notebook</a>'\n",
              "          + ' to learn more about interactive tables.';\n",
              "        element.innerHTML = '';\n",
              "        dataTable['output_type'] = 'display_data';\n",
              "        await google.colab.output.renderOutput(dataTable, element);\n",
              "        const docLink = document.createElement('div');\n",
              "        docLink.innerHTML = docLinkHtml;\n",
              "        element.appendChild(docLink);\n",
              "      }\n",
              "    </script>\n",
              "  </div>\n",
              "\n",
              "\n",
              "<div id=\"df-fb0496b6-e7de-4640-8739-fdc8bd8d5316\">\n",
              "  <button class=\"colab-df-quickchart\" onclick=\"quickchart('df-fb0496b6-e7de-4640-8739-fdc8bd8d5316')\"\n",
              "            title=\"Suggest charts\"\n",
              "            style=\"display:none;\">\n",
              "\n",
              "<svg xmlns=\"http://www.w3.org/2000/svg\" height=\"24px\"viewBox=\"0 0 24 24\"\n",
              "     width=\"24px\">\n",
              "    <g>\n",
              "        <path d=\"M19 3H5c-1.1 0-2 .9-2 2v14c0 1.1.9 2 2 2h14c1.1 0 2-.9 2-2V5c0-1.1-.9-2-2-2zM9 17H7v-7h2v7zm4 0h-2V7h2v10zm4 0h-2v-4h2v4z\"/>\n",
              "    </g>\n",
              "</svg>\n",
              "  </button>\n",
              "\n",
              "<style>\n",
              "  .colab-df-quickchart {\n",
              "      --bg-color: #E8F0FE;\n",
              "      --fill-color: #1967D2;\n",
              "      --hover-bg-color: #E2EBFA;\n",
              "      --hover-fill-color: #174EA6;\n",
              "      --disabled-fill-color: #AAA;\n",
              "      --disabled-bg-color: #DDD;\n",
              "  }\n",
              "\n",
              "  [theme=dark] .colab-df-quickchart {\n",
              "      --bg-color: #3B4455;\n",
              "      --fill-color: #D2E3FC;\n",
              "      --hover-bg-color: #434B5C;\n",
              "      --hover-fill-color: #FFFFFF;\n",
              "      --disabled-bg-color: #3B4455;\n",
              "      --disabled-fill-color: #666;\n",
              "  }\n",
              "\n",
              "  .colab-df-quickchart {\n",
              "    background-color: var(--bg-color);\n",
              "    border: none;\n",
              "    border-radius: 50%;\n",
              "    cursor: pointer;\n",
              "    display: none;\n",
              "    fill: var(--fill-color);\n",
              "    height: 32px;\n",
              "    padding: 0;\n",
              "    width: 32px;\n",
              "  }\n",
              "\n",
              "  .colab-df-quickchart:hover {\n",
              "    background-color: var(--hover-bg-color);\n",
              "    box-shadow: 0 1px 2px rgba(60, 64, 67, 0.3), 0 1px 3px 1px rgba(60, 64, 67, 0.15);\n",
              "    fill: var(--button-hover-fill-color);\n",
              "  }\n",
              "\n",
              "  .colab-df-quickchart-complete:disabled,\n",
              "  .colab-df-quickchart-complete:disabled:hover {\n",
              "    background-color: var(--disabled-bg-color);\n",
              "    fill: var(--disabled-fill-color);\n",
              "    box-shadow: none;\n",
              "  }\n",
              "\n",
              "  .colab-df-spinner {\n",
              "    border: 2px solid var(--fill-color);\n",
              "    border-color: transparent;\n",
              "    border-bottom-color: var(--fill-color);\n",
              "    animation:\n",
              "      spin 1s steps(1) infinite;\n",
              "  }\n",
              "\n",
              "  @keyframes spin {\n",
              "    0% {\n",
              "      border-color: transparent;\n",
              "      border-bottom-color: var(--fill-color);\n",
              "      border-left-color: var(--fill-color);\n",
              "    }\n",
              "    20% {\n",
              "      border-color: transparent;\n",
              "      border-left-color: var(--fill-color);\n",
              "      border-top-color: var(--fill-color);\n",
              "    }\n",
              "    30% {\n",
              "      border-color: transparent;\n",
              "      border-left-color: var(--fill-color);\n",
              "      border-top-color: var(--fill-color);\n",
              "      border-right-color: var(--fill-color);\n",
              "    }\n",
              "    40% {\n",
              "      border-color: transparent;\n",
              "      border-right-color: var(--fill-color);\n",
              "      border-top-color: var(--fill-color);\n",
              "    }\n",
              "    60% {\n",
              "      border-color: transparent;\n",
              "      border-right-color: var(--fill-color);\n",
              "    }\n",
              "    80% {\n",
              "      border-color: transparent;\n",
              "      border-right-color: var(--fill-color);\n",
              "      border-bottom-color: var(--fill-color);\n",
              "    }\n",
              "    90% {\n",
              "      border-color: transparent;\n",
              "      border-bottom-color: var(--fill-color);\n",
              "    }\n",
              "  }\n",
              "</style>\n",
              "\n",
              "  <script>\n",
              "    async function quickchart(key) {\n",
              "      const quickchartButtonEl =\n",
              "        document.querySelector('#' + key + ' button');\n",
              "      quickchartButtonEl.disabled = true;  // To prevent multiple clicks.\n",
              "      quickchartButtonEl.classList.add('colab-df-spinner');\n",
              "      try {\n",
              "        const charts = await google.colab.kernel.invokeFunction(\n",
              "            'suggestCharts', [key], {});\n",
              "      } catch (error) {\n",
              "        console.error('Error during call to suggestCharts:', error);\n",
              "      }\n",
              "      quickchartButtonEl.classList.remove('colab-df-spinner');\n",
              "      quickchartButtonEl.classList.add('colab-df-quickchart-complete');\n",
              "    }\n",
              "    (() => {\n",
              "      let quickchartButtonEl =\n",
              "        document.querySelector('#df-fb0496b6-e7de-4640-8739-fdc8bd8d5316 button');\n",
              "      quickchartButtonEl.style.display =\n",
              "        google.colab.kernel.accessAllowed ? 'block' : 'none';\n",
              "    })();\n",
              "  </script>\n",
              "</div>\n",
              "\n",
              "    </div>\n",
              "  </div>\n"
            ],
            "application/vnd.google.colaboratory.intrinsic+json": {
              "type": "dataframe",
              "variable_name": "df",
              "summary": "{\n  \"name\": \"df\",\n  \"rows\": 5924,\n  \"fields\": [\n    {\n      \"column\": \"Version\",\n      \"properties\": {\n        \"dtype\": \"category\",\n        \"num_unique_values\": 4,\n        \"samples\": [\n          \"More complex v1\",\n          \"complex_prompt_crises\",\n          \"v1\"\n        ],\n        \"semantic_type\": \"\",\n        \"description\": \"\"\n      }\n    },\n    {\n      \"column\": \"Category\",\n      \"properties\": {\n        \"dtype\": \"category\",\n        \"num_unique_values\": 23,\n        \"samples\": [\n          \"SPE\",\n          \"Corporate Governance\",\n          \"Revenue Growth\"\n        ],\n        \"semantic_type\": \"\",\n        \"description\": \"\"\n      }\n    },\n    {\n      \"column\": \"Sentiment\",\n      \"properties\": {\n        \"dtype\": \"category\",\n        \"num_unique_values\": 5,\n        \"samples\": [\n          \"Very Negative\",\n          \"Somewhat Negative\",\n          \"Neutral\"\n        ],\n        \"semantic_type\": \"\",\n        \"description\": \"\"\n      }\n    },\n    {\n      \"column\": \"Sentence\",\n      \"properties\": {\n        \"dtype\": \"string\",\n        \"num_unique_values\": 5924,\n        \"samples\": [\n          \"The asset manager\\u2019s exposure to emerging markets introduced minor earnings volatility.\",\n          \"Interest rate swaps were used to hedge exposure on a portion of the firm\\u2019s floating-rate debt.\",\n          \"The corporation\\u2019s innovative digital transformation initiatives have not only streamlined operations but also contributed to unprecedented gains in productivity and cost savings.\"\n        ],\n        \"semantic_type\": \"\",\n        \"description\": \"\"\n      }\n    }\n  ]\n}"
            }
          },
          "metadata": {},
          "execution_count": 72
        }
      ]
    },
    {
      "cell_type": "code",
      "source": [
        "# prompt: get distinct columns from the Sentiment column of this df\n",
        "\n",
        "import pandas as pd\n",
        "\n",
        "df = pd.read_excel('https://raw.githubusercontent.com/ashater/sae/master/sentence_sentiment_gpt4o.xlsx')\n",
        "distinct_sentiments = df['Sentiment'].unique()\n",
        "distinct_sentiments\n"
      ],
      "metadata": {
        "colab": {
          "base_uri": "https://localhost:8080/"
        },
        "id": "fHLucSxR2aC6",
        "outputId": "d214401f-d863-4c33-9330-47ba34847baa"
      },
      "execution_count": 80,
      "outputs": [
        {
          "output_type": "execute_result",
          "data": {
            "text/plain": [
              "array(['Very Positive', 'Very Negative', 'Neutral', 'Somewhat Positive',\n",
              "       'Somewhat Negative'], dtype=object)"
            ]
          },
          "metadata": {},
          "execution_count": 80
        }
      ]
    },
    {
      "cell_type": "code",
      "execution_count": 59,
      "metadata": {
        "id": "xxoTGhM_hQTE",
        "outputId": "154b64e5-b65b-4d18-a391-f6a86795417e",
        "colab": {
          "base_uri": "https://localhost:8080/",
          "height": 52
        }
      },
      "outputs": [
        {
          "output_type": "execute_result",
          "data": {
            "text/plain": [
              "'The company reported record-breaking revenue growth of 40% this quarter, driven by robust sales and successful product launches.'"
            ],
            "application/vnd.google.colaboratory.intrinsic+json": {
              "type": "string"
            }
          },
          "metadata": {},
          "execution_count": 59
        }
      ],
      "source": [
        "df[\"Sentence\"][0]"
      ]
    },
    {
      "cell_type": "code",
      "execution_count": 94,
      "metadata": {
        "id": "Bs1W5tNkhQTE"
      },
      "outputs": [],
      "source": [
        "system_prompt = \"\"\"\\\n",
        "You are an intelligent AI Assistant and your task is to provide a sentiment for the sentence provided.\\\n",
        "Reply with the sentiment only in one out of these five categories - 'Very Positive', 'Very Negative', 'Neutral', 'Somewhat Positive',\n",
        "       'Somewhat Negative' . No explanation or \".\" is required.\n",
        "\"\"\""
      ]
    },
    {
      "cell_type": "code",
      "execution_count": 95,
      "metadata": {
        "id": "br5QxM3nhQTF",
        "outputId": "643ac72a-4805-4c57-cad5-fadb8b68b125",
        "colab": {
          "base_uri": "https://localhost:8080/",
          "height": 35
        }
      },
      "outputs": [
        {
          "output_type": "execute_result",
          "data": {
            "text/plain": [
              "'Very Positive'"
            ],
            "application/vnd.google.colaboratory.intrinsic+json": {
              "type": "string"
            }
          },
          "metadata": {},
          "execution_count": 95
        }
      ],
      "source": [
        "def get_model_response(prompt, model_variant, system_prompt=None):\n",
        "    messages = [{\"role\": \"user\", \"content\": prompt}]\n",
        "    try:\n",
        "        response = client.chat.completions.create(\n",
        "            messages=messages,\n",
        "            model=model_variant,\n",
        "            max_completion_tokens=50,\n",
        "            system_prompt=system_prompt\n",
        "        )\n",
        "        return response.choices[0].message[\"content\"].strip()\n",
        "    except Exception as e:\n",
        "        print(f\"Error during completion: {e}\")\n",
        "        return \"ERROR\"\n",
        "\n",
        "\n",
        "get_model_response(df[\"Sentence\"][999], variant, system_prompt)"
      ]
    },
    {
      "cell_type": "code",
      "execution_count": 96,
      "metadata": {
        "id": "ikOGog00hQTF",
        "outputId": "43a752a4-55e9-4c1d-8422-2c3c2fea2254",
        "colab": {
          "base_uri": "https://localhost:8080/"
        }
      },
      "outputs": [
        {
          "output_type": "execute_result",
          "data": {
            "text/plain": [
              "FeatureGroup([\n",
              "   0: \"Financial credit and banking terminology\",\n",
              "   1: \"Credit ratings and financial strength assessments\",\n",
              "   2: \"Risk assessment in insurance underwriting\",\n",
              "   3: \"Discussions of credit scores and credit history, especially concerns and improvement\",\n",
              "   4: \"Business and financial risk assessment terminology\",\n",
              "   5: \"Identity theft and financial fraud risks\",\n",
              "   6: \"Trading risk warnings and responsible money management advice\",\n",
              "   7: \"Bankruptcy and insolvency proceedings across languages\",\n",
              "   8: \"The semantic root 'cred' relating to trust, authentication, and financial credit across languages\",\n",
              "   9: \"Probabilistic financial loss estimation in risk assessment forms\"\n",
              "])"
            ]
          },
          "metadata": {},
          "execution_count": 96
        }
      ],
      "source": [
        "# Option 2 - steer on sentence category\n",
        "query = \"credit risk related\"\n",
        "\n",
        "features = client.features.search(query=query, model=variant, top_k=10)\n",
        "features"
      ]
    },
    {
      "cell_type": "code",
      "source": [],
      "metadata": {
        "id": "I-el5fCchuop"
      },
      "execution_count": 97,
      "outputs": []
    },
    {
      "cell_type": "code",
      "execution_count": 98,
      "metadata": {
        "id": "951qd65zhQTG",
        "outputId": "643354bd-1ea2-496a-82f9-457606503548",
        "colab": {
          "base_uri": "https://localhost:8080/",
          "height": 35
        }
      },
      "outputs": [
        {
          "output_type": "execute_result",
          "data": {
            "text/plain": [
              "'Very Positive'"
            ],
            "application/vnd.google.colaboratory.intrinsic+json": {
              "type": "string"
            }
          },
          "metadata": {},
          "execution_count": 98
        }
      ],
      "source": [
        "get_model_response(df[\"Sentence\"][1], variant, system_prompt)"
      ]
    },
    {
      "cell_type": "code",
      "source": [
        "# results = []\n",
        "# for i in range(1):\n",
        "#     response = get_model_response(df[\"Sentence\"][i], variant, system_prompt)\n",
        "#     results.append(response)\n",
        "\n",
        "# # Print the results\n",
        "# print(results)"
      ],
      "metadata": {
        "id": "tu9JHOyMxgbV"
      },
      "execution_count": 86,
      "outputs": []
    },
    {
      "cell_type": "code",
      "source": [
        "import pandas as pd\n",
        "\n",
        "# Assuming you have already loaded your DataFrame as 'df' and have the 'results' list from the previous code\n",
        "\n",
        "# Create a new DataFrame with three columns\n",
        "compared_df = pd.DataFrame({\n",
        "    'sen_index': df.index[:len(results)],  # Index of the sentence\n",
        "    'sentiment_annotated': df['Sentiment'][:len(results)],  # Sentiment from DataFrame\n",
        "    'sentence_steered': results  # Sentiment from model output\n",
        "})\n",
        "\n",
        "# Display the new DataFrame\n",
        "print(compared_df)"
      ],
      "metadata": {
        "colab": {
          "base_uri": "https://localhost:8080/"
        },
        "id": "1easYZ9wzoa-",
        "outputId": "6f8a1f71-cfc1-480a-fee2-ef3b6813ccf6"
      },
      "execution_count": 99,
      "outputs": [
        {
          "output_type": "stream",
          "name": "stdout",
          "text": [
            "Empty DataFrame\n",
            "Columns: [sen_index, sentiment_annotated, sentence_steered]\n",
            "Index: []\n"
          ]
        }
      ]
    },
    {
      "cell_type": "code",
      "source": [
        "import pandas as pd\n",
        "import random\n",
        "\n",
        "# Assuming you have already loaded your DataFrame as 'df' and have the necessary functions\n",
        "\n",
        "compared_df = pd.DataFrame(columns=['index', 'sentiment_annotated', 'sentence_steered'])  # Create an empty DataFrame\n",
        "\n",
        "num_sentences_to_select = 10  # Number of random sentences to select\n",
        "\n",
        "for _ in range(num_sentences_to_select):\n",
        "    random_index = random.choice(df.index)  # Select a random index\n",
        "    sentence = df[\"Sentence\"][random_index]  # Get the sentence at the random index\n",
        "    response = get_model_response(sentence, variant, system_prompt)  # Compute sentiment\n",
        "\n",
        "    # Append the results to the DataFrame\n",
        "    new_row = pd.DataFrame({\n",
        "        'index': [random_index],\n",
        "        'sentiment_annotated': [df['Sentiment'][random_index]],\n",
        "        'sentence_steered': [response]\n",
        "    })\n",
        "    compared_df = pd.concat([compared_df, new_row], ignore_index=True)\n",
        "\n",
        "# Display the DataFrame\n",
        "print(compared_df)"
      ],
      "metadata": {
        "colab": {
          "base_uri": "https://localhost:8080/"
        },
        "id": "l7Mu3vh7xVSK",
        "outputId": "e00157cc-abba-4eb8-c046-51b16fa21e00"
      },
      "execution_count": 100,
      "outputs": [
        {
          "output_type": "stream",
          "name": "stdout",
          "text": [
            "  index sentiment_annotated   sentence_steered\n",
            "0  4536             Neutral  Somewhat Positive\n",
            "1  3426       Very Negative      Very Negative\n",
            "2  2000   Somewhat Positive  Somewhat Positive\n",
            "3  4137       Very Positive      Very Positive\n",
            "4  5080   Somewhat Positive      Very Positive\n",
            "5   352       Very Positive      Very Positive\n",
            "6  3545             Neutral      Very Positive\n",
            "7  2401   Somewhat Positive  Somewhat Positive\n",
            "8  2089   Somewhat Positive            Neutral\n",
            "9  2205   Somewhat Positive      Very Positive\n"
          ]
        }
      ]
    },
    {
      "cell_type": "code",
      "source": [
        "import pandas as pd\n",
        "import random\n",
        "\n",
        "# Assuming you have already loaded your DataFrame as 'df' and have the necessary functions\n",
        "\n",
        "compared_df = pd.DataFrame(columns=['index', 'sentiment_annotated', 'sentence_not_steered', 'sentence_steered' ])\n",
        "\n",
        "num_sentences_to_select = 5\n",
        "\n",
        "for _ in range(num_sentences_to_select):\n",
        "    random_index = random.choice(df.index)\n",
        "    sentence = df[\"Sentence\"][random_index]\n",
        "\n",
        "    # Get steered response\n",
        "    response_not_steered = get_model_response(sentence, variant, system_prompt)\n",
        "\n",
        "    # Reset steering and get non-steered response\n",
        "    variant.reset()  # Reset steering for non-steered output\n",
        "    # variant.reset()\n",
        "    variant.set(features[1], 1)\n",
        "    response_steered = get_model_response(sentence, variant, system_prompt)\n",
        "\n",
        "    # Append results to DataFrame\n",
        "    new_row = pd.DataFrame({\n",
        "        'index': [random_index],\n",
        "        'sentiment_annotated': [df['Sentiment'][random_index]],\n",
        "        'sentence_not_steered': [response_not_steered],\n",
        "        'sentence_steered': [response_steered],\n",
        "    })\n",
        "    compared_df = pd.concat([compared_df, new_row], ignore_index=True)\n",
        "\n",
        "# Display the DataFrame\n",
        "print(compared_df)"
      ],
      "metadata": {
        "colab": {
          "base_uri": "https://localhost:8080/"
        },
        "id": "DFKyzINn3iFh",
        "outputId": "44c4381e-98e9-4c72-92bc-91af378dedb0"
      },
      "execution_count": 106,
      "outputs": [
        {
          "output_type": "stream",
          "name": "stdout",
          "text": [
            "  index sentiment_annotated  \\\n",
            "0  5281             Neutral   \n",
            "1  1598   Somewhat Positive   \n",
            "2  1647   Somewhat Negative   \n",
            "3  5576   Somewhat Positive   \n",
            "4  3556             Neutral   \n",
            "\n",
            "                                sentence_not_steered    sentence_steered  \n",
            "0  ratingumbing ratings rating rating ratings rat...      Very Positive.  \n",
            "1                                     Very Positive.      Very Positive.  \n",
            "2                                  Somewhat Negative   Somewhat Negative  \n",
            "3                                     Very Positive.      Very Positive.  \n",
            "4                                 Somewhat Positive.  Somewhat Positive.  \n"
          ]
        }
      ]
    }
  ],
  "metadata": {
    "kernelspec": {
      "display_name": ".venv",
      "language": "python",
      "name": "python3"
    },
    "language_info": {
      "codemirror_mode": {
        "name": "ipython",
        "version": 3
      },
      "file_extension": ".py",
      "mimetype": "text/x-python",
      "name": "python",
      "nbconvert_exporter": "python",
      "pygments_lexer": "ipython3",
      "version": "3.11.9"
    },
    "colab": {
      "provenance": [],
      "include_colab_link": true
    }
  },
  "nbformat": 4,
  "nbformat_minor": 0
}