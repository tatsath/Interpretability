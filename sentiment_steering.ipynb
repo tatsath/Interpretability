{
  "cells": [
    {
      "cell_type": "markdown",
      "metadata": {
        "id": "view-in-github",
        "colab_type": "text"
      },
      "source": [
        "<a href=\"https://colab.research.google.com/github/tatsath/Interpretability/blob/main/sentiment_steering.ipynb\" target=\"_parent\"><img src=\"https://colab.research.google.com/assets/colab-badge.svg\" alt=\"Open In Colab\"/></a>"
      ]
    },
    {
      "cell_type": "code",
      "source": [
        "!pip install goodfire\n",
        "!pip install openai\n",
        "!pip install pandas"
      ],
      "metadata": {
        "id": "DsL3ZSwONr5_",
        "outputId": "409b3904-2f3c-410b-cb92-8b588a08ded2",
        "colab": {
          "base_uri": "https://localhost:8080/"
        }
      },
      "execution_count": 3,
      "outputs": [
        {
          "output_type": "stream",
          "name": "stdout",
          "text": [
            "Collecting goodfire\n",
            "  Downloading goodfire-0.3.4-py3-none-any.whl.metadata (24 kB)\n",
            "Collecting httpx<0.28.0,>=0.27.2 (from goodfire)\n",
            "  Downloading httpx-0.27.2-py3-none-any.whl.metadata (7.1 kB)\n",
            "Collecting ipywidgets<9.0.0,>=8.1.5 (from goodfire)\n",
            "  Downloading ipywidgets-8.1.5-py3-none-any.whl.metadata (2.3 kB)\n",
            "Requirement already satisfied: numpy>=1.26.4 in /usr/local/lib/python3.11/dist-packages (from goodfire) (1.26.4)\n",
            "Requirement already satisfied: pydantic<3.0.0,>=2.9.2 in /usr/local/lib/python3.11/dist-packages (from goodfire) (2.10.6)\n",
            "Requirement already satisfied: scikit-learn<2.0.0,>=1.6.0 in /usr/local/lib/python3.11/dist-packages (from goodfire) (1.6.1)\n",
            "Collecting scipy<2.0.0,>=1.14.1 (from goodfire)\n",
            "  Downloading scipy-1.15.2-cp311-cp311-manylinux_2_17_x86_64.manylinux2014_x86_64.whl.metadata (61 kB)\n",
            "\u001b[2K     \u001b[90m━━━━━━━━━━━━━━━━━━━━━━━━━━━━━━━━━━━━━━━━\u001b[0m \u001b[32m62.0/62.0 kB\u001b[0m \u001b[31m3.7 MB/s\u001b[0m eta \u001b[36m0:00:00\u001b[0m\n",
            "\u001b[?25hRequirement already satisfied: anyio in /usr/local/lib/python3.11/dist-packages (from httpx<0.28.0,>=0.27.2->goodfire) (3.7.1)\n",
            "Requirement already satisfied: certifi in /usr/local/lib/python3.11/dist-packages (from httpx<0.28.0,>=0.27.2->goodfire) (2025.1.31)\n",
            "Requirement already satisfied: httpcore==1.* in /usr/local/lib/python3.11/dist-packages (from httpx<0.28.0,>=0.27.2->goodfire) (1.0.7)\n",
            "Requirement already satisfied: idna in /usr/local/lib/python3.11/dist-packages (from httpx<0.28.0,>=0.27.2->goodfire) (3.10)\n",
            "Requirement already satisfied: sniffio in /usr/local/lib/python3.11/dist-packages (from httpx<0.28.0,>=0.27.2->goodfire) (1.3.1)\n",
            "Requirement already satisfied: h11<0.15,>=0.13 in /usr/local/lib/python3.11/dist-packages (from httpcore==1.*->httpx<0.28.0,>=0.27.2->goodfire) (0.14.0)\n",
            "Collecting comm>=0.1.3 (from ipywidgets<9.0.0,>=8.1.5->goodfire)\n",
            "  Downloading comm-0.2.2-py3-none-any.whl.metadata (3.7 kB)\n",
            "Requirement already satisfied: ipython>=6.1.0 in /usr/local/lib/python3.11/dist-packages (from ipywidgets<9.0.0,>=8.1.5->goodfire) (7.34.0)\n",
            "Requirement already satisfied: traitlets>=4.3.1 in /usr/local/lib/python3.11/dist-packages (from ipywidgets<9.0.0,>=8.1.5->goodfire) (5.7.1)\n",
            "Collecting widgetsnbextension~=4.0.12 (from ipywidgets<9.0.0,>=8.1.5->goodfire)\n",
            "  Downloading widgetsnbextension-4.0.13-py3-none-any.whl.metadata (1.6 kB)\n",
            "Requirement already satisfied: jupyterlab-widgets~=3.0.12 in /usr/local/lib/python3.11/dist-packages (from ipywidgets<9.0.0,>=8.1.5->goodfire) (3.0.13)\n",
            "Requirement already satisfied: annotated-types>=0.6.0 in /usr/local/lib/python3.11/dist-packages (from pydantic<3.0.0,>=2.9.2->goodfire) (0.7.0)\n",
            "Requirement already satisfied: pydantic-core==2.27.2 in /usr/local/lib/python3.11/dist-packages (from pydantic<3.0.0,>=2.9.2->goodfire) (2.27.2)\n",
            "Requirement already satisfied: typing-extensions>=4.12.2 in /usr/local/lib/python3.11/dist-packages (from pydantic<3.0.0,>=2.9.2->goodfire) (4.12.2)\n",
            "Requirement already satisfied: joblib>=1.2.0 in /usr/local/lib/python3.11/dist-packages (from scikit-learn<2.0.0,>=1.6.0->goodfire) (1.4.2)\n",
            "Requirement already satisfied: threadpoolctl>=3.1.0 in /usr/local/lib/python3.11/dist-packages (from scikit-learn<2.0.0,>=1.6.0->goodfire) (3.5.0)\n",
            "Requirement already satisfied: setuptools>=18.5 in /usr/local/lib/python3.11/dist-packages (from ipython>=6.1.0->ipywidgets<9.0.0,>=8.1.5->goodfire) (75.1.0)\n",
            "Collecting jedi>=0.16 (from ipython>=6.1.0->ipywidgets<9.0.0,>=8.1.5->goodfire)\n",
            "  Downloading jedi-0.19.2-py2.py3-none-any.whl.metadata (22 kB)\n",
            "Requirement already satisfied: decorator in /usr/local/lib/python3.11/dist-packages (from ipython>=6.1.0->ipywidgets<9.0.0,>=8.1.5->goodfire) (4.4.2)\n",
            "Requirement already satisfied: pickleshare in /usr/local/lib/python3.11/dist-packages (from ipython>=6.1.0->ipywidgets<9.0.0,>=8.1.5->goodfire) (0.7.5)\n",
            "Requirement already satisfied: prompt-toolkit!=3.0.0,!=3.0.1,<3.1.0,>=2.0.0 in /usr/local/lib/python3.11/dist-packages (from ipython>=6.1.0->ipywidgets<9.0.0,>=8.1.5->goodfire) (3.0.50)\n",
            "Requirement already satisfied: pygments in /usr/local/lib/python3.11/dist-packages (from ipython>=6.1.0->ipywidgets<9.0.0,>=8.1.5->goodfire) (2.18.0)\n",
            "Requirement already satisfied: backcall in /usr/local/lib/python3.11/dist-packages (from ipython>=6.1.0->ipywidgets<9.0.0,>=8.1.5->goodfire) (0.2.0)\n",
            "Requirement already satisfied: matplotlib-inline in /usr/local/lib/python3.11/dist-packages (from ipython>=6.1.0->ipywidgets<9.0.0,>=8.1.5->goodfire) (0.1.7)\n",
            "Requirement already satisfied: pexpect>4.3 in /usr/local/lib/python3.11/dist-packages (from ipython>=6.1.0->ipywidgets<9.0.0,>=8.1.5->goodfire) (4.9.0)\n",
            "Requirement already satisfied: parso<0.9.0,>=0.8.4 in /usr/local/lib/python3.11/dist-packages (from jedi>=0.16->ipython>=6.1.0->ipywidgets<9.0.0,>=8.1.5->goodfire) (0.8.4)\n",
            "Requirement already satisfied: ptyprocess>=0.5 in /usr/local/lib/python3.11/dist-packages (from pexpect>4.3->ipython>=6.1.0->ipywidgets<9.0.0,>=8.1.5->goodfire) (0.7.0)\n",
            "Requirement already satisfied: wcwidth in /usr/local/lib/python3.11/dist-packages (from prompt-toolkit!=3.0.0,!=3.0.1,<3.1.0,>=2.0.0->ipython>=6.1.0->ipywidgets<9.0.0,>=8.1.5->goodfire) (0.2.13)\n",
            "Downloading goodfire-0.3.4-py3-none-any.whl (36 kB)\n",
            "Downloading httpx-0.27.2-py3-none-any.whl (76 kB)\n",
            "\u001b[2K   \u001b[90m━━━━━━━━━━━━━━━━━━━━━━━━━━━━━━━━━━━━━━━━\u001b[0m \u001b[32m76.4/76.4 kB\u001b[0m \u001b[31m6.2 MB/s\u001b[0m eta \u001b[36m0:00:00\u001b[0m\n",
            "\u001b[?25hDownloading ipywidgets-8.1.5-py3-none-any.whl (139 kB)\n",
            "\u001b[2K   \u001b[90m━━━━━━━━━━━━━━━━━━━━━━━━━━━━━━━━━━━━━━━━\u001b[0m \u001b[32m139.8/139.8 kB\u001b[0m \u001b[31m11.2 MB/s\u001b[0m eta \u001b[36m0:00:00\u001b[0m\n",
            "\u001b[?25hDownloading scipy-1.15.2-cp311-cp311-manylinux_2_17_x86_64.manylinux2014_x86_64.whl (37.6 MB)\n",
            "\u001b[2K   \u001b[90m━━━━━━━━━━━━━━━━━━━━━━━━━━━━━━━━━━━━━━━━\u001b[0m \u001b[32m37.6/37.6 MB\u001b[0m \u001b[31m32.7 MB/s\u001b[0m eta \u001b[36m0:00:00\u001b[0m\n",
            "\u001b[?25hDownloading comm-0.2.2-py3-none-any.whl (7.2 kB)\n",
            "Downloading widgetsnbextension-4.0.13-py3-none-any.whl (2.3 MB)\n",
            "\u001b[2K   \u001b[90m━━━━━━━━━━━━━━━━━━━━━━━━━━━━━━━━━━━━━━━━\u001b[0m \u001b[32m2.3/2.3 MB\u001b[0m \u001b[31m58.6 MB/s\u001b[0m eta \u001b[36m0:00:00\u001b[0m\n",
            "\u001b[?25hDownloading jedi-0.19.2-py2.py3-none-any.whl (1.6 MB)\n",
            "\u001b[2K   \u001b[90m━━━━━━━━━━━━━━━━━━━━━━━━━━━━━━━━━━━━━━━━\u001b[0m \u001b[32m1.6/1.6 MB\u001b[0m \u001b[31m49.9 MB/s\u001b[0m eta \u001b[36m0:00:00\u001b[0m\n",
            "\u001b[?25hInstalling collected packages: widgetsnbextension, scipy, jedi, comm, httpx, ipywidgets, goodfire\n",
            "  Attempting uninstall: widgetsnbextension\n",
            "    Found existing installation: widgetsnbextension 3.6.10\n",
            "    Uninstalling widgetsnbextension-3.6.10:\n",
            "      Successfully uninstalled widgetsnbextension-3.6.10\n",
            "  Attempting uninstall: scipy\n",
            "    Found existing installation: scipy 1.13.1\n",
            "    Uninstalling scipy-1.13.1:\n",
            "      Successfully uninstalled scipy-1.13.1\n",
            "  Attempting uninstall: httpx\n",
            "    Found existing installation: httpx 0.28.1\n",
            "    Uninstalling httpx-0.28.1:\n",
            "      Successfully uninstalled httpx-0.28.1\n",
            "  Attempting uninstall: ipywidgets\n",
            "    Found existing installation: ipywidgets 7.7.1\n",
            "    Uninstalling ipywidgets-7.7.1:\n",
            "      Successfully uninstalled ipywidgets-7.7.1\n",
            "\u001b[31mERROR: pip's dependency resolver does not currently take into account all the packages that are installed. This behaviour is the source of the following dependency conflicts.\n",
            "gensim 4.3.3 requires scipy<1.14.0,>=1.7.0, but you have scipy 1.15.2 which is incompatible.\u001b[0m\u001b[31m\n",
            "\u001b[0mSuccessfully installed comm-0.2.2 goodfire-0.3.4 httpx-0.27.2 ipywidgets-8.1.5 jedi-0.19.2 scipy-1.15.2 widgetsnbextension-4.0.13\n",
            "Requirement already satisfied: openai in /usr/local/lib/python3.11/dist-packages (1.61.1)\n",
            "Requirement already satisfied: anyio<5,>=3.5.0 in /usr/local/lib/python3.11/dist-packages (from openai) (3.7.1)\n",
            "Requirement already satisfied: distro<2,>=1.7.0 in /usr/local/lib/python3.11/dist-packages (from openai) (1.9.0)\n",
            "Requirement already satisfied: httpx<1,>=0.23.0 in /usr/local/lib/python3.11/dist-packages (from openai) (0.27.2)\n",
            "Requirement already satisfied: jiter<1,>=0.4.0 in /usr/local/lib/python3.11/dist-packages (from openai) (0.8.2)\n",
            "Requirement already satisfied: pydantic<3,>=1.9.0 in /usr/local/lib/python3.11/dist-packages (from openai) (2.10.6)\n",
            "Requirement already satisfied: sniffio in /usr/local/lib/python3.11/dist-packages (from openai) (1.3.1)\n",
            "Requirement already satisfied: tqdm>4 in /usr/local/lib/python3.11/dist-packages (from openai) (4.67.1)\n",
            "Requirement already satisfied: typing-extensions<5,>=4.11 in /usr/local/lib/python3.11/dist-packages (from openai) (4.12.2)\n",
            "Requirement already satisfied: idna>=2.8 in /usr/local/lib/python3.11/dist-packages (from anyio<5,>=3.5.0->openai) (3.10)\n",
            "Requirement already satisfied: certifi in /usr/local/lib/python3.11/dist-packages (from httpx<1,>=0.23.0->openai) (2025.1.31)\n",
            "Requirement already satisfied: httpcore==1.* in /usr/local/lib/python3.11/dist-packages (from httpx<1,>=0.23.0->openai) (1.0.7)\n",
            "Requirement already satisfied: h11<0.15,>=0.13 in /usr/local/lib/python3.11/dist-packages (from httpcore==1.*->httpx<1,>=0.23.0->openai) (0.14.0)\n",
            "Requirement already satisfied: annotated-types>=0.6.0 in /usr/local/lib/python3.11/dist-packages (from pydantic<3,>=1.9.0->openai) (0.7.0)\n",
            "Requirement already satisfied: pydantic-core==2.27.2 in /usr/local/lib/python3.11/dist-packages (from pydantic<3,>=1.9.0->openai) (2.27.2)\n",
            "Requirement already satisfied: pandas in /usr/local/lib/python3.11/dist-packages (2.2.2)\n",
            "Requirement already satisfied: numpy>=1.23.2 in /usr/local/lib/python3.11/dist-packages (from pandas) (1.26.4)\n",
            "Requirement already satisfied: python-dateutil>=2.8.2 in /usr/local/lib/python3.11/dist-packages (from pandas) (2.8.2)\n",
            "Requirement already satisfied: pytz>=2020.1 in /usr/local/lib/python3.11/dist-packages (from pandas) (2025.1)\n",
            "Requirement already satisfied: tzdata>=2022.7 in /usr/local/lib/python3.11/dist-packages (from pandas) (2025.1)\n",
            "Requirement already satisfied: six>=1.5 in /usr/local/lib/python3.11/dist-packages (from python-dateutil>=2.8.2->pandas) (1.17.0)\n"
          ]
        }
      ]
    },
    {
      "cell_type": "code",
      "execution_count": 4,
      "metadata": {
        "id": "PplMHwZohQTB"
      },
      "outputs": [],
      "source": [
        "import goodfire\n",
        "\n",
        "GOODFIRE_API_KEY = \"sk-goodfire-dmKRWrIVThY26TCbxycGJjAO3q2gvxL2S3LBXuQk7ROn_qiJsk2CNA\"\n",
        "client = goodfire.Client(api_key=GOODFIRE_API_KEY)"
      ]
    },
    {
      "cell_type": "code",
      "execution_count": 5,
      "metadata": {
        "id": "S847r4tAhQTD"
      },
      "outputs": [],
      "source": [
        "variant = goodfire.Variant(\"meta-llama/Meta-Llama-3.1-8B-Instruct\")"
      ]
    },
    {
      "cell_type": "code",
      "execution_count": 9,
      "metadata": {
        "id": "inixnTgRhQTD"
      },
      "outputs": [],
      "source": [
        "import pandas as pd\n",
        "\n",
        "# df = pd.read_excel(\"sentence_sentiment_gpt4o.xlsx\")\n",
        "# df.head()"
      ]
    },
    {
      "cell_type": "code",
      "source": [
        "df = pd.read_excel('https://raw.githubusercontent.com/ashater/sae/master/sentence_sentiment_gpt4o.xlsx')"
      ],
      "metadata": {
        "id": "Mcx6vZQszcM5"
      },
      "execution_count": 10,
      "outputs": []
    },
    {
      "cell_type": "code",
      "source": [
        "df.head()"
      ],
      "metadata": {
        "colab": {
          "base_uri": "https://localhost:8080/",
          "height": 206
        },
        "id": "NIfnduN00nPR",
        "outputId": "31fcc16b-e768-40f9-d7cb-ad3267485c03"
      },
      "execution_count": 11,
      "outputs": [
        {
          "output_type": "execute_result",
          "data": {
            "text/plain": [
              "  Version            Category      Sentiment  \\\n",
              "0      v1      Revenue Growth  Very Positive   \n",
              "1      v1      Revenue Growth  Very Positive   \n",
              "2      v1     Debt Management  Very Positive   \n",
              "3      v1     Debt Management  Very Positive   \n",
              "4      v1  Market Performance  Very Positive   \n",
              "\n",
              "                                            Sentence  \n",
              "0  The company reported record-breaking revenue g...  \n",
              "1  Due to its innovative approach, the firm has s...  \n",
              "2  The early repayment of $2 billion in outstandi...  \n",
              "3  The firm’s bonds have been upgraded to AAA sta...  \n",
              "4  Investors are thrilled as the company’s stock ...  "
            ],
            "text/html": [
              "\n",
              "  <div id=\"df-a9afc389-112b-4284-8dfa-722595c7a578\" class=\"colab-df-container\">\n",
              "    <div>\n",
              "<style scoped>\n",
              "    .dataframe tbody tr th:only-of-type {\n",
              "        vertical-align: middle;\n",
              "    }\n",
              "\n",
              "    .dataframe tbody tr th {\n",
              "        vertical-align: top;\n",
              "    }\n",
              "\n",
              "    .dataframe thead th {\n",
              "        text-align: right;\n",
              "    }\n",
              "</style>\n",
              "<table border=\"1\" class=\"dataframe\">\n",
              "  <thead>\n",
              "    <tr style=\"text-align: right;\">\n",
              "      <th></th>\n",
              "      <th>Version</th>\n",
              "      <th>Category</th>\n",
              "      <th>Sentiment</th>\n",
              "      <th>Sentence</th>\n",
              "    </tr>\n",
              "  </thead>\n",
              "  <tbody>\n",
              "    <tr>\n",
              "      <th>0</th>\n",
              "      <td>v1</td>\n",
              "      <td>Revenue Growth</td>\n",
              "      <td>Very Positive</td>\n",
              "      <td>The company reported record-breaking revenue g...</td>\n",
              "    </tr>\n",
              "    <tr>\n",
              "      <th>1</th>\n",
              "      <td>v1</td>\n",
              "      <td>Revenue Growth</td>\n",
              "      <td>Very Positive</td>\n",
              "      <td>Due to its innovative approach, the firm has s...</td>\n",
              "    </tr>\n",
              "    <tr>\n",
              "      <th>2</th>\n",
              "      <td>v1</td>\n",
              "      <td>Debt Management</td>\n",
              "      <td>Very Positive</td>\n",
              "      <td>The early repayment of $2 billion in outstandi...</td>\n",
              "    </tr>\n",
              "    <tr>\n",
              "      <th>3</th>\n",
              "      <td>v1</td>\n",
              "      <td>Debt Management</td>\n",
              "      <td>Very Positive</td>\n",
              "      <td>The firm’s bonds have been upgraded to AAA sta...</td>\n",
              "    </tr>\n",
              "    <tr>\n",
              "      <th>4</th>\n",
              "      <td>v1</td>\n",
              "      <td>Market Performance</td>\n",
              "      <td>Very Positive</td>\n",
              "      <td>Investors are thrilled as the company’s stock ...</td>\n",
              "    </tr>\n",
              "  </tbody>\n",
              "</table>\n",
              "</div>\n",
              "    <div class=\"colab-df-buttons\">\n",
              "\n",
              "  <div class=\"colab-df-container\">\n",
              "    <button class=\"colab-df-convert\" onclick=\"convertToInteractive('df-a9afc389-112b-4284-8dfa-722595c7a578')\"\n",
              "            title=\"Convert this dataframe to an interactive table.\"\n",
              "            style=\"display:none;\">\n",
              "\n",
              "  <svg xmlns=\"http://www.w3.org/2000/svg\" height=\"24px\" viewBox=\"0 -960 960 960\">\n",
              "    <path d=\"M120-120v-720h720v720H120Zm60-500h600v-160H180v160Zm220 220h160v-160H400v160Zm0 220h160v-160H400v160ZM180-400h160v-160H180v160Zm440 0h160v-160H620v160ZM180-180h160v-160H180v160Zm440 0h160v-160H620v160Z\"/>\n",
              "  </svg>\n",
              "    </button>\n",
              "\n",
              "  <style>\n",
              "    .colab-df-container {\n",
              "      display:flex;\n",
              "      gap: 12px;\n",
              "    }\n",
              "\n",
              "    .colab-df-convert {\n",
              "      background-color: #E8F0FE;\n",
              "      border: none;\n",
              "      border-radius: 50%;\n",
              "      cursor: pointer;\n",
              "      display: none;\n",
              "      fill: #1967D2;\n",
              "      height: 32px;\n",
              "      padding: 0 0 0 0;\n",
              "      width: 32px;\n",
              "    }\n",
              "\n",
              "    .colab-df-convert:hover {\n",
              "      background-color: #E2EBFA;\n",
              "      box-shadow: 0px 1px 2px rgba(60, 64, 67, 0.3), 0px 1px 3px 1px rgba(60, 64, 67, 0.15);\n",
              "      fill: #174EA6;\n",
              "    }\n",
              "\n",
              "    .colab-df-buttons div {\n",
              "      margin-bottom: 4px;\n",
              "    }\n",
              "\n",
              "    [theme=dark] .colab-df-convert {\n",
              "      background-color: #3B4455;\n",
              "      fill: #D2E3FC;\n",
              "    }\n",
              "\n",
              "    [theme=dark] .colab-df-convert:hover {\n",
              "      background-color: #434B5C;\n",
              "      box-shadow: 0px 1px 3px 1px rgba(0, 0, 0, 0.15);\n",
              "      filter: drop-shadow(0px 1px 2px rgba(0, 0, 0, 0.3));\n",
              "      fill: #FFFFFF;\n",
              "    }\n",
              "  </style>\n",
              "\n",
              "    <script>\n",
              "      const buttonEl =\n",
              "        document.querySelector('#df-a9afc389-112b-4284-8dfa-722595c7a578 button.colab-df-convert');\n",
              "      buttonEl.style.display =\n",
              "        google.colab.kernel.accessAllowed ? 'block' : 'none';\n",
              "\n",
              "      async function convertToInteractive(key) {\n",
              "        const element = document.querySelector('#df-a9afc389-112b-4284-8dfa-722595c7a578');\n",
              "        const dataTable =\n",
              "          await google.colab.kernel.invokeFunction('convertToInteractive',\n",
              "                                                    [key], {});\n",
              "        if (!dataTable) return;\n",
              "\n",
              "        const docLinkHtml = 'Like what you see? Visit the ' +\n",
              "          '<a target=\"_blank\" href=https://colab.research.google.com/notebooks/data_table.ipynb>data table notebook</a>'\n",
              "          + ' to learn more about interactive tables.';\n",
              "        element.innerHTML = '';\n",
              "        dataTable['output_type'] = 'display_data';\n",
              "        await google.colab.output.renderOutput(dataTable, element);\n",
              "        const docLink = document.createElement('div');\n",
              "        docLink.innerHTML = docLinkHtml;\n",
              "        element.appendChild(docLink);\n",
              "      }\n",
              "    </script>\n",
              "  </div>\n",
              "\n",
              "\n",
              "<div id=\"df-64422ac7-7da0-4e26-b9ab-b88e1200ccb4\">\n",
              "  <button class=\"colab-df-quickchart\" onclick=\"quickchart('df-64422ac7-7da0-4e26-b9ab-b88e1200ccb4')\"\n",
              "            title=\"Suggest charts\"\n",
              "            style=\"display:none;\">\n",
              "\n",
              "<svg xmlns=\"http://www.w3.org/2000/svg\" height=\"24px\"viewBox=\"0 0 24 24\"\n",
              "     width=\"24px\">\n",
              "    <g>\n",
              "        <path d=\"M19 3H5c-1.1 0-2 .9-2 2v14c0 1.1.9 2 2 2h14c1.1 0 2-.9 2-2V5c0-1.1-.9-2-2-2zM9 17H7v-7h2v7zm4 0h-2V7h2v10zm4 0h-2v-4h2v4z\"/>\n",
              "    </g>\n",
              "</svg>\n",
              "  </button>\n",
              "\n",
              "<style>\n",
              "  .colab-df-quickchart {\n",
              "      --bg-color: #E8F0FE;\n",
              "      --fill-color: #1967D2;\n",
              "      --hover-bg-color: #E2EBFA;\n",
              "      --hover-fill-color: #174EA6;\n",
              "      --disabled-fill-color: #AAA;\n",
              "      --disabled-bg-color: #DDD;\n",
              "  }\n",
              "\n",
              "  [theme=dark] .colab-df-quickchart {\n",
              "      --bg-color: #3B4455;\n",
              "      --fill-color: #D2E3FC;\n",
              "      --hover-bg-color: #434B5C;\n",
              "      --hover-fill-color: #FFFFFF;\n",
              "      --disabled-bg-color: #3B4455;\n",
              "      --disabled-fill-color: #666;\n",
              "  }\n",
              "\n",
              "  .colab-df-quickchart {\n",
              "    background-color: var(--bg-color);\n",
              "    border: none;\n",
              "    border-radius: 50%;\n",
              "    cursor: pointer;\n",
              "    display: none;\n",
              "    fill: var(--fill-color);\n",
              "    height: 32px;\n",
              "    padding: 0;\n",
              "    width: 32px;\n",
              "  }\n",
              "\n",
              "  .colab-df-quickchart:hover {\n",
              "    background-color: var(--hover-bg-color);\n",
              "    box-shadow: 0 1px 2px rgba(60, 64, 67, 0.3), 0 1px 3px 1px rgba(60, 64, 67, 0.15);\n",
              "    fill: var(--button-hover-fill-color);\n",
              "  }\n",
              "\n",
              "  .colab-df-quickchart-complete:disabled,\n",
              "  .colab-df-quickchart-complete:disabled:hover {\n",
              "    background-color: var(--disabled-bg-color);\n",
              "    fill: var(--disabled-fill-color);\n",
              "    box-shadow: none;\n",
              "  }\n",
              "\n",
              "  .colab-df-spinner {\n",
              "    border: 2px solid var(--fill-color);\n",
              "    border-color: transparent;\n",
              "    border-bottom-color: var(--fill-color);\n",
              "    animation:\n",
              "      spin 1s steps(1) infinite;\n",
              "  }\n",
              "\n",
              "  @keyframes spin {\n",
              "    0% {\n",
              "      border-color: transparent;\n",
              "      border-bottom-color: var(--fill-color);\n",
              "      border-left-color: var(--fill-color);\n",
              "    }\n",
              "    20% {\n",
              "      border-color: transparent;\n",
              "      border-left-color: var(--fill-color);\n",
              "      border-top-color: var(--fill-color);\n",
              "    }\n",
              "    30% {\n",
              "      border-color: transparent;\n",
              "      border-left-color: var(--fill-color);\n",
              "      border-top-color: var(--fill-color);\n",
              "      border-right-color: var(--fill-color);\n",
              "    }\n",
              "    40% {\n",
              "      border-color: transparent;\n",
              "      border-right-color: var(--fill-color);\n",
              "      border-top-color: var(--fill-color);\n",
              "    }\n",
              "    60% {\n",
              "      border-color: transparent;\n",
              "      border-right-color: var(--fill-color);\n",
              "    }\n",
              "    80% {\n",
              "      border-color: transparent;\n",
              "      border-right-color: var(--fill-color);\n",
              "      border-bottom-color: var(--fill-color);\n",
              "    }\n",
              "    90% {\n",
              "      border-color: transparent;\n",
              "      border-bottom-color: var(--fill-color);\n",
              "    }\n",
              "  }\n",
              "</style>\n",
              "\n",
              "  <script>\n",
              "    async function quickchart(key) {\n",
              "      const quickchartButtonEl =\n",
              "        document.querySelector('#' + key + ' button');\n",
              "      quickchartButtonEl.disabled = true;  // To prevent multiple clicks.\n",
              "      quickchartButtonEl.classList.add('colab-df-spinner');\n",
              "      try {\n",
              "        const charts = await google.colab.kernel.invokeFunction(\n",
              "            'suggestCharts', [key], {});\n",
              "      } catch (error) {\n",
              "        console.error('Error during call to suggestCharts:', error);\n",
              "      }\n",
              "      quickchartButtonEl.classList.remove('colab-df-spinner');\n",
              "      quickchartButtonEl.classList.add('colab-df-quickchart-complete');\n",
              "    }\n",
              "    (() => {\n",
              "      let quickchartButtonEl =\n",
              "        document.querySelector('#df-64422ac7-7da0-4e26-b9ab-b88e1200ccb4 button');\n",
              "      quickchartButtonEl.style.display =\n",
              "        google.colab.kernel.accessAllowed ? 'block' : 'none';\n",
              "    })();\n",
              "  </script>\n",
              "</div>\n",
              "\n",
              "    </div>\n",
              "  </div>\n"
            ],
            "application/vnd.google.colaboratory.intrinsic+json": {
              "type": "dataframe",
              "variable_name": "df",
              "summary": "{\n  \"name\": \"df\",\n  \"rows\": 5924,\n  \"fields\": [\n    {\n      \"column\": \"Version\",\n      \"properties\": {\n        \"dtype\": \"category\",\n        \"num_unique_values\": 4,\n        \"samples\": [\n          \"More complex v1\",\n          \"complex_prompt_crises\",\n          \"v1\"\n        ],\n        \"semantic_type\": \"\",\n        \"description\": \"\"\n      }\n    },\n    {\n      \"column\": \"Category\",\n      \"properties\": {\n        \"dtype\": \"category\",\n        \"num_unique_values\": 23,\n        \"samples\": [\n          \"SPE\",\n          \"Corporate Governance\",\n          \"Revenue Growth\"\n        ],\n        \"semantic_type\": \"\",\n        \"description\": \"\"\n      }\n    },\n    {\n      \"column\": \"Sentiment\",\n      \"properties\": {\n        \"dtype\": \"category\",\n        \"num_unique_values\": 5,\n        \"samples\": [\n          \"Very Negative\",\n          \"Somewhat Negative\",\n          \"Neutral\"\n        ],\n        \"semantic_type\": \"\",\n        \"description\": \"\"\n      }\n    },\n    {\n      \"column\": \"Sentence\",\n      \"properties\": {\n        \"dtype\": \"string\",\n        \"num_unique_values\": 5924,\n        \"samples\": [\n          \"The asset manager\\u2019s exposure to emerging markets introduced minor earnings volatility.\",\n          \"Interest rate swaps were used to hedge exposure on a portion of the firm\\u2019s floating-rate debt.\",\n          \"The corporation\\u2019s innovative digital transformation initiatives have not only streamlined operations but also contributed to unprecedented gains in productivity and cost savings.\"\n        ],\n        \"semantic_type\": \"\",\n        \"description\": \"\"\n      }\n    }\n  ]\n}"
            }
          },
          "metadata": {},
          "execution_count": 11
        }
      ]
    },
    {
      "cell_type": "code",
      "source": [
        "# prompt: get distinct columns from the Sentiment column of this df\n",
        "\n",
        "import pandas as pd\n",
        "\n",
        "df = pd.read_excel('https://raw.githubusercontent.com/ashater/sae/master/sentence_sentiment_gpt4o.xlsx')\n",
        "distinct_sentiments = df['Sentiment'].unique()\n",
        "distinct_sentiments\n"
      ],
      "metadata": {
        "colab": {
          "base_uri": "https://localhost:8080/"
        },
        "id": "fHLucSxR2aC6",
        "outputId": "6161c7de-83a7-4c62-9579-80f8874e012e"
      },
      "execution_count": 12,
      "outputs": [
        {
          "output_type": "execute_result",
          "data": {
            "text/plain": [
              "array(['Very Positive', 'Very Negative', 'Neutral', 'Somewhat Positive',\n",
              "       'Somewhat Negative'], dtype=object)"
            ]
          },
          "metadata": {},
          "execution_count": 12
        }
      ]
    },
    {
      "cell_type": "code",
      "execution_count": 13,
      "metadata": {
        "id": "xxoTGhM_hQTE",
        "outputId": "a64f53a2-868c-4a01-dc08-70613fab355d",
        "colab": {
          "base_uri": "https://localhost:8080/",
          "height": 36
        }
      },
      "outputs": [
        {
          "output_type": "execute_result",
          "data": {
            "text/plain": [
              "'The company reported record-breaking revenue growth of 40% this quarter, driven by robust sales and successful product launches.'"
            ],
            "application/vnd.google.colaboratory.intrinsic+json": {
              "type": "string"
            }
          },
          "metadata": {},
          "execution_count": 13
        }
      ],
      "source": [
        "df[\"Sentence\"][0]"
      ]
    },
    {
      "cell_type": "code",
      "execution_count": 14,
      "metadata": {
        "id": "Bs1W5tNkhQTE"
      },
      "outputs": [],
      "source": [
        "system_prompt = \"\"\"\\\n",
        "You are an intelligent AI Assistant and your task is to provide a sentiment for the sentence provided.\\\n",
        "Reply with the sentiment only in one out of these five categories - 'Very Positive', 'Very Negative', 'Neutral', 'Somewhat Positive',\n",
        "       'Somewhat Negative' . No explanation or \".\" is required.\n",
        "\"\"\""
      ]
    },
    {
      "cell_type": "code",
      "execution_count": 15,
      "metadata": {
        "id": "br5QxM3nhQTF",
        "outputId": "d764cd1b-646f-4782-bfec-791a9bfda3f8",
        "colab": {
          "base_uri": "https://localhost:8080/",
          "height": 36
        }
      },
      "outputs": [
        {
          "output_type": "execute_result",
          "data": {
            "text/plain": [
              "'Very Positive'"
            ],
            "application/vnd.google.colaboratory.intrinsic+json": {
              "type": "string"
            }
          },
          "metadata": {},
          "execution_count": 15
        }
      ],
      "source": [
        "def get_model_response(prompt, model_variant, system_prompt=None):\n",
        "    messages = [{\"role\": \"user\", \"content\": prompt}]\n",
        "    try:\n",
        "        response = client.chat.completions.create(\n",
        "            messages=messages,\n",
        "            model=model_variant,\n",
        "            max_completion_tokens=50,\n",
        "            system_prompt=system_prompt\n",
        "        )\n",
        "        return response.choices[0].message[\"content\"].strip()\n",
        "    except Exception as e:\n",
        "        print(f\"Error during completion: {e}\")\n",
        "        return \"ERROR\"\n",
        "\n",
        "\n",
        "get_model_response(df[\"Sentence\"][999], variant, system_prompt)"
      ]
    },
    {
      "cell_type": "code",
      "execution_count": 37,
      "metadata": {
        "id": "ikOGog00hQTF",
        "outputId": "67b4e875-c015-4e0f-eb41-ccb5eacdd611",
        "colab": {
          "base_uri": "https://localhost:8080/"
        }
      },
      "outputs": [
        {
          "output_type": "execute_result",
          "data": {
            "text/plain": [
              "FeatureGroup([\n",
              "   0: \"Financial credit and banking terminology\",\n",
              "   1: \"Credit ratings and financial strength assessments\",\n",
              "   2: \"Risk assessment in insurance underwriting\",\n",
              "   3: \"Discussions of credit scores and credit history, especially concerns and improvement\",\n",
              "   4: \"Business and financial risk assessment terminology\",\n",
              "   5: \"Identity theft and financial fraud risks\",\n",
              "   6: \"Trading risk warnings and responsible money management advice\",\n",
              "   7: \"Bankruptcy and insolvency proceedings across languages\",\n",
              "   8: \"The semantic root 'cred' relating to trust, authentication, and financial credit across languages\",\n",
              "   9: \"Probabilistic financial loss estimation in risk assessment forms\"\n",
              "])"
            ]
          },
          "metadata": {},
          "execution_count": 37
        }
      ],
      "source": [
        "# Option 2 - steer on sentence category\n",
        "query = \"credit risk related\"\n",
        "\n",
        "features = client.features.search(query=query, model=variant, top_k=10)\n",
        "features"
      ]
    },
    {
      "cell_type": "code",
      "source": [],
      "metadata": {
        "id": "I-el5fCchuop"
      },
      "execution_count": 16,
      "outputs": []
    },
    {
      "cell_type": "code",
      "execution_count": 17,
      "metadata": {
        "id": "951qd65zhQTG",
        "outputId": "f16d36a2-69ba-4f73-9247-4b199c53ef69",
        "colab": {
          "base_uri": "https://localhost:8080/",
          "height": 36
        }
      },
      "outputs": [
        {
          "output_type": "execute_result",
          "data": {
            "text/plain": [
              "'Very Positive'"
            ],
            "application/vnd.google.colaboratory.intrinsic+json": {
              "type": "string"
            }
          },
          "metadata": {},
          "execution_count": 17
        }
      ],
      "source": [
        "get_model_response(df[\"Sentence\"][1], variant, system_prompt)"
      ]
    },
    {
      "cell_type": "code",
      "source": [
        "import pandas as pd\n",
        "import random\n",
        "\n",
        "# Assuming you have already loaded your DataFrame as 'df' and have the necessary functions\n",
        "\n",
        "compared_df = pd.DataFrame(columns=['index', 'sentiment_annotated', 'sentence_not_steered', 'sentence_steered' ])\n",
        "\n",
        "num_sentences_to_select = 50\n",
        "\n",
        "for _ in range(num_sentences_to_select):\n",
        "    random_index = random.choice(df.index)\n",
        "    sentence = df[\"Sentence\"][random_index]\n",
        "\n",
        "    # Get non steered response\n",
        "    variant.reset()\n",
        "    response_not_steered = get_model_response(sentence, variant, system_prompt)\n",
        "\n",
        "    # Reset steering and get non-steered response\n",
        "    variant.reset()  # Reset steering for non-steered output\n",
        "    # variant.reset()\n",
        "    variant.set(features[1], 0)\n",
        "    variant.set(features[7], .5)\n",
        "    response_steered = get_model_response(sentence, variant, system_prompt)\n",
        "\n",
        "    # Append results to DataFrame\n",
        "    new_row = pd.DataFrame({\n",
        "        'index': [random_index],\n",
        "        'sentiment_annotated': [df['Sentiment'][random_index]],\n",
        "        'sentence_not_steered': [response_not_steered],\n",
        "        'sentence_steered': [response_steered],\n",
        "    })\n",
        "    compared_df = pd.concat([compared_df, new_row], ignore_index=True)\n",
        "    compared_df['sentence_not_steered'] = compared_df['sentence_not_steered'].str.replace('.', '', regex=False)\n",
        "    compared_df['sentence_steered'] = compared_df['sentence_steered'].str.replace('.', '', regex=False)\n",
        "\n",
        "# Display the DataFrame\n",
        "print(compared_df)"
      ],
      "metadata": {
        "colab": {
          "base_uri": "https://localhost:8080/"
        },
        "id": "DFKyzINn3iFh",
        "outputId": "49ebef84-73eb-415b-b974-be1d413f548c"
      },
      "execution_count": 53,
      "outputs": [
        {
          "output_type": "stream",
          "name": "stdout",
          "text": [
            "   index sentiment_annotated sentence_not_steered   sentence_steered\n",
            "0   1638   Somewhat Negative    Somewhat Negative  Somewhat Negative\n",
            "1   3814             Neutral              Neutral  Somewhat Positive\n",
            "2   1001             Neutral              Neutral            Neutral\n",
            "3   4626       Very Positive        Very Positive      Very Positive\n",
            "4    110       Very Negative        Very Negative      Very Negative\n",
            "5   5760   Somewhat Negative    Somewhat Negative  Somewhat Negative\n",
            "6   3008   Somewhat Negative              Neutral  Somewhat Negative\n",
            "7   3865   Somewhat Positive        Very Positive  Somewhat Positive\n",
            "8   4363   Somewhat Positive        Very Positive  Somewhat Positive\n",
            "9   2732   Somewhat Negative    Somewhat Negative  Somewhat Negative\n",
            "10  1367             Neutral              Neutral            Neutral\n",
            "11   597       Very Negative        Very Negative      Very Negative\n",
            "12   958             Neutral        Very Positive            Neutral\n",
            "13  5721       Very Negative        Very Negative      Very Negative\n",
            "14    74       Very Negative        Very Negative      Very Negative\n",
            "15  1390             Neutral              Neutral            Neutral\n",
            "16  4604   Somewhat Positive        Very Positive  Somewhat Positive\n",
            "17  2015   Somewhat Positive        Very Positive  Somewhat Positive\n",
            "18  2294   Somewhat Positive        Very Positive  Somewhat Positive\n",
            "19  3712       Very Negative        Very Negative      Very Negative\n",
            "20  3919       Very Positive        Very Positive      Very Positive\n",
            "21   835       Very Positive        Very Positive  Somewhat Positive\n",
            "22  1981   Somewhat Positive    Somewhat Positive  Somewhat Positive\n",
            "23  3217       Very Negative        Very Negative      Very Negative\n",
            "24   706       Very Negative        Very Negative      Very Negative\n",
            "25  5677       Very Negative        Very Negative      Very Negative\n",
            "26  1158             Neutral              Neutral            Neutral\n",
            "27   430       Very Positive        Very Positive  Somewhat Positive\n",
            "28  4826   Somewhat Positive        Very Positive  Somewhat Positive\n",
            "29  2410   Somewhat Positive    Somewhat Positive  Somewhat Positive\n",
            "30  3972       Very Negative        Very Negative      Very Negative\n",
            "31  3164       Very Positive        Very Positive      Very Positive\n",
            "32  4754   Somewhat Negative    Somewhat Negative  Somewhat Negative\n",
            "33  5839   Somewhat Positive    Somewhat Positive  Somewhat Positive\n",
            "34  5608   Somewhat Positive        Very Positive  Somewhat Positive\n",
            "35  5307             Neutral        Very Positive      Very Positive\n",
            "36  4728   Somewhat Negative    Somewhat Negative  Somewhat Negative\n",
            "37  4584   Somewhat Positive    Somewhat Positive  Somewhat Positive\n",
            "38  1088             Neutral        Very Positive            Neutral\n",
            "39  1667   Somewhat Negative    Somewhat Negative  Somewhat Negative\n",
            "40    78       Very Negative        Very Negative      Very Negative\n",
            "41  1231             Neutral        Very Positive  Somewhat Positive\n",
            "42  3224   Somewhat Negative    Somewhat Negative  Somewhat Negative\n",
            "43   116       Very Negative        Very Negative      Very Negative\n",
            "44   817       Very Positive        Very Positive  Somewhat Positive\n",
            "45  3194       Very Negative        Very Negative      Very Negative\n",
            "46  4063             Neutral              Neutral            Neutral\n",
            "47    70       Very Negative        Very Negative      Very Negative\n",
            "48  2654       Very Positive        Very Positive      Very Positive\n",
            "49   215       Very Negative    Somewhat Negative  Somewhat Negative\n"
          ]
        }
      ]
    },
    {
      "cell_type": "code",
      "source": [
        "from sklearn.metrics import accuracy_score, precision_score, recall_score, confusion_matrix\n",
        "\n",
        "# Before Steering\n",
        "accuracy_before = accuracy_score(compared_df['sentiment_annotated'], compared_df['sentence_not_steered'])\n",
        "precision_before = precision_score(compared_df['sentiment_annotated'], compared_df['sentence_not_steered'], average='weighted')  # Use 'weighted' for multi-class\n",
        "recall_before = recall_score(compared_df['sentiment_annotated'], compared_df['sentence_not_steered'], average='weighted')\n",
        "confusion_before = confusion_matrix(compared_df['sentiment_annotated'], compared_df['sentence_not_steered'])\n",
        "\n",
        "# After Steering\n",
        "accuracy_after = accuracy_score(compared_df['sentiment_annotated'], compared_df['sentence_steered'])\n",
        "precision_after = precision_score(compared_df['sentiment_annotated'], compared_df['sentence_steered'], average='weighted')\n",
        "recall_after = recall_score(compared_df['sentiment_annotated'], compared_df['sentence_steered'], average='weighted')\n",
        "confusion_after = confusion_matrix(compared_df['sentiment_annotated'], compared_df['sentence_steered'])"
      ],
      "metadata": {
        "id": "cpf11bUhNfZ4"
      },
      "execution_count": 54,
      "outputs": []
    },
    {
      "cell_type": "code",
      "source": [
        "metrics_df = pd.DataFrame({\n",
        "    'Metric': ['Accuracy', 'Precision', 'Recall'],\n",
        "    'Before Steering': [accuracy_before, precision_before, recall_before],\n",
        "    'After Steering': [accuracy_after, precision_after, recall_after]\n",
        "})"
      ],
      "metadata": {
        "id": "JOPCH4B4NmAJ"
      },
      "execution_count": 55,
      "outputs": []
    },
    {
      "cell_type": "code",
      "source": [
        "print(\"Metrics:\")\n",
        "print(metrics_df)\n",
        "print(\"\\nConfusion Matrix (Before Steering):\")\n",
        "print(confusion_before)\n",
        "print(\"\\nConfusion Matrix (After Steering):\")\n",
        "print(confusion_after)"
      ],
      "metadata": {
        "id": "UIoJSfkkNps-",
        "outputId": "dc2efd14-ce75-4fac-c020-153929c4ec5a",
        "colab": {
          "base_uri": "https://localhost:8080/"
        }
      },
      "execution_count": 56,
      "outputs": [
        {
          "output_type": "stream",
          "name": "stdout",
          "text": [
            "Metrics:\n",
            "      Metric  Before Steering  After Steering\n",
            "0   Accuracy         0.740000        0.860000\n",
            "1  Precision         0.865873        0.885472\n",
            "2     Recall         0.740000        0.860000\n",
            "\n",
            "Confusion Matrix (Before Steering):\n",
            "[[ 6  0  0  0  4]\n",
            " [ 1  7  0  0  0]\n",
            " [ 0  0  4  0  7]\n",
            " [ 0  1  0 13  0]\n",
            " [ 0  0  0  0  7]]\n",
            "\n",
            "Confusion Matrix (After Steering):\n",
            "[[ 7  0  2  0  1]\n",
            " [ 0  8  0  0  0]\n",
            " [ 0  0 11  0  0]\n",
            " [ 0  1  0 13  0]\n",
            " [ 0  0  3  0  4]]\n"
          ]
        }
      ]
    }
  ],
  "metadata": {
    "kernelspec": {
      "display_name": ".venv",
      "language": "python",
      "name": "python3"
    },
    "language_info": {
      "codemirror_mode": {
        "name": "ipython",
        "version": 3
      },
      "file_extension": ".py",
      "mimetype": "text/x-python",
      "name": "python",
      "nbconvert_exporter": "python",
      "pygments_lexer": "ipython3",
      "version": "3.11.9"
    },
    "colab": {
      "provenance": [],
      "include_colab_link": true
    }
  },
  "nbformat": 4,
  "nbformat_minor": 0
}